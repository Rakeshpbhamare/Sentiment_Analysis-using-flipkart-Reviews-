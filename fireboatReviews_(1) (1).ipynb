{
  "cells": [
    {
      "cell_type": "code",
      "execution_count": null,
      "metadata": {
        "id": "C-dtzb0rmwRL"
      },
      "outputs": [],
      "source": [
        "import pandas as pd\n",
        "from bs4 import BeautifulSoup\n",
        "import requests\n",
        "import numpy as np"
      ]
    },
    {
      "cell_type": "code",
      "execution_count": null,
      "metadata": {
        "id": "4As3kzXNnOZA"
      },
      "outputs": [],
      "source": [
        "#create Request\n",
        "webpage=requests.get('https://www.flipkart.com/fire-boltt-ninja-touch-wake-spo2-smartwatch/product-reviews/itm05b47a90c7c32?pid=SMWG4GF2H9V3MJ8Y&lid=LSTSMWG4GF2H9V3MJ8Y5QJJ34&marketplace=FLIPKART&page=3').text"
      ]
    },
    {
      "cell_type": "code",
      "execution_count": null,
      "metadata": {
        "id": "54571ClqoI0i"
      },
      "outputs": [],
      "source": [
        "soup=BeautifulSoup(webpage,'lxml')"
      ]
    },
    {
      "cell_type": "code",
      "execution_count": null,
      "metadata": {
        "colab": {
          "base_uri": "https://localhost:8080/",
          "height": 157
        },
        "id": "JjA_hH0ZoIxH",
        "outputId": "c5d05909-cba6-439b-ddce-61beba2421d6"
      },
      "outputs": [
        {
          "output_type": "execute_result",
          "data": {
            "text/plain": [
              "'<!DOCTYPE html>\\n<html lang=\"en\">\\n <head>\\n  <link href=\"https://rukminim1.flixcart.com\" rel=\"preconnect\"/>\\n  <link href=\"//static-assets-web.flixcart.com/fk-p-linchpin-web/fk-cp-zion/css/app_modules.chunk.905c37.css\" rel=\"stylesheet\"/>\\n  <link href=\"//static-assets-web.flixcart.com/fk-p-linchpin-web/fk-cp-zion/css/app.chunk.c46047.css\" rel=\"stylesheet\"/>\\n  <meta content=\"text/html; charset=utf-8\" http-equiv=\"Content-type\"/>\\n  <meta content=\"IE=Edge\" http-equiv=\"X-UA-Compatible\"/>\\n  <meta content=\"102988293558\" property=\"fb:page_id\"/>\\n  <meta content=\"658873552,624500995,100000233612389\" property=\"fb:admins\"/>\\n  <meta content=\"noodp\" name=\"robots\"/>\\n  <link href=\"https:///www/promos/new/20150528-140547-favicon-retina.ico\" rel=\"shortcut icon\"/>\\n  <link href=\"/osdd.xml?v=2\" rel=\"search\" type=\"application/opensearchdescription+xml\"/>\\n  <meta content=\"website\" property=\"og:type\"/>\\n  <meta content=\"Flipkart.com\" name=\"og_site_name\" property=\"og:site_name\"/>\\n  <link href=\"/apple-touch-icon-57x57.png\" rel=\"apple-touch-icon\" sizes=\"57x57\"/>\\n  <link href=\"/apple-touch-icon-72x72.png\" rel=\"apple-touch-icon\" sizes=\"72x72\"/>\\n  <link href=\"/apple-touch-icon-114x114.png\" rel=\"apple-touch-icon\" sizes=\"114x114\"/>\\n  <link href=\"/apple-touch-icon-144x144.png\" rel=\"apple-touch-icon\" sizes=\"144x144\"/>\\n  <link href=\"/apple-touch-icon-57x57.png\" rel=\"apple-touch-icon\"/>\\n  <meta content=\"app\" name=\"twitter:card\"/>\\n  <meta content=\"@flipkart\" name=\"twitter:site\"/>\\n  <meta content=\"@flipkart\" name=\"twitter:creator\"/>\\n  <meta content=\"Fire Boltt Ninja Touch Wake Spo2 Smartwatch Reviews: Latest Review of Fire Boltt Ninja Touch Wake Spo2 Smartwatch | Price in India | Flipkart.com\" name=\"twitter:title\"/>\\n  <meta content=\"Shop for electronics, apparels &amp; more using our Flipkart app Free shipping &amp; COD.\" name=\"twitter:description\"/>\\n  <meta content=\"in\" name=\"twitter:app:country\"/>\\n  <meta content=\"Flipkart\" name=\"al:ios:app_name\"/>\\n  <meta content=\"742044692\" name=\"al:ios:app_store_id\"/>\\n  <meta content=\"Flipkart\" name=\"twitter:app:name:iphone\"/>\\n  <meta content=\"742044692\" name=\"twitter:app:id:iphone\"/>\\n  <meta content=\"http://dl.flipkart.com/dl/home?\" name=\"twitter:app:url:iphone\"/>\\n  <meta content=\"Flipkart\" name=\"twitter:app:name:ipad\"/>\\n  <meta content=\"742044692\" name=\"twitter:app:id:ipad\"/>\\n  <meta content=\"http://dl.flipkart.com/dl/home?\" name=\"twitter:app:url:ipad\"/>\\n  <meta content=\"Flipkart\" name=\"twitter:app:name:googleplay\"/>\\n  <meta content=\"com.flipkart.android\" name=\"twitter:app:id:googleplay\"/>\\n  <meta content=\"http://dl.flipkart.com/dl/home?\" name=\"twitter:app:url:googleplay\"/>\\n  <style>\\n   #container {\\n\\t\\t\\theight: 100%;\\n\\t\\t}\\n  </style>\\n  <link href=\"///fk-cp-zion/css/AllReviewsPage.chunk.ba31ec.css\" rel=\"stylesheet\"/>\\n  <title>\\n   Fire Boltt Ninja Touch Wake Spo2 Smartwatch Reviews: Latest Review of Fire Boltt Ninja Touch Wake Spo2 Smartwatch | Price in India | Flipkart.com\\n  </title>\\n  <meta content=\"Fire Boltt Ninja Touch Wake Spo2 Smartwatch Reviews: Latest Review of Fire Boltt Ninja Touch Wake Spo2 Smartwatch | Price in India | Flipkart.com\" name=\"og_title\" property=\"og:title\"/>\\n  <meta content=\"Fire Boltt Ninja Touch Wake Spo2 Smartwatch Reviews\" name=\"Keywords\"/>\\n  <meta content=\"Read Latest Reviews of Fire Boltt Ninja Touch Wake Spo2 Smartwatch on Flipkart.com. Find genuine customer reviews and ratings. Buy Fire Boltt Ninja Touch Wake Spo2 Smartwatch at best prices on Flipkart.com.\" name=\"Description\"/>\\n  <meta content=\"Read Latest Reviews of Fire Boltt Ninja Touch Wake Spo2 Smartwatch on Flipkart.com. Find genuine customer reviews and ratings. Buy Fire Boltt Ninja Touch Wake Spo2 Smartwatch at best prices on Flipkart.com.\" property=\"og:description\"/>\\n  <link href=\"http://www.flipkart.com/fire-boltt-ninja-touch-wake-spo2-smartwatch/product-reviews/itm05b47a90c7c32?pid=SMWG4GF2H9V3MJ8Y\" rel=\"canonical\"/>\\n  <meta content=\"http://www.flipkart.com/fire-boltt-ninja-touch-wake-spo2-smartwatch/product-reviews/itm05b47a90c7c32?pid=SMWG4GF2H9V3MJ8Y\" name=\"og_url\" property=\"og:url\"/>\\n  <meta content=\"F4EEB3A0AFFDD385992A06E6920C0AC3\" name=\"msvalidate.01\"/>\\n  <!--[if IE 9 ]>\\n\\t<script nonce=\"16352817678478130808\">\\n\\t\\twindow.browserVersion = \\'IE9\\';\\n\\t\\tdocument.documentElement.className += \\' ie9\\';\\n\\t</script>\\n\\t<![endif]-->\\n  <!--[if !IE]><!-->\\n  <script nonce=\"16352817678478130808\">\\n   if (/*@cc_on!@*/false) {\\n\\t\\t\\twindow.browserVersion = \\'IE10\\';\\n\\t\\t\\tdocument.documentElement.className += \\' ie10\\';\\n\\t\\t}\\n  </script>\\n  <!--<![endif]-->\\n  <script nonce=\"16352817678478130808\">\\n   !function(){if(\"PerformancePaintTiming\" in window){var e=window.__perf={e:[]};e.o=new PerformanceObserver(function(n){e.e=e.e.concat(n.getEntries())});try{e.o.observe({entryTypes:[\"paint\"]})}catch(e){}}}();\\n\\n\\t\\tif (requestAnimationFrame && performance && performance.mark) {\\n\\t\\t\\trequestAnimationFrame(function () {\\n\\t\\t\\t\\twindow.first_paint = performance.now();\\n\\t\\t\\t\\tperformance.mark(\"first_paint\");\\n\\t\\t\\t});\\n\\t\\t}\\n\\n        // web-vitals polyfill for FID\\n        !function(n,e){var t,o,i,c=[],f={passive:!0,capture:!0},r=new Date,a=\"pointerup\",u=\"pointercancel\";function p(n,c){t||(t=c,o=n,i=new Date,w(e),s())}function s(){o>=0&&o<i-r&&(c.forEach(function(n){n(o,t)}),c=[])}function l(t){if(t.cancelable){var o=(t.timeStamp>1e12?new Date:performance.now())-t.timeStamp;\"pointerdown\"==t.type?function(t,o){function i(){p(t,o),r()}function c(){r()}function r(){e(a,i,f),e(u,c,f)}n(a,i,f),n(u,c,f)}(o,t):p(o,t)}}function w(n){[\"click\",\"mousedown\",\"keydown\",\"touchstart\",\"pointerdown\"].forEach(function(e){n(e,l,f)})}w(n),self.perfMetrics=self.perfMetrics||{},self.perfMetrics.onFirstInputDelay=function(n){c.push(n),s()}}(addEventListener,removeEventListener);\\n  </script>\\n  <script async=\"\" src=\"https://www.googletagmanager.com/gtag/js?id=AW-594691041\">\\n  </script>\\n  <script nonce=\"16352817678478130808\">\\n   window.dataLayer = window.dataLayer || [];\\n\\t\\tfunction gtag(){dataLayer.push(arguments)};\\n\\t\\tgtag(\\'js\\', new Date());\\n  </script>\\n </head>\\n <body>\\n  <div id=\"container\">\\n   <div>\\n    <div class=\"_1kfTjk\">\\n     <div class=\"_1rH5Jn\">\\n      <div class=\"_1TmfNK\">\\n      </div>\\n      <div class=\"_2Xfa2_\">\\n       <div class=\"_3_C9Hx\">\\n        <div class=\"_3qX0zy\">\\n         <a href=\"/\">\\n          <img alt=\"Flipkart\" class=\"_2xm1JU\" src=\"//static-assets-web.flixcart.com/fk-p-linchpin-web/fk-cp-zion/img/flipkart-plus_8d85f4.png\" title=\"Flipkart\" width=\"75\"/>\\n         </a>\\n         <a class=\"_21ljIi\" href=\"/plus\">\\n          Explore\\n          <!-- -->\\n          <span class=\"_2FVHGh\">\\n           Plus\\n          </span>\\n          <img src=\"//static-assets-web.flixcart.com/fk-p-linchpin-web/fk-cp-zion/img/plus_aef861.png\" width=\"10\"/>\\n         </a>\\n        </div>\\n       </div>\\n       <div class=\"_1cmsER\">\\n        <form action=\"/search\" class=\"_2M8cLY header-form-search\" method=\"GET\">\\n         <div class=\"col-12-12 _2oO9oE\">\\n          <div class=\"_3OO5Xc\">\\n           <input autocomplete=\"off\" class=\"_3704LK\" name=\"q\" placeholder=\"Search for products, brands and more\" title=\"Search for products, brands and more\" type=\"text\" value=\"\"/>\\n          </div>\\n          <button class=\"L0Z3Pu\" type=\"submit\">\\n           <svg class=\"\" height=\"20\" viewbox=\"0 0 17 18\" width=\"20\" xmlns=\"http://www.w3.org/2000/svg\">\\n            <g fill=\"#2874F1\" fill-rule=\"evenodd\">\\n             <path class=\"_34RNph\" d=\"m11.618 9.897l4.225 4.212c.092.092.101.232.02.313l-1.465 1.46c-.081.081-.221.072-.314-.02l-4.216-4.203\">\\n             </path>\\n             <path class=\"_34RNph\" d=\"m6.486 10.901c-2.42 0-4.381-1.956-4.381-4.368 0-2.413 1.961-4.369 4.381-4.369 2.42 0 4.381 1.956 4.381 4.369 0 2.413-1.961 4.368-4.381 4.368m0-10.835c-3.582 0-6.486 2.895-6.486 6.467 0 3.572 2.904 6.467 6.486 6.467 3.582 0 6.486-2.895 6.486-6.467 0-3.572-2.904-6.467-6.486-6.467\">\\n             </path>\\n            </g>\\n           </svg>\\n          </button>\\n          <input name=\"otracker\" type=\"hidden\" value=\"search\"/>\\n          <input name=\"otracker1\" type=\"hidden\" value=\"search\"/>\\n          <input name=\"marketplace\" type=\"hidden\" value=\"FLIPKART\"/>\\n          <input name=\"as-show\" type=\"hidden\" value=\"off\"/>\\n          <input name=\"as\" type=\"hidden\" value=\"off\"/>\\n         </div>\\n         <ul class=\"col-12-12 _1MRYA1\">\\n         </ul>\\n        </form>\\n       </div>\\n       <div class=\"go_DOp _2errNR\">\\n        <div class=\"_28p97w\">\\n         <div class=\"_1psGvi _3BvnxG\">\\n          <div>\\n           <a class=\"_1_3w1N\" href=\"/account/login?ret=/fire-boltt-ninja-touch-wake-spo2-smartwatch/product-reviews/itm05b47a90c7c32%3Fpid%3DSMWG4GF2H9V3MJ8Y%26lid%3DLSTSMWG4GF2H9V3MJ8Y5QJJ34%26marketplace%3DFLIPKART%26page%3D3\">\\n            Login\\n           </a>\\n          </div>\\n         </div>\\n        </div>\\n       </div>\\n       <div class=\"go_DOp\">\\n        <a class=\"_3-PJz-\" href=\"https://seller.flipkart.com/sell-online/?utm_source=fkwebsite&amp;utm_medium=websitedirect\">\\n         <span>\\n          Become a Seller\\n         </span>\\n        </a>\\n       </div>\\n       <div class=\"go_DOp\">\\n        <div class=\"_28p97w\">\\n         <div class=\"_1psGvi _3BvnxG\">\\n          <div>\\n           <div class=\"exehdJ\">\\n            <!-- -->\\n            More\\n            <!-- -->\\n           </div>\\n          </div>\\n         </div>\\n         <svg class=\"zZ3yfL\" height=\"8\" viewbox=\"0 0 16 27\" width=\"4.7\" xmlns=\"http://www.w3.org/2000/svg\">\\n          <path class=\"_2gTTdy\" d=\"M16 23.207L6.11 13.161 16 3.093 12.955 0 0 13.161l12.955 13.161z\" fill=\"#fff\">\\n          </path>\\n         </svg>\\n        </div>\\n       </div>\\n       <div class=\"go_DOp\">\\n        <div class=\"_1psGvi\">\\n         <div class=\"YUhWwv\">\\n          <a class=\"_3SkBxJ\" href=\"/viewcart?exploreMode=true&amp;preference=FLIPKART\">\\n           <svg class=\"V3C5bO\" height=\"14\" viewbox=\"0 0 16 16\" width=\"14\" xmlns=\"http://www.w3.org/2000/svg\">\\n            <path class=\"_1bS9ic\" d=\"M15.32 2.405H4.887C3 2.405 2.46.805 2.46.805L2.257.21C2.208.085 2.083 0 1.946 0H.336C.1 0-.064.24.024.46l.644 1.945L3.11 9.767c.047.137.175.23.32.23h8.418l-.493 1.958H3.768l.002.003c-.017 0-.033-.003-.05-.003-1.06 0-1.92.86-1.92 1.92s.86 1.92 1.92 1.92c.99 0 1.805-.75 1.91-1.712l5.55.076c.12.922.91 1.636 1.867 1.636 1.04 0 1.885-.844 1.885-1.885 0-.866-.584-1.593-1.38-1.814l2.423-8.832c.12-.433-.206-.86-.655-.86\" fill=\"#fff\">\\n            </path>\\n           </svg>\\n           <span>\\n            Cart\\n           </span>\\n          </a>\\n         </div>\\n        </div>\\n       </div>\\n      </div>\\n      <div class=\"_1TmfNK\">\\n      </div>\\n     </div>\\n     <div class=\"_1mUdNz\">\\n     </div>\\n    </div>\\n    <div class=\"_331-kn\">\\n    </div>\\n    <div class=\"_2tsNFb\">\\n     <div class=\"_6t1WkM _3HqJxg\">\\n      <div class=\"_1YokD2 _2GoDe3 col-12-12\">\\n       <div class=\"_1YokD2 _3Mn1Gg col-3-12\" style=\"border-right:1px solid #f0f0f0\">\\n        <div class=\"_1AtVbE col-12-12\">\\n         <div class=\"_4ddWXP _3BCh3_ _G-HdA\">\\n          <a class=\"_2rpwqI\" href=\"/fire-boltt-ninja-touch-wake-spo2-smartwatch/p/itm05b47a90c7c32?pid=SMWG4GF2H9V3MJ8Y&amp;fm=organic&amp;ppt=None&amp;ppn=None&amp;ssid=wtvtb41b3k0000001674563772552\" rel=\"noopener noreferrer\" target=\"_blank\" title=\"Fire-Boltt Ninja touch to Wake SpO2 Smartwatch\">\\n           <div class=\"_28_T72\">\\n            <div>\\n             <div class=\"CXW8mj\" style=\"height:246px;width:246px\">\\n              <img alt=\"Fire-Boltt Ninja touch to Wake SpO2 Smartwatch\" class=\"_396cs4\" loading=\"eager\" src=\"https://rukminim1.flixcart.com/image/312/312/kshtxu80/smartwatch/e/z/y/android-ios-bsw007-fire-boltt-no-original-imag6fe3h38c6rma.jpeg?q=70\"/>\\n             </div>\\n            </div>\\n           </div>\\n          </a>\\n          <div>\\n           <div>\\n            <a class=\"s1Q9rs _2qfgz2\" href=\"/fire-boltt-ninja-touch-wake-spo2-smartwatch/p/itm05b47a90c7c32?pid=SMWG4GF2H9V3MJ8Y&amp;fm=organic&amp;ppt=None&amp;ppn=None&amp;ssid=wtvtb41b3k0000001674563772552\" rel=\"noopener noreferrer\" target=\"_blank\" title=\"Fire-Boltt Ninja touch to Wake SpO2 Smartwatch\">\\n             Fire-Boltt Ninja touch to Wake SpO2 Smartwatch\\n            </a>\\n           </div>\\n           <div class=\"gUuXy-\">\\n            <span class=\"_1lRcqv\" id=\"productRating_LSTSMWG4GF2H9V3MJ8Y5QJJ34_SMWG4GF2H9V3MJ8Y_\">\\n             <div class=\"_3LWZlK\">\\n              3.8\\n              <img class=\"_1wB99o\" src=\"data:image/svg+xml;base64,PHN2ZyB4bWxucz0iaHR0cDovL3d3dy53My5vcmcvMjAwMC9zdmciIHdpZHRoPSIxMyIgaGVpZ2h0PSIxMiI+PHBhdGggZmlsbD0iI0ZGRiIgZD0iTTYuNSA5LjQzOWwtMy42NzQgMi4yMy45NC00LjI2LTMuMjEtMi44ODMgNC4yNTQtLjQwNEw2LjUuMTEybDEuNjkgNC4wMSA0LjI1NC40MDQtMy4yMSAyLjg4Mi45NCA0LjI2eiIvPjwvc3ZnPg==\"/>\\n             </div>\\n            </span>\\n            <span class=\"_2_R_DZ\">\\n             <span>\\n              <span>\\n               54,148 Ratings\\n              </span>\\n              <span class=\"_13vcmD\">\\n               &amp;\\n              </span>\\n              <span>\\n               9,815 Reviews\\n              </span>\\n             </span>\\n            </span>\\n           </div>\\n           <div class=\"_8VNy32 lnJjg0\">\\n            <div class=\"_25b18c\">\\n             <div class=\"_30jeq3\">\\n              ₹1,599\\n             </div>\\n             <div class=\"_3I9_wc\">\\n              ₹\\n              <!-- -->\\n              4,999\\n             </div>\\n             <div class=\"_3Ay6Sb\">\\n              <span>\\n               68% off\\n              </span>\\n             </div>\\n            </div>\\n           </div>\\n          </div>\\n         </div>\\n        </div>\\n        <div class=\"_1AtVbE col-12-12\" style=\"border-top:1px solid #f0f0f0\">\\n         <div class=\"_1LsTqa\">\\n          <div class=\"jEaykx\">\\n           <span>\\n            User Images\\n           </span>\\n          </div>\\n          <div class=\"_2nMSwX _2ajiBF\">\\n           <div class=\"_21YjFX _3NGqA1\" style=\"background-image:url(https://rukminim1.flixcart.com/blobio/140/140/imr-202108/blobio-imr-202108_54526455852246058ba9a428aa33202f.jpg?q=90), url(data:image/svg+xml;base64,PHN2ZyB3aWR0aD0iMjIiIGhlaWdodD0iMTgiIHhtbG5zPSJodHRwOi8vd3d3LnczLm9yZy8yMDAwL3N2ZyI+PGcgZmlsbD0iIzlEOUQ5RCIgZmlsbC1ydWxlPSJub256ZXJvIj48cGF0aCBkPSJNMjAgMEgyQzEgMCAwIDEgMCAydjE0YzAgMS4xLjkgMiAyIDJoMThjMSAwIDItMSAyLTJWMmMwLTEtMS0yLTItMnptMCAxNS45MmMtLjAyLjAzLS4wNi4wNi0uMDguMDhIMlYyLjA4TDIuMDggMmgxNy44M2MuMDMuMDIuMDYuMDYuMDguMDh2MTMuODRIMjB6Ii8+PHBhdGggZD0iTTEwIDEyLjUxTDcuNSA5LjUgNCAxNGgxNGwtNC41LTZ6Ii8+PC9nPjwvc3ZnPg==);width:70px;height:70px\">\\n           </div>\\n           <div class=\"_21YjFX _3NGqA1\" style=\"background-image:url(https://rukminim1.flixcart.com/blobio/140/140/imr-202108/blobio-imr-202108_63a5de327d8542db8f1951cf6d4a5664.jpg?q=90), url(data:image/svg+xml;base64,PHN2ZyB3aWR0aD0iMjIiIGhlaWdodD0iMTgiIHhtbG5zPSJodHRwOi8vd3d3LnczLm9yZy8yMDAwL3N2ZyI+PGcgZmlsbD0iIzlEOUQ5RCIgZmlsbC1ydWxlPSJub256ZXJvIj48cGF0aCBkPSJNMjAgMEgyQzEgMCAwIDEgMCAydjE0YzAgMS4xLjkgMiAyIDJoMThjMSAwIDItMSAyLTJWMmMwLTEtMS0yLTItMnptMCAxNS45MmMtLjAyLjAzLS4wNi4wNi0uMDguMDhIMlYyLjA4TDIuMDggMmgxNy44M2MuMDMuMDIuMDYuMDYuMDguMDh2MTMuODRIMjB6Ii8+PHBhdGggZD0iTTEwIDEyLjUxTDcuNSA5LjUgNCAxNGgxNGwtNC41LTZ6Ii8+PC9nPjwvc3ZnPg==);width:70px;height:70px\">\\n           </div>\\n           <div class=\"_21YjFX _3NGqA1\" style=\"background-image:url(https://rukminim1.flixcart.com/blobio/140/140/imr-202110/blobio-imr-202110_dcf7efce4d964eaca580469f406c053e.jpg?q=90), url(data:image/svg+xml;base64,PHN2ZyB3aWR0aD0iMjIiIGhlaWdodD0iMTgiIHhtbG5zPSJodHRwOi8vd3d3LnczLm9yZy8yMDAwL3N2ZyI+PGcgZmlsbD0iIzlEOUQ5RCIgZmlsbC1ydWxlPSJub256ZXJvIj48cGF0aCBkPSJNMjAgMEgyQzEgMCAwIDEgMCAydjE0YzAgMS4xLjkgMiAyIDJoMThjMSAwIDItMSAyLTJWMmMwLTEtMS0yLTItMnptMCAxNS45MmMtLjAyLjAzLS4wNi4wNi0uMDguMDhIMlYyLjA4TDIuMDggMmgxNy44M2MuMDMuMDIuMDYuMDYuMDguMDh2MTMuODRIMjB6Ii8+PHBhdGggZD0iTTEwIDEyLjUxTDcuNSA5LjUgNCAxNGgxNGwtNC41LTZ6Ii8+PC9nPjwvc3ZnPg==);width:70px;height:70px\">\\n           </div>\\n           <div class=\"_21YjFX _3NGqA1\" style=\"background-image:url(https://rukminim1.flixcart.com/blobio/140/140/imr-202110/blobio-imr-202110_247794f5019545f2b00aa3b80aa3529a.jpg?q=90), url(data:image/svg+xml;base64,PHN2ZyB3aWR0aD0iMjIiIGhlaWdodD0iMTgiIHhtbG5zPSJodHRwOi8vd3d3LnczLm9yZy8yMDAwL3N2ZyI+PGcgZmlsbD0iIzlEOUQ5RCIgZmlsbC1ydWxlPSJub256ZXJvIj48cGF0aCBkPSJNMjAgMEgyQzEgMCAwIDEgMCAydjE0YzAgMS4xLjkgMiAyIDJoMThjMSAwIDItMSAyLTJWMmMwLTEtMS0yLTItMnptMCAxNS45MmMtLjAyLjAzLS4wNi4wNi0uMDguMDhIMlYyLjA4TDIuMDggMmgxNy44M2MuMDMuMDIuMDYuMDYuMDguMDh2MTMuODRIMjB6Ii8+PHBhdGggZD0iTTEwIDEyLjUxTDcuNSA5LjUgNCAxNGgxNGwtNC41LTZ6Ii8+PC9nPjwvc3ZnPg==);width:70px;height:70px\">\\n           </div>\\n           <div class=\"_21YjFX _3NGqA1\" style=\"background-image:url(https://rukminim1.flixcart.com/blobio/140/140/imr-202110/blobio-imr-202110_5cd1d181789d4ed6977f37a9709aeeb5.jpg?q=90), url(data:image/svg+xml;base64,PHN2ZyB3aWR0aD0iMjIiIGhlaWdodD0iMTgiIHhtbG5zPSJodHRwOi8vd3d3LnczLm9yZy8yMDAwL3N2ZyI+PGcgZmlsbD0iIzlEOUQ5RCIgZmlsbC1ydWxlPSJub256ZXJvIj48cGF0aCBkPSJNMjAgMEgyQzEgMCAwIDEgMCAydjE0YzAgMS4xLjkgMiAyIDJoMThjMSAwIDItMSAyLTJWMmMwLTEtMS0yLTItMnptMCAxNS45MmMtLjAyLjAzLS4wNi4wNi0uMDguMDhIMlYyLjA4TDIuMDggMmgxNy44M2MuMDMuMDIuMDYuMDYuMDguMDh2MTMuODRIMjB6Ii8+PHBhdGggZD0iTTEwIDEyLjUxTDcuNSA5LjUgNCAxNGgxNGwtNC41LTZ6Ii8+PC9nPjwvc3ZnPg==);width:70px;height:70px\">\\n           </div>\\n           <div class=\"_21YjFX _3NGqA1\" style=\"background-image:url(https://rukminim1.flixcart.com/blobio/140/140/imr-202108/blobio-imr-202108_6cd68bd36c5e4eb09948b9ec7e1c38ec.jpg?q=90), url(data:image/svg+xml;base64,PHN2ZyB3aWR0aD0iMjIiIGhlaWdodD0iMTgiIHhtbG5zPSJodHRwOi8vd3d3LnczLm9yZy8yMDAwL3N2ZyI+PGcgZmlsbD0iIzlEOUQ5RCIgZmlsbC1ydWxlPSJub256ZXJvIj48cGF0aCBkPSJNMjAgMEgyQzEgMCAwIDEgMCAydjE0YzAgMS4xLjkgMiAyIDJoMThjMSAwIDItMSAyLTJWMmMwLTEtMS0yLTItMnptMCAxNS45MmMtLjAyLjAzLS4wNi4wNi0uMDguMDhIMlYyLjA4TDIuMDggMmgxNy44M2MuMDMuMDIuMDYuMDYuMDguMDh2MTMuODRIMjB6Ii8+PHBhdGggZD0iTTEwIDEyLjUxTDcuNSA5LjUgNCAxNGgxNGwtNC41LTZ6Ii8+PC9nPjwvc3ZnPg==);width:70px;height:70px\">\\n           </div>\\n           <div class=\"_21YjFX _3NGqA1\" style=\"background-image:url(https://rukminim1.flixcart.com/blobio/140/140/imr-202108/blobio-imr-202108_83668d76e3074fbc9bd48024d71e1d1e.jpg?q=90), url(data:image/svg+xml;base64,PHN2ZyB3aWR0aD0iMjIiIGhlaWdodD0iMTgiIHhtbG5zPSJodHRwOi8vd3d3LnczLm9yZy8yMDAwL3N2ZyI+PGcgZmlsbD0iIzlEOUQ5RCIgZmlsbC1ydWxlPSJub256ZXJvIj48cGF0aCBkPSJNMjAgMEgyQzEgMCAwIDEgMCAydjE0YzAgMS4xLjkgMiAyIDJoMThjMSAwIDItMSAyLTJWMmMwLTEtMS0yLTItMnptMCAxNS45MmMtLjAyLjAzLS4wNi4wNi0uMDguMDhIMlYyLjA4TDIuMDggMmgxNy44M2MuMDMuMDIuMDYuMDYuMDguMDh2MTMuODRIMjB6Ii8+PHBhdGggZD0iTTEwIDEyLjUxTDcuNSA5LjUgNCAxNGgxNGwtNC41LTZ6Ii8+PC9nPjwvc3ZnPg==);width:70px;height:70px\">\\n           </div>\\n           <div class=\"_21YjFX _3NGqA1 RU6t0j\" style=\"background-image:url(https://rukminim1.flixcart.com/blobio/140/140/imr-202110/blobio-imr-202110_f8d4c0f5e6f84cc9b09f19a43b67da6d.jpg?q=90), url(data:image/svg+xml;base64,PHN2ZyB3aWR0aD0iMjIiIGhlaWdodD0iMTgiIHhtbG5zPSJodHRwOi8vd3d3LnczLm9yZy8yMDAwL3N2ZyI+PGcgZmlsbD0iIzlEOUQ5RCIgZmlsbC1ydWxlPSJub256ZXJvIj48cGF0aCBkPSJNMjAgMEgyQzEgMCAwIDEgMCAydjE0YzAgMS4xLjkgMiAyIDJoMThjMSAwIDItMSAyLTJWMmMwLTEtMS0yLTItMnptMCAxNS45MmMtLjAyLjAzLS4wNi4wNi0uMDguMDhIMlYyLjA4TDIuMDggMmgxNy44M2MuMDMuMDIuMDYuMDYuMDguMDh2MTMuODRIMjB6Ii8+PHBhdGggZD0iTTEwIDEyLjUxTDcuNSA5LjUgNCAxNGgxNGwtNC41LTZ6Ii8+PC9nPjwvc3ZnPg==);width:70px;height:70px\">\\n            <span class=\"_380ehC\">\\n             +\\n             <!-- -->\\n             1830\\n            </span>\\n           </div>\\n          </div>\\n         </div>\\n        </div>\\n       </div>\\n       <div class=\"_1YokD2 _3Mn1Gg col-9-12\">\\n        <div class=\"_1YokD2 _3Mn1Gg col-12-12\" style=\"border-bottom:1px solid #f0f0f0\">\\n         <div class=\"_1YokD2 _2GoDe3 col-12-12\">\\n          <div class=\"_1AtVbE col-10-12\">\\n           <div class=\"_2s4DIt _1CDdy2\">\\n            Fire-Boltt Ninja touch to Wake SpO2 Smartwatch Reviews\\n           </div>\\n          </div>\\n          <div class=\"_1AtVbE\" style=\"flex-grow:1;overflow:initital\">\\n           <div class=\"gEkCyh\">\\n            <div class=\"_3uXCGr\">\\n             <div class=\"_2ECNXS\">\\n              <div class=\"_1cpOwe tVKh2S\">\\n               <select class=\"_1EDlbo tVKh2S\" name=\"sortFilter\">\\n                <option selected=\"\" value=\"MOST_HELPFUL\">\\n                 Most Helpful\\n                </option>\\n                <option value=\"MOST_RECENT\">\\n                 Most Recent\\n                </option>\\n                <option value=\"POSITIVE_FIRST\">\\n                 Positive First\\n                </option>\\n                <option value=\"NEGATIVE_FIRST\">\\n                 Negative First\\n                </option>\\n               </select>\\n               <span class=\"_2NY3xT _2VZJIQ\">\\n               </span>\\n              </div>\\n             </div>\\n            </div>\\n           </div>\\n          </div>\\n         </div>\\n         <div class=\"_1AtVbE col-12-12\">\\n          <div class=\"_33iqLu\">\\n           <div>\\n            <a class=\"_203_Tp\" href=\"/fire-boltt-ninja-touch-wake-spo2-smartwatch/product-reviews/itm05b47a90c7c32?pid=SMWG4GF2H9V3MJ8Y&amp;lid=LSTSMWG4GF2H9V3MJ8Y5QJJ34&amp;sortOrder=MOST_HELPFUL&amp;certifiedBuyer=false&amp;aid=overall\">\\n             <span class=\"_1YKVER _203_Tp\">\\n              Overall\\n             </span>\\n            </a>\\n            <a class=\"\" href=\"/fire-boltt-ninja-touch-wake-spo2-smartwatch/product-reviews/itm05b47a90c7c32?pid=SMWG4GF2H9V3MJ8Y&amp;lid=LSTSMWG4GF2H9V3MJ8Y5QJJ34&amp;sortOrder=MOST_HELPFUL&amp;certifiedBuyer=false&amp;aid=53406974-78f1-4968-b0ed-ca401459f40e\">\\n             <span class=\"_1YKVER\">\\n              Battery &amp; Charger\\n             </span>\\n            </a>\\n            <a class=\"\" href=\"/fire-boltt-ninja-touch-wake-spo2-smartwatch/product-reviews/itm05b47a90c7c32?pid=SMWG4GF2H9V3MJ8Y&amp;lid=LSTSMWG4GF2H9V3MJ8Y5QJJ34&amp;sortOrder=MOST_HELPFUL&amp;certifiedBuyer=false&amp;aid=9a648b28-f671-4e45-ad5d-86f62ece1e53\">\\n             <span class=\"_1YKVER\">\\n              Display\\n             </span>\\n            </a>\\n            <a class=\"\" href=\"/fire-boltt-ninja-touch-wake-spo2-smartwatch/product-reviews/itm05b47a90c7c32?pid=SMWG4GF2H9V3MJ8Y&amp;lid=LSTSMWG4GF2H9V3MJ8Y5QJJ34&amp;sortOrder=MOST_HELPFUL&amp;certifiedBuyer=false&amp;aid=a225a01d-64d9-4001-806e-10c803a81645\">\\n             <span class=\"_1YKVER\">\\n              Design\\n             </span>\\n            </a>\\n            <a class=\"\" href=\"/fire-boltt-ninja-touch-wake-spo2-smartwatch/product-reviews/itm05b47a90c7c32?pid=SMWG4GF2H9V3MJ8Y&amp;lid=LSTSMWG4GF2H9V3MJ8Y5QJJ34&amp;sortOrder=MOST_HELPFUL&amp;certifiedBuyer=false&amp;aid=4df5fe48-c28a-4e89-b941-f9c50b364dea\">\\n             <span class=\"_1YKVER\">\\n              Activity Tracking\\n             </span>\\n            </a>\\n            <a class=\"\" href=\"/fire-boltt-ninja-touch-wake-spo2-smartwatch/product-reviews/itm05b47a90c7c32?pid=SMWG4GF2H9V3MJ8Y&amp;lid=LSTSMWG4GF2H9V3MJ8Y5QJJ34&amp;sortOrder=MOST_HELPFUL&amp;certifiedBuyer=false&amp;aid=acef2648-d1fb-45b1-987e-51da48c25f67\">\\n             <span class=\"_1YKVER\">\\n              Value for Money\\n             </span>\\n            </a>\\n            <a class=\"\" href=\"/fire-boltt-ninja-touch-wake-spo2-smartwatch/product-reviews/itm05b47a90c7c32?pid=SMWG4GF2H9V3MJ8Y&amp;lid=LSTSMWG4GF2H9V3MJ8Y5QJJ34&amp;sortOrder=MOST_HELPFUL&amp;certifiedBuyer=false&amp;aid=3b7987cf-8364-4050-a044-ee780608d725\">\\n             <span class=\"_1YKVER\">\\n              Features\\n             </span>\\n            </a>\\n           </div>\\n          </div>\\n         </div>\\n        </div>\\n        <div class=\"_1AtVbE col-12-12\">\\n         <div class=\"row Bfvo5l\">\\n          <div class=\"col-4-12 _17ETNY\">\\n           <div class=\"col\">\\n            <div class=\"row\">\\n             <div class=\"col-12-12 _1azcI6\">\\n              <div class=\"_2d4LTz\">\\n               3.8\\n              </div>\\n              <div class=\"_2yxeXv\">\\n               ★\\n              </div>\\n             </div>\\n            </div>\\n            <div class=\"row _2afbiS\">\\n             <div class=\"col-12-12\">\\n              <span>\\n               54,148 Ratings &amp;\\n              </span>\\n             </div>\\n            </div>\\n            <div class=\"row _2afbiS\">\\n             <div class=\"col-12-12\">\\n              <span>\\n               9,815 Reviews\\n              </span>\\n             </div>\\n            </div>\\n           </div>\\n          </div>\\n          <div class=\"col-8-12\">\\n           <div class=\"_13sFCC miQW6D _2m9Pwo\">\\n            <ul class=\"_2jr1F_\">\\n             <li class=\"_28Xb_u\">\\n              <div class=\"omG9iE\">\\n               <span class=\"_26f_zl\">\\n                5\\n               </span>\\n               <span class=\"_2xBWPJ\">\\n                ★\\n               </span>\\n              </div>\\n             </li>\\n             <li class=\"_28Xb_u\">\\n              <div class=\"omG9iE\">\\n               <span class=\"_26f_zl\">\\n                4\\n               </span>\\n               <span class=\"_2xBWPJ\">\\n                ★\\n               </span>\\n              </div>\\n             </li>\\n             <li class=\"_28Xb_u\">\\n              <div class=\"omG9iE\">\\n               <span class=\"_26f_zl\">\\n                3\\n               </span>\\n               <span class=\"_2xBWPJ\">\\n                ★\\n               </span>\\n              </div>\\n             </li>\\n             <li class=\"_28Xb_u\">\\n              <div class=\"omG9iE\">\\n               <span class=\"_26f_zl\">\\n                2\\n               </span>\\n               <span class=\"_2xBWPJ\">\\n                ★\\n               </span>\\n              </div>\\n             </li>\\n             <li class=\"_28Xb_u\">\\n              <div class=\"omG9iE\">\\n               <span class=\"_26f_zl\">\\n                1\\n               </span>\\n               <span class=\"_2xBWPJ\">\\n                ★\\n               </span>\\n              </div>\\n             </li>\\n            </ul>\\n            <ul class=\"_2Plkj9\">\\n             <li class=\"_28Xb_u\">\\n              <div>\\n               <div class=\"_3UaKsS\">\\n                <span class=\"EkB-Xt _1z2lGe\" style=\"width:100%\">\\n                </span>\\n               </div>\\n              </div>\\n             </li>\\n             <li class=\"_28Xb_u\">\\n              <div>\\n               <div class=\"_3UaKsS\">\\n                <span class=\"EkB-Xt _2fGXyl\" style=\"width:39.85157699443413%\">\\n                </span>\\n               </div>\\n              </div>\\n             </li>\\n             <li class=\"_28Xb_u\">\\n              <div>\\n               <div class=\"_3UaKsS\">\\n                <span class=\"EkB-Xt _1ia31G\" style=\"width:20.4860853432282%\">\\n                </span>\\n               </div>\\n              </div>\\n             </li>\\n             <li class=\"_28Xb_u\">\\n              <div>\\n               <div class=\"_3UaKsS\">\\n                <span class=\"EkB-Xt HnnP7O\" style=\"width:10.356215213358071%\">\\n                </span>\\n               </div>\\n              </div>\\n             </li>\\n             <li class=\"_28Xb_u\">\\n              <div>\\n               <div class=\"_3UaKsS\">\\n                <span class=\"EkB-Xt _2W5rgh\" style=\"width:30.226345083487942%\">\\n                </span>\\n               </div>\\n              </div>\\n             </li>\\n            </ul>\\n            <ul class=\"_36LmXx\">\\n             <li class=\"_28Xb_u\">\\n              <div class=\"_1uJVNT\">\\n               26,950\\n              </div>\\n             </li>\\n             <li class=\"_28Xb_u\">\\n              <div class=\"_1uJVNT\">\\n               10,740\\n              </div>\\n             </li>\\n             <li class=\"_28Xb_u\">\\n              <div class=\"_1uJVNT\">\\n               5,521\\n              </div>\\n             </li>\\n             <li class=\"_28Xb_u\">\\n              <div class=\"_1uJVNT\">\\n               2,791\\n              </div>\\n             </li>\\n             <li class=\"_28Xb_u\">\\n              <div class=\"_1uJVNT\">\\n               8,146\\n              </div>\\n             </li>\\n            </ul>\\n           </div>\\n          </div>\\n         </div>\\n        </div>\\n        <div class=\"_1AtVbE col-12-12\">\\n         <div class=\"_27M-vq\">\\n          <div class=\"col\">\\n           <div class=\"col _2wzgFH K0kLPL\">\\n            <div class=\"row\">\\n             <div class=\"_3LWZlK _1BLPMq\">\\n              4\\n              <img class=\"_1wB99o\" src=\"data:image/svg+xml;base64,PHN2ZyB4bWxucz0iaHR0cDovL3d3dy53My5vcmcvMjAwMC9zdmciIHdpZHRoPSIxMyIgaGVpZ2h0PSIxMiI+PHBhdGggZmlsbD0iI0ZGRiIgZD0iTTYuNSA5LjQzOWwtMy42NzQgMi4yMy45NC00LjI2LTMuMjEtMi44ODMgNC4yNTQtLjQwNEw2LjUuMTEybDEuNjkgNC4wMSA0LjI1NC40MDQtMy4yMSAyLjg4Mi45NCA0LjI2eiIvPjwvc3ZnPg==\"/>\\n             </div>\\n             <p class=\"_2-N8zT\">\\n              Really Nice\\n             </p>\\n            </div>\\n            <div class=\"row\">\\n             <div class=\"t-ZTKy\">\\n              <div>\\n               <div class=\"\">\\n                I am first time using any of smart watch\\n                <br/>\\n                First of all thanks to flipkart and e kart for fast delivery\\n                <br/>\\n                I found this smart watch very much useful\\n               </div>\\n               <span class=\"_1H-bmy\">\\n                <span>\\n                 READ MORE\\n                </span>\\n               </span>\\n              </div>\\n             </div>\\n            </div>\\n            <div class=\"row _3n8db9\">\\n             <div class=\"row\">\\n              <p class=\"_2sc7ZR _2V5EHH\">\\n               Munzir Ali Sayyed\\n              </p>\\n              <svg class=\"_2a1p_T\" height=\"14\" viewbox=\"0 0 12 12\" width=\"14\" xmlns=\"http://www.w3.org/2000/svg\">\\n               <g>\\n                <circle cx=\"6\" cy=\"6\" fill=\"#878787\" r=\"6\">\\n                </circle>\\n                <path d=\"M3 6l2 2 4-4\" fill=\"#878787\" stroke=\"#FFF\" stroke-width=\"1.5\">\\n                </path>\\n               </g>\\n              </svg>\\n              <p class=\"_2mcZGG\" id=\"review-290e9495-690a-4d9b-8362-e516b9d40675\">\\n               <span>\\n                Certified Buyer\\n               </span>\\n               <span>\\n                , Thane\\n               </span>\\n              </p>\\n              <div>\\n              </div>\\n              <p class=\"_2sc7ZR\">\\n               Aug, 2021\\n              </p>\\n             </div>\\n             <div class=\"_1e9_Zu\">\\n              <div class=\"row\">\\n               <div class=\"_27aTsS\">\\n                <div class=\"_1LmwT9\">\\n                 <svg class=\"skCrcq\" height=\"15\" width=\"20\" xmlns=\"http://www.w3.org/2000/svg\">\\n                  <path class=\"_1LIt4y\" d=\"M9.58.006c-.41.043-.794.32-1.01.728-.277.557-2.334 4.693-2.74 5.1-.41.407-.944.6-1.544.6v8.572h7.5c.45 0 .835-.28 1.007-.665 0 0 2.207-6.234 2.207-6.834 0-.6-.47-1.072-1.07-1.072h-3.216c-.6 0-1.07-.535-1.07-1.07 0-.537.835-3.387 1.006-3.944.17-.557-.107-1.157-.664-1.35-.15-.043-.257-.086-.407-.064zM0 6.434v8.572h2.143V6.434H0z\" fill=\"#fff\" fill-rule=\"evenodd\">\\n                  </path>\\n                 </svg>\\n                 <span class=\"_3c3Px5\">\\n                  19\\n                 </span>\\n                </div>\\n                <div class=\"_1LmwT9 pkR4jH\">\\n                 <svg class=\"skCrcq pkR4jH\" height=\"15\" width=\"20\" xmlns=\"http://www.w3.org/2000/svg\">\\n                  <path class=\"_1LIt4y\" d=\"M9.58.006c-.41.043-.794.32-1.01.728-.277.557-2.334 4.693-2.74 5.1-.41.407-.944.6-1.544.6v8.572h7.5c.45 0 .835-.28 1.007-.665 0 0 2.207-6.234 2.207-6.834 0-.6-.47-1.072-1.07-1.072h-3.216c-.6 0-1.07-.535-1.07-1.07 0-.537.835-3.387 1.006-3.944.17-.557-.107-1.157-.664-1.35-.15-.043-.257-.086-.407-.064zM0 6.434v8.572h2.143V6.434H0z\" fill=\"#fff\" fill-rule=\"evenodd\">\\n                  </path>\\n                 </svg>\\n                 <span class=\"_3c3Px5\">\\n                  6\\n                 </span>\\n                </div>\\n               </div>\\n               <div class=\"_2bmov8\">\\n                <svg class=\"_2UvOBb\" height=\"11\" viewbox=\"0 0 16 27\" width=\"6\" xmlns=\"http://www.w3.org/2000/svg\">\\n                 <path class=\"_2aPE6f\" d=\"M16 23.207L6.11 13.161 16 3.093 12.955 0 0 13.161l12.955 13.161z\" fill=\"#fff\">\\n                 </path>\\n                </svg>\\n                <div class=\"_3E8aIl _38dCuf\">\\n                 <div class=\"_3XCI6U\">\\n                  <a href=\"/reviews/SMWG4GF2H9V3MJ8Y:139?reviewId=290e9495-690a-4d9b-8362-e516b9d40675\">\\n                   <span>\\n                    Permalink\\n                   </span>\\n                  </a>\\n                 </div>\\n                 <div class=\"_3XCI6U _2b2z-j\">\\n                  <span>\\n                   Report Abuse\\n                  </span>\\n                 </div>\\n                </div>\\n               </div>\\n              </div>\\n             </div>\\n            </div>\\n           </div>\\n          </div>\\n         </div>\\n        </div>\\n        <div class=\"_1AtVbE col-12-12\">\\n         <div class=\"_27M-vq\">\\n          <div class=\"col\">\\n           <div class=\"col _2wzgFH K0kLPL\">\\n            <div class=\"row\">\\n             <div class=\"_3LWZlK _1BLPMq\">\\n              4\\n              <img class=\"_1wB99o\" src=\"data:image/svg+xml;base64,PHN2ZyB4bWxucz0iaHR0cDovL3d3dy53My5vcmcvMjAwMC9zdmciIHdpZHRoPSIxMyIgaGVpZ2h0PSIxMiI+PHBhdGggZmlsbD0iI0ZGRiIgZD0iTTYuNSA5LjQzOWwtMy42NzQgMi4yMy45NC00LjI2LTMuMjEtMi44ODMgNC4yNTQtLjQwNEw2LjUuMTEybDEuNjkgNC4wMSA0LjI1NC40MDQtMy4yMSAyLjg4Mi45NCA0LjI2eiIvPjwvc3ZnPg==\"/>\\n             </div>\\n             <p class=\"_2-N8zT\">\\n              Good quality product\\n             </p>\\n            </div>\\n            <div class=\"row\">\\n             <div class=\"t-ZTKy\">\\n              <div>\\n               <div class=\"\">\\n                Worth the price,\\n                <br/>\\n                Good points\\n                <br/>\\n                1. Quality of product (metal frame and strap feels good)\\n                <br/>\\n                2. Display (touch and auto wake with hand raise)\\n                <br/>\\n                3. Basic features (insted of buying oximeter buy this)\\n                <br/>\\n                4. Notification\\n                <br/>\\n                <br/>\\n                Cons:\\n                <br/>\\n                1. Can\\'t receive, diconnect or silent the call from watch\\n                <br/>\\n                2. Can\\'t dial call from phone, no phonebook\\n                <br/>\\n                <br/>\\n                Received it today so may be later update complete review, but it\\'s worth the price with splash proof feature.\\n               </div>\\n               <span class=\"_1H-bmy\">\\n                <span>\\n                 READ MORE\\n                </span>\\n               </span>\\n              </div>\\n             </div>\\n            </div>\\n            <div class=\"row _3n8db9\">\\n             <div class=\"row\">\\n              <p class=\"_2sc7ZR _2V5EHH\">\\n               gaurav sharma\\n              </p>\\n              <svg class=\"_2a1p_T\" height=\"14\" viewbox=\"0 0 12 12\" width=\"14\" xmlns=\"http://www.w3.org/2000/svg\">\\n               <g>\\n                <circle cx=\"6\" cy=\"6\" fill=\"#878787\" r=\"6\">\\n                </circle>\\n                <path d=\"M3 6l2 2 4-4\" fill=\"#878787\" stroke=\"#FFF\" stroke-width=\"1.5\">\\n                </path>\\n               </g>\\n              </svg>\\n              <p class=\"_2mcZGG\" id=\"review-735e5c30-06ea-4f6f-a50c-839d21152614\">\\n               <span>\\n                Certified Buyer\\n               </span>\\n               <span>\\n                , Ambala\\n               </span>\\n              </p>\\n              <div>\\n              </div>\\n              <p class=\"_2sc7ZR\">\\n               Aug, 2021\\n              </p>\\n             </div>\\n             <div class=\"_1e9_Zu\">\\n              <div class=\"row\">\\n               <div class=\"_27aTsS\">\\n                <div class=\"_1LmwT9\">\\n                 <svg class=\"skCrcq\" height=\"15\" width=\"20\" xmlns=\"http://www.w3.org/2000/svg\">\\n                  <path class=\"_1LIt4y\" d=\"M9.58.006c-.41.043-.794.32-1.01.728-.277.557-2.334 4.693-2.74 5.1-.41.407-.944.6-1.544.6v8.572h7.5c.45 0 .835-.28 1.007-.665 0 0 2.207-6.234 2.207-6.834 0-.6-.47-1.072-1.07-1.072h-3.216c-.6 0-1.07-.535-1.07-1.07 0-.537.835-3.387 1.006-3.944.17-.557-.107-1.157-.664-1.35-.15-.043-.257-.086-.407-.064zM0 6.434v8.572h2.143V6.434H0z\" fill=\"#fff\" fill-rule=\"evenodd\">\\n                  </path>\\n                 </svg>\\n                 <span class=\"_3c3Px5\">\\n                  10\\n                 </span>\\n                </div>\\n                <div class=\"_1LmwT9 pkR4jH\">\\n                 <svg class=\"skCrcq pkR4jH\" height=\"15\" width=\"20\" xmlns=\"http://www.w3.org/2000/svg\">\\n                  <path class=\"_1LIt4y\" d=\"M9.58.006c-.41.043-.794.32-1.01.728-.277.557-2.334 4.693-2.74 5.1-.41.407-.944.6-1.544.6v8.572h7.5c.45 0 .835-.28 1.007-.665 0 0 2.207-6.234 2.207-6.834 0-.6-.47-1.072-1.07-1.072h-3.216c-.6 0-1.07-.535-1.07-1.07 0-.537.835-3.387 1.006-3.944.17-.557-.107-1.157-.664-1.35-.15-.043-.257-.086-.407-.064zM0 6.434v8.572h2.143V6.434H0z\" fill=\"#fff\" fill-rule=\"evenodd\">\\n                  </path>\\n                 </svg>\\n                 <span class=\"_3c3Px5\">\\n                  4\\n                 </span>\\n                </div>\\n               </div>\\n               <div class=\"_2bmov8\">\\n                <svg class=\"_2UvOBb\" height=\"11\" viewbox=\"0 0 16 27\" width=\"6\" xmlns=\"http://www.w3.org/2000/svg\">\\n                 <path class=\"_2aPE6f\" d=\"M16 23.207L6.11 13.161 16 3.093 12.955 0 0 13.161l12.955 13.161z\" fill=\"#fff\">\\n                 </path>\\n                </svg>\\n                <div class=\"_3E8aIl _38dCuf\">\\n                 <div class=\"_3XCI6U\">\\n                  <a href=\"/reviews/SMWG4GF33JFGSVNE:16?reviewId=735e5c30-06ea-4f6f-a50c-839d21152614\">\\n                   <span>\\n                    Permalink\\n                   </span>\\n                  </a>\\n                 </div>\\n                 <div class=\"_3XCI6U _2b2z-j\">\\n                  <span>\\n                   Report Abuse\\n                  </span>\\n                 </div>\\n                </div>\\n               </div>\\n              </div>\\n             </div>\\n            </div>\\n           </div>\\n          </div>\\n         </div>\\n        </div>\\n        <div class=\"_1AtVbE col-12-12\">\\n         <div class=\"_27M-vq\">\\n          <div class=\"col\">\\n           <div class=\"col _2wzgFH K0kLPL\">\\n            <div class=\"row\">\\n             <div class=\"_3LWZlK _1BLPMq\">\\n              4\\n              <img class=\"_1wB99o\" src=\"data:image/svg+xml;base64,PHN2ZyB4bWxucz0iaHR0cDovL3d3dy53My5vcmcvMjAwMC9zdmciIHdpZHRoPSIxMyIgaGVpZ2h0PSIxMiI+PHBhdGggZmlsbD0iI0ZGRiIgZD0iTTYuNSA5LjQzOWwtMy42NzQgMi4yMy45NC00LjI2LTMuMjEtMi44ODMgNC4yNTQtLjQwNEw2LjUuMTEybDEuNjkgNC4wMSA0LjI1NC40MDQtMy4yMSAyLjg4Mi45NCA0LjI2eiIvPjwvc3ZnPg==\"/>\\n             </div>\\n             <p class=\"_2-N8zT\">\\n              Really Nice\\n             </p>\\n            </div>\\n            <div class=\"row\">\\n             <div class=\"t-ZTKy\">\\n              <div>\\n               <div class=\"\">\\n                Design is perfect make your app more featured, there is no specific mode for workout, no basic controls like declining calls and silent phone when phone is ringing, no music control, make your message tray scroll able. Rest value for money and good build quality\\n               </div>\\n               <span class=\"_1H-bmy\">\\n                <span>\\n                 READ MORE\\n                </span>\\n               </span>\\n              </div>\\n             </div>\\n            </div>\\n            <div class=\"row _3n8db9\">\\n             <div class=\"row\">\\n              <p class=\"_2sc7ZR _2V5EHH\">\\n               Ajay Mistry\\n              </p>\\n              <svg class=\"_2a1p_T\" height=\"14\" viewbox=\"0 0 12 12\" width=\"14\" xmlns=\"http://www.w3.org/2000/svg\">\\n               <g>\\n                <circle cx=\"6\" cy=\"6\" fill=\"#878787\" r=\"6\">\\n                </circle>\\n                <path d=\"M3 6l2 2 4-4\" fill=\"#878787\" stroke=\"#FFF\" stroke-width=\"1.5\">\\n                </path>\\n               </g>\\n              </svg>\\n              <p class=\"_2mcZGG\" id=\"review-1d4b1b8c-7b1f-42f6-916e-1e71b32efc6c\">\\n               <span>\\n                Certified Buyer\\n               </span>\\n               <span>\\n                , Vadodara\\n               </span>\\n              </p>\\n              <div>\\n              </div>\\n              <p class=\"_2sc7ZR\">\\n               Aug, 2021\\n              </p>\\n             </div>\\n             <div class=\"_1e9_Zu\">\\n              <div class=\"row\">\\n               <div class=\"_27aTsS\">\\n                <div class=\"_1LmwT9\">\\n                 <svg class=\"skCrcq\" height=\"15\" width=\"20\" xmlns=\"http://www.w3.org/2000/svg\">\\n                  <path class=\"_1LIt4y\" d=\"M9.58.006c-.41.043-.794.32-1.01.728-.277.557-2.334 4.693-2.74 5.1-.41.407-.944.6-1.544.6v8.572h7.5c.45 0 .835-.28 1.007-.665 0 0 2.207-6.234 2.207-6.834 0-.6-.47-1.072-1.07-1.072h-3.216c-.6 0-1.07-.535-1.07-1.07 0-.537.835-3.387 1.006-3.944.17-.557-.107-1.157-.664-1.35-.15-.043-.257-.086-.407-.064zM0 6.434v8.572h2.143V6.434H0z\" fill=\"#fff\" fill-rule=\"evenodd\">\\n                  </path>\\n                 </svg>\\n                 <span class=\"_3c3Px5\">\\n                  7\\n                 </span>\\n                </div>\\n                <div class=\"_1LmwT9 pkR4jH\">\\n                 <svg class=\"skCrcq pkR4jH\" height=\"15\" width=\"20\" xmlns=\"http://www.w3.org/2000/svg\">\\n                  <path class=\"_1LIt4y\" d=\"M9.58.006c-.41.043-.794.32-1.01.728-.277.557-2.334 4.693-2.74 5.1-.41.407-.944.6-1.544.6v8.572h7.5c.45 0 .835-.28 1.007-.665 0 0 2.207-6.234 2.207-6.834 0-.6-.47-1.072-1.07-1.072h-3.216c-.6 0-1.07-.535-1.07-1.07 0-.537.835-3.387 1.006-3.944.17-.557-.107-1.157-.664-1.35-.15-.043-.257-.086-.407-.064zM0 6.434v8.572h2.143V6.434H0z\" fill=\"#fff\" fill-rule=\"evenodd\">\\n                  </path>\\n                 </svg>\\n                 <span class=\"_3c3Px5\">\\n                  2\\n                 </span>\\n                </div>\\n               </div>\\n               <div class=\"_2bmov8\">\\n                <svg class=\"_2UvOBb\" height=\"11\" viewbox=\"0 0 16 27\" width=\"6\" xmlns=\"http://www.w3.org/2000/svg\">\\n                 <path class=\"_2aPE6f\" d=\"M16 23.207L6.11 13.161 16 3.093 12.955 0 0 13.161l12.955 13.161z\" fill=\"#fff\">\\n                 </path>\\n                </svg>\\n                <div class=\"_3E8aIl _38dCuf\">\\n                 <div class=\"_3XCI6U\">\\n                  <a href=\"/reviews/SMWG4GF2ZMFHJUBF:285?reviewId=1d4b1b8c-7b1f-42f6-916e-1e71b32efc6c\">\\n                   <span>\\n                    Permalink\\n                   </span>\\n                  </a>\\n                 </div>\\n                 <div class=\"_3XCI6U _2b2z-j\">\\n                  <span>\\n                   Report Abuse\\n                  </span>\\n                 </div>\\n                </div>\\n               </div>\\n              </div>\\n             </div>\\n            </div>\\n           </div>\\n          </div>\\n         </div>\\n        </div>\\n        <div class=\"_1AtVbE col-12-12\">\\n         <div class=\"_27M-vq\">\\n          <div class=\"col\">\\n           <div class=\"col _2wzgFH K0kLPL\">\\n            <div class=\"row\">\\n             <div class=\"_3LWZlK _1BLPMq\">\\n              5\\n              <img class=\"_1wB99o\" src=\"data:image/svg+xml;base64,PHN2ZyB4bWxucz0iaHR0cDovL3d3dy53My5vcmcvMjAwMC9zdmciIHdpZHRoPSIxMyIgaGVpZ2h0PSIxMiI+PHBhdGggZmlsbD0iI0ZGRiIgZD0iTTYuNSA5LjQzOWwtMy42NzQgMi4yMy45NC00LjI2LTMuMjEtMi44ODMgNC4yNTQtLjQwNEw2LjUuMTEybDEuNjkgNC4wMSA0LjI1NC40MDQtMy4yMSAyLjg4Mi45NCA0LjI2eiIvPjwvc3ZnPg==\"/>\\n             </div>\\n             <p class=\"_2-N8zT\">\\n              Simply awesome\\n             </p>\\n            </div>\\n            <div class=\"row\">\\n             <div class=\"t-ZTKy\">\\n              <div>\\n               <div class=\"\">\\n                Nyc\\n                <br/>\\n                Its a great watch with super amazing display,spo2 function, heart rate tracker. No  other brand has all these at such an affordable price.\\n                <br/>\\n                This watch has been loaded with amazing features and I am very much satisfied by using it. In short, it is a very great product packed with gud features.\\n               </div>\\n               <span class=\"_1H-bmy\">\\n                <span>\\n                 READ MORE\\n                </span>\\n               </span>\\n              </div>\\n             </div>\\n            </div>\\n            <div class=\"row _3n8db9\">\\n             <div class=\"row\">\\n              <p class=\"_2sc7ZR _2V5EHH\">\\n               Taher Udaipurwala\\n              </p>\\n              <svg class=\"_2a1p_T\" height=\"14\" viewbox=\"0 0 12 12\" width=\"14\" xmlns=\"http://www.w3.org/2000/svg\">\\n               <g>\\n                <circle cx=\"6\" cy=\"6\" fill=\"#878787\" r=\"6\">\\n                </circle>\\n                <path d=\"M3 6l2 2 4-4\" fill=\"#878787\" stroke=\"#FFF\" stroke-width=\"1.5\">\\n                </path>\\n               </g>\\n              </svg>\\n              <p class=\"_2mcZGG\" id=\"review-73b3d876-7984-4afa-a1e8-962245d6e766\">\\n               <span>\\n                Certified Buyer\\n               </span>\\n               <span>\\n                , Mumbai\\n               </span>\\n              </p>\\n              <div>\\n              </div>\\n              <p class=\"_2sc7ZR\">\\n               Aug, 2021\\n              </p>\\n             </div>\\n             <div class=\"_1e9_Zu\">\\n              <div class=\"row\">\\n               <div class=\"_27aTsS\">\\n                <div class=\"_1LmwT9\">\\n                 <svg class=\"skCrcq\" height=\"15\" width=\"20\" xmlns=\"http://www.w3.org/2000/svg\">\\n                  <path class=\"_1LIt4y\" d=\"M9.58.006c-.41.043-.794.32-1.01.728-.277.557-2.334 4.693-2.74 5.1-.41.407-.944.6-1.544.6v8.572h7.5c.45 0 .835-.28 1.007-.665 0 0 2.207-6.234 2.207-6.834 0-.6-.47-1.072-1.07-1.072h-3.216c-.6 0-1.07-.535-1.07-1.07 0-.537.835-3.387 1.006-3.944.17-.557-.107-1.157-.664-1.35-.15-.043-.257-.086-.407-.064zM0 6.434v8.572h2.143V6.434H0z\" fill=\"#fff\" fill-rule=\"evenodd\">\\n                  </path>\\n                 </svg>\\n                 <span class=\"_3c3Px5\">\\n                  7\\n                 </span>\\n                </div>\\n                <div class=\"_1LmwT9 pkR4jH\">\\n                 <svg class=\"skCrcq pkR4jH\" height=\"15\" width=\"20\" xmlns=\"http://www.w3.org/2000/svg\">\\n                  <path class=\"_1LIt4y\" d=\"M9.58.006c-.41.043-.794.32-1.01.728-.277.557-2.334 4.693-2.74 5.1-.41.407-.944.6-1.544.6v8.572h7.5c.45 0 .835-.28 1.007-.665 0 0 2.207-6.234 2.207-6.834 0-.6-.47-1.072-1.07-1.072h-3.216c-.6 0-1.07-.535-1.07-1.07 0-.537.835-3.387 1.006-3.944.17-.557-.107-1.157-.664-1.35-.15-.043-.257-.086-.407-.064zM0 6.434v8.572h2.143V6.434H0z\" fill=\"#fff\" fill-rule=\"evenodd\">\\n                  </path>\\n                 </svg>\\n                 <span class=\"_3c3Px5\">\\n                  2\\n                 </span>\\n                </div>\\n               </div>\\n               <div class=\"_2bmov8\">\\n                <svg class=\"_2UvOBb\" height=\"11\" viewbox=\"0 0 16 27\" width=\"6\" xmlns=\"http://www.w3.org/2000/svg\">\\n                 <path class=\"_2aPE6f\" d=\"M16 23.207L6.11 13.161 16 3.093 12.955 0 0 13.161l12.955 13.161z\" fill=\"#fff\">\\n                 </path>\\n                </svg>\\n                <div class=\"_3E8aIl _38dCuf\">\\n                 <div class=\"_3XCI6U\">\\n                  <a href=\"/reviews/SMWG4GF2H9V3MJ8Y:64?reviewId=73b3d876-7984-4afa-a1e8-962245d6e766\">\\n                   <span>\\n                    Permalink\\n                   </span>\\n                  </a>\\n                 </div>\\n                 <div class=\"_3XCI6U _2b2z-j\">\\n                  <span>\\n                   Report Abuse\\n                  </span>\\n                 </div>\\n                </div>\\n               </div>\\n              </div>\\n             </div>\\n            </div>\\n           </div>\\n          </div>\\n         </div>\\n        </div>\\n        <div class=\"_1AtVbE col-12-12\">\\n         <div class=\"_27M-vq\">\\n          <div class=\"col\">\\n           <div class=\"col _2wzgFH K0kLPL\">\\n            <div class=\"row\">\\n             <div class=\"_3LWZlK _1BLPMq\">\\n              5\\n              <img class=\"_1wB99o\" src=\"data:image/svg+xml;base64,PHN2ZyB4bWxucz0iaHR0cDovL3d3dy53My5vcmcvMjAwMC9zdmciIHdpZHRoPSIxMyIgaGVpZ2h0PSIxMiI+PHBhdGggZmlsbD0iI0ZGRiIgZD0iTTYuNSA5LjQzOWwtMy42NzQgMi4yMy45NC00LjI2LTMuMjEtMi44ODMgNC4yNTQtLjQwNEw2LjUuMTEybDEuNjkgNC4wMSA0LjI1NC40MDQtMy4yMSAyLjg4Mi45NCA0LjI2eiIvPjwvc3ZnPg==\"/>\\n             </div>\\n             <p class=\"_2-N8zT\">\\n              Classy product\\n             </p>\\n            </div>\\n            <div class=\"row\">\\n             <div class=\"t-ZTKy\">\\n              <div>\\n               <div class=\"\">\\n                Its black neutral colour looks absolutely stunning. It is budget-friendly, easy to handle and can monitor all activities like heart rate, oxygen levels, sleep patterns, calories burnt, etc. It has a long battery life and large display which is clear and easy to read.\\n               </div>\\n               <span class=\"_1H-bmy\">\\n                <span>\\n                 READ MORE\\n                </span>\\n               </span>\\n              </div>\\n             </div>\\n            </div>\\n            <div class=\"row _3n8db9\">\\n             <div class=\"row\">\\n              <p class=\"_2sc7ZR _2V5EHH\">\\n               Ishita Bhatnagar\\n              </p>\\n              <svg class=\"_2a1p_T\" height=\"14\" viewbox=\"0 0 12 12\" width=\"14\" xmlns=\"http://www.w3.org/2000/svg\">\\n               <g>\\n                <circle cx=\"6\" cy=\"6\" fill=\"#878787\" r=\"6\">\\n                </circle>\\n                <path d=\"M3 6l2 2 4-4\" fill=\"#878787\" stroke=\"#FFF\" stroke-width=\"1.5\">\\n                </path>\\n               </g>\\n              </svg>\\n              <p class=\"_2mcZGG\" id=\"review-d1e5937a-e9f5-4811-a964-91a33097418f\">\\n               <span>\\n                Certified Buyer\\n               </span>\\n               <span>\\n                , Ghaziabad\\n               </span>\\n              </p>\\n              <div>\\n              </div>\\n              <p class=\"_2sc7ZR\">\\n               Aug, 2021\\n              </p>\\n             </div>\\n             <div class=\"_1e9_Zu\">\\n              <div class=\"row\">\\n               <div class=\"_27aTsS\">\\n                <div class=\"_1LmwT9\">\\n                 <svg class=\"skCrcq\" height=\"15\" width=\"20\" xmlns=\"http://www.w3.org/2000/svg\">\\n                  <path class=\"_1LIt4y\" d=\"M9.58.006c-.41.043-.794.32-1.01.728-.277.557-2.334 4.693-2.74 5.1-.41.407-.944.6-1.544.6v8.572h7.5c.45 0 .835-.28 1.007-.665 0 0 2.207-6.234 2.207-6.834 0-.6-.47-1.072-1.07-1.072h-3.216c-.6 0-1.07-.535-1.07-1.07 0-.537.835-3.387 1.006-3.944.17-.557-.107-1.157-.664-1.35-.15-.043-.257-.086-.407-.064zM0 6.434v8.572h2.143V6.434H0z\" fill=\"#fff\" fill-rule=\"evenodd\">\\n                  </path>\\n                 </svg>\\n                 <span class=\"_3c3Px5\">\\n                  5\\n                 </span>\\n                </div>\\n                <div class=\"_1LmwT9 pkR4jH\">\\n                 <svg class=\"skCrcq pkR4jH\" height=\"15\" width=\"20\" xmlns=\"http://www.w3.org/2000/svg\">\\n                  <path class=\"_1LIt4y\" d=\"M9.58.006c-.41.043-.794.32-1.01.728-.277.557-2.334 4.693-2.74 5.1-.41.407-.944.6-1.544.6v8.572h7.5c.45 0 .835-.28 1.007-.665 0 0 2.207-6.234 2.207-6.834 0-.6-.47-1.072-1.07-1.072h-3.216c-.6 0-1.07-.535-1.07-1.07 0-.537.835-3.387 1.006-3.944.17-.557-.107-1.157-.664-1.35-.15-.043-.257-.086-.407-.064zM0 6.434v8.572h2.143V6.434H0z\" fill=\"#fff\" fill-rule=\"evenodd\">\\n                  </path>\\n                 </svg>\\n                 <span class=\"_3c3Px5\">\\n                  2\\n                 </span>\\n                </div>\\n               </div>\\n               <div class=\"_2bmov8\">\\n                <svg class=\"_2UvOBb\" height=\"11\" viewbox=\"0 0 16 27\" width=\"6\" xmlns=\"http://www.w3.org/2000/svg\">\\n                 <path class=\"_2aPE6f\" d=\"M16 23.207L6.11 13.161 16 3.093 12.955 0 0 13.161l12.955 13.161z\" fill=\"#fff\">\\n                 </path>\\n                </svg>\\n                <div class=\"_3E8aIl _38dCuf\">\\n                 <div class=\"_3XCI6U\">\\n                  <a href=\"/reviews/SMWG4GF2H9V3MJ8Y:612?reviewId=d1e5937a-e9f5-4811-a964-91a33097418f\">\\n                   <span>\\n                    Permalink\\n                   </span>\\n                  </a>\\n                 </div>\\n                 <div class=\"_3XCI6U _2b2z-j\">\\n                  <span>\\n                   Report Abuse\\n                  </span>\\n                 </div>\\n                </div>\\n               </div>\\n              </div>\\n             </div>\\n            </div>\\n           </div>\\n          </div>\\n         </div>\\n        </div>\\n        <div class=\"_1AtVbE col-12-12\">\\n         <div class=\"_27M-vq\">\\n          <div class=\"col\">\\n           <div class=\"col _2wzgFH K0kLPL\">\\n            <div class=\"row\">\\n             <div class=\"_3LWZlK _1BLPMq\">\\n              5\\n              <img class=\"_1wB99o\" src=\"data:image/svg+xml;base64,PHN2ZyB4bWxucz0iaHR0cDovL3d3dy53My5vcmcvMjAwMC9zdmciIHdpZHRoPSIxMyIgaGVpZ2h0PSIxMiI+PHBhdGggZmlsbD0iI0ZGRiIgZD0iTTYuNSA5LjQzOWwtMy42NzQgMi4yMy45NC00LjI2LTMuMjEtMi44ODMgNC4yNTQtLjQwNEw2LjUuMTEybDEuNjkgNC4wMSA0LjI1NC40MDQtMy4yMSAyLjg4Mi45NCA0LjI2eiIvPjwvc3ZnPg==\"/>\\n             </div>\\n             <p class=\"_2-N8zT\">\\n              Fabulous!\\n             </p>\\n            </div>\\n            <div class=\"row\">\\n             <div class=\"t-ZTKy\">\\n              <div>\\n               <div class=\"\">\\n                Nice product but battery is not good.... Overall looking is too good. Charging cable is good.... But super fast change 🤩 but main problem is battery is not good\\n               </div>\\n               <span class=\"_1H-bmy\">\\n                <span>\\n                 READ MORE\\n                </span>\\n               </span>\\n              </div>\\n             </div>\\n            </div>\\n            <div class=\"_2nMSwX _3oLIki\">\\n             <div class=\"_21YjFX _2A07HP\" style=\"background-image:url(https://rukminim1.flixcart.com/blobio/124/124/imr-202110/blobio-imr-202110_00f8ef95b8f54490874080fc99603f8c.jpeg?q=90), url(data:image/svg+xml;base64,PHN2ZyB3aWR0aD0iMjIiIGhlaWdodD0iMTgiIHhtbG5zPSJodHRwOi8vd3d3LnczLm9yZy8yMDAwL3N2ZyI+PGcgZmlsbD0iIzlEOUQ5RCIgZmlsbC1ydWxlPSJub256ZXJvIj48cGF0aCBkPSJNMjAgMEgyQzEgMCAwIDEgMCAydjE0YzAgMS4xLjkgMiAyIDJoMThjMSAwIDItMSAyLTJWMmMwLTEtMS0yLTItMnptMCAxNS45MmMtLjAyLjAzLS4wNi4wNi0uMDguMDhIMlYyLjA4TDIuMDggMmgxNy44M2MuMDMuMDIuMDYuMDYuMDguMDh2MTMuODRIMjB6Ii8+PHBhdGggZD0iTTEwIDEyLjUxTDcuNSA5LjUgNCAxNGgxNGwtNC41LTZ6Ii8+PC9nPjwvc3ZnPg==);width:62px;height:62px\">\\n             </div>\\n             <div class=\"_21YjFX _2A07HP\" style=\"background-image:url(https://rukminim1.flixcart.com/blobio/124/124/imr-202110/blobio-imr-202110_a84051771db74357a035b3b05e4ed4c9.jpeg?q=90), url(data:image/svg+xml;base64,PHN2ZyB3aWR0aD0iMjIiIGhlaWdodD0iMTgiIHhtbG5zPSJodHRwOi8vd3d3LnczLm9yZy8yMDAwL3N2ZyI+PGcgZmlsbD0iIzlEOUQ5RCIgZmlsbC1ydWxlPSJub256ZXJvIj48cGF0aCBkPSJNMjAgMEgyQzEgMCAwIDEgMCAydjE0YzAgMS4xLjkgMiAyIDJoMThjMSAwIDItMSAyLTJWMmMwLTEtMS0yLTItMnptMCAxNS45MmMtLjAyLjAzLS4wNi4wNi0uMDguMDhIMlYyLjA4TDIuMDggMmgxNy44M2MuMDMuMDIuMDYuMDYuMDguMDh2MTMuODRIMjB6Ii8+PHBhdGggZD0iTTEwIDEyLjUxTDcuNSA5LjUgNCAxNGgxNGwtNC41LTZ6Ii8+PC9nPjwvc3ZnPg==);width:62px;height:62px\">\\n             </div>\\n             <div class=\"_21YjFX _2A07HP\" style=\"background-image:url(https://rukminim1.flixcart.com/blobio/124/124/imr-202110/blobio-imr-202110_01184b8d23894b50af0880dbecf0276d.jpeg?q=90), url(data:image/svg+xml;base64,PHN2ZyB3aWR0aD0iMjIiIGhlaWdodD0iMTgiIHhtbG5zPSJodHRwOi8vd3d3LnczLm9yZy8yMDAwL3N2ZyI+PGcgZmlsbD0iIzlEOUQ5RCIgZmlsbC1ydWxlPSJub256ZXJvIj48cGF0aCBkPSJNMjAgMEgyQzEgMCAwIDEgMCAydjE0YzAgMS4xLjkgMiAyIDJoMThjMSAwIDItMSAyLTJWMmMwLTEtMS0yLTItMnptMCAxNS45MmMtLjAyLjAzLS4wNi4wNi0uMDguMDhIMlYyLjA4TDIuMDggMmgxNy44M2MuMDMuMDIuMDYuMDYuMDguMDh2MTMuODRIMjB6Ii8+PHBhdGggZD0iTTEwIDEyLjUxTDcuNSA5LjUgNCAxNGgxNGwtNC41LTZ6Ii8+PC9nPjwvc3ZnPg==);width:62px;height:62px\">\\n             </div>\\n             <div class=\"_21YjFX _2A07HP\" style=\"background-image:url(https://rukminim1.flixcart.com/blobio/124/124/imr-202110/blobio-imr-202110_7582573e4b5a4490896769c69da3edfd.jpeg?q=90), url(data:image/svg+xml;base64,PHN2ZyB3aWR0aD0iMjIiIGhlaWdodD0iMTgiIHhtbG5zPSJodHRwOi8vd3d3LnczLm9yZy8yMDAwL3N2ZyI+PGcgZmlsbD0iIzlEOUQ5RCIgZmlsbC1ydWxlPSJub256ZXJvIj48cGF0aCBkPSJNMjAgMEgyQzEgMCAwIDEgMCAydjE0YzAgMS4xLjkgMiAyIDJoMThjMSAwIDItMSAyLTJWMmMwLTEtMS0yLTItMnptMCAxNS45MmMtLjAyLjAzLS4wNi4wNi0uMDguMDhIMlYyLjA4TDIuMDggMmgxNy44M2MuMDMuMDIuMDYuMDYuMDguMDh2MTMuODRIMjB6Ii8+PHBhdGggZD0iTTEwIDEyLjUxTDcuNSA5LjUgNCAxNGgxNGwtNC41LTZ6Ii8+PC9nPjwvc3ZnPg==);width:62px;height:62px\">\\n             </div>\\n             <div class=\"_21YjFX _2A07HP\" style=\"background-image:url(https://rukminim1.flixcart.com/blobio/124/124/imr-202110/blobio-imr-202110_28163663809b41d6a93bdfbe8067cdfe.jpeg?q=90), url(data:image/svg+xml;base64,PHN2ZyB3aWR0aD0iMjIiIGhlaWdodD0iMTgiIHhtbG5zPSJodHRwOi8vd3d3LnczLm9yZy8yMDAwL3N2ZyI+PGcgZmlsbD0iIzlEOUQ5RCIgZmlsbC1ydWxlPSJub256ZXJvIj48cGF0aCBkPSJNMjAgMEgyQzEgMCAwIDEgMCAydjE0YzAgMS4xLjkgMiAyIDJoMThjMSAwIDItMSAyLTJWMmMwLTEtMS0yLTItMnptMCAxNS45MmMtLjAyLjAzLS4wNi4wNi0uMDguMDhIMlYyLjA4TDIuMDggMmgxNy44M2MuMDMuMDIuMDYuMDYuMDguMDh2MTMuODRIMjB6Ii8+PHBhdGggZD0iTTEwIDEyLjUxTDcuNSA5LjUgNCAxNGgxNGwtNC41LTZ6Ii8+PC9nPjwvc3ZnPg==);width:62px;height:62px\">\\n             </div>\\n            </div>\\n            <div class=\"row _3n8db9\">\\n             <div class=\"row\">\\n              <p class=\"_2sc7ZR _2V5EHH\">\\n               Rajashree  Sinha\\n              </p>\\n              <svg class=\"_2a1p_T\" height=\"14\" viewbox=\"0 0 12 12\" width=\"14\" xmlns=\"http://www.w3.org/2000/svg\">\\n               <g>\\n                <circle cx=\"6\" cy=\"6\" fill=\"#878787\" r=\"6\">\\n                </circle>\\n                <path d=\"M3 6l2 2 4-4\" fill=\"#878787\" stroke=\"#FFF\" stroke-width=\"1.5\">\\n                </path>\\n               </g>\\n              </svg>\\n              <p class=\"_2mcZGG\" id=\"review-93925658-c8cc-40b1-998c-aee060a6e948\">\\n               <span>\\n                Certified Buyer\\n               </span>\\n               <span>\\n                , Cuttack\\n               </span>\\n              </p>\\n              <div>\\n              </div>\\n              <p class=\"_2sc7ZR\">\\n               Oct, 2021\\n              </p>\\n             </div>\\n             <div class=\"_1e9_Zu\">\\n              <div class=\"row\">\\n               <div class=\"_27aTsS\">\\n                <div class=\"_1LmwT9\">\\n                 <svg class=\"skCrcq\" height=\"15\" width=\"20\" xmlns=\"http://www.w3.org/2000/svg\">\\n                  <path class=\"_1LIt4y\" d=\"M9.58.006c-.41.043-.794.32-1.01.728-.277.557-2.334 4.693-2.74 5.1-.41.407-.944.6-1.544.6v8.572h7.5c.45 0 .835-.28 1.007-.665 0 0 2.207-6.234 2.207-6.834 0-.6-.47-1.072-1.07-1.072h-3.216c-.6 0-1.07-.535-1.07-1.07 0-.537.835-3.387 1.006-3.944.17-.557-.107-1.157-.664-1.35-.15-.043-.257-.086-.407-.064zM0 6.434v8.572h2.143V6.434H0z\" fill=\"#fff\" fill-rule=\"evenodd\">\\n                  </path>\\n                 </svg>\\n                 <span class=\"_3c3Px5\">\\n                  13\\n                 </span>\\n                </div>\\n                <div class=\"_1LmwT9 pkR4jH\">\\n                 <svg class=\"skCrcq pkR4jH\" height=\"15\" width=\"20\" xmlns=\"http://www.w3.org/2000/svg\">\\n                  <path class=\"_1LIt4y\" d=\"M9.58.006c-.41.043-.794.32-1.01.728-.277.557-2.334 4.693-2.74 5.1-.41.407-.944.6-1.544.6v8.572h7.5c.45 0 .835-.28 1.007-.665 0 0 2.207-6.234 2.207-6.834 0-.6-.47-1.072-1.07-1.072h-3.216c-.6 0-1.07-.535-1.07-1.07 0-.537.835-3.387 1.006-3.944.17-.557-.107-1.157-.664-1.35-.15-.043-.257-.086-.407-.064zM0 6.434v8.572h2.143V6.434H0z\" fill=\"#fff\" fill-rule=\"evenodd\">\\n                  </path>\\n                 </svg>\\n                 <span class=\"_3c3Px5\">\\n                  8\\n                 </span>\\n                </div>\\n               </div>\\n               <div class=\"_2bmov8\">\\n                <svg class=\"_2UvOBb\" height=\"11\" viewbox=\"0 0 16 27\" width=\"6\" xmlns=\"http://www.w3.org/2000/svg\">\\n                 <path class=\"_2aPE6f\" d=\"M16 23.207L6.11 13.161 16 3.093 12.955 0 0 13.161l12.955 13.161z\" fill=\"#fff\">\\n                 </path>\\n                </svg>\\n                <div class=\"_3E8aIl _38dCuf\">\\n                 <div class=\"_3XCI6U\">\\n                  <a href=\"/reviews/SMWG4GF2H9V3MJ8Y:3408?reviewId=93925658-c8cc-40b1-998c-aee060a6e948\">\\n                   <span>\\n                    Permalink\\n                   </span>\\n                  </a>\\n                 </div>\\n                 <div class=\"_3XCI6U _2b2z-j\">\\n                  <span>\\n                   Report Abuse\\n                  </span>\\n                 </div>\\n                </div>\\n               </div>\\n              </div>\\n             </div>\\n            </div>\\n           </div>\\n          </div>\\n         </div>\\n        </div>\\n        <div class=\"_1AtVbE col-12-12\">\\n         <div class=\"_27M-vq\">\\n          <div class=\"col\">\\n           <div class=\"col _2wzgFH K0kLPL\">\\n            <div class=\"row\">\\n             <div class=\"_3LWZlK _1BLPMq\">\\n              5\\n              <img class=\"_1wB99o\" src=\"data:image/svg+xml;base64,PHN2ZyB4bWxucz0iaHR0cDovL3d3dy53My5vcmcvMjAwMC9zdmciIHdpZHRoPSIxMyIgaGVpZ2h0PSIxMiI+PHBhdGggZmlsbD0iI0ZGRiIgZD0iTTYuNSA5LjQzOWwtMy42NzQgMi4yMy45NC00LjI2LTMuMjEtMi44ODMgNC4yNTQtLjQwNEw2LjUuMTEybDEuNjkgNC4wMSA0LjI1NC40MDQtMy4yMSAyLjg4Mi45NCA0LjI2eiIvPjwvc3ZnPg==\"/>\\n             </div>\\n             <p class=\"_2-N8zT\">\\n              Excellent\\n             </p>\\n            </div>\\n            <div class=\"row\">\\n             <div class=\"t-ZTKy\">\\n              <div>\\n               <div class=\"\">\\n                Good looking watch, touchscreen works well, lots of features and easy to handle. Battery backup is perfect and requires less charging time. You can surely go for it\\n               </div>\\n               <span class=\"_1H-bmy\">\\n                <span>\\n                 READ MORE\\n                </span>\\n               </span>\\n              </div>\\n             </div>\\n            </div>\\n            <div class=\"row _3n8db9\">\\n             <div class=\"row\">\\n              <p class=\"_2sc7ZR _2V5EHH\">\\n               Anoop Jaglan\\n              </p>\\n              <svg class=\"_2a1p_T\" height=\"14\" viewbox=\"0 0 12 12\" width=\"14\" xmlns=\"http://www.w3.org/2000/svg\">\\n               <g>\\n                <circle cx=\"6\" cy=\"6\" fill=\"#878787\" r=\"6\">\\n                </circle>\\n                <path d=\"M3 6l2 2 4-4\" fill=\"#878787\" stroke=\"#FFF\" stroke-width=\"1.5\">\\n                </path>\\n               </g>\\n              </svg>\\n              <p class=\"_2mcZGG\" id=\"review-f93844b9-5f52-4574-8843-6104e2a7acdf\">\\n               <span>\\n                Certified Buyer\\n               </span>\\n               <span>\\n                , Panipat\\n               </span>\\n              </p>\\n              <div>\\n              </div>\\n              <p class=\"_2sc7ZR\">\\n               Aug, 2021\\n              </p>\\n             </div>\\n             <div class=\"_1e9_Zu\">\\n              <div class=\"row\">\\n               <div class=\"_27aTsS\">\\n                <div class=\"_1LmwT9\">\\n                 <svg class=\"skCrcq\" height=\"15\" width=\"20\" xmlns=\"http://www.w3.org/2000/svg\">\\n                  <path class=\"_1LIt4y\" d=\"M9.58.006c-.41.043-.794.32-1.01.728-.277.557-2.334 4.693-2.74 5.1-.41.407-.944.6-1.544.6v8.572h7.5c.45 0 .835-.28 1.007-.665 0 0 2.207-6.234 2.207-6.834 0-.6-.47-1.072-1.07-1.072h-3.216c-.6 0-1.07-.535-1.07-1.07 0-.537.835-3.387 1.006-3.944.17-.557-.107-1.157-.664-1.35-.15-.043-.257-.086-.407-.064zM0 6.434v8.572h2.143V6.434H0z\" fill=\"#fff\" fill-rule=\"evenodd\">\\n                  </path>\\n                 </svg>\\n                 <span class=\"_3c3Px5\">\\n                  6\\n                 </span>\\n                </div>\\n                <div class=\"_1LmwT9 pkR4jH\">\\n                 <svg class=\"skCrcq pkR4jH\" height=\"15\" width=\"20\" xmlns=\"http://www.w3.org/2000/svg\">\\n                  <path class=\"_1LIt4y\" d=\"M9.58.006c-.41.043-.794.32-1.01.728-.277.557-2.334 4.693-2.74 5.1-.41.407-.944.6-1.544.6v8.572h7.5c.45 0 .835-.28 1.007-.665 0 0 2.207-6.234 2.207-6.834 0-.6-.47-1.072-1.07-1.072h-3.216c-.6 0-1.07-.535-1.07-1.07 0-.537.835-3.387 1.006-3.944.17-.557-.107-1.157-.664-1.35-.15-.043-.257-.086-.407-.064zM0 6.434v8.572h2.143V6.434H0z\" fill=\"#fff\" fill-rule=\"evenodd\">\\n                  </path>\\n                 </svg>\\n                 <span class=\"_3c3Px5\">\\n                  3\\n                 </span>\\n                </div>\\n               </div>\\n               <div class=\"_2bmov8\">\\n                <svg class=\"_2UvOBb\" height=\"11\" viewbox=\"0 0 16 27\" width=\"6\" xmlns=\"http://www.w3.org/2000/svg\">\\n                 <path class=\"_2aPE6f\" d=\"M16 23.207L6.11 13.161 16 3.093 12.955 0 0 13.161l12.955 13.161z\" fill=\"#fff\">\\n                 </path>\\n                </svg>\\n                <div class=\"_3E8aIl _38dCuf\">\\n                 <div class=\"_3XCI6U\">\\n                  <a href=\"/reviews/SMWG4GF2H9V3MJ8Y:914?reviewId=f93844b9-5f52-4574-8843-6104e2a7acdf\">\\n                   <span>\\n                    Permalink\\n                   </span>\\n                  </a>\\n                 </div>\\n                 <div class=\"_3XCI6U _2b2z-j\">\\n                  <span>\\n                   Report Abuse\\n                  </span>\\n                 </div>\\n                </div>\\n               </div>\\n              </div>\\n             </div>\\n            </div>\\n           </div>\\n          </div>\\n         </div>\\n        </div>\\n        <div class=\"_1AtVbE col-12-12\">\\n         <div class=\"_27M-vq\">\\n          <div class=\"col\">\\n           <div class=\"col _2wzgFH K0kLPL\">\\n            <div class=\"row\">\\n             <div class=\"_3LWZlK _1BLPMq\">\\n              5\\n              <img class=\"_1wB99o\" src=\"data:image/svg+xml;base64,PHN2ZyB4bWxucz0iaHR0cDovL3d3dy53My5vcmcvMjAwMC9zdmciIHdpZHRoPSIxMyIgaGVpZ2h0PSIxMiI+PHBhdGggZmlsbD0iI0ZGRiIgZD0iTTYuNSA5LjQzOWwtMy42NzQgMi4yMy45NC00LjI2LTMuMjEtMi44ODMgNC4yNTQtLjQwNEw2LjUuMTEybDEuNjkgNC4wMSA0LjI1NC40MDQtMy4yMSAyLjg4Mi45NCA0LjI2eiIvPjwvc3ZnPg==\"/>\\n             </div>\\n             <p class=\"_2-N8zT\">\\n              Worth every penny\\n             </p>\\n            </div>\\n            <div class=\"row\">\\n             <div class=\"t-ZTKy\">\\n              <div>\\n               <div class=\"\">\\n                I bought it on sept5 2021....i giving review after 8 months....watch is jst awesome in reasonable price...battery last upto 5 days.... activity tracker is good...touch is also gud....the material is hard which is also very gud as my watch slipped so many times bt it still doesn\\'t broke....till now it\\'s working perfectly fine....u can go for it...\\n               </div>\\n               <span class=\"_1H-bmy\">\\n                <span>\\n                 READ MORE\\n                </span>\\n               </span>\\n              </div>\\n             </div>\\n            </div>\\n            <div class=\"_2nMSwX _3oLIki\">\\n             <div class=\"_21YjFX _2A07HP\" style=\"background-image:url(https://rukminim1.flixcart.com/blobio/124/124/imr-202205/blobio-imr-202205_a2397d21ac2d43c49ea76a85e5e0718d.jpg?q=90), url(data:image/svg+xml;base64,PHN2ZyB3aWR0aD0iMjIiIGhlaWdodD0iMTgiIHhtbG5zPSJodHRwOi8vd3d3LnczLm9yZy8yMDAwL3N2ZyI+PGcgZmlsbD0iIzlEOUQ5RCIgZmlsbC1ydWxlPSJub256ZXJvIj48cGF0aCBkPSJNMjAgMEgyQzEgMCAwIDEgMCAydjE0YzAgMS4xLjkgMiAyIDJoMThjMSAwIDItMSAyLTJWMmMwLTEtMS0yLTItMnptMCAxNS45MmMtLjAyLjAzLS4wNi4wNi0uMDguMDhIMlYyLjA4TDIuMDggMmgxNy44M2MuMDMuMDIuMDYuMDYuMDguMDh2MTMuODRIMjB6Ii8+PHBhdGggZD0iTTEwIDEyLjUxTDcuNSA5LjUgNCAxNGgxNGwtNC41LTZ6Ii8+PC9nPjwvc3ZnPg==);width:62px;height:62px\">\\n             </div>\\n            </div>\\n            <div class=\"row _3n8db9\">\\n             <div class=\"row\">\\n              <p class=\"_2sc7ZR _2V5EHH\">\\n               Shaik Jaffar\\n              </p>\\n              <svg class=\"_2a1p_T\" height=\"14\" viewbox=\"0 0 12 12\" width=\"14\" xmlns=\"http://www.w3.org/2000/svg\">\\n               <g>\\n                <circle cx=\"6\" cy=\"6\" fill=\"#878787\" r=\"6\">\\n                </circle>\\n                <path d=\"M3 6l2 2 4-4\" fill=\"#878787\" stroke=\"#FFF\" stroke-width=\"1.5\">\\n                </path>\\n               </g>\\n              </svg>\\n              <p class=\"_2mcZGG\" id=\"review-a9125a3a-2aff-4a3f-a7aa-4b2da4c54a80\">\\n               <span>\\n                Certified Buyer\\n               </span>\\n               <span>\\n                , Ongole\\n               </span>\\n              </p>\\n              <div>\\n              </div>\\n              <p class=\"_2sc7ZR\">\\n               8 months ago\\n              </p>\\n             </div>\\n             <div class=\"_1e9_Zu\">\\n              <div class=\"row\">\\n               <div class=\"_27aTsS\">\\n                <div class=\"_1LmwT9\">\\n                 <svg class=\"skCrcq\" height=\"15\" width=\"20\" xmlns=\"http://www.w3.org/2000/svg\">\\n                  <path class=\"_1LIt4y\" d=\"M9.58.006c-.41.043-.794.32-1.01.728-.277.557-2.334 4.693-2.74 5.1-.41.407-.944.6-1.544.6v8.572h7.5c.45 0 .835-.28 1.007-.665 0 0 2.207-6.234 2.207-6.834 0-.6-.47-1.072-1.07-1.072h-3.216c-.6 0-1.07-.535-1.07-1.07 0-.537.835-3.387 1.006-3.944.17-.557-.107-1.157-.664-1.35-.15-.043-.257-.086-.407-.064zM0 6.434v8.572h2.143V6.434H0z\" fill=\"#fff\" fill-rule=\"evenodd\">\\n                  </path>\\n                 </svg>\\n                 <span class=\"_3c3Px5\">\\n                  3\\n                 </span>\\n                </div>\\n                <div class=\"_1LmwT9 pkR4jH\">\\n                 <svg class=\"skCrcq pkR4jH\" height=\"15\" width=\"20\" xmlns=\"http://www.w3.org/2000/svg\">\\n                  <path class=\"_1LIt4y\" d=\"M9.58.006c-.41.043-.794.32-1.01.728-.277.557-2.334 4.693-2.74 5.1-.41.407-.944.6-1.544.6v8.572h7.5c.45 0 .835-.28 1.007-.665 0 0 2.207-6.234 2.207-6.834 0-.6-.47-1.072-1.07-1.072h-3.216c-.6 0-1.07-.535-1.07-1.07 0-.537.835-3.387 1.006-3.944.17-.557-.107-1.157-.664-1.35-.15-.043-.257-.086-.407-.064zM0 6.434v8.572h2.143V6.434H0z\" fill=\"#fff\" fill-rule=\"evenodd\">\\n                  </path>\\n                 </svg>\\n                 <span class=\"_3c3Px5\">\\n                  1\\n                 </span>\\n                </div>\\n               </div>\\n               <div class=\"_2bmov8\">\\n                <svg class=\"_2UvOBb\" height=\"11\" viewbox=\"0 0 16 27\" width=\"6\" xmlns=\"http://www.w3.org/2000/svg\">\\n                 <path class=\"_2aPE6f\" d=\"M16 23.207L6.11 13.161 16 3.093 12.955 0 0 13.161l12.955 13.161z\" fill=\"#fff\">\\n                 </path>\\n                </svg>\\n                <div class=\"_3E8aIl _38dCuf\">\\n                 <div class=\"_3XCI6U\">\\n                  <a href=\"/reviews/SMWG4GF2H9V3MJ8Y:7669?reviewId=a9125a3a-2aff-4a3f-a7aa-4b2da4c54a80\">\\n                   <span>\\n                    Permalink\\n                   </span>\\n                  </a>\\n                 </div>\\n                 <div class=\"_3XCI6U _2b2z-j\">\\n                  <span>\\n                   Report Abuse\\n                  </span>\\n                 </div>\\n                </div>\\n               </div>\\n              </div>\\n             </div>\\n            </div>\\n           </div>\\n          </div>\\n         </div>\\n        </div>\\n        <div class=\"_1AtVbE col-12-12\">\\n         <div class=\"_27M-vq\">\\n          <div class=\"col\">\\n           <div class=\"col _2wzgFH K0kLPL\">\\n            <div class=\"row\">\\n             <div class=\"_3LWZlK _1BLPMq\">\\n              5\\n              <img class=\"_1wB99o\" src=\"data:image/svg+xml;base64,PHN2ZyB4bWxucz0iaHR0cDovL3d3dy53My5vcmcvMjAwMC9zdmciIHdpZHRoPSIxMyIgaGVpZ2h0PSIxMiI+PHBhdGggZmlsbD0iI0ZGRiIgZD0iTTYuNSA5LjQzOWwtMy42NzQgMi4yMy45NC00LjI2LTMuMjEtMi44ODMgNC4yNTQtLjQwNEw2LjUuMTEybDEuNjkgNC4wMSA0LjI1NC40MDQtMy4yMSAyLjg4Mi45NCA0LjI2eiIvPjwvc3ZnPg==\"/>\\n             </div>\\n             <p class=\"_2-N8zT\">\\n              Just wow!\\n             </p>\\n            </div>\\n            <div class=\"row\">\\n             <div class=\"t-ZTKy\">\\n              <div>\\n               <div class=\"\">\\n                This is my dream watch my first purchased smartwatch for me it\\'s amazing watch heart rate effect BP perfect oxygen footstep everything perfect I am happy with this purchase I paid for 1800 thank you Flipkart\\n               </div>\\n               <span class=\"_1H-bmy\">\\n                <span>\\n                 READ MORE\\n                </span>\\n               </span>\\n              </div>\\n             </div>\\n            </div>\\n            <div class=\"row _3n8db9\">\\n             <div class=\"row\">\\n              <p class=\"_2sc7ZR _2V5EHH\">\\n               Flipkart Customer\\n              </p>\\n              <svg class=\"_2a1p_T\" height=\"14\" viewbox=\"0 0 12 12\" width=\"14\" xmlns=\"http://www.w3.org/2000/svg\">\\n               <g>\\n                <circle cx=\"6\" cy=\"6\" fill=\"#878787\" r=\"6\">\\n                </circle>\\n                <path d=\"M3 6l2 2 4-4\" fill=\"#878787\" stroke=\"#FFF\" stroke-width=\"1.5\">\\n                </path>\\n               </g>\\n              </svg>\\n              <p class=\"_2mcZGG\" id=\"review-65dceecf-87b6-42dc-b9f3-88bc3ee880e7\">\\n               <span>\\n                Certified Buyer\\n               </span>\\n               <span>\\n                , Thane District\\n               </span>\\n              </p>\\n              <div>\\n              </div>\\n              <p class=\"_2sc7ZR\">\\n               Aug, 2021\\n              </p>\\n             </div>\\n             <div class=\"_1e9_Zu\">\\n              <div class=\"row\">\\n               <div class=\"_27aTsS\">\\n                <div class=\"_1LmwT9\">\\n                 <svg class=\"skCrcq\" height=\"15\" width=\"20\" xmlns=\"http://www.w3.org/2000/svg\">\\n                  <path class=\"_1LIt4y\" d=\"M9.58.006c-.41.043-.794.32-1.01.728-.277.557-2.334 4.693-2.74 5.1-.41.407-.944.6-1.544.6v8.572h7.5c.45 0 .835-.28 1.007-.665 0 0 2.207-6.234 2.207-6.834 0-.6-.47-1.072-1.07-1.072h-3.216c-.6 0-1.07-.535-1.07-1.07 0-.537.835-3.387 1.006-3.944.17-.557-.107-1.157-.664-1.35-.15-.043-.257-.086-.407-.064zM0 6.434v8.572h2.143V6.434H0z\" fill=\"#fff\" fill-rule=\"evenodd\">\\n                  </path>\\n                 </svg>\\n                 <span class=\"_3c3Px5\">\\n                  4\\n                 </span>\\n                </div>\\n                <div class=\"_1LmwT9 pkR4jH\">\\n                 <svg class=\"skCrcq pkR4jH\" height=\"15\" width=\"20\" xmlns=\"http://www.w3.org/2000/svg\">\\n                  <path class=\"_1LIt4y\" d=\"M9.58.006c-.41.043-.794.32-1.01.728-.277.557-2.334 4.693-2.74 5.1-.41.407-.944.6-1.544.6v8.572h7.5c.45 0 .835-.28 1.007-.665 0 0 2.207-6.234 2.207-6.834 0-.6-.47-1.072-1.07-1.072h-3.216c-.6 0-1.07-.535-1.07-1.07 0-.537.835-3.387 1.006-3.944.17-.557-.107-1.157-.664-1.35-.15-.043-.257-.086-.407-.064zM0 6.434v8.572h2.143V6.434H0z\" fill=\"#fff\" fill-rule=\"evenodd\">\\n                  </path>\\n                 </svg>\\n                 <span class=\"_3c3Px5\">\\n                  1\\n                 </span>\\n                </div>\\n               </div>\\n               <div class=\"_2bmov8\">\\n                <svg class=\"_2UvOBb\" height=\"11\" viewbox=\"0 0 16 27\" width=\"6\" xmlns=\"http://www.w3.org/2000/svg\">\\n                 <path class=\"_2aPE6f\" d=\"M16 23.207L6.11 13.161 16 3.093 12.955 0 0 13.161l12.955 13.161z\" fill=\"#fff\">\\n                 </path>\\n                </svg>\\n                <div class=\"_3E8aIl _38dCuf\">\\n                 <div class=\"_3XCI6U\">\\n                  <a href=\"/reviews/SMWG4GF2H9V3MJ8Y:424?reviewId=65dceecf-87b6-42dc-b9f3-88bc3ee880e7\">\\n                   <span>\\n                    Permalink\\n                   </span>\\n                  </a>\\n                 </div>\\n                 <div class=\"_3XCI6U _2b2z-j\">\\n                  <span>\\n                   Report Abuse\\n                  </span>\\n                 </div>\\n                </div>\\n               </div>\\n              </div>\\n             </div>\\n            </div>\\n           </div>\\n          </div>\\n         </div>\\n        </div>\\n        <div class=\"_1AtVbE col-12-12\">\\n         <div class=\"_27M-vq\">\\n          <div class=\"col\">\\n           <div class=\"col _2wzgFH K0kLPL\">\\n            <div class=\"row\">\\n             <div class=\"_3LWZlK _1BLPMq\">\\n              5\\n              <img class=\"_1wB99o\" src=\"data:image/svg+xml;base64,PHN2ZyB4bWxucz0iaHR0cDovL3d3dy53My5vcmcvMjAwMC9zdmciIHdpZHRoPSIxMyIgaGVpZ2h0PSIxMiI+PHBhdGggZmlsbD0iI0ZGRiIgZD0iTTYuNSA5LjQzOWwtMy42NzQgMi4yMy45NC00LjI2LTMuMjEtMi44ODMgNC4yNTQtLjQwNEw2LjUuMTEybDEuNjkgNC4wMSA0LjI1NC40MDQtMy4yMSAyLjg4Mi45NCA0LjI2eiIvPjwvc3ZnPg==\"/>\\n             </div>\\n             <p class=\"_2-N8zT\">\\n              Highly recommended\\n             </p>\\n            </div>\\n            <div class=\"row\">\\n             <div class=\"t-ZTKy\">\\n              <div>\\n               <div class=\"\">\\n                One of the best budget smartwatches out in the market out there.display size is adequately large enough for the price.features are also less.but it have most of the essential modes in it.definitly its a good one with super build quality\\n               </div>\\n               <span class=\"_1H-bmy\">\\n                <span>\\n                 READ MORE\\n                </span>\\n               </span>\\n              </div>\\n             </div>\\n            </div>\\n            <div class=\"_2nMSwX _3oLIki\">\\n             <div class=\"_21YjFX _2A07HP\" style=\"background-image:url(https://rukminim1.flixcart.com/blobio/124/124/imr-202110/blobio-imr-202110_a3de3bfeaf2e403e9584d375ebf87c10.jpeg?q=90), url(data:image/svg+xml;base64,PHN2ZyB3aWR0aD0iMjIiIGhlaWdodD0iMTgiIHhtbG5zPSJodHRwOi8vd3d3LnczLm9yZy8yMDAwL3N2ZyI+PGcgZmlsbD0iIzlEOUQ5RCIgZmlsbC1ydWxlPSJub256ZXJvIj48cGF0aCBkPSJNMjAgMEgyQzEgMCAwIDEgMCAydjE0YzAgMS4xLjkgMiAyIDJoMThjMSAwIDItMSAyLTJWMmMwLTEtMS0yLTItMnptMCAxNS45MmMtLjAyLjAzLS4wNi4wNi0uMDguMDhIMlYyLjA4TDIuMDggMmgxNy44M2MuMDMuMDIuMDYuMDYuMDguMDh2MTMuODRIMjB6Ii8+PHBhdGggZD0iTTEwIDEyLjUxTDcuNSA5LjUgNCAxNGgxNGwtNC41LTZ6Ii8+PC9nPjwvc3ZnPg==);width:62px;height:62px\">\\n             </div>\\n             <div class=\"_21YjFX _2A07HP\" style=\"background-image:url(https://rukminim1.flixcart.com/blobio/124/124/imr-202110/blobio-imr-202110_aca10eebe4de442bb539d258e794c2f8.jpeg?q=90), url(data:image/svg+xml;base64,PHN2ZyB3aWR0aD0iMjIiIGhlaWdodD0iMTgiIHhtbG5zPSJodHRwOi8vd3d3LnczLm9yZy8yMDAwL3N2ZyI+PGcgZmlsbD0iIzlEOUQ5RCIgZmlsbC1ydWxlPSJub256ZXJvIj48cGF0aCBkPSJNMjAgMEgyQzEgMCAwIDEgMCAydjE0YzAgMS4xLjkgMiAyIDJoMThjMSAwIDItMSAyLTJWMmMwLTEtMS0yLTItMnptMCAxNS45MmMtLjAyLjAzLS4wNi4wNi0uMDguMDhIMlYyLjA4TDIuMDggMmgxNy44M2MuMDMuMDIuMDYuMDYuMDguMDh2MTMuODRIMjB6Ii8+PHBhdGggZD0iTTEwIDEyLjUxTDcuNSA5LjUgNCAxNGgxNGwtNC41LTZ6Ii8+PC9nPjwvc3ZnPg==);width:62px;height:62px\">\\n             </div>\\n             <div class=\"_21YjFX _2A07HP\" style=\"background-image:url(https://rukminim1.flixcart.com/blobio/124/124/imr-202110/blobio-imr-202110_f1c8b16764c849c5852060a8394b4b6d.jpeg?q=90), url(data:image/svg+xml;base64,PHN2ZyB3aWR0aD0iMjIiIGhlaWdodD0iMTgiIHhtbG5zPSJodHRwOi8vd3d3LnczLm9yZy8yMDAwL3N2ZyI+PGcgZmlsbD0iIzlEOUQ5RCIgZmlsbC1ydWxlPSJub256ZXJvIj48cGF0aCBkPSJNMjAgMEgyQzEgMCAwIDEgMCAydjE0YzAgMS4xLjkgMiAyIDJoMThjMSAwIDItMSAyLTJWMmMwLTEtMS0yLTItMnptMCAxNS45MmMtLjAyLjAzLS4wNi4wNi0uMDguMDhIMlYyLjA4TDIuMDggMmgxNy44M2MuMDMuMDIuMDYuMDYuMDguMDh2MTMuODRIMjB6Ii8+PHBhdGggZD0iTTEwIDEyLjUxTDcuNSA5LjUgNCAxNGgxNGwtNC41LTZ6Ii8+PC9nPjwvc3ZnPg==);width:62px;height:62px\">\\n             </div>\\n            </div>\\n            <div class=\"row _3n8db9\">\\n             <div class=\"row\">\\n              <p class=\"_2sc7ZR _2V5EHH\">\\n               Anumol  Chandrasekharan\\n              </p>\\n              <svg class=\"_2a1p_T\" height=\"14\" viewbox=\"0 0 12 12\" width=\"14\" xmlns=\"http://www.w3.org/2000/svg\">\\n               <g>\\n                <circle cx=\"6\" cy=\"6\" fill=\"#878787\" r=\"6\">\\n                </circle>\\n                <path d=\"M3 6l2 2 4-4\" fill=\"#878787\" stroke=\"#FFF\" stroke-width=\"1.5\">\\n                </path>\\n               </g>\\n              </svg>\\n              <p class=\"_2mcZGG\" id=\"review-c315baae-8161-4fa4-906d-f2303f59e212\">\\n               <span>\\n                Certified Buyer\\n               </span>\\n               <span>\\n                , Kureekkad\\n               </span>\\n              </p>\\n              <div>\\n              </div>\\n              <p class=\"_2sc7ZR\">\\n               Oct, 2021\\n              </p>\\n             </div>\\n             <div class=\"_1e9_Zu\">\\n              <div class=\"row\">\\n               <div class=\"_27aTsS\">\\n                <div class=\"_1LmwT9\">\\n                 <svg class=\"skCrcq\" height=\"15\" width=\"20\" xmlns=\"http://www.w3.org/2000/svg\">\\n                  <path class=\"_1LIt4y\" d=\"M9.58.006c-.41.043-.794.32-1.01.728-.277.557-2.334 4.693-2.74 5.1-.41.407-.944.6-1.544.6v8.572h7.5c.45 0 .835-.28 1.007-.665 0 0 2.207-6.234 2.207-6.834 0-.6-.47-1.072-1.07-1.072h-3.216c-.6 0-1.07-.535-1.07-1.07 0-.537.835-3.387 1.006-3.944.17-.557-.107-1.157-.664-1.35-.15-.043-.257-.086-.407-.064zM0 6.434v8.572h2.143V6.434H0z\" fill=\"#fff\" fill-rule=\"evenodd\">\\n                  </path>\\n                 </svg>\\n                 <span class=\"_3c3Px5\">\\n                  9\\n                 </span>\\n                </div>\\n                <div class=\"_1LmwT9 pkR4jH\">\\n                 <svg class=\"skCrcq pkR4jH\" height=\"15\" width=\"20\" xmlns=\"http://www.w3.org/2000/svg\">\\n                  <path class=\"_1LIt4y\" d=\"M9.58.006c-.41.043-.794.32-1.01.728-.277.557-2.334 4.693-2.74 5.1-.41.407-.944.6-1.544.6v8.572h7.5c.45 0 .835-.28 1.007-.665 0 0 2.207-6.234 2.207-6.834 0-.6-.47-1.072-1.07-1.072h-3.216c-.6 0-1.07-.535-1.07-1.07 0-.537.835-3.387 1.006-3.944.17-.557-.107-1.157-.664-1.35-.15-.043-.257-.086-.407-.064zM0 6.434v8.572h2.143V6.434H0z\" fill=\"#fff\" fill-rule=\"evenodd\">\\n                  </path>\\n                 </svg>\\n                 <span class=\"_3c3Px5\">\\n                  8\\n                 </span>\\n                </div>\\n               </div>\\n               <div class=\"_2bmov8\">\\n                <svg class=\"_2UvOBb\" height=\"11\" viewbox=\"0 0 16 27\" width=\"6\" xmlns=\"http://www.w3.org/2000/svg\">\\n                 <path class=\"_2aPE6f\" d=\"M16 23.207L6.11 13.161 16 3.093 12.955 0 0 13.161l12.955 13.161z\" fill=\"#fff\">\\n                 </path>\\n                </svg>\\n                <div class=\"_3E8aIl _38dCuf\">\\n                 <div class=\"_3XCI6U\">\\n                  <a href=\"/reviews/SMWG4GF2H9V3MJ8Y:2808?reviewId=c315baae-8161-4fa4-906d-f2303f59e212\">\\n                   <span>\\n                    Permalink\\n                   </span>\\n                  </a>\\n                 </div>\\n                 <div class=\"_3XCI6U _2b2z-j\">\\n                  <span>\\n                   Report Abuse\\n                  </span>\\n                 </div>\\n                </div>\\n               </div>\\n              </div>\\n             </div>\\n            </div>\\n           </div>\\n          </div>\\n         </div>\\n        </div>\\n        <div class=\"_1AtVbE col-12-12\">\\n         <div>\\n          <div class=\"_2MImiq _1Qnn1K\">\\n           <span>\\n            Page 3 of 982\\n           </span>\\n           <nav class=\"yFHi8N\">\\n            <a class=\"_1LKTO3\" href=\"/fire-boltt-ninja-touch-wake-spo2-smartwatch/product-reviews/itm05b47a90c7c32?pid=SMWG4GF2H9V3MJ8Y&amp;lid=LSTSMWG4GF2H9V3MJ8Y5QJJ34&amp;marketplace=FLIPKART&amp;page=2\">\\n             <span>\\n              Previous\\n             </span>\\n            </a>\\n            <a class=\"ge-49M\" href=\"/fire-boltt-ninja-touch-wake-spo2-smartwatch/product-reviews/itm05b47a90c7c32?pid=SMWG4GF2H9V3MJ8Y&amp;lid=LSTSMWG4GF2H9V3MJ8Y5QJJ34&amp;marketplace=FLIPKART&amp;page=1\">\\n             1\\n            </a>\\n            <a class=\"ge-49M\" href=\"/fire-boltt-ninja-touch-wake-spo2-smartwatch/product-reviews/itm05b47a90c7c32?pid=SMWG4GF2H9V3MJ8Y&amp;lid=LSTSMWG4GF2H9V3MJ8Y5QJJ34&amp;marketplace=FLIPKART&amp;page=2\">\\n             2\\n            </a>\\n            <a class=\"ge-49M _2Kfbh8\" href=\"/fire-boltt-ninja-touch-wake-spo2-smartwatch/product-reviews/itm05b47a90c7c32?pid=SMWG4GF2H9V3MJ8Y&amp;lid=LSTSMWG4GF2H9V3MJ8Y5QJJ34&amp;marketplace=FLIPKART&amp;page=3\">\\n             3\\n            </a>\\n            <a class=\"ge-49M\" href=\"/fire-boltt-ninja-touch-wake-spo2-smartwatch/product-reviews/itm05b47a90c7c32?pid=SMWG4GF2H9V3MJ8Y&amp;lid=LSTSMWG4GF2H9V3MJ8Y5QJJ34&amp;marketplace=FLIPKART&amp;page=4\">\\n             4\\n            </a>\\n            <a class=\"ge-49M\" href=\"/fire-boltt-ninja-touch-wake-spo2-smartwatch/product-reviews/itm05b47a90c7c32?pid=SMWG4GF2H9V3MJ8Y&amp;lid=LSTSMWG4GF2H9V3MJ8Y5QJJ34&amp;marketplace=FLIPKART&amp;page=5\">\\n             5\\n            </a>\\n            <a class=\"ge-49M\" href=\"/fire-boltt-ninja-touch-wake-spo2-smartwatch/product-reviews/itm05b47a90c7c32?pid=SMWG4GF2H9V3MJ8Y&amp;lid=LSTSMWG4GF2H9V3MJ8Y5QJJ34&amp;marketplace=FLIPKART&amp;page=6\">\\n             6\\n            </a>\\n            <a class=\"ge-49M\" href=\"/fire-boltt-ninja-touch-wake-spo2-smartwatch/product-reviews/itm05b47a90c7c32?pid=SMWG4GF2H9V3MJ8Y&amp;lid=LSTSMWG4GF2H9V3MJ8Y5QJJ34&amp;marketplace=FLIPKART&amp;page=7\">\\n             7\\n            </a>\\n            <a class=\"ge-49M\" href=\"/fire-boltt-ninja-touch-wake-spo2-smartwatch/product-reviews/itm05b47a90c7c32?pid=SMWG4GF2H9V3MJ8Y&amp;lid=LSTSMWG4GF2H9V3MJ8Y5QJJ34&amp;marketplace=FLIPKART&amp;page=8\">\\n             8\\n            </a>\\n            <a class=\"ge-49M\" href=\"/fire-boltt-ninja-touch-wake-spo2-smartwatch/product-reviews/itm05b47a90c7c32?pid=SMWG4GF2H9V3MJ8Y&amp;lid=LSTSMWG4GF2H9V3MJ8Y5QJJ34&amp;marketplace=FLIPKART&amp;page=9\">\\n             9\\n            </a>\\n            <a class=\"ge-49M\" href=\"/fire-boltt-ninja-touch-wake-spo2-smartwatch/product-reviews/itm05b47a90c7c32?pid=SMWG4GF2H9V3MJ8Y&amp;lid=LSTSMWG4GF2H9V3MJ8Y5QJJ34&amp;marketplace=FLIPKART&amp;page=10\">\\n             10\\n            </a>\\n            <a class=\"_1LKTO3\" href=\"/fire-boltt-ninja-touch-wake-spo2-smartwatch/product-reviews/itm05b47a90c7c32?pid=SMWG4GF2H9V3MJ8Y&amp;lid=LSTSMWG4GF2H9V3MJ8Y5QJJ34&amp;marketplace=FLIPKART&amp;page=4\">\\n             <span>\\n              Next\\n             </span>\\n            </a>\\n           </nav>\\n           <span class=\"_22Tduf\">\\n           </span>\\n          </div>\\n         </div>\\n        </div>\\n       </div>\\n      </div>\\n      <div class=\"_39SDPR\">\\n      </div>\\n     </div>\\n    </div>\\n    <footer class=\"_3voSl0\">\\n     <div class=\"_3rc_xQ\">\\n      <div class=\"row\">\\n       <div class=\"col gu12 _8Qljeg\">\\n       </div>\\n      </div>\\n      <div>\\n       <div class=\"_2WErco row\">\\n        <div class=\"_2Brcj4\">\\n         <div class=\"_3-dnWo\">\\n          ABOUT\\n         </div>\\n         <a class=\"_1arVWX\" href=\"/helpcentre?otracker=undefined_footer_navlinks\">\\n          Contact Us\\n         </a>\\n         <a class=\"_1arVWX\" href=\"/about-us?otracker=undefined_footer_navlinks\">\\n          About Us\\n         </a>\\n         <a class=\"_1arVWX\" href=\"https://www.flipkartcareers.com/?otracker=undefined_footer_navlinks\">\\n          Careers\\n         </a>\\n         <a class=\"_1arVWX\" href=\"http://stories.flipkart.com/?otracker=undefined_footer_navlinks\">\\n          Flipkart Stories\\n         </a>\\n         <a class=\"_1arVWX\" href=\"/s/press?otracker=undefined_footer_navlinks\">\\n          Press\\n         </a>\\n         <a class=\"_1arVWX\" href=\"https://www.flipkartwholesale.com/?otracker=undefined_footer_navlinks\" rel=\"noopener noreferrer\" target=\"_blank\">\\n          Flipkart Wholesale\\n         </a>\\n         <a class=\"_1arVWX\" href=\"/corporate-information\">\\n          Corporate Information\\n         </a>\\n        </div>\\n        <div class=\"_2Brcj4\">\\n         <div class=\"_3-dnWo\">\\n          HELP\\n         </div>\\n         <a class=\"_1arVWX\" href=\"/pages/payments\">\\n          Payments\\n         </a>\\n         <a class=\"_1arVWX\" href=\"/pages/shipping\">\\n          Shipping\\n         </a>\\n         <a class=\"_1arVWX\" href=\"/helpcentre?catalog=55c9c6edb000002e002c1701&amp;view=CATALOG\">\\n          Cancellation &amp; Returns\\n         </a>\\n         <a class=\"_1arVWX\" href=\"/helpcentre?catalog=55c9c8e2b0000023002c1702&amp;view=CATALOG\">\\n          FAQ\\n         </a>\\n         <a class=\"_1arVWX\" href=\"https://seller.flipkart.com/fiv?otracker=undefined_footer_navlinks\">\\n          Report Infringement\\n         </a>\\n        </div>\\n        <div class=\"_2Brcj4\">\\n         <div class=\"_3-dnWo\">\\n          POLICY\\n         </div>\\n         <a class=\"_1arVWX\" href=\"/pages/returnpolicy?otracker=undefined_footer_navlinks\">\\n          Return Policy\\n         </a>\\n         <a class=\"_1arVWX\" href=\"/pages/terms?otracker=undefined_footer_navlinks\">\\n          Terms Of Use\\n         </a>\\n         <a class=\"_1arVWX\" href=\"/pages/paymentsecurity?otracker=undefined_footer_navlinks\">\\n          Security\\n         </a>\\n         <a class=\"_1arVWX\" href=\"/pages/privacypolicy?otracker=undefined_footer_navlinks\">\\n          Privacy\\n         </a>\\n         <a class=\"_1arVWX\" href=\"/sitemap?otracker=undefined_footer_navlinks\">\\n          Sitemap\\n         </a>\\n         <a class=\"_1arVWX\" href=\"/pages/ewaste-compliance-tnc?otracker=undefined_footer_navlinks\">\\n          EPR Compliance\\n         </a>\\n        </div>\\n        <div class=\"_2Brcj4\">\\n         <div class=\"_3-dnWo\">\\n          SOCIAL\\n         </div>\\n         <a class=\"_1arVWX\" href=\"https://www.facebook.com/flipkart\">\\n          Facebook\\n         </a>\\n         <a class=\"_1arVWX\" href=\"https://www.twitter.com/flipkart\">\\n          Twitter\\n         </a>\\n         <a class=\"_1arVWX\" href=\"https://www.youtube.com/flipkart\">\\n          YouTube\\n         </a>\\n        </div>\\n        <div class=\"_2Brcj4 address\">\\n         <div class=\"_3JHi0r\">\\n          <div class=\"_3-dnWo\">\\n           <span>\\n            Mail Us:\\n           </span>\\n          </div>\\n          <div class=\"_1U1qnR\">\\n           <div class=\"_1LJS6T\">\\n            <div class=\"_2NKhZn _1U1qnR\">\\n             <p>\\n              Flipkart Internet Private Limited,\\n             </p>\\n             <p>\\n              Buildings Alyssa, Begonia &amp;\\n             </p>\\n             <p>\\n              Clove Embassy Tech Village,\\n             </p>\\n             <p>\\n              Outer Ring Road, Devarabeesanahalli Village,\\n             </p>\\n             <p>\\n              Bengaluru, 560103,\\n             </p>\\n             <p>\\n              Karnataka, India\\n             </p>\\n            </div>\\n           </div>\\n          </div>\\n         </div>\\n        </div>\\n        <div class=\"_2Brcj4 address\">\\n         <div class=\"_3IT4e6\">\\n          <div class=\"_3-dnWo\">\\n           <span>\\n            Registered Office Address:\\n           </span>\\n          </div>\\n          <div class=\"_1U1qnR\">\\n           <div class=\"_1LJS6T\">\\n            <div class=\"_2NKhZn _1U1qnR\">\\n             <p>\\n              Flipkart Internet Private Limited,\\n             </p>\\n             <p>\\n              Buildings Alyssa, Begonia &amp;\\n             </p>\\n             <p>\\n              Clove Embassy Tech Village,\\n             </p>\\n             <p>\\n              Outer Ring Road, Devarabeesanahalli Village,\\n             </p>\\n             <p>\\n              Bengaluru, 560103,\\n             </p>\\n             <p>\\n              Karnataka, India\\n             </p>\\n             <p>\\n              CIN : U51109KA2012PTC066107\\n             </p>\\n             <p>\\n              Telephone:\\n              <a href=\"tel:18002029898\">\\n               044-45614700\\n              </a>\\n             </p>\\n            </div>\\n           </div>\\n          </div>\\n         </div>\\n        </div>\\n       </div>\\n       <div>\\n        <div class=\"_2uz0vJ\">\\n         <div>\\n          <img src=\"data:image/svg+xml;base64,PHN2ZyB4bWxucz0iaHR0cDovL3d3dy53My5vcmcvMjAwMC9zdmciIHdpZHRoPSIxNiIgaGVpZ2h0PSIxNSIgdmlld0JveD0iMCAwIDE2IDE1Ij4KICAgIDxkZWZzPgogICAgICAgIDxsaW5lYXJHcmFkaWVudCBpZD0iYSIgeDE9IjAlIiB4Mj0iODYuODc2JSIgeTE9IjAlIiB5Mj0iODAuMjAyJSI+CiAgICAgICAgICAgIDxzdG9wIG9mZnNldD0iMCUiIHN0b3AtY29sb3I9IiNGRkQ4MDAiLz4KICAgICAgICAgICAgPHN0b3Agb2Zmc2V0PSIxMDAlIiBzdG9wLWNvbG9yPSIjRkZBRjAwIi8+CiAgICAgICAgPC9saW5lYXJHcmFkaWVudD4KICAgIDwvZGVmcz4KICAgIDxnIGZpbGw9Im5vbmUiIGZpbGwtcnVsZT0iZXZlbm9kZCI+CiAgICAgICAgPHBhdGggZD0iTS0yLTJoMjB2MjBILTJ6Ii8+CiAgICAgICAgPHBhdGggZmlsbD0idXJsKCNhKSIgZmlsbC1ydWxlPSJub256ZXJvIiBkPSJNMTUuOTMgNS42MTRoLTIuOTQ4VjQuMTRjMC0uODE4LS42NTUtMS40NzMtMS40NzMtMS40NzNIOC41NmMtLjgxNyAwLTEuNDczLjY1NS0xLjQ3MyAxLjQ3M3YxLjQ3NEg0LjE0Yy0uODE4IDAtMS40NjYuNjU2LTEuNDY2IDEuNDc0bC0uMDA3IDguMTA1YzAgLjgxOC42NTUgMS40NzQgMS40NzMgMS40NzRoMTEuNzljLjgxOCAwIDEuNDc0LS42NTYgMS40NzQtMS40NzRWNy4wODhjMC0uODE4LS42NTYtMS40NzQtMS40NzQtMS40NzR6bS00LjQyMSAwSDguNTZWNC4xNGgyLjk0OHYxLjQ3NHoiIHRyYW5zZm9ybT0idHJhbnNsYXRlKC0yIC0yKSIvPgogICAgPC9nPgo8L3N2Zz4K\"/>\\n          <a href=\"https://seller.flipkart.com/?utm_source=fkwebsite&amp;utm_medium=websitedirect\">\\n           <span class=\"hDTmm5\">\\n            Become a Seller\\n           </span>\\n          </a>\\n         </div>\\n         <div>\\n          <img src=\"data:image/svg+xml;base64,PHN2ZyB4bWxucz0iaHR0cDovL3d3dy53My5vcmcvMjAwMC9zdmciIHdpZHRoPSIxNSIgaGVpZ2h0PSIxNSIgdmlld0JveD0iMCAwIDE1IDE1Ij4KICAgIDxkZWZzPgogICAgICAgIDxsaW5lYXJHcmFkaWVudCBpZD0iYSIgeDE9IjAlIiB4Mj0iODYuODc2JSIgeTE9IjAlIiB5Mj0iODAuMjAyJSI+CiAgICAgICAgICAgIDxzdG9wIG9mZnNldD0iMCUiIHN0b3AtY29sb3I9IiNGRkQ4MDAiLz4KICAgICAgICAgICAgPHN0b3Agb2Zmc2V0PSIxMDAlIiBzdG9wLWNvbG9yPSIjRkZBRjAwIi8+CiAgICAgICAgPC9saW5lYXJHcmFkaWVudD4KICAgIDwvZGVmcz4KICAgIDxnIGZpbGw9Im5vbmUiIGZpbGwtcnVsZT0iZXZlbm9kZCI+CiAgICAgICAgPHBhdGggZD0iTS0zLTNoMjB2MjBILTN6Ii8+CiAgICAgICAgPHBhdGggZmlsbD0idXJsKCNhKSIgZmlsbC1ydWxlPSJub256ZXJvIiBkPSJNMTAuNDkyIDNDNi4zNTMgMyAzIDYuMzYgMyAxMC41YzAgNC4xNCAzLjM1MyA3LjUgNy40OTIgNy41QzE0LjY0IDE4IDE4IDE0LjY0IDE4IDEwLjUgMTggNi4zNiAxNC42NCAzIDEwLjQ5MiAzem0zLjE4IDEyTDEwLjUgMTMuMDg4IDcuMzI3IDE1bC44NC0zLjYwN0w1LjM3IDguOTdsMy42OS0uMzE1TDEwLjUgNS4yNWwxLjQ0IDMuMzk4IDMuNjkuMzE1LTIuNzk4IDIuNDIyLjg0IDMuNjE1eiIgdHJhbnNmb3JtPSJ0cmFuc2xhdGUoLTMgLTMpIi8+CiAgICA8L2c+Cjwvc3ZnPgo=\"/>\\n          <a href=\"https://brands.flipkart.com\">\\n           <span class=\"hDTmm5\">\\n            Advertise\\n           </span>\\n          </a>\\n         </div>\\n         <div>\\n          <img src=\"data:image/svg+xml;base64,PHN2ZyB4bWxucz0iaHR0cDovL3d3dy53My5vcmcvMjAwMC9zdmciIHdpZHRoPSIxOCIgaGVpZ2h0PSIxNyIgdmlld0JveD0iMCAwIDE4IDE3Ij4KICAgIDxkZWZzPgogICAgICAgIDxsaW5lYXJHcmFkaWVudCBpZD0iYSIgeDE9IjAlIiB4Mj0iODYuODc2JSIgeTE9IjAlIiB5Mj0iODAuMjAyJSI+CiAgICAgICAgICAgIDxzdG9wIG9mZnNldD0iMCUiIHN0b3AtY29sb3I9IiNGRkQ4MDAiLz4KICAgICAgICAgICAgPHN0b3Agb2Zmc2V0PSIxMDAlIiBzdG9wLWNvbG9yPSIjRkZBRjAwIi8+CiAgICAgICAgPC9saW5lYXJHcmFkaWVudD4KICAgIDwvZGVmcz4KICAgIDxnIGZpbGw9Im5vbmUiIGZpbGwtcnVsZT0iZXZlbm9kZCI+CiAgICAgICAgPHBhdGggZD0iTS0xLTFoMjB2MjBILTF6Ii8+CiAgICAgICAgPHBhdGggZmlsbD0idXJsKCNhKSIgZmlsbC1ydWxlPSJub256ZXJvIiBkPSJNMTYuNjY3IDVIMTQuODVjLjA5Mi0uMjU4LjE1LS41NDIuMTUtLjgzM2EyLjQ5NyAyLjQ5NyAwIDAgMC00LjU4My0xLjM3NUwxMCAzLjM1bC0uNDE3LS41NjdBMi41MSAyLjUxIDAgMCAwIDcuNSAxLjY2N2EyLjQ5NyAyLjQ5NyAwIDAgMC0yLjUgMi41YzAgLjI5MS4wNTguNTc1LjE1LjgzM0gzLjMzM2MtLjkyNSAwLTEuNjU4Ljc0Mi0xLjY1OCAxLjY2N2wtLjAwOCA5LjE2NkExLjY2IDEuNjYgMCAwIDAgMy4zMzMgMTcuNWgxMy4zMzRhMS42NiAxLjY2IDAgMCAwIDEuNjY2LTEuNjY3VjYuNjY3QTEuNjYgMS42NiAwIDAgMCAxNi42NjcgNXptMCA2LjY2N0gzLjMzM3YtNWg0LjIzNEw1LjgzMyA5LjAyNWwxLjM1Ljk3NSAxLjk4NC0yLjdMMTAgNi4xNjdsLjgzMyAxLjEzMyAxLjk4NCAyLjcgMS4zNS0uOTc1LTEuNzM0LTIuMzU4aDQuMjM0djV6IiB0cmFuc2Zvcm09InRyYW5zbGF0ZSgtMSAtMSkiLz4KICAgIDwvZz4KPC9zdmc+Cg==\"/>\\n          <a href=\"/the-gift-card-store?otracker=undefined_footer_footer_navlinks\">\\n           <span class=\"hDTmm5\">\\n            Gift Cards\\n           </span>\\n          </a>\\n         </div>\\n         <div>\\n          <img src=\"data:image/svg+xml;base64,PHN2ZyB4bWxucz0iaHR0cDovL3d3dy53My5vcmcvMjAwMC9zdmciIHdpZHRoPSIxNSIgaGVpZ2h0PSIxNSIgdmlld0JveD0iMCAwIDE1IDE1Ij4KICAgIDxkZWZzPgogICAgICAgIDxsaW5lYXJHcmFkaWVudCBpZD0iYSIgeDE9IjAlIiB4Mj0iODYuODc2JSIgeTE9IjAlIiB5Mj0iODAuMjAyJSI+CiAgICAgICAgICAgIDxzdG9wIG9mZnNldD0iMCUiIHN0b3AtY29sb3I9IiNGRkQ4MDAiLz4KICAgICAgICAgICAgPHN0b3Agb2Zmc2V0PSIxMDAlIiBzdG9wLWNvbG9yPSIjRkZBRjAwIi8+CiAgICAgICAgPC9saW5lYXJHcmFkaWVudD4KICAgIDwvZGVmcz4KICAgIDxnIGZpbGw9Im5vbmUiIGZpbGwtcnVsZT0iZXZlbm9kZCI+CiAgICAgICAgPHBhdGggZD0iTS0yLTNoMjB2MjBILTJ6Ii8+CiAgICAgICAgPHBhdGggZmlsbD0idXJsKCNhKSIgZmlsbC1ydWxlPSJub256ZXJvIiBkPSJNOS41IDNDNS4zNiAzIDIgNi4zNiAyIDEwLjUgMiAxNC42NCA1LjM2IDE4IDkuNSAxOGM0LjE0IDAgNy41LTMuMzYgNy41LTcuNUMxNyA2LjM2IDEzLjY0IDMgOS41IDN6bS43NSAxMi43NWgtMS41di0xLjVoMS41djEuNXptMS41NTMtNS44MTNsLS42NzYuNjljLS41NC41NDgtLjg3Ny45OTgtLjg3NyAyLjEyM2gtMS41di0uMzc1YzAtLjgyNS4zMzgtMS41NzUuODc3LTIuMTIzbC45My0uOTQ1Yy4yNzgtLjI3LjQ0My0uNjQ1LjQ0My0xLjA1NyAwLS44MjUtLjY3NS0xLjUtMS41LTEuNVM4IDcuNDI1IDggOC4yNUg2LjVhMyAzIDAgMSAxIDYgMGMwIC42Ni0uMjcgMS4yNi0uNjk3IDEuNjg4eiIgdHJhbnNmb3JtPSJ0cmFuc2xhdGUoLTIgLTMpIi8+CiAgICA8L2c+Cjwvc3ZnPgo=\"/>\\n          <a href=\"/helpcentre?otracker=undefined_footer_footer_navlinks\">\\n           <span class=\"hDTmm5\">\\n            Help Center\\n           </span>\\n          </a>\\n         </div>\\n         <span class=\"z3ht-w\">\\n          © 2007-\\n          <!-- -->\\n          2023\\n          <!-- -->\\n          <span>\\n           Flipkart.com\\n          </span>\\n         </span>\\n         <img src=\"//static-assets-web.flixcart.com/fk-p-linchpin-web/fk-cp-zion/img/payment-method_69e7ec.svg\"/>\\n        </div>\\n       </div>\\n      </div>\\n     </div>\\n    </footer>\\n    <div class=\"_1EcK2J _38JCdA\">\\n     <div class=\"bra6U8\">\\n      <svg class=\"_2TdLiZ\" height=\"27\" viewbox=\"0 0 16 27\" width=\"16\" xmlns=\"http://www.w3.org/2000/svg\">\\n       <path class=\"_3ZKfA2\" d=\"M16 23.207L6.11 13.161 16 3.093 12.955 0 0 13.161l12.955 13.161z\" fill=\"#fff\">\\n       </path>\\n      </svg>\\n      <span>\\n       Back to top\\n      </span>\\n     </div>\\n    </div>\\n   </div>\\n  </div>\\n  <script id=\"jsonLD\" nonce=\"16352817678478130808\" type=\"application/ld+json\">\\n   {}\\n  </script>\\n  <script id=\"jsonLD\" nonce=\"16352817678478130808\" type=\"application/ld+json\">\\n   {}\\n  </script>\\n  <script nonce=\"16352817678478130808\" type=\"application/ld+json\">\\n   {\\n    \"@context\": \"http://schema.org\",\\n    \"@type\": \"WebSite\",\\n    \"url\": \"http://www.flipkart.com/\",\\n    \"potentialAction\": [{\\n        \"@type\": \"SearchAction\",\\n        \"target\": \"http://www.flipkart.com/search?q={search_term_string}\",\\n        \"query-input\": \"required name=search_term_string\"\\n        },{\\n        \"@type\": \"SearchAction\",\\n        \"target\": \"android-app://com.flipkart.android/flipkart/de_sq_seg_-search.flipkart.com-_{search_term_string}\",\\n        \"query-input\": \"required name=search_term_string\"\\n    }]\\n}\\n  </script>\\n  <script id=\"is_script\" nonce=\"16352817678478130808\">\\n   window.__INITIAL_STATE__ = {};\\n  </script>\\n  <link data-chunk=\"NavMenu\" href=\"//static-assets-web.flixcart.com/fk-p-linchpin-web/fk-cp-zion/css/NavMenu.chunk.1c9f80.css\" rel=\"stylesheet\"/>\\n  <script id=\"__LOADABLE_REQUIRED_CHUNKS__\" type=\"application/json\">\\n   [119]\\n  </script>\\n  <script id=\"__LOADABLE_REQUIRED_CHUNKS___ext\" type=\"application/json\">\\n   {\"namedChunks\":[\"NavMenu\"]}\\n  </script>\\n  <script async=\"\" data-chunk=\"NavMenu\" src=\"//static-assets-web.flixcart.com/fk-p-linchpin-web/fk-cp-zion/js/NavMenu.chunk.a4ccf577.js\">\\n  </script>\\n  <script nonce=\"16352817678478130808\">\\n   window.omniture={tpv:[],tl:[]};window.omniture.trackPageView=function(){window.omniture.tpv.push(arguments)};window.omniture.trackLink=function(){window.omniture.tl.push(arguments)}\\n\\n    if(window.location.host === \\'www.flipkart.com\\' || /\\\\.store\\\\.flipkart\\\\.com/i.test(window.location.host)){\\n        window.s_account = \"flipkart-prd\"; //omniture account id\\n    }else{\\n        window.s_account = \"flipkart-prd-test\";\\n    }\\n    window.s_isDesktop = true;\\n  </script>\\n  <script nonce=\"16352817678478130808\">\\n   if (\\'serviceWorker\\' in navigator && navigator.userAgent.indexOf(\"Mobile\") === -1) {\\n\\t\\tnavigator.serviceWorker.register(\\'/sw.js\\').then(function(registration) {\\n\\t\\t\\tconsole.log(\\'ServiceWorker registration successful with scope: \\', registration.scope);\\n\\t\\t\\tnavigator.onLine && navigator.serviceWorker.controller && navigator.serviceWorker.controller.postMessage(\\'BANDWIDTH_COMPUTE\\');\\n\\t\\t\\tnavigator.serviceWorker.addEventListener(\\'message\\', function (event) {\\n\\t\\t\\t\\ttry {\\n\\t\\t\\t\\t\\tconst bandwidthData = JSON.parse(event.data);\\n\\t\\t\\t\\t\\tif (bandwidthData && bandwidthData.data) {\\n\\t\\t\\t\\t\\t\\twindow.bandwidth = bandwidthData.data.downlink + \\'_\\' + bandwidthData.data.computeMethod + \\'_\\' + bandwidthData.data.effectiveType + \\'_\\' + bandwidthData.data.type;\\n\\t\\t\\t\\t\\t}\\n\\t\\t\\t\\t}catch(err) {\\n\\t\\t\\t\\t\\tconsole.error(\\'JSON.parse failed:\\', err);\\n\\t\\t\\t\\t}\\n\\t\\t\\t});\\n\\t\\t})\\n\\t\\t.catch(function(err) {\\n\\t\\t\\tconsole.error(\\'ServiceWorker registration failed: \\', err);\\n\\t\\t});\\n\\t} else if(\\'serviceWorker\\' in navigator && navigator.userAgent.indexOf(\"Mobile\") > -1){\\n        navigator.serviceWorker.getRegistration().then(function(registration) {\\n            var serviceWorkerUnregistered=false;\\n            if(registration) {\\n                registration.unregister();\\n                serviceWorkerUnregistered=true;\\n            }\\n            serviceWorkerUnregistered && window.location.reload();\\n        });\\n    }\\n  </script>\\n  <script async=\"\" defer=\"defer\" id=\"omni_script\" nonce=\"16352817678478130808\" src=\"///www/linchpin/batman-returns/omni/omni16.js\">\\n  </script>\\n  <script nonce=\"16352817678478130808\">\\n   window._pxAppId = \\'PXgNtTli3A\\';\\n  </script>\\n  <script async=\"\" nonce=\"16352817678478130808\" src=\"///px/gNtTli3A/init.js\">\\n  </script>\\n </body>\\n</html>'"
            ],
            "application/vnd.google.colaboratory.intrinsic+json": {
              "type": "string"
            }
          },
          "metadata": {},
          "execution_count": 4
        }
      ],
      "source": [
        "soup.prettify()"
      ]
    },
    {
      "cell_type": "code",
      "execution_count": null,
      "metadata": {
        "colab": {
          "base_uri": "https://localhost:8080/"
        },
        "id": "WzAC8bkOf4YB",
        "outputId": "056ccf52-0390-4b9b-8627-6599b1ae3bb2"
      },
      "outputs": [
        {
          "output_type": "execute_result",
          "data": {
            "text/plain": [
              "[<div class=\"col _2wzgFH K0kLPL\"><div class=\"row\"><div class=\"_3LWZlK _1BLPMq\">4<img class=\"_1wB99o\" src=\"data:image/svg+xml;base64,PHN2ZyB4bWxucz0iaHR0cDovL3d3dy53My5vcmcvMjAwMC9zdmciIHdpZHRoPSIxMyIgaGVpZ2h0PSIxMiI+PHBhdGggZmlsbD0iI0ZGRiIgZD0iTTYuNSA5LjQzOWwtMy42NzQgMi4yMy45NC00LjI2LTMuMjEtMi44ODMgNC4yNTQtLjQwNEw2LjUuMTEybDEuNjkgNC4wMSA0LjI1NC40MDQtMy4yMSAyLjg4Mi45NCA0LjI2eiIvPjwvc3ZnPg==\"/></div><p class=\"_2-N8zT\">Really Nice</p></div><div class=\"row\"><div class=\"t-ZTKy\"><div><div class=\"\">I am first time using any of smart watch<br/>First of all thanks to flipkart and e kart for fast delivery<br/>I found this smart watch very much useful</div><span class=\"_1H-bmy\"><span>READ MORE</span></span></div></div></div><div class=\"row _3n8db9\"><div class=\"row\"><p class=\"_2sc7ZR _2V5EHH\">Munzir Ali Sayyed</p><svg class=\"_2a1p_T\" height=\"14\" viewbox=\"0 0 12 12\" width=\"14\" xmlns=\"http://www.w3.org/2000/svg\"><g><circle cx=\"6\" cy=\"6\" fill=\"#878787\" r=\"6\"></circle><path d=\"M3 6l2 2 4-4\" fill=\"#878787\" stroke=\"#FFF\" stroke-width=\"1.5\"></path></g></svg><p class=\"_2mcZGG\" id=\"review-290e9495-690a-4d9b-8362-e516b9d40675\"><span>Certified Buyer</span><span>, Thane</span></p><div></div><p class=\"_2sc7ZR\">Aug, 2021</p></div><div class=\"_1e9_Zu\"><div class=\"row\"><div class=\"_27aTsS\"><div class=\"_1LmwT9\"><svg class=\"skCrcq\" height=\"15\" width=\"20\" xmlns=\"http://www.w3.org/2000/svg\"><path class=\"_1LIt4y\" d=\"M9.58.006c-.41.043-.794.32-1.01.728-.277.557-2.334 4.693-2.74 5.1-.41.407-.944.6-1.544.6v8.572h7.5c.45 0 .835-.28 1.007-.665 0 0 2.207-6.234 2.207-6.834 0-.6-.47-1.072-1.07-1.072h-3.216c-.6 0-1.07-.535-1.07-1.07 0-.537.835-3.387 1.006-3.944.17-.557-.107-1.157-.664-1.35-.15-.043-.257-.086-.407-.064zM0 6.434v8.572h2.143V6.434H0z\" fill=\"#fff\" fill-rule=\"evenodd\"></path></svg><span class=\"_3c3Px5\">19</span></div><div class=\"_1LmwT9 pkR4jH\"><svg class=\"skCrcq pkR4jH\" height=\"15\" width=\"20\" xmlns=\"http://www.w3.org/2000/svg\"><path class=\"_1LIt4y\" d=\"M9.58.006c-.41.043-.794.32-1.01.728-.277.557-2.334 4.693-2.74 5.1-.41.407-.944.6-1.544.6v8.572h7.5c.45 0 .835-.28 1.007-.665 0 0 2.207-6.234 2.207-6.834 0-.6-.47-1.072-1.07-1.072h-3.216c-.6 0-1.07-.535-1.07-1.07 0-.537.835-3.387 1.006-3.944.17-.557-.107-1.157-.664-1.35-.15-.043-.257-.086-.407-.064zM0 6.434v8.572h2.143V6.434H0z\" fill=\"#fff\" fill-rule=\"evenodd\"></path></svg><span class=\"_3c3Px5\">6</span></div></div><div class=\"_2bmov8\"><svg class=\"_2UvOBb\" height=\"11\" viewbox=\"0 0 16 27\" width=\"6\" xmlns=\"http://www.w3.org/2000/svg\"><path class=\"_2aPE6f\" d=\"M16 23.207L6.11 13.161 16 3.093 12.955 0 0 13.161l12.955 13.161z\" fill=\"#fff\"></path></svg><div class=\"_3E8aIl _38dCuf\"><div class=\"_3XCI6U\"><a href=\"/reviews/SMWG4GF2H9V3MJ8Y:139?reviewId=290e9495-690a-4d9b-8362-e516b9d40675\"><span>Permalink</span></a></div><div class=\"_3XCI6U _2b2z-j\"><span>Report Abuse</span></div></div></div></div></div></div></div>,\n",
              " <div class=\"col _2wzgFH K0kLPL\"><div class=\"row\"><div class=\"_3LWZlK _1BLPMq\">4<img class=\"_1wB99o\" src=\"data:image/svg+xml;base64,PHN2ZyB4bWxucz0iaHR0cDovL3d3dy53My5vcmcvMjAwMC9zdmciIHdpZHRoPSIxMyIgaGVpZ2h0PSIxMiI+PHBhdGggZmlsbD0iI0ZGRiIgZD0iTTYuNSA5LjQzOWwtMy42NzQgMi4yMy45NC00LjI2LTMuMjEtMi44ODMgNC4yNTQtLjQwNEw2LjUuMTEybDEuNjkgNC4wMSA0LjI1NC40MDQtMy4yMSAyLjg4Mi45NCA0LjI2eiIvPjwvc3ZnPg==\"/></div><p class=\"_2-N8zT\">Good quality product</p></div><div class=\"row\"><div class=\"t-ZTKy\"><div><div class=\"\">Worth the price, <br/>Good points<br/>1. Quality of product (metal frame and strap feels good)<br/>2. Display (touch and auto wake with hand raise)<br/>3. Basic features (insted of buying oximeter buy this)<br/>4. Notification<br/><br/>Cons:<br/>1. Can't receive, diconnect or silent the call from watch<br/>2. Can't dial call from phone, no phonebook<br/><br/>Received it today so may be later update complete review, but it's worth the price with splash proof feature.</div><span class=\"_1H-bmy\"><span>READ MORE</span></span></div></div></div><div class=\"row _3n8db9\"><div class=\"row\"><p class=\"_2sc7ZR _2V5EHH\">gaurav sharma</p><svg class=\"_2a1p_T\" height=\"14\" viewbox=\"0 0 12 12\" width=\"14\" xmlns=\"http://www.w3.org/2000/svg\"><g><circle cx=\"6\" cy=\"6\" fill=\"#878787\" r=\"6\"></circle><path d=\"M3 6l2 2 4-4\" fill=\"#878787\" stroke=\"#FFF\" stroke-width=\"1.5\"></path></g></svg><p class=\"_2mcZGG\" id=\"review-735e5c30-06ea-4f6f-a50c-839d21152614\"><span>Certified Buyer</span><span>, Ambala</span></p><div></div><p class=\"_2sc7ZR\">Aug, 2021</p></div><div class=\"_1e9_Zu\"><div class=\"row\"><div class=\"_27aTsS\"><div class=\"_1LmwT9\"><svg class=\"skCrcq\" height=\"15\" width=\"20\" xmlns=\"http://www.w3.org/2000/svg\"><path class=\"_1LIt4y\" d=\"M9.58.006c-.41.043-.794.32-1.01.728-.277.557-2.334 4.693-2.74 5.1-.41.407-.944.6-1.544.6v8.572h7.5c.45 0 .835-.28 1.007-.665 0 0 2.207-6.234 2.207-6.834 0-.6-.47-1.072-1.07-1.072h-3.216c-.6 0-1.07-.535-1.07-1.07 0-.537.835-3.387 1.006-3.944.17-.557-.107-1.157-.664-1.35-.15-.043-.257-.086-.407-.064zM0 6.434v8.572h2.143V6.434H0z\" fill=\"#fff\" fill-rule=\"evenodd\"></path></svg><span class=\"_3c3Px5\">10</span></div><div class=\"_1LmwT9 pkR4jH\"><svg class=\"skCrcq pkR4jH\" height=\"15\" width=\"20\" xmlns=\"http://www.w3.org/2000/svg\"><path class=\"_1LIt4y\" d=\"M9.58.006c-.41.043-.794.32-1.01.728-.277.557-2.334 4.693-2.74 5.1-.41.407-.944.6-1.544.6v8.572h7.5c.45 0 .835-.28 1.007-.665 0 0 2.207-6.234 2.207-6.834 0-.6-.47-1.072-1.07-1.072h-3.216c-.6 0-1.07-.535-1.07-1.07 0-.537.835-3.387 1.006-3.944.17-.557-.107-1.157-.664-1.35-.15-.043-.257-.086-.407-.064zM0 6.434v8.572h2.143V6.434H0z\" fill=\"#fff\" fill-rule=\"evenodd\"></path></svg><span class=\"_3c3Px5\">4</span></div></div><div class=\"_2bmov8\"><svg class=\"_2UvOBb\" height=\"11\" viewbox=\"0 0 16 27\" width=\"6\" xmlns=\"http://www.w3.org/2000/svg\"><path class=\"_2aPE6f\" d=\"M16 23.207L6.11 13.161 16 3.093 12.955 0 0 13.161l12.955 13.161z\" fill=\"#fff\"></path></svg><div class=\"_3E8aIl _38dCuf\"><div class=\"_3XCI6U\"><a href=\"/reviews/SMWG4GF33JFGSVNE:16?reviewId=735e5c30-06ea-4f6f-a50c-839d21152614\"><span>Permalink</span></a></div><div class=\"_3XCI6U _2b2z-j\"><span>Report Abuse</span></div></div></div></div></div></div></div>,\n",
              " <div class=\"col _2wzgFH K0kLPL\"><div class=\"row\"><div class=\"_3LWZlK _1BLPMq\">4<img class=\"_1wB99o\" src=\"data:image/svg+xml;base64,PHN2ZyB4bWxucz0iaHR0cDovL3d3dy53My5vcmcvMjAwMC9zdmciIHdpZHRoPSIxMyIgaGVpZ2h0PSIxMiI+PHBhdGggZmlsbD0iI0ZGRiIgZD0iTTYuNSA5LjQzOWwtMy42NzQgMi4yMy45NC00LjI2LTMuMjEtMi44ODMgNC4yNTQtLjQwNEw2LjUuMTEybDEuNjkgNC4wMSA0LjI1NC40MDQtMy4yMSAyLjg4Mi45NCA0LjI2eiIvPjwvc3ZnPg==\"/></div><p class=\"_2-N8zT\">Really Nice</p></div><div class=\"row\"><div class=\"t-ZTKy\"><div><div class=\"\">Design is perfect make your app more featured, there is no specific mode for workout, no basic controls like declining calls and silent phone when phone is ringing, no music control, make your message tray scroll able. Rest value for money and good build quality</div><span class=\"_1H-bmy\"><span>READ MORE</span></span></div></div></div><div class=\"row _3n8db9\"><div class=\"row\"><p class=\"_2sc7ZR _2V5EHH\">Ajay Mistry</p><svg class=\"_2a1p_T\" height=\"14\" viewbox=\"0 0 12 12\" width=\"14\" xmlns=\"http://www.w3.org/2000/svg\"><g><circle cx=\"6\" cy=\"6\" fill=\"#878787\" r=\"6\"></circle><path d=\"M3 6l2 2 4-4\" fill=\"#878787\" stroke=\"#FFF\" stroke-width=\"1.5\"></path></g></svg><p class=\"_2mcZGG\" id=\"review-1d4b1b8c-7b1f-42f6-916e-1e71b32efc6c\"><span>Certified Buyer</span><span>, Vadodara</span></p><div></div><p class=\"_2sc7ZR\">Aug, 2021</p></div><div class=\"_1e9_Zu\"><div class=\"row\"><div class=\"_27aTsS\"><div class=\"_1LmwT9\"><svg class=\"skCrcq\" height=\"15\" width=\"20\" xmlns=\"http://www.w3.org/2000/svg\"><path class=\"_1LIt4y\" d=\"M9.58.006c-.41.043-.794.32-1.01.728-.277.557-2.334 4.693-2.74 5.1-.41.407-.944.6-1.544.6v8.572h7.5c.45 0 .835-.28 1.007-.665 0 0 2.207-6.234 2.207-6.834 0-.6-.47-1.072-1.07-1.072h-3.216c-.6 0-1.07-.535-1.07-1.07 0-.537.835-3.387 1.006-3.944.17-.557-.107-1.157-.664-1.35-.15-.043-.257-.086-.407-.064zM0 6.434v8.572h2.143V6.434H0z\" fill=\"#fff\" fill-rule=\"evenodd\"></path></svg><span class=\"_3c3Px5\">7</span></div><div class=\"_1LmwT9 pkR4jH\"><svg class=\"skCrcq pkR4jH\" height=\"15\" width=\"20\" xmlns=\"http://www.w3.org/2000/svg\"><path class=\"_1LIt4y\" d=\"M9.58.006c-.41.043-.794.32-1.01.728-.277.557-2.334 4.693-2.74 5.1-.41.407-.944.6-1.544.6v8.572h7.5c.45 0 .835-.28 1.007-.665 0 0 2.207-6.234 2.207-6.834 0-.6-.47-1.072-1.07-1.072h-3.216c-.6 0-1.07-.535-1.07-1.07 0-.537.835-3.387 1.006-3.944.17-.557-.107-1.157-.664-1.35-.15-.043-.257-.086-.407-.064zM0 6.434v8.572h2.143V6.434H0z\" fill=\"#fff\" fill-rule=\"evenodd\"></path></svg><span class=\"_3c3Px5\">2</span></div></div><div class=\"_2bmov8\"><svg class=\"_2UvOBb\" height=\"11\" viewbox=\"0 0 16 27\" width=\"6\" xmlns=\"http://www.w3.org/2000/svg\"><path class=\"_2aPE6f\" d=\"M16 23.207L6.11 13.161 16 3.093 12.955 0 0 13.161l12.955 13.161z\" fill=\"#fff\"></path></svg><div class=\"_3E8aIl _38dCuf\"><div class=\"_3XCI6U\"><a href=\"/reviews/SMWG4GF2ZMFHJUBF:285?reviewId=1d4b1b8c-7b1f-42f6-916e-1e71b32efc6c\"><span>Permalink</span></a></div><div class=\"_3XCI6U _2b2z-j\"><span>Report Abuse</span></div></div></div></div></div></div></div>,\n",
              " <div class=\"col _2wzgFH K0kLPL\"><div class=\"row\"><div class=\"_3LWZlK _1BLPMq\">5<img class=\"_1wB99o\" src=\"data:image/svg+xml;base64,PHN2ZyB4bWxucz0iaHR0cDovL3d3dy53My5vcmcvMjAwMC9zdmciIHdpZHRoPSIxMyIgaGVpZ2h0PSIxMiI+PHBhdGggZmlsbD0iI0ZGRiIgZD0iTTYuNSA5LjQzOWwtMy42NzQgMi4yMy45NC00LjI2LTMuMjEtMi44ODMgNC4yNTQtLjQwNEw2LjUuMTEybDEuNjkgNC4wMSA0LjI1NC40MDQtMy4yMSAyLjg4Mi45NCA0LjI2eiIvPjwvc3ZnPg==\"/></div><p class=\"_2-N8zT\">Simply awesome</p></div><div class=\"row\"><div class=\"t-ZTKy\"><div><div class=\"\">Nyc <br/>Its a great watch with super amazing display,spo2 function, heart rate tracker. No  other brand has all these at such an affordable price.<br/>This watch has been loaded with amazing features and I am very much satisfied by using it. In short, it is a very great product packed with gud features.</div><span class=\"_1H-bmy\"><span>READ MORE</span></span></div></div></div><div class=\"row _3n8db9\"><div class=\"row\"><p class=\"_2sc7ZR _2V5EHH\">Taher Udaipurwala</p><svg class=\"_2a1p_T\" height=\"14\" viewbox=\"0 0 12 12\" width=\"14\" xmlns=\"http://www.w3.org/2000/svg\"><g><circle cx=\"6\" cy=\"6\" fill=\"#878787\" r=\"6\"></circle><path d=\"M3 6l2 2 4-4\" fill=\"#878787\" stroke=\"#FFF\" stroke-width=\"1.5\"></path></g></svg><p class=\"_2mcZGG\" id=\"review-73b3d876-7984-4afa-a1e8-962245d6e766\"><span>Certified Buyer</span><span>, Mumbai</span></p><div></div><p class=\"_2sc7ZR\">Aug, 2021</p></div><div class=\"_1e9_Zu\"><div class=\"row\"><div class=\"_27aTsS\"><div class=\"_1LmwT9\"><svg class=\"skCrcq\" height=\"15\" width=\"20\" xmlns=\"http://www.w3.org/2000/svg\"><path class=\"_1LIt4y\" d=\"M9.58.006c-.41.043-.794.32-1.01.728-.277.557-2.334 4.693-2.74 5.1-.41.407-.944.6-1.544.6v8.572h7.5c.45 0 .835-.28 1.007-.665 0 0 2.207-6.234 2.207-6.834 0-.6-.47-1.072-1.07-1.072h-3.216c-.6 0-1.07-.535-1.07-1.07 0-.537.835-3.387 1.006-3.944.17-.557-.107-1.157-.664-1.35-.15-.043-.257-.086-.407-.064zM0 6.434v8.572h2.143V6.434H0z\" fill=\"#fff\" fill-rule=\"evenodd\"></path></svg><span class=\"_3c3Px5\">7</span></div><div class=\"_1LmwT9 pkR4jH\"><svg class=\"skCrcq pkR4jH\" height=\"15\" width=\"20\" xmlns=\"http://www.w3.org/2000/svg\"><path class=\"_1LIt4y\" d=\"M9.58.006c-.41.043-.794.32-1.01.728-.277.557-2.334 4.693-2.74 5.1-.41.407-.944.6-1.544.6v8.572h7.5c.45 0 .835-.28 1.007-.665 0 0 2.207-6.234 2.207-6.834 0-.6-.47-1.072-1.07-1.072h-3.216c-.6 0-1.07-.535-1.07-1.07 0-.537.835-3.387 1.006-3.944.17-.557-.107-1.157-.664-1.35-.15-.043-.257-.086-.407-.064zM0 6.434v8.572h2.143V6.434H0z\" fill=\"#fff\" fill-rule=\"evenodd\"></path></svg><span class=\"_3c3Px5\">2</span></div></div><div class=\"_2bmov8\"><svg class=\"_2UvOBb\" height=\"11\" viewbox=\"0 0 16 27\" width=\"6\" xmlns=\"http://www.w3.org/2000/svg\"><path class=\"_2aPE6f\" d=\"M16 23.207L6.11 13.161 16 3.093 12.955 0 0 13.161l12.955 13.161z\" fill=\"#fff\"></path></svg><div class=\"_3E8aIl _38dCuf\"><div class=\"_3XCI6U\"><a href=\"/reviews/SMWG4GF2H9V3MJ8Y:64?reviewId=73b3d876-7984-4afa-a1e8-962245d6e766\"><span>Permalink</span></a></div><div class=\"_3XCI6U _2b2z-j\"><span>Report Abuse</span></div></div></div></div></div></div></div>,\n",
              " <div class=\"col _2wzgFH K0kLPL\"><div class=\"row\"><div class=\"_3LWZlK _1BLPMq\">5<img class=\"_1wB99o\" src=\"data:image/svg+xml;base64,PHN2ZyB4bWxucz0iaHR0cDovL3d3dy53My5vcmcvMjAwMC9zdmciIHdpZHRoPSIxMyIgaGVpZ2h0PSIxMiI+PHBhdGggZmlsbD0iI0ZGRiIgZD0iTTYuNSA5LjQzOWwtMy42NzQgMi4yMy45NC00LjI2LTMuMjEtMi44ODMgNC4yNTQtLjQwNEw2LjUuMTEybDEuNjkgNC4wMSA0LjI1NC40MDQtMy4yMSAyLjg4Mi45NCA0LjI2eiIvPjwvc3ZnPg==\"/></div><p class=\"_2-N8zT\">Classy product</p></div><div class=\"row\"><div class=\"t-ZTKy\"><div><div class=\"\">Its black neutral colour looks absolutely stunning. It is budget-friendly, easy to handle and can monitor all activities like heart rate, oxygen levels, sleep patterns, calories burnt, etc. It has a long battery life and large display which is clear and easy to read.</div><span class=\"_1H-bmy\"><span>READ MORE</span></span></div></div></div><div class=\"row _3n8db9\"><div class=\"row\"><p class=\"_2sc7ZR _2V5EHH\">Ishita Bhatnagar</p><svg class=\"_2a1p_T\" height=\"14\" viewbox=\"0 0 12 12\" width=\"14\" xmlns=\"http://www.w3.org/2000/svg\"><g><circle cx=\"6\" cy=\"6\" fill=\"#878787\" r=\"6\"></circle><path d=\"M3 6l2 2 4-4\" fill=\"#878787\" stroke=\"#FFF\" stroke-width=\"1.5\"></path></g></svg><p class=\"_2mcZGG\" id=\"review-d1e5937a-e9f5-4811-a964-91a33097418f\"><span>Certified Buyer</span><span>, Ghaziabad</span></p><div></div><p class=\"_2sc7ZR\">Aug, 2021</p></div><div class=\"_1e9_Zu\"><div class=\"row\"><div class=\"_27aTsS\"><div class=\"_1LmwT9\"><svg class=\"skCrcq\" height=\"15\" width=\"20\" xmlns=\"http://www.w3.org/2000/svg\"><path class=\"_1LIt4y\" d=\"M9.58.006c-.41.043-.794.32-1.01.728-.277.557-2.334 4.693-2.74 5.1-.41.407-.944.6-1.544.6v8.572h7.5c.45 0 .835-.28 1.007-.665 0 0 2.207-6.234 2.207-6.834 0-.6-.47-1.072-1.07-1.072h-3.216c-.6 0-1.07-.535-1.07-1.07 0-.537.835-3.387 1.006-3.944.17-.557-.107-1.157-.664-1.35-.15-.043-.257-.086-.407-.064zM0 6.434v8.572h2.143V6.434H0z\" fill=\"#fff\" fill-rule=\"evenodd\"></path></svg><span class=\"_3c3Px5\">5</span></div><div class=\"_1LmwT9 pkR4jH\"><svg class=\"skCrcq pkR4jH\" height=\"15\" width=\"20\" xmlns=\"http://www.w3.org/2000/svg\"><path class=\"_1LIt4y\" d=\"M9.58.006c-.41.043-.794.32-1.01.728-.277.557-2.334 4.693-2.74 5.1-.41.407-.944.6-1.544.6v8.572h7.5c.45 0 .835-.28 1.007-.665 0 0 2.207-6.234 2.207-6.834 0-.6-.47-1.072-1.07-1.072h-3.216c-.6 0-1.07-.535-1.07-1.07 0-.537.835-3.387 1.006-3.944.17-.557-.107-1.157-.664-1.35-.15-.043-.257-.086-.407-.064zM0 6.434v8.572h2.143V6.434H0z\" fill=\"#fff\" fill-rule=\"evenodd\"></path></svg><span class=\"_3c3Px5\">2</span></div></div><div class=\"_2bmov8\"><svg class=\"_2UvOBb\" height=\"11\" viewbox=\"0 0 16 27\" width=\"6\" xmlns=\"http://www.w3.org/2000/svg\"><path class=\"_2aPE6f\" d=\"M16 23.207L6.11 13.161 16 3.093 12.955 0 0 13.161l12.955 13.161z\" fill=\"#fff\"></path></svg><div class=\"_3E8aIl _38dCuf\"><div class=\"_3XCI6U\"><a href=\"/reviews/SMWG4GF2H9V3MJ8Y:612?reviewId=d1e5937a-e9f5-4811-a964-91a33097418f\"><span>Permalink</span></a></div><div class=\"_3XCI6U _2b2z-j\"><span>Report Abuse</span></div></div></div></div></div></div></div>,\n",
              " <div class=\"col _2wzgFH K0kLPL\"><div class=\"row\"><div class=\"_3LWZlK _1BLPMq\">5<img class=\"_1wB99o\" src=\"data:image/svg+xml;base64,PHN2ZyB4bWxucz0iaHR0cDovL3d3dy53My5vcmcvMjAwMC9zdmciIHdpZHRoPSIxMyIgaGVpZ2h0PSIxMiI+PHBhdGggZmlsbD0iI0ZGRiIgZD0iTTYuNSA5LjQzOWwtMy42NzQgMi4yMy45NC00LjI2LTMuMjEtMi44ODMgNC4yNTQtLjQwNEw2LjUuMTEybDEuNjkgNC4wMSA0LjI1NC40MDQtMy4yMSAyLjg4Mi45NCA0LjI2eiIvPjwvc3ZnPg==\"/></div><p class=\"_2-N8zT\">Fabulous!</p></div><div class=\"row\"><div class=\"t-ZTKy\"><div><div class=\"\">Nice product but battery is not good.... Overall looking is too good. Charging cable is good.... But super fast change 🤩 but main problem is battery is not good</div><span class=\"_1H-bmy\"><span>READ MORE</span></span></div></div></div><div class=\"_2nMSwX _3oLIki\"><div class=\"_21YjFX _2A07HP\" style=\"background-image:url(https://rukminim1.flixcart.com/blobio/124/124/imr-202110/blobio-imr-202110_00f8ef95b8f54490874080fc99603f8c.jpeg?q=90), url(data:image/svg+xml;base64,PHN2ZyB3aWR0aD0iMjIiIGhlaWdodD0iMTgiIHhtbG5zPSJodHRwOi8vd3d3LnczLm9yZy8yMDAwL3N2ZyI+PGcgZmlsbD0iIzlEOUQ5RCIgZmlsbC1ydWxlPSJub256ZXJvIj48cGF0aCBkPSJNMjAgMEgyQzEgMCAwIDEgMCAydjE0YzAgMS4xLjkgMiAyIDJoMThjMSAwIDItMSAyLTJWMmMwLTEtMS0yLTItMnptMCAxNS45MmMtLjAyLjAzLS4wNi4wNi0uMDguMDhIMlYyLjA4TDIuMDggMmgxNy44M2MuMDMuMDIuMDYuMDYuMDguMDh2MTMuODRIMjB6Ii8+PHBhdGggZD0iTTEwIDEyLjUxTDcuNSA5LjUgNCAxNGgxNGwtNC41LTZ6Ii8+PC9nPjwvc3ZnPg==);width:62px;height:62px\"></div><div class=\"_21YjFX _2A07HP\" style=\"background-image:url(https://rukminim1.flixcart.com/blobio/124/124/imr-202110/blobio-imr-202110_a84051771db74357a035b3b05e4ed4c9.jpeg?q=90), url(data:image/svg+xml;base64,PHN2ZyB3aWR0aD0iMjIiIGhlaWdodD0iMTgiIHhtbG5zPSJodHRwOi8vd3d3LnczLm9yZy8yMDAwL3N2ZyI+PGcgZmlsbD0iIzlEOUQ5RCIgZmlsbC1ydWxlPSJub256ZXJvIj48cGF0aCBkPSJNMjAgMEgyQzEgMCAwIDEgMCAydjE0YzAgMS4xLjkgMiAyIDJoMThjMSAwIDItMSAyLTJWMmMwLTEtMS0yLTItMnptMCAxNS45MmMtLjAyLjAzLS4wNi4wNi0uMDguMDhIMlYyLjA4TDIuMDggMmgxNy44M2MuMDMuMDIuMDYuMDYuMDguMDh2MTMuODRIMjB6Ii8+PHBhdGggZD0iTTEwIDEyLjUxTDcuNSA5LjUgNCAxNGgxNGwtNC41LTZ6Ii8+PC9nPjwvc3ZnPg==);width:62px;height:62px\"></div><div class=\"_21YjFX _2A07HP\" style=\"background-image:url(https://rukminim1.flixcart.com/blobio/124/124/imr-202110/blobio-imr-202110_01184b8d23894b50af0880dbecf0276d.jpeg?q=90), url(data:image/svg+xml;base64,PHN2ZyB3aWR0aD0iMjIiIGhlaWdodD0iMTgiIHhtbG5zPSJodHRwOi8vd3d3LnczLm9yZy8yMDAwL3N2ZyI+PGcgZmlsbD0iIzlEOUQ5RCIgZmlsbC1ydWxlPSJub256ZXJvIj48cGF0aCBkPSJNMjAgMEgyQzEgMCAwIDEgMCAydjE0YzAgMS4xLjkgMiAyIDJoMThjMSAwIDItMSAyLTJWMmMwLTEtMS0yLTItMnptMCAxNS45MmMtLjAyLjAzLS4wNi4wNi0uMDguMDhIMlYyLjA4TDIuMDggMmgxNy44M2MuMDMuMDIuMDYuMDYuMDguMDh2MTMuODRIMjB6Ii8+PHBhdGggZD0iTTEwIDEyLjUxTDcuNSA5LjUgNCAxNGgxNGwtNC41LTZ6Ii8+PC9nPjwvc3ZnPg==);width:62px;height:62px\"></div><div class=\"_21YjFX _2A07HP\" style=\"background-image:url(https://rukminim1.flixcart.com/blobio/124/124/imr-202110/blobio-imr-202110_7582573e4b5a4490896769c69da3edfd.jpeg?q=90), url(data:image/svg+xml;base64,PHN2ZyB3aWR0aD0iMjIiIGhlaWdodD0iMTgiIHhtbG5zPSJodHRwOi8vd3d3LnczLm9yZy8yMDAwL3N2ZyI+PGcgZmlsbD0iIzlEOUQ5RCIgZmlsbC1ydWxlPSJub256ZXJvIj48cGF0aCBkPSJNMjAgMEgyQzEgMCAwIDEgMCAydjE0YzAgMS4xLjkgMiAyIDJoMThjMSAwIDItMSAyLTJWMmMwLTEtMS0yLTItMnptMCAxNS45MmMtLjAyLjAzLS4wNi4wNi0uMDguMDhIMlYyLjA4TDIuMDggMmgxNy44M2MuMDMuMDIuMDYuMDYuMDguMDh2MTMuODRIMjB6Ii8+PHBhdGggZD0iTTEwIDEyLjUxTDcuNSA5LjUgNCAxNGgxNGwtNC41LTZ6Ii8+PC9nPjwvc3ZnPg==);width:62px;height:62px\"></div><div class=\"_21YjFX _2A07HP\" style=\"background-image:url(https://rukminim1.flixcart.com/blobio/124/124/imr-202110/blobio-imr-202110_28163663809b41d6a93bdfbe8067cdfe.jpeg?q=90), url(data:image/svg+xml;base64,PHN2ZyB3aWR0aD0iMjIiIGhlaWdodD0iMTgiIHhtbG5zPSJodHRwOi8vd3d3LnczLm9yZy8yMDAwL3N2ZyI+PGcgZmlsbD0iIzlEOUQ5RCIgZmlsbC1ydWxlPSJub256ZXJvIj48cGF0aCBkPSJNMjAgMEgyQzEgMCAwIDEgMCAydjE0YzAgMS4xLjkgMiAyIDJoMThjMSAwIDItMSAyLTJWMmMwLTEtMS0yLTItMnptMCAxNS45MmMtLjAyLjAzLS4wNi4wNi0uMDguMDhIMlYyLjA4TDIuMDggMmgxNy44M2MuMDMuMDIuMDYuMDYuMDguMDh2MTMuODRIMjB6Ii8+PHBhdGggZD0iTTEwIDEyLjUxTDcuNSA5LjUgNCAxNGgxNGwtNC41LTZ6Ii8+PC9nPjwvc3ZnPg==);width:62px;height:62px\"></div></div><div class=\"row _3n8db9\"><div class=\"row\"><p class=\"_2sc7ZR _2V5EHH\">Rajashree  Sinha</p><svg class=\"_2a1p_T\" height=\"14\" viewbox=\"0 0 12 12\" width=\"14\" xmlns=\"http://www.w3.org/2000/svg\"><g><circle cx=\"6\" cy=\"6\" fill=\"#878787\" r=\"6\"></circle><path d=\"M3 6l2 2 4-4\" fill=\"#878787\" stroke=\"#FFF\" stroke-width=\"1.5\"></path></g></svg><p class=\"_2mcZGG\" id=\"review-93925658-c8cc-40b1-998c-aee060a6e948\"><span>Certified Buyer</span><span>, Cuttack</span></p><div></div><p class=\"_2sc7ZR\">Oct, 2021</p></div><div class=\"_1e9_Zu\"><div class=\"row\"><div class=\"_27aTsS\"><div class=\"_1LmwT9\"><svg class=\"skCrcq\" height=\"15\" width=\"20\" xmlns=\"http://www.w3.org/2000/svg\"><path class=\"_1LIt4y\" d=\"M9.58.006c-.41.043-.794.32-1.01.728-.277.557-2.334 4.693-2.74 5.1-.41.407-.944.6-1.544.6v8.572h7.5c.45 0 .835-.28 1.007-.665 0 0 2.207-6.234 2.207-6.834 0-.6-.47-1.072-1.07-1.072h-3.216c-.6 0-1.07-.535-1.07-1.07 0-.537.835-3.387 1.006-3.944.17-.557-.107-1.157-.664-1.35-.15-.043-.257-.086-.407-.064zM0 6.434v8.572h2.143V6.434H0z\" fill=\"#fff\" fill-rule=\"evenodd\"></path></svg><span class=\"_3c3Px5\">13</span></div><div class=\"_1LmwT9 pkR4jH\"><svg class=\"skCrcq pkR4jH\" height=\"15\" width=\"20\" xmlns=\"http://www.w3.org/2000/svg\"><path class=\"_1LIt4y\" d=\"M9.58.006c-.41.043-.794.32-1.01.728-.277.557-2.334 4.693-2.74 5.1-.41.407-.944.6-1.544.6v8.572h7.5c.45 0 .835-.28 1.007-.665 0 0 2.207-6.234 2.207-6.834 0-.6-.47-1.072-1.07-1.072h-3.216c-.6 0-1.07-.535-1.07-1.07 0-.537.835-3.387 1.006-3.944.17-.557-.107-1.157-.664-1.35-.15-.043-.257-.086-.407-.064zM0 6.434v8.572h2.143V6.434H0z\" fill=\"#fff\" fill-rule=\"evenodd\"></path></svg><span class=\"_3c3Px5\">8</span></div></div><div class=\"_2bmov8\"><svg class=\"_2UvOBb\" height=\"11\" viewbox=\"0 0 16 27\" width=\"6\" xmlns=\"http://www.w3.org/2000/svg\"><path class=\"_2aPE6f\" d=\"M16 23.207L6.11 13.161 16 3.093 12.955 0 0 13.161l12.955 13.161z\" fill=\"#fff\"></path></svg><div class=\"_3E8aIl _38dCuf\"><div class=\"_3XCI6U\"><a href=\"/reviews/SMWG4GF2H9V3MJ8Y:3408?reviewId=93925658-c8cc-40b1-998c-aee060a6e948\"><span>Permalink</span></a></div><div class=\"_3XCI6U _2b2z-j\"><span>Report Abuse</span></div></div></div></div></div></div></div>,\n",
              " <div class=\"col _2wzgFH K0kLPL\"><div class=\"row\"><div class=\"_3LWZlK _1BLPMq\">5<img class=\"_1wB99o\" src=\"data:image/svg+xml;base64,PHN2ZyB4bWxucz0iaHR0cDovL3d3dy53My5vcmcvMjAwMC9zdmciIHdpZHRoPSIxMyIgaGVpZ2h0PSIxMiI+PHBhdGggZmlsbD0iI0ZGRiIgZD0iTTYuNSA5LjQzOWwtMy42NzQgMi4yMy45NC00LjI2LTMuMjEtMi44ODMgNC4yNTQtLjQwNEw2LjUuMTEybDEuNjkgNC4wMSA0LjI1NC40MDQtMy4yMSAyLjg4Mi45NCA0LjI2eiIvPjwvc3ZnPg==\"/></div><p class=\"_2-N8zT\">Excellent</p></div><div class=\"row\"><div class=\"t-ZTKy\"><div><div class=\"\">Good looking watch, touchscreen works well, lots of features and easy to handle. Battery backup is perfect and requires less charging time. You can surely go for it</div><span class=\"_1H-bmy\"><span>READ MORE</span></span></div></div></div><div class=\"row _3n8db9\"><div class=\"row\"><p class=\"_2sc7ZR _2V5EHH\">Anoop Jaglan</p><svg class=\"_2a1p_T\" height=\"14\" viewbox=\"0 0 12 12\" width=\"14\" xmlns=\"http://www.w3.org/2000/svg\"><g><circle cx=\"6\" cy=\"6\" fill=\"#878787\" r=\"6\"></circle><path d=\"M3 6l2 2 4-4\" fill=\"#878787\" stroke=\"#FFF\" stroke-width=\"1.5\"></path></g></svg><p class=\"_2mcZGG\" id=\"review-f93844b9-5f52-4574-8843-6104e2a7acdf\"><span>Certified Buyer</span><span>, Panipat</span></p><div></div><p class=\"_2sc7ZR\">Aug, 2021</p></div><div class=\"_1e9_Zu\"><div class=\"row\"><div class=\"_27aTsS\"><div class=\"_1LmwT9\"><svg class=\"skCrcq\" height=\"15\" width=\"20\" xmlns=\"http://www.w3.org/2000/svg\"><path class=\"_1LIt4y\" d=\"M9.58.006c-.41.043-.794.32-1.01.728-.277.557-2.334 4.693-2.74 5.1-.41.407-.944.6-1.544.6v8.572h7.5c.45 0 .835-.28 1.007-.665 0 0 2.207-6.234 2.207-6.834 0-.6-.47-1.072-1.07-1.072h-3.216c-.6 0-1.07-.535-1.07-1.07 0-.537.835-3.387 1.006-3.944.17-.557-.107-1.157-.664-1.35-.15-.043-.257-.086-.407-.064zM0 6.434v8.572h2.143V6.434H0z\" fill=\"#fff\" fill-rule=\"evenodd\"></path></svg><span class=\"_3c3Px5\">6</span></div><div class=\"_1LmwT9 pkR4jH\"><svg class=\"skCrcq pkR4jH\" height=\"15\" width=\"20\" xmlns=\"http://www.w3.org/2000/svg\"><path class=\"_1LIt4y\" d=\"M9.58.006c-.41.043-.794.32-1.01.728-.277.557-2.334 4.693-2.74 5.1-.41.407-.944.6-1.544.6v8.572h7.5c.45 0 .835-.28 1.007-.665 0 0 2.207-6.234 2.207-6.834 0-.6-.47-1.072-1.07-1.072h-3.216c-.6 0-1.07-.535-1.07-1.07 0-.537.835-3.387 1.006-3.944.17-.557-.107-1.157-.664-1.35-.15-.043-.257-.086-.407-.064zM0 6.434v8.572h2.143V6.434H0z\" fill=\"#fff\" fill-rule=\"evenodd\"></path></svg><span class=\"_3c3Px5\">3</span></div></div><div class=\"_2bmov8\"><svg class=\"_2UvOBb\" height=\"11\" viewbox=\"0 0 16 27\" width=\"6\" xmlns=\"http://www.w3.org/2000/svg\"><path class=\"_2aPE6f\" d=\"M16 23.207L6.11 13.161 16 3.093 12.955 0 0 13.161l12.955 13.161z\" fill=\"#fff\"></path></svg><div class=\"_3E8aIl _38dCuf\"><div class=\"_3XCI6U\"><a href=\"/reviews/SMWG4GF2H9V3MJ8Y:914?reviewId=f93844b9-5f52-4574-8843-6104e2a7acdf\"><span>Permalink</span></a></div><div class=\"_3XCI6U _2b2z-j\"><span>Report Abuse</span></div></div></div></div></div></div></div>,\n",
              " <div class=\"col _2wzgFH K0kLPL\"><div class=\"row\"><div class=\"_3LWZlK _1BLPMq\">5<img class=\"_1wB99o\" src=\"data:image/svg+xml;base64,PHN2ZyB4bWxucz0iaHR0cDovL3d3dy53My5vcmcvMjAwMC9zdmciIHdpZHRoPSIxMyIgaGVpZ2h0PSIxMiI+PHBhdGggZmlsbD0iI0ZGRiIgZD0iTTYuNSA5LjQzOWwtMy42NzQgMi4yMy45NC00LjI2LTMuMjEtMi44ODMgNC4yNTQtLjQwNEw2LjUuMTEybDEuNjkgNC4wMSA0LjI1NC40MDQtMy4yMSAyLjg4Mi45NCA0LjI2eiIvPjwvc3ZnPg==\"/></div><p class=\"_2-N8zT\">Worth every penny</p></div><div class=\"row\"><div class=\"t-ZTKy\"><div><div class=\"\">I bought it on sept5 2021....i giving review after 8 months....watch is jst awesome in reasonable price...battery last upto 5 days.... activity tracker is good...touch is also gud....the material is hard which is also very gud as my watch slipped so many times bt it still doesn't broke....till now it's working perfectly fine....u can go for it...</div><span class=\"_1H-bmy\"><span>READ MORE</span></span></div></div></div><div class=\"_2nMSwX _3oLIki\"><div class=\"_21YjFX _2A07HP\" style=\"background-image:url(https://rukminim1.flixcart.com/blobio/124/124/imr-202205/blobio-imr-202205_a2397d21ac2d43c49ea76a85e5e0718d.jpg?q=90), url(data:image/svg+xml;base64,PHN2ZyB3aWR0aD0iMjIiIGhlaWdodD0iMTgiIHhtbG5zPSJodHRwOi8vd3d3LnczLm9yZy8yMDAwL3N2ZyI+PGcgZmlsbD0iIzlEOUQ5RCIgZmlsbC1ydWxlPSJub256ZXJvIj48cGF0aCBkPSJNMjAgMEgyQzEgMCAwIDEgMCAydjE0YzAgMS4xLjkgMiAyIDJoMThjMSAwIDItMSAyLTJWMmMwLTEtMS0yLTItMnptMCAxNS45MmMtLjAyLjAzLS4wNi4wNi0uMDguMDhIMlYyLjA4TDIuMDggMmgxNy44M2MuMDMuMDIuMDYuMDYuMDguMDh2MTMuODRIMjB6Ii8+PHBhdGggZD0iTTEwIDEyLjUxTDcuNSA5LjUgNCAxNGgxNGwtNC41LTZ6Ii8+PC9nPjwvc3ZnPg==);width:62px;height:62px\"></div></div><div class=\"row _3n8db9\"><div class=\"row\"><p class=\"_2sc7ZR _2V5EHH\">Shaik Jaffar</p><svg class=\"_2a1p_T\" height=\"14\" viewbox=\"0 0 12 12\" width=\"14\" xmlns=\"http://www.w3.org/2000/svg\"><g><circle cx=\"6\" cy=\"6\" fill=\"#878787\" r=\"6\"></circle><path d=\"M3 6l2 2 4-4\" fill=\"#878787\" stroke=\"#FFF\" stroke-width=\"1.5\"></path></g></svg><p class=\"_2mcZGG\" id=\"review-a9125a3a-2aff-4a3f-a7aa-4b2da4c54a80\"><span>Certified Buyer</span><span>, Ongole</span></p><div></div><p class=\"_2sc7ZR\">8 months ago</p></div><div class=\"_1e9_Zu\"><div class=\"row\"><div class=\"_27aTsS\"><div class=\"_1LmwT9\"><svg class=\"skCrcq\" height=\"15\" width=\"20\" xmlns=\"http://www.w3.org/2000/svg\"><path class=\"_1LIt4y\" d=\"M9.58.006c-.41.043-.794.32-1.01.728-.277.557-2.334 4.693-2.74 5.1-.41.407-.944.6-1.544.6v8.572h7.5c.45 0 .835-.28 1.007-.665 0 0 2.207-6.234 2.207-6.834 0-.6-.47-1.072-1.07-1.072h-3.216c-.6 0-1.07-.535-1.07-1.07 0-.537.835-3.387 1.006-3.944.17-.557-.107-1.157-.664-1.35-.15-.043-.257-.086-.407-.064zM0 6.434v8.572h2.143V6.434H0z\" fill=\"#fff\" fill-rule=\"evenodd\"></path></svg><span class=\"_3c3Px5\">3</span></div><div class=\"_1LmwT9 pkR4jH\"><svg class=\"skCrcq pkR4jH\" height=\"15\" width=\"20\" xmlns=\"http://www.w3.org/2000/svg\"><path class=\"_1LIt4y\" d=\"M9.58.006c-.41.043-.794.32-1.01.728-.277.557-2.334 4.693-2.74 5.1-.41.407-.944.6-1.544.6v8.572h7.5c.45 0 .835-.28 1.007-.665 0 0 2.207-6.234 2.207-6.834 0-.6-.47-1.072-1.07-1.072h-3.216c-.6 0-1.07-.535-1.07-1.07 0-.537.835-3.387 1.006-3.944.17-.557-.107-1.157-.664-1.35-.15-.043-.257-.086-.407-.064zM0 6.434v8.572h2.143V6.434H0z\" fill=\"#fff\" fill-rule=\"evenodd\"></path></svg><span class=\"_3c3Px5\">1</span></div></div><div class=\"_2bmov8\"><svg class=\"_2UvOBb\" height=\"11\" viewbox=\"0 0 16 27\" width=\"6\" xmlns=\"http://www.w3.org/2000/svg\"><path class=\"_2aPE6f\" d=\"M16 23.207L6.11 13.161 16 3.093 12.955 0 0 13.161l12.955 13.161z\" fill=\"#fff\"></path></svg><div class=\"_3E8aIl _38dCuf\"><div class=\"_3XCI6U\"><a href=\"/reviews/SMWG4GF2H9V3MJ8Y:7669?reviewId=a9125a3a-2aff-4a3f-a7aa-4b2da4c54a80\"><span>Permalink</span></a></div><div class=\"_3XCI6U _2b2z-j\"><span>Report Abuse</span></div></div></div></div></div></div></div>,\n",
              " <div class=\"col _2wzgFH K0kLPL\"><div class=\"row\"><div class=\"_3LWZlK _1BLPMq\">5<img class=\"_1wB99o\" src=\"data:image/svg+xml;base64,PHN2ZyB4bWxucz0iaHR0cDovL3d3dy53My5vcmcvMjAwMC9zdmciIHdpZHRoPSIxMyIgaGVpZ2h0PSIxMiI+PHBhdGggZmlsbD0iI0ZGRiIgZD0iTTYuNSA5LjQzOWwtMy42NzQgMi4yMy45NC00LjI2LTMuMjEtMi44ODMgNC4yNTQtLjQwNEw2LjUuMTEybDEuNjkgNC4wMSA0LjI1NC40MDQtMy4yMSAyLjg4Mi45NCA0LjI2eiIvPjwvc3ZnPg==\"/></div><p class=\"_2-N8zT\">Just wow!</p></div><div class=\"row\"><div class=\"t-ZTKy\"><div><div class=\"\">This is my dream watch my first purchased smartwatch for me it's amazing watch heart rate effect BP perfect oxygen footstep everything perfect I am happy with this purchase I paid for 1800 thank you Flipkart</div><span class=\"_1H-bmy\"><span>READ MORE</span></span></div></div></div><div class=\"row _3n8db9\"><div class=\"row\"><p class=\"_2sc7ZR _2V5EHH\">Flipkart Customer</p><svg class=\"_2a1p_T\" height=\"14\" viewbox=\"0 0 12 12\" width=\"14\" xmlns=\"http://www.w3.org/2000/svg\"><g><circle cx=\"6\" cy=\"6\" fill=\"#878787\" r=\"6\"></circle><path d=\"M3 6l2 2 4-4\" fill=\"#878787\" stroke=\"#FFF\" stroke-width=\"1.5\"></path></g></svg><p class=\"_2mcZGG\" id=\"review-65dceecf-87b6-42dc-b9f3-88bc3ee880e7\"><span>Certified Buyer</span><span>, Thane District</span></p><div></div><p class=\"_2sc7ZR\">Aug, 2021</p></div><div class=\"_1e9_Zu\"><div class=\"row\"><div class=\"_27aTsS\"><div class=\"_1LmwT9\"><svg class=\"skCrcq\" height=\"15\" width=\"20\" xmlns=\"http://www.w3.org/2000/svg\"><path class=\"_1LIt4y\" d=\"M9.58.006c-.41.043-.794.32-1.01.728-.277.557-2.334 4.693-2.74 5.1-.41.407-.944.6-1.544.6v8.572h7.5c.45 0 .835-.28 1.007-.665 0 0 2.207-6.234 2.207-6.834 0-.6-.47-1.072-1.07-1.072h-3.216c-.6 0-1.07-.535-1.07-1.07 0-.537.835-3.387 1.006-3.944.17-.557-.107-1.157-.664-1.35-.15-.043-.257-.086-.407-.064zM0 6.434v8.572h2.143V6.434H0z\" fill=\"#fff\" fill-rule=\"evenodd\"></path></svg><span class=\"_3c3Px5\">4</span></div><div class=\"_1LmwT9 pkR4jH\"><svg class=\"skCrcq pkR4jH\" height=\"15\" width=\"20\" xmlns=\"http://www.w3.org/2000/svg\"><path class=\"_1LIt4y\" d=\"M9.58.006c-.41.043-.794.32-1.01.728-.277.557-2.334 4.693-2.74 5.1-.41.407-.944.6-1.544.6v8.572h7.5c.45 0 .835-.28 1.007-.665 0 0 2.207-6.234 2.207-6.834 0-.6-.47-1.072-1.07-1.072h-3.216c-.6 0-1.07-.535-1.07-1.07 0-.537.835-3.387 1.006-3.944.17-.557-.107-1.157-.664-1.35-.15-.043-.257-.086-.407-.064zM0 6.434v8.572h2.143V6.434H0z\" fill=\"#fff\" fill-rule=\"evenodd\"></path></svg><span class=\"_3c3Px5\">1</span></div></div><div class=\"_2bmov8\"><svg class=\"_2UvOBb\" height=\"11\" viewbox=\"0 0 16 27\" width=\"6\" xmlns=\"http://www.w3.org/2000/svg\"><path class=\"_2aPE6f\" d=\"M16 23.207L6.11 13.161 16 3.093 12.955 0 0 13.161l12.955 13.161z\" fill=\"#fff\"></path></svg><div class=\"_3E8aIl _38dCuf\"><div class=\"_3XCI6U\"><a href=\"/reviews/SMWG4GF2H9V3MJ8Y:424?reviewId=65dceecf-87b6-42dc-b9f3-88bc3ee880e7\"><span>Permalink</span></a></div><div class=\"_3XCI6U _2b2z-j\"><span>Report Abuse</span></div></div></div></div></div></div></div>,\n",
              " <div class=\"col _2wzgFH K0kLPL\"><div class=\"row\"><div class=\"_3LWZlK _1BLPMq\">5<img class=\"_1wB99o\" src=\"data:image/svg+xml;base64,PHN2ZyB4bWxucz0iaHR0cDovL3d3dy53My5vcmcvMjAwMC9zdmciIHdpZHRoPSIxMyIgaGVpZ2h0PSIxMiI+PHBhdGggZmlsbD0iI0ZGRiIgZD0iTTYuNSA5LjQzOWwtMy42NzQgMi4yMy45NC00LjI2LTMuMjEtMi44ODMgNC4yNTQtLjQwNEw2LjUuMTEybDEuNjkgNC4wMSA0LjI1NC40MDQtMy4yMSAyLjg4Mi45NCA0LjI2eiIvPjwvc3ZnPg==\"/></div><p class=\"_2-N8zT\">Highly recommended</p></div><div class=\"row\"><div class=\"t-ZTKy\"><div><div class=\"\">One of the best budget smartwatches out in the market out there.display size is adequately large enough for the price.features are also less.but it have most of the essential modes in it.definitly its a good one with super build quality</div><span class=\"_1H-bmy\"><span>READ MORE</span></span></div></div></div><div class=\"_2nMSwX _3oLIki\"><div class=\"_21YjFX _2A07HP\" style=\"background-image:url(https://rukminim1.flixcart.com/blobio/124/124/imr-202110/blobio-imr-202110_a3de3bfeaf2e403e9584d375ebf87c10.jpeg?q=90), url(data:image/svg+xml;base64,PHN2ZyB3aWR0aD0iMjIiIGhlaWdodD0iMTgiIHhtbG5zPSJodHRwOi8vd3d3LnczLm9yZy8yMDAwL3N2ZyI+PGcgZmlsbD0iIzlEOUQ5RCIgZmlsbC1ydWxlPSJub256ZXJvIj48cGF0aCBkPSJNMjAgMEgyQzEgMCAwIDEgMCAydjE0YzAgMS4xLjkgMiAyIDJoMThjMSAwIDItMSAyLTJWMmMwLTEtMS0yLTItMnptMCAxNS45MmMtLjAyLjAzLS4wNi4wNi0uMDguMDhIMlYyLjA4TDIuMDggMmgxNy44M2MuMDMuMDIuMDYuMDYuMDguMDh2MTMuODRIMjB6Ii8+PHBhdGggZD0iTTEwIDEyLjUxTDcuNSA5LjUgNCAxNGgxNGwtNC41LTZ6Ii8+PC9nPjwvc3ZnPg==);width:62px;height:62px\"></div><div class=\"_21YjFX _2A07HP\" style=\"background-image:url(https://rukminim1.flixcart.com/blobio/124/124/imr-202110/blobio-imr-202110_aca10eebe4de442bb539d258e794c2f8.jpeg?q=90), url(data:image/svg+xml;base64,PHN2ZyB3aWR0aD0iMjIiIGhlaWdodD0iMTgiIHhtbG5zPSJodHRwOi8vd3d3LnczLm9yZy8yMDAwL3N2ZyI+PGcgZmlsbD0iIzlEOUQ5RCIgZmlsbC1ydWxlPSJub256ZXJvIj48cGF0aCBkPSJNMjAgMEgyQzEgMCAwIDEgMCAydjE0YzAgMS4xLjkgMiAyIDJoMThjMSAwIDItMSAyLTJWMmMwLTEtMS0yLTItMnptMCAxNS45MmMtLjAyLjAzLS4wNi4wNi0uMDguMDhIMlYyLjA4TDIuMDggMmgxNy44M2MuMDMuMDIuMDYuMDYuMDguMDh2MTMuODRIMjB6Ii8+PHBhdGggZD0iTTEwIDEyLjUxTDcuNSA5LjUgNCAxNGgxNGwtNC41LTZ6Ii8+PC9nPjwvc3ZnPg==);width:62px;height:62px\"></div><div class=\"_21YjFX _2A07HP\" style=\"background-image:url(https://rukminim1.flixcart.com/blobio/124/124/imr-202110/blobio-imr-202110_f1c8b16764c849c5852060a8394b4b6d.jpeg?q=90), url(data:image/svg+xml;base64,PHN2ZyB3aWR0aD0iMjIiIGhlaWdodD0iMTgiIHhtbG5zPSJodHRwOi8vd3d3LnczLm9yZy8yMDAwL3N2ZyI+PGcgZmlsbD0iIzlEOUQ5RCIgZmlsbC1ydWxlPSJub256ZXJvIj48cGF0aCBkPSJNMjAgMEgyQzEgMCAwIDEgMCAydjE0YzAgMS4xLjkgMiAyIDJoMThjMSAwIDItMSAyLTJWMmMwLTEtMS0yLTItMnptMCAxNS45MmMtLjAyLjAzLS4wNi4wNi0uMDguMDhIMlYyLjA4TDIuMDggMmgxNy44M2MuMDMuMDIuMDYuMDYuMDguMDh2MTMuODRIMjB6Ii8+PHBhdGggZD0iTTEwIDEyLjUxTDcuNSA5LjUgNCAxNGgxNGwtNC41LTZ6Ii8+PC9nPjwvc3ZnPg==);width:62px;height:62px\"></div></div><div class=\"row _3n8db9\"><div class=\"row\"><p class=\"_2sc7ZR _2V5EHH\">Anumol  Chandrasekharan</p><svg class=\"_2a1p_T\" height=\"14\" viewbox=\"0 0 12 12\" width=\"14\" xmlns=\"http://www.w3.org/2000/svg\"><g><circle cx=\"6\" cy=\"6\" fill=\"#878787\" r=\"6\"></circle><path d=\"M3 6l2 2 4-4\" fill=\"#878787\" stroke=\"#FFF\" stroke-width=\"1.5\"></path></g></svg><p class=\"_2mcZGG\" id=\"review-c315baae-8161-4fa4-906d-f2303f59e212\"><span>Certified Buyer</span><span>, Kureekkad</span></p><div></div><p class=\"_2sc7ZR\">Oct, 2021</p></div><div class=\"_1e9_Zu\"><div class=\"row\"><div class=\"_27aTsS\"><div class=\"_1LmwT9\"><svg class=\"skCrcq\" height=\"15\" width=\"20\" xmlns=\"http://www.w3.org/2000/svg\"><path class=\"_1LIt4y\" d=\"M9.58.006c-.41.043-.794.32-1.01.728-.277.557-2.334 4.693-2.74 5.1-.41.407-.944.6-1.544.6v8.572h7.5c.45 0 .835-.28 1.007-.665 0 0 2.207-6.234 2.207-6.834 0-.6-.47-1.072-1.07-1.072h-3.216c-.6 0-1.07-.535-1.07-1.07 0-.537.835-3.387 1.006-3.944.17-.557-.107-1.157-.664-1.35-.15-.043-.257-.086-.407-.064zM0 6.434v8.572h2.143V6.434H0z\" fill=\"#fff\" fill-rule=\"evenodd\"></path></svg><span class=\"_3c3Px5\">9</span></div><div class=\"_1LmwT9 pkR4jH\"><svg class=\"skCrcq pkR4jH\" height=\"15\" width=\"20\" xmlns=\"http://www.w3.org/2000/svg\"><path class=\"_1LIt4y\" d=\"M9.58.006c-.41.043-.794.32-1.01.728-.277.557-2.334 4.693-2.74 5.1-.41.407-.944.6-1.544.6v8.572h7.5c.45 0 .835-.28 1.007-.665 0 0 2.207-6.234 2.207-6.834 0-.6-.47-1.072-1.07-1.072h-3.216c-.6 0-1.07-.535-1.07-1.07 0-.537.835-3.387 1.006-3.944.17-.557-.107-1.157-.664-1.35-.15-.043-.257-.086-.407-.064zM0 6.434v8.572h2.143V6.434H0z\" fill=\"#fff\" fill-rule=\"evenodd\"></path></svg><span class=\"_3c3Px5\">8</span></div></div><div class=\"_2bmov8\"><svg class=\"_2UvOBb\" height=\"11\" viewbox=\"0 0 16 27\" width=\"6\" xmlns=\"http://www.w3.org/2000/svg\"><path class=\"_2aPE6f\" d=\"M16 23.207L6.11 13.161 16 3.093 12.955 0 0 13.161l12.955 13.161z\" fill=\"#fff\"></path></svg><div class=\"_3E8aIl _38dCuf\"><div class=\"_3XCI6U\"><a href=\"/reviews/SMWG4GF2H9V3MJ8Y:2808?reviewId=c315baae-8161-4fa4-906d-f2303f59e212\"><span>Permalink</span></a></div><div class=\"_3XCI6U _2b2z-j\"><span>Report Abuse</span></div></div></div></div></div></div></div>]"
            ]
          },
          "metadata": {},
          "execution_count": 5
        }
      ],
      "source": [
        "soup.find_all('div',class_='col _2wzgFH K0kLPL')"
      ]
    },
    {
      "cell_type": "markdown",
      "metadata": {
        "id": "rVQHlP0QftwP"
      },
      "source": [
        "# **TO FIND OUT THE RATINGS**"
      ]
    },
    {
      "cell_type": "code",
      "execution_count": null,
      "metadata": {
        "colab": {
          "base_uri": "https://localhost:8080/",
          "height": 35
        },
        "id": "-mEe6hjMoIu3",
        "outputId": "a5e4efb6-aef9-4279-c4e7-f63749f59e45"
      },
      "outputs": [
        {
          "output_type": "execute_result",
          "data": {
            "text/plain": [
              "'4'"
            ],
            "application/vnd.google.colaboratory.intrinsic+json": {
              "type": "string"
            }
          },
          "metadata": {},
          "execution_count": 6
        }
      ],
      "source": [
        "soup.find('div',class_='_3LWZlK _1BLPMq').text\n"
      ]
    },
    {
      "cell_type": "markdown",
      "metadata": {
        "id": "GOoun39hge_t"
      },
      "source": [
        "# **TO FIND REVIEWS**"
      ]
    },
    {
      "cell_type": "code",
      "execution_count": null,
      "metadata": {
        "colab": {
          "base_uri": "https://localhost:8080/",
          "height": 53
        },
        "id": "Ww23GfEZoIsT",
        "outputId": "4c99cbd9-3173-4483-abe0-384d12c6e5ac"
      },
      "outputs": [
        {
          "output_type": "execute_result",
          "data": {
            "text/plain": [
              "'I am first time using any of smart watchFirst of all thanks to flipkart and e kart for fast deliveryI found this smart watch very much usefulREAD MORE'"
            ],
            "application/vnd.google.colaboratory.intrinsic+json": {
              "type": "string"
            }
          },
          "metadata": {},
          "execution_count": 7
        }
      ],
      "source": [
        "soup.find('div',class_='t-ZTKy').text\n",
        "  \n"
      ]
    },
    {
      "cell_type": "markdown",
      "metadata": {
        "id": "glvs_WP9gq7U"
      },
      "source": [
        "# **TO FIND USER NAME**"
      ]
    },
    {
      "cell_type": "code",
      "execution_count": null,
      "metadata": {
        "colab": {
          "base_uri": "https://localhost:8080/",
          "height": 35
        },
        "id": "8WLR2tiJoIpq",
        "outputId": "2f6965a5-4696-46eb-e748-9cc06bbfc0fe"
      },
      "outputs": [
        {
          "output_type": "execute_result",
          "data": {
            "text/plain": [
              "'Munzir Ali Sayyed'"
            ],
            "application/vnd.google.colaboratory.intrinsic+json": {
              "type": "string"
            }
          },
          "metadata": {},
          "execution_count": 8
        }
      ],
      "source": [
        "soup.find('p',class_='_2sc7ZR _2V5EHH').text\n"
      ]
    },
    {
      "cell_type": "code",
      "execution_count": null,
      "metadata": {
        "colab": {
          "base_uri": "https://localhost:8080/"
        },
        "id": "oB7Qp5WtrEcv",
        "outputId": "90f56f89-3996-410f-ed3a-72e45104cc7f"
      },
      "outputs": [
        {
          "output_type": "stream",
          "name": "stdout",
          "text": [
            "Munzir Ali Sayyed\n",
            "Aug, 2021\n",
            "gaurav sharma\n",
            "Aug, 2021\n",
            "Ajay Mistry\n",
            "Aug, 2021\n",
            "Taher Udaipurwala\n",
            "Aug, 2021\n",
            "Ishita Bhatnagar\n",
            "Aug, 2021\n",
            "Rajashree  Sinha\n",
            "Oct, 2021\n",
            "Anoop Jaglan\n",
            "Aug, 2021\n",
            "Shaik Jaffar\n",
            "8 months ago\n",
            "Flipkart Customer\n",
            "Aug, 2021\n",
            "Anumol  Chandrasekharan\n",
            "Oct, 2021\n"
          ]
        }
      ],
      "source": [
        "for i in soup.find_all('p',attrs={'class':'_2sc7ZR'}):\n",
        "  print(i.text)"
      ]
    },
    {
      "cell_type": "markdown",
      "metadata": {
        "id": "Jq7WxZJ9gnL6"
      },
      "source": [
        "# **CONSIDERING THE WHOLE CONTAINER**"
      ]
    },
    {
      "cell_type": "code",
      "execution_count": null,
      "metadata": {
        "colab": {
          "base_uri": "https://localhost:8080/"
        },
        "id": "aMvWRQF-Z8hS",
        "outputId": "c8ae1abb-acf3-44ae-bfce-fa3760116f88"
      },
      "outputs": [
        {
          "output_type": "execute_result",
          "data": {
            "text/plain": [
              "[<div class=\"col _2wzgFH K0kLPL\"><div class=\"row\"><div class=\"_3LWZlK _1BLPMq\">4<img class=\"_1wB99o\" src=\"data:image/svg+xml;base64,PHN2ZyB4bWxucz0iaHR0cDovL3d3dy53My5vcmcvMjAwMC9zdmciIHdpZHRoPSIxMyIgaGVpZ2h0PSIxMiI+PHBhdGggZmlsbD0iI0ZGRiIgZD0iTTYuNSA5LjQzOWwtMy42NzQgMi4yMy45NC00LjI2LTMuMjEtMi44ODMgNC4yNTQtLjQwNEw2LjUuMTEybDEuNjkgNC4wMSA0LjI1NC40MDQtMy4yMSAyLjg4Mi45NCA0LjI2eiIvPjwvc3ZnPg==\"/></div><p class=\"_2-N8zT\">Really Nice</p></div><div class=\"row\"><div class=\"t-ZTKy\"><div><div class=\"\">I am first time using any of smart watch<br/>First of all thanks to flipkart and e kart for fast delivery<br/>I found this smart watch very much useful</div><span class=\"_1H-bmy\"><span>READ MORE</span></span></div></div></div><div class=\"row _3n8db9\"><div class=\"row\"><p class=\"_2sc7ZR _2V5EHH\">Munzir Ali Sayyed</p><svg class=\"_2a1p_T\" height=\"14\" viewbox=\"0 0 12 12\" width=\"14\" xmlns=\"http://www.w3.org/2000/svg\"><g><circle cx=\"6\" cy=\"6\" fill=\"#878787\" r=\"6\"></circle><path d=\"M3 6l2 2 4-4\" fill=\"#878787\" stroke=\"#FFF\" stroke-width=\"1.5\"></path></g></svg><p class=\"_2mcZGG\" id=\"review-290e9495-690a-4d9b-8362-e516b9d40675\"><span>Certified Buyer</span><span>, Thane</span></p><div></div><p class=\"_2sc7ZR\">Aug, 2021</p></div><div class=\"_1e9_Zu\"><div class=\"row\"><div class=\"_27aTsS\"><div class=\"_1LmwT9\"><svg class=\"skCrcq\" height=\"15\" width=\"20\" xmlns=\"http://www.w3.org/2000/svg\"><path class=\"_1LIt4y\" d=\"M9.58.006c-.41.043-.794.32-1.01.728-.277.557-2.334 4.693-2.74 5.1-.41.407-.944.6-1.544.6v8.572h7.5c.45 0 .835-.28 1.007-.665 0 0 2.207-6.234 2.207-6.834 0-.6-.47-1.072-1.07-1.072h-3.216c-.6 0-1.07-.535-1.07-1.07 0-.537.835-3.387 1.006-3.944.17-.557-.107-1.157-.664-1.35-.15-.043-.257-.086-.407-.064zM0 6.434v8.572h2.143V6.434H0z\" fill=\"#fff\" fill-rule=\"evenodd\"></path></svg><span class=\"_3c3Px5\">19</span></div><div class=\"_1LmwT9 pkR4jH\"><svg class=\"skCrcq pkR4jH\" height=\"15\" width=\"20\" xmlns=\"http://www.w3.org/2000/svg\"><path class=\"_1LIt4y\" d=\"M9.58.006c-.41.043-.794.32-1.01.728-.277.557-2.334 4.693-2.74 5.1-.41.407-.944.6-1.544.6v8.572h7.5c.45 0 .835-.28 1.007-.665 0 0 2.207-6.234 2.207-6.834 0-.6-.47-1.072-1.07-1.072h-3.216c-.6 0-1.07-.535-1.07-1.07 0-.537.835-3.387 1.006-3.944.17-.557-.107-1.157-.664-1.35-.15-.043-.257-.086-.407-.064zM0 6.434v8.572h2.143V6.434H0z\" fill=\"#fff\" fill-rule=\"evenodd\"></path></svg><span class=\"_3c3Px5\">6</span></div></div><div class=\"_2bmov8\"><svg class=\"_2UvOBb\" height=\"11\" viewbox=\"0 0 16 27\" width=\"6\" xmlns=\"http://www.w3.org/2000/svg\"><path class=\"_2aPE6f\" d=\"M16 23.207L6.11 13.161 16 3.093 12.955 0 0 13.161l12.955 13.161z\" fill=\"#fff\"></path></svg><div class=\"_3E8aIl _38dCuf\"><div class=\"_3XCI6U\"><a href=\"/reviews/SMWG4GF2H9V3MJ8Y:139?reviewId=290e9495-690a-4d9b-8362-e516b9d40675\"><span>Permalink</span></a></div><div class=\"_3XCI6U _2b2z-j\"><span>Report Abuse</span></div></div></div></div></div></div></div>,\n",
              " <div class=\"col _2wzgFH K0kLPL\"><div class=\"row\"><div class=\"_3LWZlK _1BLPMq\">4<img class=\"_1wB99o\" src=\"data:image/svg+xml;base64,PHN2ZyB4bWxucz0iaHR0cDovL3d3dy53My5vcmcvMjAwMC9zdmciIHdpZHRoPSIxMyIgaGVpZ2h0PSIxMiI+PHBhdGggZmlsbD0iI0ZGRiIgZD0iTTYuNSA5LjQzOWwtMy42NzQgMi4yMy45NC00LjI2LTMuMjEtMi44ODMgNC4yNTQtLjQwNEw2LjUuMTEybDEuNjkgNC4wMSA0LjI1NC40MDQtMy4yMSAyLjg4Mi45NCA0LjI2eiIvPjwvc3ZnPg==\"/></div><p class=\"_2-N8zT\">Good quality product</p></div><div class=\"row\"><div class=\"t-ZTKy\"><div><div class=\"\">Worth the price, <br/>Good points<br/>1. Quality of product (metal frame and strap feels good)<br/>2. Display (touch and auto wake with hand raise)<br/>3. Basic features (insted of buying oximeter buy this)<br/>4. Notification<br/><br/>Cons:<br/>1. Can't receive, diconnect or silent the call from watch<br/>2. Can't dial call from phone, no phonebook<br/><br/>Received it today so may be later update complete review, but it's worth the price with splash proof feature.</div><span class=\"_1H-bmy\"><span>READ MORE</span></span></div></div></div><div class=\"row _3n8db9\"><div class=\"row\"><p class=\"_2sc7ZR _2V5EHH\">gaurav sharma</p><svg class=\"_2a1p_T\" height=\"14\" viewbox=\"0 0 12 12\" width=\"14\" xmlns=\"http://www.w3.org/2000/svg\"><g><circle cx=\"6\" cy=\"6\" fill=\"#878787\" r=\"6\"></circle><path d=\"M3 6l2 2 4-4\" fill=\"#878787\" stroke=\"#FFF\" stroke-width=\"1.5\"></path></g></svg><p class=\"_2mcZGG\" id=\"review-735e5c30-06ea-4f6f-a50c-839d21152614\"><span>Certified Buyer</span><span>, Ambala</span></p><div></div><p class=\"_2sc7ZR\">Aug, 2021</p></div><div class=\"_1e9_Zu\"><div class=\"row\"><div class=\"_27aTsS\"><div class=\"_1LmwT9\"><svg class=\"skCrcq\" height=\"15\" width=\"20\" xmlns=\"http://www.w3.org/2000/svg\"><path class=\"_1LIt4y\" d=\"M9.58.006c-.41.043-.794.32-1.01.728-.277.557-2.334 4.693-2.74 5.1-.41.407-.944.6-1.544.6v8.572h7.5c.45 0 .835-.28 1.007-.665 0 0 2.207-6.234 2.207-6.834 0-.6-.47-1.072-1.07-1.072h-3.216c-.6 0-1.07-.535-1.07-1.07 0-.537.835-3.387 1.006-3.944.17-.557-.107-1.157-.664-1.35-.15-.043-.257-.086-.407-.064zM0 6.434v8.572h2.143V6.434H0z\" fill=\"#fff\" fill-rule=\"evenodd\"></path></svg><span class=\"_3c3Px5\">10</span></div><div class=\"_1LmwT9 pkR4jH\"><svg class=\"skCrcq pkR4jH\" height=\"15\" width=\"20\" xmlns=\"http://www.w3.org/2000/svg\"><path class=\"_1LIt4y\" d=\"M9.58.006c-.41.043-.794.32-1.01.728-.277.557-2.334 4.693-2.74 5.1-.41.407-.944.6-1.544.6v8.572h7.5c.45 0 .835-.28 1.007-.665 0 0 2.207-6.234 2.207-6.834 0-.6-.47-1.072-1.07-1.072h-3.216c-.6 0-1.07-.535-1.07-1.07 0-.537.835-3.387 1.006-3.944.17-.557-.107-1.157-.664-1.35-.15-.043-.257-.086-.407-.064zM0 6.434v8.572h2.143V6.434H0z\" fill=\"#fff\" fill-rule=\"evenodd\"></path></svg><span class=\"_3c3Px5\">4</span></div></div><div class=\"_2bmov8\"><svg class=\"_2UvOBb\" height=\"11\" viewbox=\"0 0 16 27\" width=\"6\" xmlns=\"http://www.w3.org/2000/svg\"><path class=\"_2aPE6f\" d=\"M16 23.207L6.11 13.161 16 3.093 12.955 0 0 13.161l12.955 13.161z\" fill=\"#fff\"></path></svg><div class=\"_3E8aIl _38dCuf\"><div class=\"_3XCI6U\"><a href=\"/reviews/SMWG4GF33JFGSVNE:16?reviewId=735e5c30-06ea-4f6f-a50c-839d21152614\"><span>Permalink</span></a></div><div class=\"_3XCI6U _2b2z-j\"><span>Report Abuse</span></div></div></div></div></div></div></div>,\n",
              " <div class=\"col _2wzgFH K0kLPL\"><div class=\"row\"><div class=\"_3LWZlK _1BLPMq\">4<img class=\"_1wB99o\" src=\"data:image/svg+xml;base64,PHN2ZyB4bWxucz0iaHR0cDovL3d3dy53My5vcmcvMjAwMC9zdmciIHdpZHRoPSIxMyIgaGVpZ2h0PSIxMiI+PHBhdGggZmlsbD0iI0ZGRiIgZD0iTTYuNSA5LjQzOWwtMy42NzQgMi4yMy45NC00LjI2LTMuMjEtMi44ODMgNC4yNTQtLjQwNEw2LjUuMTEybDEuNjkgNC4wMSA0LjI1NC40MDQtMy4yMSAyLjg4Mi45NCA0LjI2eiIvPjwvc3ZnPg==\"/></div><p class=\"_2-N8zT\">Really Nice</p></div><div class=\"row\"><div class=\"t-ZTKy\"><div><div class=\"\">Design is perfect make your app more featured, there is no specific mode for workout, no basic controls like declining calls and silent phone when phone is ringing, no music control, make your message tray scroll able. Rest value for money and good build quality</div><span class=\"_1H-bmy\"><span>READ MORE</span></span></div></div></div><div class=\"row _3n8db9\"><div class=\"row\"><p class=\"_2sc7ZR _2V5EHH\">Ajay Mistry</p><svg class=\"_2a1p_T\" height=\"14\" viewbox=\"0 0 12 12\" width=\"14\" xmlns=\"http://www.w3.org/2000/svg\"><g><circle cx=\"6\" cy=\"6\" fill=\"#878787\" r=\"6\"></circle><path d=\"M3 6l2 2 4-4\" fill=\"#878787\" stroke=\"#FFF\" stroke-width=\"1.5\"></path></g></svg><p class=\"_2mcZGG\" id=\"review-1d4b1b8c-7b1f-42f6-916e-1e71b32efc6c\"><span>Certified Buyer</span><span>, Vadodara</span></p><div></div><p class=\"_2sc7ZR\">Aug, 2021</p></div><div class=\"_1e9_Zu\"><div class=\"row\"><div class=\"_27aTsS\"><div class=\"_1LmwT9\"><svg class=\"skCrcq\" height=\"15\" width=\"20\" xmlns=\"http://www.w3.org/2000/svg\"><path class=\"_1LIt4y\" d=\"M9.58.006c-.41.043-.794.32-1.01.728-.277.557-2.334 4.693-2.74 5.1-.41.407-.944.6-1.544.6v8.572h7.5c.45 0 .835-.28 1.007-.665 0 0 2.207-6.234 2.207-6.834 0-.6-.47-1.072-1.07-1.072h-3.216c-.6 0-1.07-.535-1.07-1.07 0-.537.835-3.387 1.006-3.944.17-.557-.107-1.157-.664-1.35-.15-.043-.257-.086-.407-.064zM0 6.434v8.572h2.143V6.434H0z\" fill=\"#fff\" fill-rule=\"evenodd\"></path></svg><span class=\"_3c3Px5\">7</span></div><div class=\"_1LmwT9 pkR4jH\"><svg class=\"skCrcq pkR4jH\" height=\"15\" width=\"20\" xmlns=\"http://www.w3.org/2000/svg\"><path class=\"_1LIt4y\" d=\"M9.58.006c-.41.043-.794.32-1.01.728-.277.557-2.334 4.693-2.74 5.1-.41.407-.944.6-1.544.6v8.572h7.5c.45 0 .835-.28 1.007-.665 0 0 2.207-6.234 2.207-6.834 0-.6-.47-1.072-1.07-1.072h-3.216c-.6 0-1.07-.535-1.07-1.07 0-.537.835-3.387 1.006-3.944.17-.557-.107-1.157-.664-1.35-.15-.043-.257-.086-.407-.064zM0 6.434v8.572h2.143V6.434H0z\" fill=\"#fff\" fill-rule=\"evenodd\"></path></svg><span class=\"_3c3Px5\">2</span></div></div><div class=\"_2bmov8\"><svg class=\"_2UvOBb\" height=\"11\" viewbox=\"0 0 16 27\" width=\"6\" xmlns=\"http://www.w3.org/2000/svg\"><path class=\"_2aPE6f\" d=\"M16 23.207L6.11 13.161 16 3.093 12.955 0 0 13.161l12.955 13.161z\" fill=\"#fff\"></path></svg><div class=\"_3E8aIl _38dCuf\"><div class=\"_3XCI6U\"><a href=\"/reviews/SMWG4GF2ZMFHJUBF:285?reviewId=1d4b1b8c-7b1f-42f6-916e-1e71b32efc6c\"><span>Permalink</span></a></div><div class=\"_3XCI6U _2b2z-j\"><span>Report Abuse</span></div></div></div></div></div></div></div>,\n",
              " <div class=\"col _2wzgFH K0kLPL\"><div class=\"row\"><div class=\"_3LWZlK _1BLPMq\">5<img class=\"_1wB99o\" src=\"data:image/svg+xml;base64,PHN2ZyB4bWxucz0iaHR0cDovL3d3dy53My5vcmcvMjAwMC9zdmciIHdpZHRoPSIxMyIgaGVpZ2h0PSIxMiI+PHBhdGggZmlsbD0iI0ZGRiIgZD0iTTYuNSA5LjQzOWwtMy42NzQgMi4yMy45NC00LjI2LTMuMjEtMi44ODMgNC4yNTQtLjQwNEw2LjUuMTEybDEuNjkgNC4wMSA0LjI1NC40MDQtMy4yMSAyLjg4Mi45NCA0LjI2eiIvPjwvc3ZnPg==\"/></div><p class=\"_2-N8zT\">Simply awesome</p></div><div class=\"row\"><div class=\"t-ZTKy\"><div><div class=\"\">Nyc <br/>Its a great watch with super amazing display,spo2 function, heart rate tracker. No  other brand has all these at such an affordable price.<br/>This watch has been loaded with amazing features and I am very much satisfied by using it. In short, it is a very great product packed with gud features.</div><span class=\"_1H-bmy\"><span>READ MORE</span></span></div></div></div><div class=\"row _3n8db9\"><div class=\"row\"><p class=\"_2sc7ZR _2V5EHH\">Taher Udaipurwala</p><svg class=\"_2a1p_T\" height=\"14\" viewbox=\"0 0 12 12\" width=\"14\" xmlns=\"http://www.w3.org/2000/svg\"><g><circle cx=\"6\" cy=\"6\" fill=\"#878787\" r=\"6\"></circle><path d=\"M3 6l2 2 4-4\" fill=\"#878787\" stroke=\"#FFF\" stroke-width=\"1.5\"></path></g></svg><p class=\"_2mcZGG\" id=\"review-73b3d876-7984-4afa-a1e8-962245d6e766\"><span>Certified Buyer</span><span>, Mumbai</span></p><div></div><p class=\"_2sc7ZR\">Aug, 2021</p></div><div class=\"_1e9_Zu\"><div class=\"row\"><div class=\"_27aTsS\"><div class=\"_1LmwT9\"><svg class=\"skCrcq\" height=\"15\" width=\"20\" xmlns=\"http://www.w3.org/2000/svg\"><path class=\"_1LIt4y\" d=\"M9.58.006c-.41.043-.794.32-1.01.728-.277.557-2.334 4.693-2.74 5.1-.41.407-.944.6-1.544.6v8.572h7.5c.45 0 .835-.28 1.007-.665 0 0 2.207-6.234 2.207-6.834 0-.6-.47-1.072-1.07-1.072h-3.216c-.6 0-1.07-.535-1.07-1.07 0-.537.835-3.387 1.006-3.944.17-.557-.107-1.157-.664-1.35-.15-.043-.257-.086-.407-.064zM0 6.434v8.572h2.143V6.434H0z\" fill=\"#fff\" fill-rule=\"evenodd\"></path></svg><span class=\"_3c3Px5\">7</span></div><div class=\"_1LmwT9 pkR4jH\"><svg class=\"skCrcq pkR4jH\" height=\"15\" width=\"20\" xmlns=\"http://www.w3.org/2000/svg\"><path class=\"_1LIt4y\" d=\"M9.58.006c-.41.043-.794.32-1.01.728-.277.557-2.334 4.693-2.74 5.1-.41.407-.944.6-1.544.6v8.572h7.5c.45 0 .835-.28 1.007-.665 0 0 2.207-6.234 2.207-6.834 0-.6-.47-1.072-1.07-1.072h-3.216c-.6 0-1.07-.535-1.07-1.07 0-.537.835-3.387 1.006-3.944.17-.557-.107-1.157-.664-1.35-.15-.043-.257-.086-.407-.064zM0 6.434v8.572h2.143V6.434H0z\" fill=\"#fff\" fill-rule=\"evenodd\"></path></svg><span class=\"_3c3Px5\">2</span></div></div><div class=\"_2bmov8\"><svg class=\"_2UvOBb\" height=\"11\" viewbox=\"0 0 16 27\" width=\"6\" xmlns=\"http://www.w3.org/2000/svg\"><path class=\"_2aPE6f\" d=\"M16 23.207L6.11 13.161 16 3.093 12.955 0 0 13.161l12.955 13.161z\" fill=\"#fff\"></path></svg><div class=\"_3E8aIl _38dCuf\"><div class=\"_3XCI6U\"><a href=\"/reviews/SMWG4GF2H9V3MJ8Y:64?reviewId=73b3d876-7984-4afa-a1e8-962245d6e766\"><span>Permalink</span></a></div><div class=\"_3XCI6U _2b2z-j\"><span>Report Abuse</span></div></div></div></div></div></div></div>,\n",
              " <div class=\"col _2wzgFH K0kLPL\"><div class=\"row\"><div class=\"_3LWZlK _1BLPMq\">5<img class=\"_1wB99o\" src=\"data:image/svg+xml;base64,PHN2ZyB4bWxucz0iaHR0cDovL3d3dy53My5vcmcvMjAwMC9zdmciIHdpZHRoPSIxMyIgaGVpZ2h0PSIxMiI+PHBhdGggZmlsbD0iI0ZGRiIgZD0iTTYuNSA5LjQzOWwtMy42NzQgMi4yMy45NC00LjI2LTMuMjEtMi44ODMgNC4yNTQtLjQwNEw2LjUuMTEybDEuNjkgNC4wMSA0LjI1NC40MDQtMy4yMSAyLjg4Mi45NCA0LjI2eiIvPjwvc3ZnPg==\"/></div><p class=\"_2-N8zT\">Classy product</p></div><div class=\"row\"><div class=\"t-ZTKy\"><div><div class=\"\">Its black neutral colour looks absolutely stunning. It is budget-friendly, easy to handle and can monitor all activities like heart rate, oxygen levels, sleep patterns, calories burnt, etc. It has a long battery life and large display which is clear and easy to read.</div><span class=\"_1H-bmy\"><span>READ MORE</span></span></div></div></div><div class=\"row _3n8db9\"><div class=\"row\"><p class=\"_2sc7ZR _2V5EHH\">Ishita Bhatnagar</p><svg class=\"_2a1p_T\" height=\"14\" viewbox=\"0 0 12 12\" width=\"14\" xmlns=\"http://www.w3.org/2000/svg\"><g><circle cx=\"6\" cy=\"6\" fill=\"#878787\" r=\"6\"></circle><path d=\"M3 6l2 2 4-4\" fill=\"#878787\" stroke=\"#FFF\" stroke-width=\"1.5\"></path></g></svg><p class=\"_2mcZGG\" id=\"review-d1e5937a-e9f5-4811-a964-91a33097418f\"><span>Certified Buyer</span><span>, Ghaziabad</span></p><div></div><p class=\"_2sc7ZR\">Aug, 2021</p></div><div class=\"_1e9_Zu\"><div class=\"row\"><div class=\"_27aTsS\"><div class=\"_1LmwT9\"><svg class=\"skCrcq\" height=\"15\" width=\"20\" xmlns=\"http://www.w3.org/2000/svg\"><path class=\"_1LIt4y\" d=\"M9.58.006c-.41.043-.794.32-1.01.728-.277.557-2.334 4.693-2.74 5.1-.41.407-.944.6-1.544.6v8.572h7.5c.45 0 .835-.28 1.007-.665 0 0 2.207-6.234 2.207-6.834 0-.6-.47-1.072-1.07-1.072h-3.216c-.6 0-1.07-.535-1.07-1.07 0-.537.835-3.387 1.006-3.944.17-.557-.107-1.157-.664-1.35-.15-.043-.257-.086-.407-.064zM0 6.434v8.572h2.143V6.434H0z\" fill=\"#fff\" fill-rule=\"evenodd\"></path></svg><span class=\"_3c3Px5\">5</span></div><div class=\"_1LmwT9 pkR4jH\"><svg class=\"skCrcq pkR4jH\" height=\"15\" width=\"20\" xmlns=\"http://www.w3.org/2000/svg\"><path class=\"_1LIt4y\" d=\"M9.58.006c-.41.043-.794.32-1.01.728-.277.557-2.334 4.693-2.74 5.1-.41.407-.944.6-1.544.6v8.572h7.5c.45 0 .835-.28 1.007-.665 0 0 2.207-6.234 2.207-6.834 0-.6-.47-1.072-1.07-1.072h-3.216c-.6 0-1.07-.535-1.07-1.07 0-.537.835-3.387 1.006-3.944.17-.557-.107-1.157-.664-1.35-.15-.043-.257-.086-.407-.064zM0 6.434v8.572h2.143V6.434H0z\" fill=\"#fff\" fill-rule=\"evenodd\"></path></svg><span class=\"_3c3Px5\">2</span></div></div><div class=\"_2bmov8\"><svg class=\"_2UvOBb\" height=\"11\" viewbox=\"0 0 16 27\" width=\"6\" xmlns=\"http://www.w3.org/2000/svg\"><path class=\"_2aPE6f\" d=\"M16 23.207L6.11 13.161 16 3.093 12.955 0 0 13.161l12.955 13.161z\" fill=\"#fff\"></path></svg><div class=\"_3E8aIl _38dCuf\"><div class=\"_3XCI6U\"><a href=\"/reviews/SMWG4GF2H9V3MJ8Y:612?reviewId=d1e5937a-e9f5-4811-a964-91a33097418f\"><span>Permalink</span></a></div><div class=\"_3XCI6U _2b2z-j\"><span>Report Abuse</span></div></div></div></div></div></div></div>,\n",
              " <div class=\"col _2wzgFH K0kLPL\"><div class=\"row\"><div class=\"_3LWZlK _1BLPMq\">5<img class=\"_1wB99o\" src=\"data:image/svg+xml;base64,PHN2ZyB4bWxucz0iaHR0cDovL3d3dy53My5vcmcvMjAwMC9zdmciIHdpZHRoPSIxMyIgaGVpZ2h0PSIxMiI+PHBhdGggZmlsbD0iI0ZGRiIgZD0iTTYuNSA5LjQzOWwtMy42NzQgMi4yMy45NC00LjI2LTMuMjEtMi44ODMgNC4yNTQtLjQwNEw2LjUuMTEybDEuNjkgNC4wMSA0LjI1NC40MDQtMy4yMSAyLjg4Mi45NCA0LjI2eiIvPjwvc3ZnPg==\"/></div><p class=\"_2-N8zT\">Fabulous!</p></div><div class=\"row\"><div class=\"t-ZTKy\"><div><div class=\"\">Nice product but battery is not good.... Overall looking is too good. Charging cable is good.... But super fast change 🤩 but main problem is battery is not good</div><span class=\"_1H-bmy\"><span>READ MORE</span></span></div></div></div><div class=\"_2nMSwX _3oLIki\"><div class=\"_21YjFX _2A07HP\" style=\"background-image:url(https://rukminim1.flixcart.com/blobio/124/124/imr-202110/blobio-imr-202110_00f8ef95b8f54490874080fc99603f8c.jpeg?q=90), url(data:image/svg+xml;base64,PHN2ZyB3aWR0aD0iMjIiIGhlaWdodD0iMTgiIHhtbG5zPSJodHRwOi8vd3d3LnczLm9yZy8yMDAwL3N2ZyI+PGcgZmlsbD0iIzlEOUQ5RCIgZmlsbC1ydWxlPSJub256ZXJvIj48cGF0aCBkPSJNMjAgMEgyQzEgMCAwIDEgMCAydjE0YzAgMS4xLjkgMiAyIDJoMThjMSAwIDItMSAyLTJWMmMwLTEtMS0yLTItMnptMCAxNS45MmMtLjAyLjAzLS4wNi4wNi0uMDguMDhIMlYyLjA4TDIuMDggMmgxNy44M2MuMDMuMDIuMDYuMDYuMDguMDh2MTMuODRIMjB6Ii8+PHBhdGggZD0iTTEwIDEyLjUxTDcuNSA5LjUgNCAxNGgxNGwtNC41LTZ6Ii8+PC9nPjwvc3ZnPg==);width:62px;height:62px\"></div><div class=\"_21YjFX _2A07HP\" style=\"background-image:url(https://rukminim1.flixcart.com/blobio/124/124/imr-202110/blobio-imr-202110_a84051771db74357a035b3b05e4ed4c9.jpeg?q=90), url(data:image/svg+xml;base64,PHN2ZyB3aWR0aD0iMjIiIGhlaWdodD0iMTgiIHhtbG5zPSJodHRwOi8vd3d3LnczLm9yZy8yMDAwL3N2ZyI+PGcgZmlsbD0iIzlEOUQ5RCIgZmlsbC1ydWxlPSJub256ZXJvIj48cGF0aCBkPSJNMjAgMEgyQzEgMCAwIDEgMCAydjE0YzAgMS4xLjkgMiAyIDJoMThjMSAwIDItMSAyLTJWMmMwLTEtMS0yLTItMnptMCAxNS45MmMtLjAyLjAzLS4wNi4wNi0uMDguMDhIMlYyLjA4TDIuMDggMmgxNy44M2MuMDMuMDIuMDYuMDYuMDguMDh2MTMuODRIMjB6Ii8+PHBhdGggZD0iTTEwIDEyLjUxTDcuNSA5LjUgNCAxNGgxNGwtNC41LTZ6Ii8+PC9nPjwvc3ZnPg==);width:62px;height:62px\"></div><div class=\"_21YjFX _2A07HP\" style=\"background-image:url(https://rukminim1.flixcart.com/blobio/124/124/imr-202110/blobio-imr-202110_01184b8d23894b50af0880dbecf0276d.jpeg?q=90), url(data:image/svg+xml;base64,PHN2ZyB3aWR0aD0iMjIiIGhlaWdodD0iMTgiIHhtbG5zPSJodHRwOi8vd3d3LnczLm9yZy8yMDAwL3N2ZyI+PGcgZmlsbD0iIzlEOUQ5RCIgZmlsbC1ydWxlPSJub256ZXJvIj48cGF0aCBkPSJNMjAgMEgyQzEgMCAwIDEgMCAydjE0YzAgMS4xLjkgMiAyIDJoMThjMSAwIDItMSAyLTJWMmMwLTEtMS0yLTItMnptMCAxNS45MmMtLjAyLjAzLS4wNi4wNi0uMDguMDhIMlYyLjA4TDIuMDggMmgxNy44M2MuMDMuMDIuMDYuMDYuMDguMDh2MTMuODRIMjB6Ii8+PHBhdGggZD0iTTEwIDEyLjUxTDcuNSA5LjUgNCAxNGgxNGwtNC41LTZ6Ii8+PC9nPjwvc3ZnPg==);width:62px;height:62px\"></div><div class=\"_21YjFX _2A07HP\" style=\"background-image:url(https://rukminim1.flixcart.com/blobio/124/124/imr-202110/blobio-imr-202110_7582573e4b5a4490896769c69da3edfd.jpeg?q=90), url(data:image/svg+xml;base64,PHN2ZyB3aWR0aD0iMjIiIGhlaWdodD0iMTgiIHhtbG5zPSJodHRwOi8vd3d3LnczLm9yZy8yMDAwL3N2ZyI+PGcgZmlsbD0iIzlEOUQ5RCIgZmlsbC1ydWxlPSJub256ZXJvIj48cGF0aCBkPSJNMjAgMEgyQzEgMCAwIDEgMCAydjE0YzAgMS4xLjkgMiAyIDJoMThjMSAwIDItMSAyLTJWMmMwLTEtMS0yLTItMnptMCAxNS45MmMtLjAyLjAzLS4wNi4wNi0uMDguMDhIMlYyLjA4TDIuMDggMmgxNy44M2MuMDMuMDIuMDYuMDYuMDguMDh2MTMuODRIMjB6Ii8+PHBhdGggZD0iTTEwIDEyLjUxTDcuNSA5LjUgNCAxNGgxNGwtNC41LTZ6Ii8+PC9nPjwvc3ZnPg==);width:62px;height:62px\"></div><div class=\"_21YjFX _2A07HP\" style=\"background-image:url(https://rukminim1.flixcart.com/blobio/124/124/imr-202110/blobio-imr-202110_28163663809b41d6a93bdfbe8067cdfe.jpeg?q=90), url(data:image/svg+xml;base64,PHN2ZyB3aWR0aD0iMjIiIGhlaWdodD0iMTgiIHhtbG5zPSJodHRwOi8vd3d3LnczLm9yZy8yMDAwL3N2ZyI+PGcgZmlsbD0iIzlEOUQ5RCIgZmlsbC1ydWxlPSJub256ZXJvIj48cGF0aCBkPSJNMjAgMEgyQzEgMCAwIDEgMCAydjE0YzAgMS4xLjkgMiAyIDJoMThjMSAwIDItMSAyLTJWMmMwLTEtMS0yLTItMnptMCAxNS45MmMtLjAyLjAzLS4wNi4wNi0uMDguMDhIMlYyLjA4TDIuMDggMmgxNy44M2MuMDMuMDIuMDYuMDYuMDguMDh2MTMuODRIMjB6Ii8+PHBhdGggZD0iTTEwIDEyLjUxTDcuNSA5LjUgNCAxNGgxNGwtNC41LTZ6Ii8+PC9nPjwvc3ZnPg==);width:62px;height:62px\"></div></div><div class=\"row _3n8db9\"><div class=\"row\"><p class=\"_2sc7ZR _2V5EHH\">Rajashree  Sinha</p><svg class=\"_2a1p_T\" height=\"14\" viewbox=\"0 0 12 12\" width=\"14\" xmlns=\"http://www.w3.org/2000/svg\"><g><circle cx=\"6\" cy=\"6\" fill=\"#878787\" r=\"6\"></circle><path d=\"M3 6l2 2 4-4\" fill=\"#878787\" stroke=\"#FFF\" stroke-width=\"1.5\"></path></g></svg><p class=\"_2mcZGG\" id=\"review-93925658-c8cc-40b1-998c-aee060a6e948\"><span>Certified Buyer</span><span>, Cuttack</span></p><div></div><p class=\"_2sc7ZR\">Oct, 2021</p></div><div class=\"_1e9_Zu\"><div class=\"row\"><div class=\"_27aTsS\"><div class=\"_1LmwT9\"><svg class=\"skCrcq\" height=\"15\" width=\"20\" xmlns=\"http://www.w3.org/2000/svg\"><path class=\"_1LIt4y\" d=\"M9.58.006c-.41.043-.794.32-1.01.728-.277.557-2.334 4.693-2.74 5.1-.41.407-.944.6-1.544.6v8.572h7.5c.45 0 .835-.28 1.007-.665 0 0 2.207-6.234 2.207-6.834 0-.6-.47-1.072-1.07-1.072h-3.216c-.6 0-1.07-.535-1.07-1.07 0-.537.835-3.387 1.006-3.944.17-.557-.107-1.157-.664-1.35-.15-.043-.257-.086-.407-.064zM0 6.434v8.572h2.143V6.434H0z\" fill=\"#fff\" fill-rule=\"evenodd\"></path></svg><span class=\"_3c3Px5\">13</span></div><div class=\"_1LmwT9 pkR4jH\"><svg class=\"skCrcq pkR4jH\" height=\"15\" width=\"20\" xmlns=\"http://www.w3.org/2000/svg\"><path class=\"_1LIt4y\" d=\"M9.58.006c-.41.043-.794.32-1.01.728-.277.557-2.334 4.693-2.74 5.1-.41.407-.944.6-1.544.6v8.572h7.5c.45 0 .835-.28 1.007-.665 0 0 2.207-6.234 2.207-6.834 0-.6-.47-1.072-1.07-1.072h-3.216c-.6 0-1.07-.535-1.07-1.07 0-.537.835-3.387 1.006-3.944.17-.557-.107-1.157-.664-1.35-.15-.043-.257-.086-.407-.064zM0 6.434v8.572h2.143V6.434H0z\" fill=\"#fff\" fill-rule=\"evenodd\"></path></svg><span class=\"_3c3Px5\">8</span></div></div><div class=\"_2bmov8\"><svg class=\"_2UvOBb\" height=\"11\" viewbox=\"0 0 16 27\" width=\"6\" xmlns=\"http://www.w3.org/2000/svg\"><path class=\"_2aPE6f\" d=\"M16 23.207L6.11 13.161 16 3.093 12.955 0 0 13.161l12.955 13.161z\" fill=\"#fff\"></path></svg><div class=\"_3E8aIl _38dCuf\"><div class=\"_3XCI6U\"><a href=\"/reviews/SMWG4GF2H9V3MJ8Y:3408?reviewId=93925658-c8cc-40b1-998c-aee060a6e948\"><span>Permalink</span></a></div><div class=\"_3XCI6U _2b2z-j\"><span>Report Abuse</span></div></div></div></div></div></div></div>,\n",
              " <div class=\"col _2wzgFH K0kLPL\"><div class=\"row\"><div class=\"_3LWZlK _1BLPMq\">5<img class=\"_1wB99o\" src=\"data:image/svg+xml;base64,PHN2ZyB4bWxucz0iaHR0cDovL3d3dy53My5vcmcvMjAwMC9zdmciIHdpZHRoPSIxMyIgaGVpZ2h0PSIxMiI+PHBhdGggZmlsbD0iI0ZGRiIgZD0iTTYuNSA5LjQzOWwtMy42NzQgMi4yMy45NC00LjI2LTMuMjEtMi44ODMgNC4yNTQtLjQwNEw2LjUuMTEybDEuNjkgNC4wMSA0LjI1NC40MDQtMy4yMSAyLjg4Mi45NCA0LjI2eiIvPjwvc3ZnPg==\"/></div><p class=\"_2-N8zT\">Excellent</p></div><div class=\"row\"><div class=\"t-ZTKy\"><div><div class=\"\">Good looking watch, touchscreen works well, lots of features and easy to handle. Battery backup is perfect and requires less charging time. You can surely go for it</div><span class=\"_1H-bmy\"><span>READ MORE</span></span></div></div></div><div class=\"row _3n8db9\"><div class=\"row\"><p class=\"_2sc7ZR _2V5EHH\">Anoop Jaglan</p><svg class=\"_2a1p_T\" height=\"14\" viewbox=\"0 0 12 12\" width=\"14\" xmlns=\"http://www.w3.org/2000/svg\"><g><circle cx=\"6\" cy=\"6\" fill=\"#878787\" r=\"6\"></circle><path d=\"M3 6l2 2 4-4\" fill=\"#878787\" stroke=\"#FFF\" stroke-width=\"1.5\"></path></g></svg><p class=\"_2mcZGG\" id=\"review-f93844b9-5f52-4574-8843-6104e2a7acdf\"><span>Certified Buyer</span><span>, Panipat</span></p><div></div><p class=\"_2sc7ZR\">Aug, 2021</p></div><div class=\"_1e9_Zu\"><div class=\"row\"><div class=\"_27aTsS\"><div class=\"_1LmwT9\"><svg class=\"skCrcq\" height=\"15\" width=\"20\" xmlns=\"http://www.w3.org/2000/svg\"><path class=\"_1LIt4y\" d=\"M9.58.006c-.41.043-.794.32-1.01.728-.277.557-2.334 4.693-2.74 5.1-.41.407-.944.6-1.544.6v8.572h7.5c.45 0 .835-.28 1.007-.665 0 0 2.207-6.234 2.207-6.834 0-.6-.47-1.072-1.07-1.072h-3.216c-.6 0-1.07-.535-1.07-1.07 0-.537.835-3.387 1.006-3.944.17-.557-.107-1.157-.664-1.35-.15-.043-.257-.086-.407-.064zM0 6.434v8.572h2.143V6.434H0z\" fill=\"#fff\" fill-rule=\"evenodd\"></path></svg><span class=\"_3c3Px5\">6</span></div><div class=\"_1LmwT9 pkR4jH\"><svg class=\"skCrcq pkR4jH\" height=\"15\" width=\"20\" xmlns=\"http://www.w3.org/2000/svg\"><path class=\"_1LIt4y\" d=\"M9.58.006c-.41.043-.794.32-1.01.728-.277.557-2.334 4.693-2.74 5.1-.41.407-.944.6-1.544.6v8.572h7.5c.45 0 .835-.28 1.007-.665 0 0 2.207-6.234 2.207-6.834 0-.6-.47-1.072-1.07-1.072h-3.216c-.6 0-1.07-.535-1.07-1.07 0-.537.835-3.387 1.006-3.944.17-.557-.107-1.157-.664-1.35-.15-.043-.257-.086-.407-.064zM0 6.434v8.572h2.143V6.434H0z\" fill=\"#fff\" fill-rule=\"evenodd\"></path></svg><span class=\"_3c3Px5\">3</span></div></div><div class=\"_2bmov8\"><svg class=\"_2UvOBb\" height=\"11\" viewbox=\"0 0 16 27\" width=\"6\" xmlns=\"http://www.w3.org/2000/svg\"><path class=\"_2aPE6f\" d=\"M16 23.207L6.11 13.161 16 3.093 12.955 0 0 13.161l12.955 13.161z\" fill=\"#fff\"></path></svg><div class=\"_3E8aIl _38dCuf\"><div class=\"_3XCI6U\"><a href=\"/reviews/SMWG4GF2H9V3MJ8Y:914?reviewId=f93844b9-5f52-4574-8843-6104e2a7acdf\"><span>Permalink</span></a></div><div class=\"_3XCI6U _2b2z-j\"><span>Report Abuse</span></div></div></div></div></div></div></div>,\n",
              " <div class=\"col _2wzgFH K0kLPL\"><div class=\"row\"><div class=\"_3LWZlK _1BLPMq\">5<img class=\"_1wB99o\" src=\"data:image/svg+xml;base64,PHN2ZyB4bWxucz0iaHR0cDovL3d3dy53My5vcmcvMjAwMC9zdmciIHdpZHRoPSIxMyIgaGVpZ2h0PSIxMiI+PHBhdGggZmlsbD0iI0ZGRiIgZD0iTTYuNSA5LjQzOWwtMy42NzQgMi4yMy45NC00LjI2LTMuMjEtMi44ODMgNC4yNTQtLjQwNEw2LjUuMTEybDEuNjkgNC4wMSA0LjI1NC40MDQtMy4yMSAyLjg4Mi45NCA0LjI2eiIvPjwvc3ZnPg==\"/></div><p class=\"_2-N8zT\">Worth every penny</p></div><div class=\"row\"><div class=\"t-ZTKy\"><div><div class=\"\">I bought it on sept5 2021....i giving review after 8 months....watch is jst awesome in reasonable price...battery last upto 5 days.... activity tracker is good...touch is also gud....the material is hard which is also very gud as my watch slipped so many times bt it still doesn't broke....till now it's working perfectly fine....u can go for it...</div><span class=\"_1H-bmy\"><span>READ MORE</span></span></div></div></div><div class=\"_2nMSwX _3oLIki\"><div class=\"_21YjFX _2A07HP\" style=\"background-image:url(https://rukminim1.flixcart.com/blobio/124/124/imr-202205/blobio-imr-202205_a2397d21ac2d43c49ea76a85e5e0718d.jpg?q=90), url(data:image/svg+xml;base64,PHN2ZyB3aWR0aD0iMjIiIGhlaWdodD0iMTgiIHhtbG5zPSJodHRwOi8vd3d3LnczLm9yZy8yMDAwL3N2ZyI+PGcgZmlsbD0iIzlEOUQ5RCIgZmlsbC1ydWxlPSJub256ZXJvIj48cGF0aCBkPSJNMjAgMEgyQzEgMCAwIDEgMCAydjE0YzAgMS4xLjkgMiAyIDJoMThjMSAwIDItMSAyLTJWMmMwLTEtMS0yLTItMnptMCAxNS45MmMtLjAyLjAzLS4wNi4wNi0uMDguMDhIMlYyLjA4TDIuMDggMmgxNy44M2MuMDMuMDIuMDYuMDYuMDguMDh2MTMuODRIMjB6Ii8+PHBhdGggZD0iTTEwIDEyLjUxTDcuNSA5LjUgNCAxNGgxNGwtNC41LTZ6Ii8+PC9nPjwvc3ZnPg==);width:62px;height:62px\"></div></div><div class=\"row _3n8db9\"><div class=\"row\"><p class=\"_2sc7ZR _2V5EHH\">Shaik Jaffar</p><svg class=\"_2a1p_T\" height=\"14\" viewbox=\"0 0 12 12\" width=\"14\" xmlns=\"http://www.w3.org/2000/svg\"><g><circle cx=\"6\" cy=\"6\" fill=\"#878787\" r=\"6\"></circle><path d=\"M3 6l2 2 4-4\" fill=\"#878787\" stroke=\"#FFF\" stroke-width=\"1.5\"></path></g></svg><p class=\"_2mcZGG\" id=\"review-a9125a3a-2aff-4a3f-a7aa-4b2da4c54a80\"><span>Certified Buyer</span><span>, Ongole</span></p><div></div><p class=\"_2sc7ZR\">8 months ago</p></div><div class=\"_1e9_Zu\"><div class=\"row\"><div class=\"_27aTsS\"><div class=\"_1LmwT9\"><svg class=\"skCrcq\" height=\"15\" width=\"20\" xmlns=\"http://www.w3.org/2000/svg\"><path class=\"_1LIt4y\" d=\"M9.58.006c-.41.043-.794.32-1.01.728-.277.557-2.334 4.693-2.74 5.1-.41.407-.944.6-1.544.6v8.572h7.5c.45 0 .835-.28 1.007-.665 0 0 2.207-6.234 2.207-6.834 0-.6-.47-1.072-1.07-1.072h-3.216c-.6 0-1.07-.535-1.07-1.07 0-.537.835-3.387 1.006-3.944.17-.557-.107-1.157-.664-1.35-.15-.043-.257-.086-.407-.064zM0 6.434v8.572h2.143V6.434H0z\" fill=\"#fff\" fill-rule=\"evenodd\"></path></svg><span class=\"_3c3Px5\">3</span></div><div class=\"_1LmwT9 pkR4jH\"><svg class=\"skCrcq pkR4jH\" height=\"15\" width=\"20\" xmlns=\"http://www.w3.org/2000/svg\"><path class=\"_1LIt4y\" d=\"M9.58.006c-.41.043-.794.32-1.01.728-.277.557-2.334 4.693-2.74 5.1-.41.407-.944.6-1.544.6v8.572h7.5c.45 0 .835-.28 1.007-.665 0 0 2.207-6.234 2.207-6.834 0-.6-.47-1.072-1.07-1.072h-3.216c-.6 0-1.07-.535-1.07-1.07 0-.537.835-3.387 1.006-3.944.17-.557-.107-1.157-.664-1.35-.15-.043-.257-.086-.407-.064zM0 6.434v8.572h2.143V6.434H0z\" fill=\"#fff\" fill-rule=\"evenodd\"></path></svg><span class=\"_3c3Px5\">1</span></div></div><div class=\"_2bmov8\"><svg class=\"_2UvOBb\" height=\"11\" viewbox=\"0 0 16 27\" width=\"6\" xmlns=\"http://www.w3.org/2000/svg\"><path class=\"_2aPE6f\" d=\"M16 23.207L6.11 13.161 16 3.093 12.955 0 0 13.161l12.955 13.161z\" fill=\"#fff\"></path></svg><div class=\"_3E8aIl _38dCuf\"><div class=\"_3XCI6U\"><a href=\"/reviews/SMWG4GF2H9V3MJ8Y:7669?reviewId=a9125a3a-2aff-4a3f-a7aa-4b2da4c54a80\"><span>Permalink</span></a></div><div class=\"_3XCI6U _2b2z-j\"><span>Report Abuse</span></div></div></div></div></div></div></div>,\n",
              " <div class=\"col _2wzgFH K0kLPL\"><div class=\"row\"><div class=\"_3LWZlK _1BLPMq\">5<img class=\"_1wB99o\" src=\"data:image/svg+xml;base64,PHN2ZyB4bWxucz0iaHR0cDovL3d3dy53My5vcmcvMjAwMC9zdmciIHdpZHRoPSIxMyIgaGVpZ2h0PSIxMiI+PHBhdGggZmlsbD0iI0ZGRiIgZD0iTTYuNSA5LjQzOWwtMy42NzQgMi4yMy45NC00LjI2LTMuMjEtMi44ODMgNC4yNTQtLjQwNEw2LjUuMTEybDEuNjkgNC4wMSA0LjI1NC40MDQtMy4yMSAyLjg4Mi45NCA0LjI2eiIvPjwvc3ZnPg==\"/></div><p class=\"_2-N8zT\">Just wow!</p></div><div class=\"row\"><div class=\"t-ZTKy\"><div><div class=\"\">This is my dream watch my first purchased smartwatch for me it's amazing watch heart rate effect BP perfect oxygen footstep everything perfect I am happy with this purchase I paid for 1800 thank you Flipkart</div><span class=\"_1H-bmy\"><span>READ MORE</span></span></div></div></div><div class=\"row _3n8db9\"><div class=\"row\"><p class=\"_2sc7ZR _2V5EHH\">Flipkart Customer</p><svg class=\"_2a1p_T\" height=\"14\" viewbox=\"0 0 12 12\" width=\"14\" xmlns=\"http://www.w3.org/2000/svg\"><g><circle cx=\"6\" cy=\"6\" fill=\"#878787\" r=\"6\"></circle><path d=\"M3 6l2 2 4-4\" fill=\"#878787\" stroke=\"#FFF\" stroke-width=\"1.5\"></path></g></svg><p class=\"_2mcZGG\" id=\"review-65dceecf-87b6-42dc-b9f3-88bc3ee880e7\"><span>Certified Buyer</span><span>, Thane District</span></p><div></div><p class=\"_2sc7ZR\">Aug, 2021</p></div><div class=\"_1e9_Zu\"><div class=\"row\"><div class=\"_27aTsS\"><div class=\"_1LmwT9\"><svg class=\"skCrcq\" height=\"15\" width=\"20\" xmlns=\"http://www.w3.org/2000/svg\"><path class=\"_1LIt4y\" d=\"M9.58.006c-.41.043-.794.32-1.01.728-.277.557-2.334 4.693-2.74 5.1-.41.407-.944.6-1.544.6v8.572h7.5c.45 0 .835-.28 1.007-.665 0 0 2.207-6.234 2.207-6.834 0-.6-.47-1.072-1.07-1.072h-3.216c-.6 0-1.07-.535-1.07-1.07 0-.537.835-3.387 1.006-3.944.17-.557-.107-1.157-.664-1.35-.15-.043-.257-.086-.407-.064zM0 6.434v8.572h2.143V6.434H0z\" fill=\"#fff\" fill-rule=\"evenodd\"></path></svg><span class=\"_3c3Px5\">4</span></div><div class=\"_1LmwT9 pkR4jH\"><svg class=\"skCrcq pkR4jH\" height=\"15\" width=\"20\" xmlns=\"http://www.w3.org/2000/svg\"><path class=\"_1LIt4y\" d=\"M9.58.006c-.41.043-.794.32-1.01.728-.277.557-2.334 4.693-2.74 5.1-.41.407-.944.6-1.544.6v8.572h7.5c.45 0 .835-.28 1.007-.665 0 0 2.207-6.234 2.207-6.834 0-.6-.47-1.072-1.07-1.072h-3.216c-.6 0-1.07-.535-1.07-1.07 0-.537.835-3.387 1.006-3.944.17-.557-.107-1.157-.664-1.35-.15-.043-.257-.086-.407-.064zM0 6.434v8.572h2.143V6.434H0z\" fill=\"#fff\" fill-rule=\"evenodd\"></path></svg><span class=\"_3c3Px5\">1</span></div></div><div class=\"_2bmov8\"><svg class=\"_2UvOBb\" height=\"11\" viewbox=\"0 0 16 27\" width=\"6\" xmlns=\"http://www.w3.org/2000/svg\"><path class=\"_2aPE6f\" d=\"M16 23.207L6.11 13.161 16 3.093 12.955 0 0 13.161l12.955 13.161z\" fill=\"#fff\"></path></svg><div class=\"_3E8aIl _38dCuf\"><div class=\"_3XCI6U\"><a href=\"/reviews/SMWG4GF2H9V3MJ8Y:424?reviewId=65dceecf-87b6-42dc-b9f3-88bc3ee880e7\"><span>Permalink</span></a></div><div class=\"_3XCI6U _2b2z-j\"><span>Report Abuse</span></div></div></div></div></div></div></div>,\n",
              " <div class=\"col _2wzgFH K0kLPL\"><div class=\"row\"><div class=\"_3LWZlK _1BLPMq\">5<img class=\"_1wB99o\" src=\"data:image/svg+xml;base64,PHN2ZyB4bWxucz0iaHR0cDovL3d3dy53My5vcmcvMjAwMC9zdmciIHdpZHRoPSIxMyIgaGVpZ2h0PSIxMiI+PHBhdGggZmlsbD0iI0ZGRiIgZD0iTTYuNSA5LjQzOWwtMy42NzQgMi4yMy45NC00LjI2LTMuMjEtMi44ODMgNC4yNTQtLjQwNEw2LjUuMTEybDEuNjkgNC4wMSA0LjI1NC40MDQtMy4yMSAyLjg4Mi45NCA0LjI2eiIvPjwvc3ZnPg==\"/></div><p class=\"_2-N8zT\">Highly recommended</p></div><div class=\"row\"><div class=\"t-ZTKy\"><div><div class=\"\">One of the best budget smartwatches out in the market out there.display size is adequately large enough for the price.features are also less.but it have most of the essential modes in it.definitly its a good one with super build quality</div><span class=\"_1H-bmy\"><span>READ MORE</span></span></div></div></div><div class=\"_2nMSwX _3oLIki\"><div class=\"_21YjFX _2A07HP\" style=\"background-image:url(https://rukminim1.flixcart.com/blobio/124/124/imr-202110/blobio-imr-202110_a3de3bfeaf2e403e9584d375ebf87c10.jpeg?q=90), url(data:image/svg+xml;base64,PHN2ZyB3aWR0aD0iMjIiIGhlaWdodD0iMTgiIHhtbG5zPSJodHRwOi8vd3d3LnczLm9yZy8yMDAwL3N2ZyI+PGcgZmlsbD0iIzlEOUQ5RCIgZmlsbC1ydWxlPSJub256ZXJvIj48cGF0aCBkPSJNMjAgMEgyQzEgMCAwIDEgMCAydjE0YzAgMS4xLjkgMiAyIDJoMThjMSAwIDItMSAyLTJWMmMwLTEtMS0yLTItMnptMCAxNS45MmMtLjAyLjAzLS4wNi4wNi0uMDguMDhIMlYyLjA4TDIuMDggMmgxNy44M2MuMDMuMDIuMDYuMDYuMDguMDh2MTMuODRIMjB6Ii8+PHBhdGggZD0iTTEwIDEyLjUxTDcuNSA5LjUgNCAxNGgxNGwtNC41LTZ6Ii8+PC9nPjwvc3ZnPg==);width:62px;height:62px\"></div><div class=\"_21YjFX _2A07HP\" style=\"background-image:url(https://rukminim1.flixcart.com/blobio/124/124/imr-202110/blobio-imr-202110_aca10eebe4de442bb539d258e794c2f8.jpeg?q=90), url(data:image/svg+xml;base64,PHN2ZyB3aWR0aD0iMjIiIGhlaWdodD0iMTgiIHhtbG5zPSJodHRwOi8vd3d3LnczLm9yZy8yMDAwL3N2ZyI+PGcgZmlsbD0iIzlEOUQ5RCIgZmlsbC1ydWxlPSJub256ZXJvIj48cGF0aCBkPSJNMjAgMEgyQzEgMCAwIDEgMCAydjE0YzAgMS4xLjkgMiAyIDJoMThjMSAwIDItMSAyLTJWMmMwLTEtMS0yLTItMnptMCAxNS45MmMtLjAyLjAzLS4wNi4wNi0uMDguMDhIMlYyLjA4TDIuMDggMmgxNy44M2MuMDMuMDIuMDYuMDYuMDguMDh2MTMuODRIMjB6Ii8+PHBhdGggZD0iTTEwIDEyLjUxTDcuNSA5LjUgNCAxNGgxNGwtNC41LTZ6Ii8+PC9nPjwvc3ZnPg==);width:62px;height:62px\"></div><div class=\"_21YjFX _2A07HP\" style=\"background-image:url(https://rukminim1.flixcart.com/blobio/124/124/imr-202110/blobio-imr-202110_f1c8b16764c849c5852060a8394b4b6d.jpeg?q=90), url(data:image/svg+xml;base64,PHN2ZyB3aWR0aD0iMjIiIGhlaWdodD0iMTgiIHhtbG5zPSJodHRwOi8vd3d3LnczLm9yZy8yMDAwL3N2ZyI+PGcgZmlsbD0iIzlEOUQ5RCIgZmlsbC1ydWxlPSJub256ZXJvIj48cGF0aCBkPSJNMjAgMEgyQzEgMCAwIDEgMCAydjE0YzAgMS4xLjkgMiAyIDJoMThjMSAwIDItMSAyLTJWMmMwLTEtMS0yLTItMnptMCAxNS45MmMtLjAyLjAzLS4wNi4wNi0uMDguMDhIMlYyLjA4TDIuMDggMmgxNy44M2MuMDMuMDIuMDYuMDYuMDguMDh2MTMuODRIMjB6Ii8+PHBhdGggZD0iTTEwIDEyLjUxTDcuNSA5LjUgNCAxNGgxNGwtNC41LTZ6Ii8+PC9nPjwvc3ZnPg==);width:62px;height:62px\"></div></div><div class=\"row _3n8db9\"><div class=\"row\"><p class=\"_2sc7ZR _2V5EHH\">Anumol  Chandrasekharan</p><svg class=\"_2a1p_T\" height=\"14\" viewbox=\"0 0 12 12\" width=\"14\" xmlns=\"http://www.w3.org/2000/svg\"><g><circle cx=\"6\" cy=\"6\" fill=\"#878787\" r=\"6\"></circle><path d=\"M3 6l2 2 4-4\" fill=\"#878787\" stroke=\"#FFF\" stroke-width=\"1.5\"></path></g></svg><p class=\"_2mcZGG\" id=\"review-c315baae-8161-4fa4-906d-f2303f59e212\"><span>Certified Buyer</span><span>, Kureekkad</span></p><div></div><p class=\"_2sc7ZR\">Oct, 2021</p></div><div class=\"_1e9_Zu\"><div class=\"row\"><div class=\"_27aTsS\"><div class=\"_1LmwT9\"><svg class=\"skCrcq\" height=\"15\" width=\"20\" xmlns=\"http://www.w3.org/2000/svg\"><path class=\"_1LIt4y\" d=\"M9.58.006c-.41.043-.794.32-1.01.728-.277.557-2.334 4.693-2.74 5.1-.41.407-.944.6-1.544.6v8.572h7.5c.45 0 .835-.28 1.007-.665 0 0 2.207-6.234 2.207-6.834 0-.6-.47-1.072-1.07-1.072h-3.216c-.6 0-1.07-.535-1.07-1.07 0-.537.835-3.387 1.006-3.944.17-.557-.107-1.157-.664-1.35-.15-.043-.257-.086-.407-.064zM0 6.434v8.572h2.143V6.434H0z\" fill=\"#fff\" fill-rule=\"evenodd\"></path></svg><span class=\"_3c3Px5\">9</span></div><div class=\"_1LmwT9 pkR4jH\"><svg class=\"skCrcq pkR4jH\" height=\"15\" width=\"20\" xmlns=\"http://www.w3.org/2000/svg\"><path class=\"_1LIt4y\" d=\"M9.58.006c-.41.043-.794.32-1.01.728-.277.557-2.334 4.693-2.74 5.1-.41.407-.944.6-1.544.6v8.572h7.5c.45 0 .835-.28 1.007-.665 0 0 2.207-6.234 2.207-6.834 0-.6-.47-1.072-1.07-1.072h-3.216c-.6 0-1.07-.535-1.07-1.07 0-.537.835-3.387 1.006-3.944.17-.557-.107-1.157-.664-1.35-.15-.043-.257-.086-.407-.064zM0 6.434v8.572h2.143V6.434H0z\" fill=\"#fff\" fill-rule=\"evenodd\"></path></svg><span class=\"_3c3Px5\">8</span></div></div><div class=\"_2bmov8\"><svg class=\"_2UvOBb\" height=\"11\" viewbox=\"0 0 16 27\" width=\"6\" xmlns=\"http://www.w3.org/2000/svg\"><path class=\"_2aPE6f\" d=\"M16 23.207L6.11 13.161 16 3.093 12.955 0 0 13.161l12.955 13.161z\" fill=\"#fff\"></path></svg><div class=\"_3E8aIl _38dCuf\"><div class=\"_3XCI6U\"><a href=\"/reviews/SMWG4GF2H9V3MJ8Y:2808?reviewId=c315baae-8161-4fa4-906d-f2303f59e212\"><span>Permalink</span></a></div><div class=\"_3XCI6U _2b2z-j\"><span>Report Abuse</span></div></div></div></div></div></div></div>]"
            ]
          },
          "metadata": {},
          "execution_count": 10
        }
      ],
      "source": [
        "container=soup.find_all('div',class_='col _2wzgFH K0kLPL')\n",
        "container"
      ]
    },
    {
      "cell_type": "markdown",
      "metadata": {
        "id": "AQ_Q8qd7iejk"
      },
      "source": [
        "# **CREATING DATAFRAME FOR SINGLE PAGE**"
      ]
    },
    {
      "cell_type": "code",
      "execution_count": null,
      "metadata": {
        "id": "9pDUVtZ2p6lI"
      },
      "outputs": [],
      "source": [
        "product_review=soup.find_all('div',class_='col _2wzgFH K0kLPL')\n"
      ]
    },
    {
      "cell_type": "code",
      "execution_count": null,
      "metadata": {
        "colab": {
          "base_uri": "https://localhost:8080/",
          "height": 363
        },
        "id": "LZhlfL0vT47H",
        "outputId": "fccf86e0-020e-4488-bb07-a98cef07436f"
      },
      "outputs": [
        {
          "output_type": "execute_result",
          "data": {
            "text/plain": [
              "                      Name                                            Reviews  \\\n",
              "0        Munzir Ali Sayyed  I am first time using any of smart watchFirst ...   \n",
              "1            gaurav sharma  Worth the price, Good points1. Quality of prod...   \n",
              "2              Ajay Mistry  Design is perfect make your app more featured,...   \n",
              "3        Taher Udaipurwala  Nyc Its a great watch with super amazing displ...   \n",
              "4         Ishita Bhatnagar  Its black neutral colour looks absolutely stun...   \n",
              "5         Rajashree  Sinha  Nice product but battery is not good.... Overa...   \n",
              "6             Anoop Jaglan  Good looking watch, touchscreen works well, lo...   \n",
              "7             Shaik Jaffar  I bought it on sept5 2021....i giving review a...   \n",
              "8        Flipkart Customer  This is my dream watch my first purchased smar...   \n",
              "9  Anumol  Chandrasekharan  One of the best budget smartwatches out in the...   \n",
              "\n",
              "  rating  \n",
              "0      4  \n",
              "1      4  \n",
              "2      4  \n",
              "3      5  \n",
              "4      5  \n",
              "5      5  \n",
              "6      5  \n",
              "7      5  \n",
              "8      5  \n",
              "9      5  "
            ],
            "text/html": [
              "\n",
              "  <div id=\"df-b1e0251d-5d8f-4732-93c6-b90a50a87c9f\">\n",
              "    <div class=\"colab-df-container\">\n",
              "      <div>\n",
              "<style scoped>\n",
              "    .dataframe tbody tr th:only-of-type {\n",
              "        vertical-align: middle;\n",
              "    }\n",
              "\n",
              "    .dataframe tbody tr th {\n",
              "        vertical-align: top;\n",
              "    }\n",
              "\n",
              "    .dataframe thead th {\n",
              "        text-align: right;\n",
              "    }\n",
              "</style>\n",
              "<table border=\"1\" class=\"dataframe\">\n",
              "  <thead>\n",
              "    <tr style=\"text-align: right;\">\n",
              "      <th></th>\n",
              "      <th>Name</th>\n",
              "      <th>Reviews</th>\n",
              "      <th>rating</th>\n",
              "    </tr>\n",
              "  </thead>\n",
              "  <tbody>\n",
              "    <tr>\n",
              "      <th>0</th>\n",
              "      <td>Munzir Ali Sayyed</td>\n",
              "      <td>I am first time using any of smart watchFirst ...</td>\n",
              "      <td>4</td>\n",
              "    </tr>\n",
              "    <tr>\n",
              "      <th>1</th>\n",
              "      <td>gaurav sharma</td>\n",
              "      <td>Worth the price, Good points1. Quality of prod...</td>\n",
              "      <td>4</td>\n",
              "    </tr>\n",
              "    <tr>\n",
              "      <th>2</th>\n",
              "      <td>Ajay Mistry</td>\n",
              "      <td>Design is perfect make your app more featured,...</td>\n",
              "      <td>4</td>\n",
              "    </tr>\n",
              "    <tr>\n",
              "      <th>3</th>\n",
              "      <td>Taher Udaipurwala</td>\n",
              "      <td>Nyc Its a great watch with super amazing displ...</td>\n",
              "      <td>5</td>\n",
              "    </tr>\n",
              "    <tr>\n",
              "      <th>4</th>\n",
              "      <td>Ishita Bhatnagar</td>\n",
              "      <td>Its black neutral colour looks absolutely stun...</td>\n",
              "      <td>5</td>\n",
              "    </tr>\n",
              "    <tr>\n",
              "      <th>5</th>\n",
              "      <td>Rajashree  Sinha</td>\n",
              "      <td>Nice product but battery is not good.... Overa...</td>\n",
              "      <td>5</td>\n",
              "    </tr>\n",
              "    <tr>\n",
              "      <th>6</th>\n",
              "      <td>Anoop Jaglan</td>\n",
              "      <td>Good looking watch, touchscreen works well, lo...</td>\n",
              "      <td>5</td>\n",
              "    </tr>\n",
              "    <tr>\n",
              "      <th>7</th>\n",
              "      <td>Shaik Jaffar</td>\n",
              "      <td>I bought it on sept5 2021....i giving review a...</td>\n",
              "      <td>5</td>\n",
              "    </tr>\n",
              "    <tr>\n",
              "      <th>8</th>\n",
              "      <td>Flipkart Customer</td>\n",
              "      <td>This is my dream watch my first purchased smar...</td>\n",
              "      <td>5</td>\n",
              "    </tr>\n",
              "    <tr>\n",
              "      <th>9</th>\n",
              "      <td>Anumol  Chandrasekharan</td>\n",
              "      <td>One of the best budget smartwatches out in the...</td>\n",
              "      <td>5</td>\n",
              "    </tr>\n",
              "  </tbody>\n",
              "</table>\n",
              "</div>\n",
              "      <button class=\"colab-df-convert\" onclick=\"convertToInteractive('df-b1e0251d-5d8f-4732-93c6-b90a50a87c9f')\"\n",
              "              title=\"Convert this dataframe to an interactive table.\"\n",
              "              style=\"display:none;\">\n",
              "        \n",
              "  <svg xmlns=\"http://www.w3.org/2000/svg\" height=\"24px\"viewBox=\"0 0 24 24\"\n",
              "       width=\"24px\">\n",
              "    <path d=\"M0 0h24v24H0V0z\" fill=\"none\"/>\n",
              "    <path d=\"M18.56 5.44l.94 2.06.94-2.06 2.06-.94-2.06-.94-.94-2.06-.94 2.06-2.06.94zm-11 1L8.5 8.5l.94-2.06 2.06-.94-2.06-.94L8.5 2.5l-.94 2.06-2.06.94zm10 10l.94 2.06.94-2.06 2.06-.94-2.06-.94-.94-2.06-.94 2.06-2.06.94z\"/><path d=\"M17.41 7.96l-1.37-1.37c-.4-.4-.92-.59-1.43-.59-.52 0-1.04.2-1.43.59L10.3 9.45l-7.72 7.72c-.78.78-.78 2.05 0 2.83L4 21.41c.39.39.9.59 1.41.59.51 0 1.02-.2 1.41-.59l7.78-7.78 2.81-2.81c.8-.78.8-2.07 0-2.86zM5.41 20L4 18.59l7.72-7.72 1.47 1.35L5.41 20z\"/>\n",
              "  </svg>\n",
              "      </button>\n",
              "      \n",
              "  <style>\n",
              "    .colab-df-container {\n",
              "      display:flex;\n",
              "      flex-wrap:wrap;\n",
              "      gap: 12px;\n",
              "    }\n",
              "\n",
              "    .colab-df-convert {\n",
              "      background-color: #E8F0FE;\n",
              "      border: none;\n",
              "      border-radius: 50%;\n",
              "      cursor: pointer;\n",
              "      display: none;\n",
              "      fill: #1967D2;\n",
              "      height: 32px;\n",
              "      padding: 0 0 0 0;\n",
              "      width: 32px;\n",
              "    }\n",
              "\n",
              "    .colab-df-convert:hover {\n",
              "      background-color: #E2EBFA;\n",
              "      box-shadow: 0px 1px 2px rgba(60, 64, 67, 0.3), 0px 1px 3px 1px rgba(60, 64, 67, 0.15);\n",
              "      fill: #174EA6;\n",
              "    }\n",
              "\n",
              "    [theme=dark] .colab-df-convert {\n",
              "      background-color: #3B4455;\n",
              "      fill: #D2E3FC;\n",
              "    }\n",
              "\n",
              "    [theme=dark] .colab-df-convert:hover {\n",
              "      background-color: #434B5C;\n",
              "      box-shadow: 0px 1px 3px 1px rgba(0, 0, 0, 0.15);\n",
              "      filter: drop-shadow(0px 1px 2px rgba(0, 0, 0, 0.3));\n",
              "      fill: #FFFFFF;\n",
              "    }\n",
              "  </style>\n",
              "\n",
              "      <script>\n",
              "        const buttonEl =\n",
              "          document.querySelector('#df-b1e0251d-5d8f-4732-93c6-b90a50a87c9f button.colab-df-convert');\n",
              "        buttonEl.style.display =\n",
              "          google.colab.kernel.accessAllowed ? 'block' : 'none';\n",
              "\n",
              "        async function convertToInteractive(key) {\n",
              "          const element = document.querySelector('#df-b1e0251d-5d8f-4732-93c6-b90a50a87c9f');\n",
              "          const dataTable =\n",
              "            await google.colab.kernel.invokeFunction('convertToInteractive',\n",
              "                                                     [key], {});\n",
              "          if (!dataTable) return;\n",
              "\n",
              "          const docLinkHtml = 'Like what you see? Visit the ' +\n",
              "            '<a target=\"_blank\" href=https://colab.research.google.com/notebooks/data_table.ipynb>data table notebook</a>'\n",
              "            + ' to learn more about interactive tables.';\n",
              "          element.innerHTML = '';\n",
              "          dataTable['output_type'] = 'display_data';\n",
              "          await google.colab.output.renderOutput(dataTable, element);\n",
              "          const docLink = document.createElement('div');\n",
              "          docLink.innerHTML = docLinkHtml;\n",
              "          element.appendChild(docLink);\n",
              "        }\n",
              "      </script>\n",
              "    </div>\n",
              "  </div>\n",
              "  "
            ]
          },
          "metadata": {},
          "execution_count": 12
        }
      ],
      "source": [
        "name=[]\n",
        "reviews=[]\n",
        "rating=[]\n",
        "for i in product_review:\n",
        "  name.append(i.find('p',class_='_2sc7ZR _2V5EHH').text)\n",
        "  reviews.append(i.find('div',class_='t-ZTKy').text)\n",
        "  rating.append(i.find('div',class_='_3LWZlK _1BLPMq').text)\n",
        "\n",
        "df=pd.DataFrame({'Name':name,'Reviews':reviews,'rating':rating})\n",
        "df"
      ]
    },
    {
      "cell_type": "markdown",
      "metadata": {
        "id": "KiROa6CFic6L"
      },
      "source": [
        "# **CREATING DATAFRAME FOR ALL PAGE**"
      ]
    },
    {
      "cell_type": "code",
      "execution_count": null,
      "metadata": {
        "id": "tD-cJ88wVEXK"
      },
      "outputs": [],
      "source": [
        "product_review=soup.find_all('div',class_='col _2wzgFH K0kLPL')\n"
      ]
    },
    {
      "cell_type": "code",
      "execution_count": null,
      "metadata": {
        "id": "XluCD8FzzblT"
      },
      "outputs": [],
      "source": [
        "final=pd.DataFrame()\n",
        "\n",
        "  \n",
        "for j in range(0,982):\n",
        "\n",
        "  #url=('https://www.flipkart.com/fire-boltt-ninja-touch-wake-spo2-smartwatch/product-reviews/itm05b47a90c7c32?pid=SMWG4GF2H9V3MJ8Y&lid=LSTSMWG4GF2H9V3MJ8Y5QJJ34&marketplace=FLIPKART&page={}'.format(j))\n",
        "  #headers={'User-Agent':'Mozilla/5.0 (Windows NT 6.3; Win 64 ; x64) Apple WeKit /537.36(KHTML , like Gecko) Chrome/80.0.3987.162 Safari/537.36'}\n",
        "  #requests.get('url',headers=headers).text\n",
        "  webpage=requests.get('https://www.flipkart.com/fire-boltt-ninja-touch-wake-spo2-smartwatch/product-reviews/itm05b47a90c7c32?pid=SMWG4GF2H9V3MJ8Y&lid=LSTSMWG4GF2H9V3MJ8Y5QJJ34&marketplace=FLIPKART&page={}'.format(j)).text\n",
        "  soup=BeautifulSoup(webpage,'lxml')\n",
        "  container=soup.find_all('div',class_='col _2wzgFH K0kLPL')\n",
        "  name=[]\n",
        "  reviews=[]\n",
        "  rating=[]\n",
        "  for i in container:\n",
        "    try:\n",
        "        name.append(i.find('p',class_='_2sc7ZR _2V5EHH').text)\n",
        "    except:\n",
        "       name.append(np.nan)\n",
        "      \n",
        "    try:\n",
        "        reviews.append(i.find('div',class_='t-ZTKy').text)\n",
        "    except:\n",
        "       reviews.append(np.nan)\n",
        "\n",
        "    try:\n",
        "        rating.append(i.find('div',class_='_3LWZlK _1BLPMq').text)\n",
        "    except:\n",
        "       rating.append(np.nan)\n",
        "\n",
        "\n",
        "     #name.append(i.find('p',class_='_2sc7ZR _2V5EHH').text)\n",
        "     #reviews.append(i.find('div',class_='t-ZTKy').text)\n",
        "    # rating.append(i.find('div',class_='_3LWZlK _1BLPMq').text)\n",
        "\n",
        "\n",
        "  df=pd.DataFrame({'Name':name,'Reviews':reviews,'Rating':rating})\n",
        "  final=final.append(df,ignore_index=True)\n",
        "  \n",
        "\n",
        "  \n",
        "\n",
        "\n",
        "  "
      ]
    },
    {
      "cell_type": "code",
      "execution_count": null,
      "metadata": {
        "colab": {
          "base_uri": "https://localhost:8080/"
        },
        "id": "3RGQKs9q1mfU",
        "outputId": "719bfb7b-cb92-42fb-c75b-a591cbd92204"
      },
      "outputs": [
        {
          "output_type": "execute_result",
          "data": {
            "text/plain": [
              "(8828, 3)"
            ]
          },
          "metadata": {},
          "execution_count": 24
        }
      ],
      "source": [
        "final.shape"
      ]
    },
    {
      "cell_type": "markdown",
      "metadata": {
        "id": "jLUlO2yTiy3k"
      },
      "source": [
        "# **CREATE CSV FILE & SAVE INTO DRIVE**"
      ]
    },
    {
      "cell_type": "code",
      "execution_count": null,
      "metadata": {
        "colab": {
          "base_uri": "https://localhost:8080/"
        },
        "id": "5X1rK2OMNJIC",
        "outputId": "fc4a4304-3465-4160-f299-19ecf7ede965"
      },
      "outputs": [
        {
          "output_type": "stream",
          "name": "stdout",
          "text": [
            "Drive already mounted at /content/drive; to attempt to forcibly remount, call drive.mount(\"/content/drive\", force_remount=True).\n"
          ]
        }
      ],
      "source": [
        "from google.colab import drive\n",
        "drive.mount('/content/drive')\n",
        "path='/content/drive/MyDrive/CSV/fireboat.csv'\n",
        "with open(path, 'w', encoding = 'utf-8-sig') as f:\n",
        "  final.to_csv(f)"
      ]
    },
    {
      "cell_type": "markdown",
      "metadata": {
        "id": "AL5IXr8_i_Wn"
      },
      "source": [
        "# **LOAD CSV FILE FROM DRIVE**"
      ]
    },
    {
      "cell_type": "code",
      "execution_count": null,
      "metadata": {
        "id": "Q1RmdmwUe7zs",
        "colab": {
          "base_uri": "https://localhost:8080/"
        },
        "outputId": "ed3eca00-3b9e-4f06-ae02-a195ca7f90e1"
      },
      "outputs": [
        {
          "output_type": "stream",
          "name": "stdout",
          "text": [
            "Drive already mounted at /content/drive; to attempt to forcibly remount, call drive.mount(\"/content/drive\", force_remount=True).\n"
          ]
        }
      ],
      "source": [
        "from google.colab import drive\n",
        "drive.mount('/content/drive')\n",
        "path = \"/content/drive/MyDrive/CSV/fireboat.csv\"\n",
        "file= pd.read_csv('/content/drive/MyDrive/CSV/fireboat.csv')"
      ]
    },
    {
      "cell_type": "code",
      "source": [
        "file= pd.read_csv('/content/fireboat (2).csv')"
      ],
      "metadata": {
        "id": "BIOSS8FBQrRc"
      },
      "execution_count": null,
      "outputs": []
    },
    {
      "cell_type": "code",
      "source": [],
      "metadata": {
        "id": "7HQ3wspwOKKj"
      },
      "execution_count": null,
      "outputs": []
    },
    {
      "cell_type": "code",
      "source": [
        "from google.colab import drive\n",
        "drive.mount('/content/drive')"
      ],
      "metadata": {
        "colab": {
          "base_uri": "https://localhost:8080/"
        },
        "id": "B88yY3BAOLVG",
        "outputId": "237eaf7b-659f-40fb-8d56-39ac36be7c46"
      },
      "execution_count": null,
      "outputs": [
        {
          "output_type": "stream",
          "name": "stdout",
          "text": [
            "Drive already mounted at /content/drive; to attempt to forcibly remount, call drive.mount(\"/content/drive\", force_remount=True).\n"
          ]
        }
      ]
    },
    {
      "cell_type": "markdown",
      "metadata": {
        "id": "FcWkWPxWjhgd"
      },
      "source": [
        "# **START OUR MAIN PROJECT USING LOADED FILE**\n"
      ]
    },
    {
      "cell_type": "code",
      "execution_count": null,
      "metadata": {
        "id": "V7erHXrdfMae",
        "colab": {
          "base_uri": "https://localhost:8080/",
          "height": 423
        },
        "outputId": "0bf9c9f8-143c-4395-a1e2-f40cceca9119"
      },
      "outputs": [
        {
          "output_type": "execute_result",
          "data": {
            "text/plain": [
              "      Unnamed: 0                 Name  \\\n",
              "0              0    Flipkart Customer   \n",
              "1              1  Ramkumar Srinivasan   \n",
              "2              2        Arya Anikumar   \n",
              "3              3    Abhijeet Sengupta   \n",
              "4              4    Flipkart Customer   \n",
              "...          ...                  ...   \n",
              "8831        8831       Ranjeet Prasad   \n",
              "8832        8832    Flipkart Customer   \n",
              "8833        8833    Flipkart Customer   \n",
              "8834        8834        Parveen Ranga   \n",
              "8835        8835        Aryan  Kumar    \n",
              "\n",
              "                                                Reviews  Rating  \n",
              "0     Its my first smart watch... And my experience ...     5.0  \n",
              "1     The delivery was blazing speed. I ordered 2 un...     5.0  \n",
              "2     Such an amazing product I ever purchased . Goo...     5.0  \n",
              "3     Lovely stylish watch at good price, gorgeous w...     5.0  \n",
              "4     The watch is very well design also the touch r...     5.0  \n",
              "...                                                 ...     ...  \n",
              "8831                            Value of moneyREAD MORE     4.0  \n",
              "8832  Awesome watch...worth buying at this price ran...     5.0  \n",
              "8833  The smart hand watch is a very pretty so beaut...     4.0  \n",
              "8834  Best watch for everyone thanks to fire boltREA...     5.0  \n",
              "8835  Very nice product.  Value For money. Highly Re...     5.0  \n",
              "\n",
              "[8836 rows x 4 columns]"
            ],
            "text/html": [
              "\n",
              "  <div id=\"df-c9a98ff9-7a83-4ccb-a549-03467d99431b\">\n",
              "    <div class=\"colab-df-container\">\n",
              "      <div>\n",
              "<style scoped>\n",
              "    .dataframe tbody tr th:only-of-type {\n",
              "        vertical-align: middle;\n",
              "    }\n",
              "\n",
              "    .dataframe tbody tr th {\n",
              "        vertical-align: top;\n",
              "    }\n",
              "\n",
              "    .dataframe thead th {\n",
              "        text-align: right;\n",
              "    }\n",
              "</style>\n",
              "<table border=\"1\" class=\"dataframe\">\n",
              "  <thead>\n",
              "    <tr style=\"text-align: right;\">\n",
              "      <th></th>\n",
              "      <th>Unnamed: 0</th>\n",
              "      <th>Name</th>\n",
              "      <th>Reviews</th>\n",
              "      <th>Rating</th>\n",
              "    </tr>\n",
              "  </thead>\n",
              "  <tbody>\n",
              "    <tr>\n",
              "      <th>0</th>\n",
              "      <td>0</td>\n",
              "      <td>Flipkart Customer</td>\n",
              "      <td>Its my first smart watch... And my experience ...</td>\n",
              "      <td>5.0</td>\n",
              "    </tr>\n",
              "    <tr>\n",
              "      <th>1</th>\n",
              "      <td>1</td>\n",
              "      <td>Ramkumar Srinivasan</td>\n",
              "      <td>The delivery was blazing speed. I ordered 2 un...</td>\n",
              "      <td>5.0</td>\n",
              "    </tr>\n",
              "    <tr>\n",
              "      <th>2</th>\n",
              "      <td>2</td>\n",
              "      <td>Arya Anikumar</td>\n",
              "      <td>Such an amazing product I ever purchased . Goo...</td>\n",
              "      <td>5.0</td>\n",
              "    </tr>\n",
              "    <tr>\n",
              "      <th>3</th>\n",
              "      <td>3</td>\n",
              "      <td>Abhijeet Sengupta</td>\n",
              "      <td>Lovely stylish watch at good price, gorgeous w...</td>\n",
              "      <td>5.0</td>\n",
              "    </tr>\n",
              "    <tr>\n",
              "      <th>4</th>\n",
              "      <td>4</td>\n",
              "      <td>Flipkart Customer</td>\n",
              "      <td>The watch is very well design also the touch r...</td>\n",
              "      <td>5.0</td>\n",
              "    </tr>\n",
              "    <tr>\n",
              "      <th>...</th>\n",
              "      <td>...</td>\n",
              "      <td>...</td>\n",
              "      <td>...</td>\n",
              "      <td>...</td>\n",
              "    </tr>\n",
              "    <tr>\n",
              "      <th>8831</th>\n",
              "      <td>8831</td>\n",
              "      <td>Ranjeet Prasad</td>\n",
              "      <td>Value of moneyREAD MORE</td>\n",
              "      <td>4.0</td>\n",
              "    </tr>\n",
              "    <tr>\n",
              "      <th>8832</th>\n",
              "      <td>8832</td>\n",
              "      <td>Flipkart Customer</td>\n",
              "      <td>Awesome watch...worth buying at this price ran...</td>\n",
              "      <td>5.0</td>\n",
              "    </tr>\n",
              "    <tr>\n",
              "      <th>8833</th>\n",
              "      <td>8833</td>\n",
              "      <td>Flipkart Customer</td>\n",
              "      <td>The smart hand watch is a very pretty so beaut...</td>\n",
              "      <td>4.0</td>\n",
              "    </tr>\n",
              "    <tr>\n",
              "      <th>8834</th>\n",
              "      <td>8834</td>\n",
              "      <td>Parveen Ranga</td>\n",
              "      <td>Best watch for everyone thanks to fire boltREA...</td>\n",
              "      <td>5.0</td>\n",
              "    </tr>\n",
              "    <tr>\n",
              "      <th>8835</th>\n",
              "      <td>8835</td>\n",
              "      <td>Aryan  Kumar</td>\n",
              "      <td>Very nice product.  Value For money. Highly Re...</td>\n",
              "      <td>5.0</td>\n",
              "    </tr>\n",
              "  </tbody>\n",
              "</table>\n",
              "<p>8836 rows × 4 columns</p>\n",
              "</div>\n",
              "      <button class=\"colab-df-convert\" onclick=\"convertToInteractive('df-c9a98ff9-7a83-4ccb-a549-03467d99431b')\"\n",
              "              title=\"Convert this dataframe to an interactive table.\"\n",
              "              style=\"display:none;\">\n",
              "        \n",
              "  <svg xmlns=\"http://www.w3.org/2000/svg\" height=\"24px\"viewBox=\"0 0 24 24\"\n",
              "       width=\"24px\">\n",
              "    <path d=\"M0 0h24v24H0V0z\" fill=\"none\"/>\n",
              "    <path d=\"M18.56 5.44l.94 2.06.94-2.06 2.06-.94-2.06-.94-.94-2.06-.94 2.06-2.06.94zm-11 1L8.5 8.5l.94-2.06 2.06-.94-2.06-.94L8.5 2.5l-.94 2.06-2.06.94zm10 10l.94 2.06.94-2.06 2.06-.94-2.06-.94-.94-2.06-.94 2.06-2.06.94z\"/><path d=\"M17.41 7.96l-1.37-1.37c-.4-.4-.92-.59-1.43-.59-.52 0-1.04.2-1.43.59L10.3 9.45l-7.72 7.72c-.78.78-.78 2.05 0 2.83L4 21.41c.39.39.9.59 1.41.59.51 0 1.02-.2 1.41-.59l7.78-7.78 2.81-2.81c.8-.78.8-2.07 0-2.86zM5.41 20L4 18.59l7.72-7.72 1.47 1.35L5.41 20z\"/>\n",
              "  </svg>\n",
              "      </button>\n",
              "      \n",
              "  <style>\n",
              "    .colab-df-container {\n",
              "      display:flex;\n",
              "      flex-wrap:wrap;\n",
              "      gap: 12px;\n",
              "    }\n",
              "\n",
              "    .colab-df-convert {\n",
              "      background-color: #E8F0FE;\n",
              "      border: none;\n",
              "      border-radius: 50%;\n",
              "      cursor: pointer;\n",
              "      display: none;\n",
              "      fill: #1967D2;\n",
              "      height: 32px;\n",
              "      padding: 0 0 0 0;\n",
              "      width: 32px;\n",
              "    }\n",
              "\n",
              "    .colab-df-convert:hover {\n",
              "      background-color: #E2EBFA;\n",
              "      box-shadow: 0px 1px 2px rgba(60, 64, 67, 0.3), 0px 1px 3px 1px rgba(60, 64, 67, 0.15);\n",
              "      fill: #174EA6;\n",
              "    }\n",
              "\n",
              "    [theme=dark] .colab-df-convert {\n",
              "      background-color: #3B4455;\n",
              "      fill: #D2E3FC;\n",
              "    }\n",
              "\n",
              "    [theme=dark] .colab-df-convert:hover {\n",
              "      background-color: #434B5C;\n",
              "      box-shadow: 0px 1px 3px 1px rgba(0, 0, 0, 0.15);\n",
              "      filter: drop-shadow(0px 1px 2px rgba(0, 0, 0, 0.3));\n",
              "      fill: #FFFFFF;\n",
              "    }\n",
              "  </style>\n",
              "\n",
              "      <script>\n",
              "        const buttonEl =\n",
              "          document.querySelector('#df-c9a98ff9-7a83-4ccb-a549-03467d99431b button.colab-df-convert');\n",
              "        buttonEl.style.display =\n",
              "          google.colab.kernel.accessAllowed ? 'block' : 'none';\n",
              "\n",
              "        async function convertToInteractive(key) {\n",
              "          const element = document.querySelector('#df-c9a98ff9-7a83-4ccb-a549-03467d99431b');\n",
              "          const dataTable =\n",
              "            await google.colab.kernel.invokeFunction('convertToInteractive',\n",
              "                                                     [key], {});\n",
              "          if (!dataTable) return;\n",
              "\n",
              "          const docLinkHtml = 'Like what you see? Visit the ' +\n",
              "            '<a target=\"_blank\" href=https://colab.research.google.com/notebooks/data_table.ipynb>data table notebook</a>'\n",
              "            + ' to learn more about interactive tables.';\n",
              "          element.innerHTML = '';\n",
              "          dataTable['output_type'] = 'display_data';\n",
              "          await google.colab.output.renderOutput(dataTable, element);\n",
              "          const docLink = document.createElement('div');\n",
              "          docLink.innerHTML = docLinkHtml;\n",
              "          element.appendChild(docLink);\n",
              "        }\n",
              "      </script>\n",
              "    </div>\n",
              "  </div>\n",
              "  "
            ]
          },
          "metadata": {},
          "execution_count": 5
        }
      ],
      "source": [
        "file"
      ]
    },
    {
      "cell_type": "code",
      "execution_count": null,
      "metadata": {
        "colab": {
          "base_uri": "https://localhost:8080/"
        },
        "id": "p1Yj4ksdkDC_",
        "outputId": "8859412a-f008-44b4-96d2-d32b756e543a"
      },
      "outputs": [
        {
          "output_type": "execute_result",
          "data": {
            "text/plain": [
              "(8836, 4)"
            ]
          },
          "metadata": {},
          "execution_count": 6
        }
      ],
      "source": [
        "#checking shape of our data\n",
        "file.shape"
      ]
    },
    {
      "cell_type": "code",
      "execution_count": null,
      "metadata": {
        "colab": {
          "base_uri": "https://localhost:8080/"
        },
        "id": "dxZJw-5zkMkj",
        "outputId": "be5023a6-375b-466d-f2ca-0010ab0c8566"
      },
      "outputs": [
        {
          "output_type": "stream",
          "name": "stdout",
          "text": [
            "<class 'pandas.core.frame.DataFrame'>\n",
            "RangeIndex: 8836 entries, 0 to 8835\n",
            "Data columns (total 4 columns):\n",
            " #   Column      Non-Null Count  Dtype  \n",
            "---  ------      --------------  -----  \n",
            " 0   Unnamed: 0  8836 non-null   int64  \n",
            " 1   Name        8836 non-null   object \n",
            " 2   Reviews     8836 non-null   object \n",
            " 3   Rating      7506 non-null   float64\n",
            "dtypes: float64(1), int64(1), object(2)\n",
            "memory usage: 276.2+ KB\n"
          ]
        }
      ],
      "source": [
        "#information of our data like missing value,data type\n",
        "file.info()"
      ]
    },
    {
      "cell_type": "markdown",
      "metadata": {
        "id": "26djEE05kjbj"
      },
      "source": [
        "\n",
        "\n",
        "\n",
        "\n",
        "\n",
        "# There is NULL values in our data ."
      ]
    },
    {
      "cell_type": "code",
      "source": [
        "file.isna().sum()"
      ],
      "metadata": {
        "colab": {
          "base_uri": "https://localhost:8080/"
        },
        "id": "lhw_ywjLbAA0",
        "outputId": "d7110706-fabc-4fd5-90e1-ec432bee3f0b"
      },
      "execution_count": null,
      "outputs": [
        {
          "output_type": "execute_result",
          "data": {
            "text/plain": [
              "Unnamed: 0       0\n",
              "Name             0\n",
              "Reviews          0\n",
              "Rating        1330\n",
              "dtype: int64"
            ]
          },
          "metadata": {},
          "execution_count": 8
        }
      ]
    },
    {
      "cell_type": "markdown",
      "source": [
        "**Rating column has 1468 null values, we see reviews of customer is negative,so fill these values by rating=1 **"
      ],
      "metadata": {
        "id": "Mz3E2dsbbMvG"
      }
    },
    {
      "cell_type": "code",
      "source": [
        "file=(file.fillna({'Rating':1.0}))"
      ],
      "metadata": {
        "id": "yDLYFKb3bz6V"
      },
      "execution_count": null,
      "outputs": []
    },
    {
      "cell_type": "code",
      "source": [
        "file.isna().sum()"
      ],
      "metadata": {
        "colab": {
          "base_uri": "https://localhost:8080/"
        },
        "id": "G1aQQBdnb6nV",
        "outputId": "6bd3748b-a056-4aa8-e6fb-d550a63ba193"
      },
      "execution_count": null,
      "outputs": [
        {
          "output_type": "execute_result",
          "data": {
            "text/plain": [
              "Unnamed: 0    0\n",
              "Name          0\n",
              "Reviews       0\n",
              "Rating        0\n",
              "dtype: int64"
            ]
          },
          "metadata": {},
          "execution_count": 10
        }
      ]
    },
    {
      "cell_type": "code",
      "source": [
        "#Let's check how many examples of each target we have.\n",
        "file.Rating.value_counts()"
      ],
      "metadata": {
        "colab": {
          "base_uri": "https://localhost:8080/"
        },
        "id": "O09zuQUfcM2q",
        "outputId": "7cc0417e-85d6-4d12-d5ad-e5ff167e9e07"
      },
      "execution_count": null,
      "outputs": [
        {
          "output_type": "execute_result",
          "data": {
            "text/plain": [
              "5.0    5056\n",
              "4.0    1752\n",
              "1.0    1330\n",
              "3.0     698\n",
              "Name: Rating, dtype: int64"
            ]
          },
          "metadata": {},
          "execution_count": 11
        }
      ]
    },
    {
      "cell_type": "markdown",
      "source": [
        " **Now convert rating '5' & '4' as Positive and rating '1','2' & '3' as Negative in Rating column.**\n",
        "\n",
        " \n",
        "**Positive=1 & Negative=0**"
      ],
      "metadata": {
        "id": "VtwwmZTBclqn"
      }
    },
    {
      "cell_type": "code",
      "source": [
        "file['Rating']=file['Rating'].replace([1.0],'0')# 0=negative sentiment\n",
        "file"
      ],
      "metadata": {
        "colab": {
          "base_uri": "https://localhost:8080/",
          "height": 423
        },
        "id": "wfEaEcJZcjbG",
        "outputId": "35727d5e-ac43-4e72-93a9-340818cf4ef5"
      },
      "execution_count": null,
      "outputs": [
        {
          "output_type": "execute_result",
          "data": {
            "text/plain": [
              "      Unnamed: 0                 Name  \\\n",
              "0              0    Flipkart Customer   \n",
              "1              1  Ramkumar Srinivasan   \n",
              "2              2        Arya Anikumar   \n",
              "3              3    Abhijeet Sengupta   \n",
              "4              4    Flipkart Customer   \n",
              "...          ...                  ...   \n",
              "8831        8831       Ranjeet Prasad   \n",
              "8832        8832    Flipkart Customer   \n",
              "8833        8833    Flipkart Customer   \n",
              "8834        8834        Parveen Ranga   \n",
              "8835        8835        Aryan  Kumar    \n",
              "\n",
              "                                                Reviews Rating  \n",
              "0     Its my first smart watch... And my experience ...    5.0  \n",
              "1     The delivery was blazing speed. I ordered 2 un...    5.0  \n",
              "2     Such an amazing product I ever purchased . Goo...    5.0  \n",
              "3     Lovely stylish watch at good price, gorgeous w...    5.0  \n",
              "4     The watch is very well design also the touch r...    5.0  \n",
              "...                                                 ...    ...  \n",
              "8831                            Value of moneyREAD MORE    4.0  \n",
              "8832  Awesome watch...worth buying at this price ran...    5.0  \n",
              "8833  The smart hand watch is a very pretty so beaut...    4.0  \n",
              "8834  Best watch for everyone thanks to fire boltREA...    5.0  \n",
              "8835  Very nice product.  Value For money. Highly Re...    5.0  \n",
              "\n",
              "[8836 rows x 4 columns]"
            ],
            "text/html": [
              "\n",
              "  <div id=\"df-dacc9bd0-66e7-45e5-a8da-6a156cead05f\">\n",
              "    <div class=\"colab-df-container\">\n",
              "      <div>\n",
              "<style scoped>\n",
              "    .dataframe tbody tr th:only-of-type {\n",
              "        vertical-align: middle;\n",
              "    }\n",
              "\n",
              "    .dataframe tbody tr th {\n",
              "        vertical-align: top;\n",
              "    }\n",
              "\n",
              "    .dataframe thead th {\n",
              "        text-align: right;\n",
              "    }\n",
              "</style>\n",
              "<table border=\"1\" class=\"dataframe\">\n",
              "  <thead>\n",
              "    <tr style=\"text-align: right;\">\n",
              "      <th></th>\n",
              "      <th>Unnamed: 0</th>\n",
              "      <th>Name</th>\n",
              "      <th>Reviews</th>\n",
              "      <th>Rating</th>\n",
              "    </tr>\n",
              "  </thead>\n",
              "  <tbody>\n",
              "    <tr>\n",
              "      <th>0</th>\n",
              "      <td>0</td>\n",
              "      <td>Flipkart Customer</td>\n",
              "      <td>Its my first smart watch... And my experience ...</td>\n",
              "      <td>5.0</td>\n",
              "    </tr>\n",
              "    <tr>\n",
              "      <th>1</th>\n",
              "      <td>1</td>\n",
              "      <td>Ramkumar Srinivasan</td>\n",
              "      <td>The delivery was blazing speed. I ordered 2 un...</td>\n",
              "      <td>5.0</td>\n",
              "    </tr>\n",
              "    <tr>\n",
              "      <th>2</th>\n",
              "      <td>2</td>\n",
              "      <td>Arya Anikumar</td>\n",
              "      <td>Such an amazing product I ever purchased . Goo...</td>\n",
              "      <td>5.0</td>\n",
              "    </tr>\n",
              "    <tr>\n",
              "      <th>3</th>\n",
              "      <td>3</td>\n",
              "      <td>Abhijeet Sengupta</td>\n",
              "      <td>Lovely stylish watch at good price, gorgeous w...</td>\n",
              "      <td>5.0</td>\n",
              "    </tr>\n",
              "    <tr>\n",
              "      <th>4</th>\n",
              "      <td>4</td>\n",
              "      <td>Flipkart Customer</td>\n",
              "      <td>The watch is very well design also the touch r...</td>\n",
              "      <td>5.0</td>\n",
              "    </tr>\n",
              "    <tr>\n",
              "      <th>...</th>\n",
              "      <td>...</td>\n",
              "      <td>...</td>\n",
              "      <td>...</td>\n",
              "      <td>...</td>\n",
              "    </tr>\n",
              "    <tr>\n",
              "      <th>8831</th>\n",
              "      <td>8831</td>\n",
              "      <td>Ranjeet Prasad</td>\n",
              "      <td>Value of moneyREAD MORE</td>\n",
              "      <td>4.0</td>\n",
              "    </tr>\n",
              "    <tr>\n",
              "      <th>8832</th>\n",
              "      <td>8832</td>\n",
              "      <td>Flipkart Customer</td>\n",
              "      <td>Awesome watch...worth buying at this price ran...</td>\n",
              "      <td>5.0</td>\n",
              "    </tr>\n",
              "    <tr>\n",
              "      <th>8833</th>\n",
              "      <td>8833</td>\n",
              "      <td>Flipkart Customer</td>\n",
              "      <td>The smart hand watch is a very pretty so beaut...</td>\n",
              "      <td>4.0</td>\n",
              "    </tr>\n",
              "    <tr>\n",
              "      <th>8834</th>\n",
              "      <td>8834</td>\n",
              "      <td>Parveen Ranga</td>\n",
              "      <td>Best watch for everyone thanks to fire boltREA...</td>\n",
              "      <td>5.0</td>\n",
              "    </tr>\n",
              "    <tr>\n",
              "      <th>8835</th>\n",
              "      <td>8835</td>\n",
              "      <td>Aryan  Kumar</td>\n",
              "      <td>Very nice product.  Value For money. Highly Re...</td>\n",
              "      <td>5.0</td>\n",
              "    </tr>\n",
              "  </tbody>\n",
              "</table>\n",
              "<p>8836 rows × 4 columns</p>\n",
              "</div>\n",
              "      <button class=\"colab-df-convert\" onclick=\"convertToInteractive('df-dacc9bd0-66e7-45e5-a8da-6a156cead05f')\"\n",
              "              title=\"Convert this dataframe to an interactive table.\"\n",
              "              style=\"display:none;\">\n",
              "        \n",
              "  <svg xmlns=\"http://www.w3.org/2000/svg\" height=\"24px\"viewBox=\"0 0 24 24\"\n",
              "       width=\"24px\">\n",
              "    <path d=\"M0 0h24v24H0V0z\" fill=\"none\"/>\n",
              "    <path d=\"M18.56 5.44l.94 2.06.94-2.06 2.06-.94-2.06-.94-.94-2.06-.94 2.06-2.06.94zm-11 1L8.5 8.5l.94-2.06 2.06-.94-2.06-.94L8.5 2.5l-.94 2.06-2.06.94zm10 10l.94 2.06.94-2.06 2.06-.94-2.06-.94-.94-2.06-.94 2.06-2.06.94z\"/><path d=\"M17.41 7.96l-1.37-1.37c-.4-.4-.92-.59-1.43-.59-.52 0-1.04.2-1.43.59L10.3 9.45l-7.72 7.72c-.78.78-.78 2.05 0 2.83L4 21.41c.39.39.9.59 1.41.59.51 0 1.02-.2 1.41-.59l7.78-7.78 2.81-2.81c.8-.78.8-2.07 0-2.86zM5.41 20L4 18.59l7.72-7.72 1.47 1.35L5.41 20z\"/>\n",
              "  </svg>\n",
              "      </button>\n",
              "      \n",
              "  <style>\n",
              "    .colab-df-container {\n",
              "      display:flex;\n",
              "      flex-wrap:wrap;\n",
              "      gap: 12px;\n",
              "    }\n",
              "\n",
              "    .colab-df-convert {\n",
              "      background-color: #E8F0FE;\n",
              "      border: none;\n",
              "      border-radius: 50%;\n",
              "      cursor: pointer;\n",
              "      display: none;\n",
              "      fill: #1967D2;\n",
              "      height: 32px;\n",
              "      padding: 0 0 0 0;\n",
              "      width: 32px;\n",
              "    }\n",
              "\n",
              "    .colab-df-convert:hover {\n",
              "      background-color: #E2EBFA;\n",
              "      box-shadow: 0px 1px 2px rgba(60, 64, 67, 0.3), 0px 1px 3px 1px rgba(60, 64, 67, 0.15);\n",
              "      fill: #174EA6;\n",
              "    }\n",
              "\n",
              "    [theme=dark] .colab-df-convert {\n",
              "      background-color: #3B4455;\n",
              "      fill: #D2E3FC;\n",
              "    }\n",
              "\n",
              "    [theme=dark] .colab-df-convert:hover {\n",
              "      background-color: #434B5C;\n",
              "      box-shadow: 0px 1px 3px 1px rgba(0, 0, 0, 0.15);\n",
              "      filter: drop-shadow(0px 1px 2px rgba(0, 0, 0, 0.3));\n",
              "      fill: #FFFFFF;\n",
              "    }\n",
              "  </style>\n",
              "\n",
              "      <script>\n",
              "        const buttonEl =\n",
              "          document.querySelector('#df-dacc9bd0-66e7-45e5-a8da-6a156cead05f button.colab-df-convert');\n",
              "        buttonEl.style.display =\n",
              "          google.colab.kernel.accessAllowed ? 'block' : 'none';\n",
              "\n",
              "        async function convertToInteractive(key) {\n",
              "          const element = document.querySelector('#df-dacc9bd0-66e7-45e5-a8da-6a156cead05f');\n",
              "          const dataTable =\n",
              "            await google.colab.kernel.invokeFunction('convertToInteractive',\n",
              "                                                     [key], {});\n",
              "          if (!dataTable) return;\n",
              "\n",
              "          const docLinkHtml = 'Like what you see? Visit the ' +\n",
              "            '<a target=\"_blank\" href=https://colab.research.google.com/notebooks/data_table.ipynb>data table notebook</a>'\n",
              "            + ' to learn more about interactive tables.';\n",
              "          element.innerHTML = '';\n",
              "          dataTable['output_type'] = 'display_data';\n",
              "          await google.colab.output.renderOutput(dataTable, element);\n",
              "          const docLink = document.createElement('div');\n",
              "          docLink.innerHTML = docLinkHtml;\n",
              "          element.appendChild(docLink);\n",
              "        }\n",
              "      </script>\n",
              "    </div>\n",
              "  </div>\n",
              "  "
            ]
          },
          "metadata": {},
          "execution_count": 12
        }
      ]
    },
    {
      "cell_type": "code",
      "source": [
        "file['Rating']=file['Rating'].replace([5.0,3.0,4.0],'1')# 1=positive sentiment\n",
        "file\n"
      ],
      "metadata": {
        "colab": {
          "base_uri": "https://localhost:8080/",
          "height": 423
        },
        "id": "E2KYPRZsdscT",
        "outputId": "7fda4aeb-ba99-41a0-bc98-3ebd40e88ed2"
      },
      "execution_count": null,
      "outputs": [
        {
          "output_type": "execute_result",
          "data": {
            "text/plain": [
              "      Unnamed: 0                 Name  \\\n",
              "0              0    Flipkart Customer   \n",
              "1              1  Ramkumar Srinivasan   \n",
              "2              2        Arya Anikumar   \n",
              "3              3    Abhijeet Sengupta   \n",
              "4              4    Flipkart Customer   \n",
              "...          ...                  ...   \n",
              "8831        8831       Ranjeet Prasad   \n",
              "8832        8832    Flipkart Customer   \n",
              "8833        8833    Flipkart Customer   \n",
              "8834        8834        Parveen Ranga   \n",
              "8835        8835        Aryan  Kumar    \n",
              "\n",
              "                                                Reviews Rating  \n",
              "0     Its my first smart watch... And my experience ...      1  \n",
              "1     The delivery was blazing speed. I ordered 2 un...      1  \n",
              "2     Such an amazing product I ever purchased . Goo...      1  \n",
              "3     Lovely stylish watch at good price, gorgeous w...      1  \n",
              "4     The watch is very well design also the touch r...      1  \n",
              "...                                                 ...    ...  \n",
              "8831                            Value of moneyREAD MORE      1  \n",
              "8832  Awesome watch...worth buying at this price ran...      1  \n",
              "8833  The smart hand watch is a very pretty so beaut...      1  \n",
              "8834  Best watch for everyone thanks to fire boltREA...      1  \n",
              "8835  Very nice product.  Value For money. Highly Re...      1  \n",
              "\n",
              "[8836 rows x 4 columns]"
            ],
            "text/html": [
              "\n",
              "  <div id=\"df-a9061733-6eae-46fd-bf5e-e459cda3d093\">\n",
              "    <div class=\"colab-df-container\">\n",
              "      <div>\n",
              "<style scoped>\n",
              "    .dataframe tbody tr th:only-of-type {\n",
              "        vertical-align: middle;\n",
              "    }\n",
              "\n",
              "    .dataframe tbody tr th {\n",
              "        vertical-align: top;\n",
              "    }\n",
              "\n",
              "    .dataframe thead th {\n",
              "        text-align: right;\n",
              "    }\n",
              "</style>\n",
              "<table border=\"1\" class=\"dataframe\">\n",
              "  <thead>\n",
              "    <tr style=\"text-align: right;\">\n",
              "      <th></th>\n",
              "      <th>Unnamed: 0</th>\n",
              "      <th>Name</th>\n",
              "      <th>Reviews</th>\n",
              "      <th>Rating</th>\n",
              "    </tr>\n",
              "  </thead>\n",
              "  <tbody>\n",
              "    <tr>\n",
              "      <th>0</th>\n",
              "      <td>0</td>\n",
              "      <td>Flipkart Customer</td>\n",
              "      <td>Its my first smart watch... And my experience ...</td>\n",
              "      <td>1</td>\n",
              "    </tr>\n",
              "    <tr>\n",
              "      <th>1</th>\n",
              "      <td>1</td>\n",
              "      <td>Ramkumar Srinivasan</td>\n",
              "      <td>The delivery was blazing speed. I ordered 2 un...</td>\n",
              "      <td>1</td>\n",
              "    </tr>\n",
              "    <tr>\n",
              "      <th>2</th>\n",
              "      <td>2</td>\n",
              "      <td>Arya Anikumar</td>\n",
              "      <td>Such an amazing product I ever purchased . Goo...</td>\n",
              "      <td>1</td>\n",
              "    </tr>\n",
              "    <tr>\n",
              "      <th>3</th>\n",
              "      <td>3</td>\n",
              "      <td>Abhijeet Sengupta</td>\n",
              "      <td>Lovely stylish watch at good price, gorgeous w...</td>\n",
              "      <td>1</td>\n",
              "    </tr>\n",
              "    <tr>\n",
              "      <th>4</th>\n",
              "      <td>4</td>\n",
              "      <td>Flipkart Customer</td>\n",
              "      <td>The watch is very well design also the touch r...</td>\n",
              "      <td>1</td>\n",
              "    </tr>\n",
              "    <tr>\n",
              "      <th>...</th>\n",
              "      <td>...</td>\n",
              "      <td>...</td>\n",
              "      <td>...</td>\n",
              "      <td>...</td>\n",
              "    </tr>\n",
              "    <tr>\n",
              "      <th>8831</th>\n",
              "      <td>8831</td>\n",
              "      <td>Ranjeet Prasad</td>\n",
              "      <td>Value of moneyREAD MORE</td>\n",
              "      <td>1</td>\n",
              "    </tr>\n",
              "    <tr>\n",
              "      <th>8832</th>\n",
              "      <td>8832</td>\n",
              "      <td>Flipkart Customer</td>\n",
              "      <td>Awesome watch...worth buying at this price ran...</td>\n",
              "      <td>1</td>\n",
              "    </tr>\n",
              "    <tr>\n",
              "      <th>8833</th>\n",
              "      <td>8833</td>\n",
              "      <td>Flipkart Customer</td>\n",
              "      <td>The smart hand watch is a very pretty so beaut...</td>\n",
              "      <td>1</td>\n",
              "    </tr>\n",
              "    <tr>\n",
              "      <th>8834</th>\n",
              "      <td>8834</td>\n",
              "      <td>Parveen Ranga</td>\n",
              "      <td>Best watch for everyone thanks to fire boltREA...</td>\n",
              "      <td>1</td>\n",
              "    </tr>\n",
              "    <tr>\n",
              "      <th>8835</th>\n",
              "      <td>8835</td>\n",
              "      <td>Aryan  Kumar</td>\n",
              "      <td>Very nice product.  Value For money. Highly Re...</td>\n",
              "      <td>1</td>\n",
              "    </tr>\n",
              "  </tbody>\n",
              "</table>\n",
              "<p>8836 rows × 4 columns</p>\n",
              "</div>\n",
              "      <button class=\"colab-df-convert\" onclick=\"convertToInteractive('df-a9061733-6eae-46fd-bf5e-e459cda3d093')\"\n",
              "              title=\"Convert this dataframe to an interactive table.\"\n",
              "              style=\"display:none;\">\n",
              "        \n",
              "  <svg xmlns=\"http://www.w3.org/2000/svg\" height=\"24px\"viewBox=\"0 0 24 24\"\n",
              "       width=\"24px\">\n",
              "    <path d=\"M0 0h24v24H0V0z\" fill=\"none\"/>\n",
              "    <path d=\"M18.56 5.44l.94 2.06.94-2.06 2.06-.94-2.06-.94-.94-2.06-.94 2.06-2.06.94zm-11 1L8.5 8.5l.94-2.06 2.06-.94-2.06-.94L8.5 2.5l-.94 2.06-2.06.94zm10 10l.94 2.06.94-2.06 2.06-.94-2.06-.94-.94-2.06-.94 2.06-2.06.94z\"/><path d=\"M17.41 7.96l-1.37-1.37c-.4-.4-.92-.59-1.43-.59-.52 0-1.04.2-1.43.59L10.3 9.45l-7.72 7.72c-.78.78-.78 2.05 0 2.83L4 21.41c.39.39.9.59 1.41.59.51 0 1.02-.2 1.41-.59l7.78-7.78 2.81-2.81c.8-.78.8-2.07 0-2.86zM5.41 20L4 18.59l7.72-7.72 1.47 1.35L5.41 20z\"/>\n",
              "  </svg>\n",
              "      </button>\n",
              "      \n",
              "  <style>\n",
              "    .colab-df-container {\n",
              "      display:flex;\n",
              "      flex-wrap:wrap;\n",
              "      gap: 12px;\n",
              "    }\n",
              "\n",
              "    .colab-df-convert {\n",
              "      background-color: #E8F0FE;\n",
              "      border: none;\n",
              "      border-radius: 50%;\n",
              "      cursor: pointer;\n",
              "      display: none;\n",
              "      fill: #1967D2;\n",
              "      height: 32px;\n",
              "      padding: 0 0 0 0;\n",
              "      width: 32px;\n",
              "    }\n",
              "\n",
              "    .colab-df-convert:hover {\n",
              "      background-color: #E2EBFA;\n",
              "      box-shadow: 0px 1px 2px rgba(60, 64, 67, 0.3), 0px 1px 3px 1px rgba(60, 64, 67, 0.15);\n",
              "      fill: #174EA6;\n",
              "    }\n",
              "\n",
              "    [theme=dark] .colab-df-convert {\n",
              "      background-color: #3B4455;\n",
              "      fill: #D2E3FC;\n",
              "    }\n",
              "\n",
              "    [theme=dark] .colab-df-convert:hover {\n",
              "      background-color: #434B5C;\n",
              "      box-shadow: 0px 1px 3px 1px rgba(0, 0, 0, 0.15);\n",
              "      filter: drop-shadow(0px 1px 2px rgba(0, 0, 0, 0.3));\n",
              "      fill: #FFFFFF;\n",
              "    }\n",
              "  </style>\n",
              "\n",
              "      <script>\n",
              "        const buttonEl =\n",
              "          document.querySelector('#df-a9061733-6eae-46fd-bf5e-e459cda3d093 button.colab-df-convert');\n",
              "        buttonEl.style.display =\n",
              "          google.colab.kernel.accessAllowed ? 'block' : 'none';\n",
              "\n",
              "        async function convertToInteractive(key) {\n",
              "          const element = document.querySelector('#df-a9061733-6eae-46fd-bf5e-e459cda3d093');\n",
              "          const dataTable =\n",
              "            await google.colab.kernel.invokeFunction('convertToInteractive',\n",
              "                                                     [key], {});\n",
              "          if (!dataTable) return;\n",
              "\n",
              "          const docLinkHtml = 'Like what you see? Visit the ' +\n",
              "            '<a target=\"_blank\" href=https://colab.research.google.com/notebooks/data_table.ipynb>data table notebook</a>'\n",
              "            + ' to learn more about interactive tables.';\n",
              "          element.innerHTML = '';\n",
              "          dataTable['output_type'] = 'display_data';\n",
              "          await google.colab.output.renderOutput(dataTable, element);\n",
              "          const docLink = document.createElement('div');\n",
              "          docLink.innerHTML = docLinkHtml;\n",
              "          element.appendChild(docLink);\n",
              "        }\n",
              "      </script>\n",
              "    </div>\n",
              "  </div>\n",
              "  "
            ]
          },
          "metadata": {},
          "execution_count": 13
        }
      ]
    },
    {
      "cell_type": "code",
      "source": [
        "file.info()"
      ],
      "metadata": {
        "colab": {
          "base_uri": "https://localhost:8080/"
        },
        "id": "nLJlT5mbeC8u",
        "outputId": "142ca84f-30ed-4dd1-bd4a-ccfc876adb7d"
      },
      "execution_count": null,
      "outputs": [
        {
          "output_type": "stream",
          "name": "stdout",
          "text": [
            "<class 'pandas.core.frame.DataFrame'>\n",
            "RangeIndex: 8836 entries, 0 to 8835\n",
            "Data columns (total 4 columns):\n",
            " #   Column      Non-Null Count  Dtype \n",
            "---  ------      --------------  ----- \n",
            " 0   Unnamed: 0  8836 non-null   int64 \n",
            " 1   Name        8836 non-null   object\n",
            " 2   Reviews     8836 non-null   object\n",
            " 3   Rating      8836 non-null   object\n",
            "dtypes: int64(1), object(3)\n",
            "memory usage: 276.2+ KB\n"
          ]
        }
      ]
    },
    {
      "cell_type": "code",
      "source": [
        "#coverting Rating column from 'object' data to 'int' data\n",
        "file['Rating'] = file['Rating'].apply(lambda x: x.replace('x',''))\n",
        "file['Rating']"
      ],
      "metadata": {
        "colab": {
          "base_uri": "https://localhost:8080/"
        },
        "id": "jk7R-4vZec1Y",
        "outputId": "b459eb83-3d24-4f73-ae83-701190e111b2"
      },
      "execution_count": null,
      "outputs": [
        {
          "output_type": "execute_result",
          "data": {
            "text/plain": [
              "0       1\n",
              "1       1\n",
              "2       1\n",
              "3       1\n",
              "4       1\n",
              "       ..\n",
              "8831    1\n",
              "8832    1\n",
              "8833    1\n",
              "8834    1\n",
              "8835    1\n",
              "Name: Rating, Length: 8836, dtype: object"
            ]
          },
          "metadata": {},
          "execution_count": 15
        }
      ]
    },
    {
      "cell_type": "code",
      "source": [
        "file['Rating'] = pd.to_numeric(file['Rating'])\n",
        "file.info()\n",
        "#now our Rating column has converted into int. datatype"
      ],
      "metadata": {
        "colab": {
          "base_uri": "https://localhost:8080/"
        },
        "id": "nfxfgPwkfCOR",
        "outputId": "11b86426-a1fc-4f4c-a23f-6b3819f47d06"
      },
      "execution_count": null,
      "outputs": [
        {
          "output_type": "stream",
          "name": "stdout",
          "text": [
            "<class 'pandas.core.frame.DataFrame'>\n",
            "RangeIndex: 8836 entries, 0 to 8835\n",
            "Data columns (total 4 columns):\n",
            " #   Column      Non-Null Count  Dtype \n",
            "---  ------      --------------  ----- \n",
            " 0   Unnamed: 0  8836 non-null   int64 \n",
            " 1   Name        8836 non-null   object\n",
            " 2   Reviews     8836 non-null   object\n",
            " 3   Rating      8836 non-null   int64 \n",
            "dtypes: int64(2), object(2)\n",
            "memory usage: 276.2+ KB\n"
          ]
        }
      ]
    },
    {
      "cell_type": "code",
      "source": [
        "file.Rating.unique()\n",
        "#now Rating column has only two output \"1\" & '0' only."
      ],
      "metadata": {
        "colab": {
          "base_uri": "https://localhost:8080/"
        },
        "id": "YvzW41P_fz9c",
        "outputId": "4b6e9ca3-2423-4f0a-b47b-6dbc52058aaa"
      },
      "execution_count": null,
      "outputs": [
        {
          "output_type": "execute_result",
          "data": {
            "text/plain": [
              "array([1, 0])"
            ]
          },
          "metadata": {},
          "execution_count": 17
        }
      ]
    },
    {
      "cell_type": "code",
      "source": [
        "file.Rating.value_counts()\n"
      ],
      "metadata": {
        "colab": {
          "base_uri": "https://localhost:8080/"
        },
        "id": "MkfBa1wPg78O",
        "outputId": "82eaee7b-5036-4ae3-fcf0-96ba181ca446"
      },
      "execution_count": null,
      "outputs": [
        {
          "output_type": "execute_result",
          "data": {
            "text/plain": [
              "1    7506\n",
              "0    1330\n",
              "Name: Rating, dtype: int64"
            ]
          },
          "metadata": {},
          "execution_count": 18
        }
      ]
    },
    {
      "cell_type": "markdown",
      "source": [
        "#In our dataset positive Value(1) 3time grater than Negative value,\n",
        "so we balance our dataset by creating 2 diffrent dataframe balance these dataframe w.r.t eachother & then concate these dataframe as a final dataframe "
      ],
      "metadata": {
        "id": "EhhZaqKvjY2g"
      }
    },
    {
      "cell_type": "code",
      "source": [
        "#New dataframe df_0 which contain only target value as '0'\n",
        "df_0=file[file['Rating']==0]\n",
        "df_0"
      ],
      "metadata": {
        "colab": {
          "base_uri": "https://localhost:8080/",
          "height": 423
        },
        "id": "qPSMzuH7ksUL",
        "outputId": "ef2baaa3-eb2a-4c33-9e13-5992e16731df"
      },
      "execution_count": null,
      "outputs": [
        {
          "output_type": "execute_result",
          "data": {
            "text/plain": [
              "      Unnamed: 0                     Name  \\\n",
              "87            87        Flipkart Customer   \n",
              "88            88  Anil Dinesh  Valaparla    \n",
              "90            90             Akhina Rebin   \n",
              "98            98               pandiyan j   \n",
              "101          101        Flipkart Customer   \n",
              "...          ...                      ...   \n",
              "8781        8781             Balram Polai   \n",
              "8783        8783            A RAHMAN KHAN   \n",
              "8785        8785        Flipkart Customer   \n",
              "8813        8813        Flipkart Customer   \n",
              "8826        8826        Flipkart Customer   \n",
              "\n",
              "                                                Reviews  Rating  \n",
              "87    Cheating. In the pictures used by the company ...       0  \n",
              "88    After couple of days Bluetooth is not pairing....       0  \n",
              "90    Very very small size..its just like kids watch...       0  \n",
              "98    Too many scratches on medal body totaly waste ...       0  \n",
              "101   Activity tracking is inaccurate. It don't trac...       0  \n",
              "...                                                 ...     ...  \n",
              "8781                         Not good productsREAD MORE       0  \n",
              "8783  Very bad product  from fireboltTotal watch is ...       0  \n",
              "8785                               Bad watchedREAD MORE       0  \n",
              "8813  Cheating. In the pictures used by the company ...       0  \n",
              "8826       Samsung m42 is not connected.......READ MORE       0  \n",
              "\n",
              "[1330 rows x 4 columns]"
            ],
            "text/html": [
              "\n",
              "  <div id=\"df-946224d5-3d39-4c90-8672-4065dfcd61f8\">\n",
              "    <div class=\"colab-df-container\">\n",
              "      <div>\n",
              "<style scoped>\n",
              "    .dataframe tbody tr th:only-of-type {\n",
              "        vertical-align: middle;\n",
              "    }\n",
              "\n",
              "    .dataframe tbody tr th {\n",
              "        vertical-align: top;\n",
              "    }\n",
              "\n",
              "    .dataframe thead th {\n",
              "        text-align: right;\n",
              "    }\n",
              "</style>\n",
              "<table border=\"1\" class=\"dataframe\">\n",
              "  <thead>\n",
              "    <tr style=\"text-align: right;\">\n",
              "      <th></th>\n",
              "      <th>Unnamed: 0</th>\n",
              "      <th>Name</th>\n",
              "      <th>Reviews</th>\n",
              "      <th>Rating</th>\n",
              "    </tr>\n",
              "  </thead>\n",
              "  <tbody>\n",
              "    <tr>\n",
              "      <th>87</th>\n",
              "      <td>87</td>\n",
              "      <td>Flipkart Customer</td>\n",
              "      <td>Cheating. In the pictures used by the company ...</td>\n",
              "      <td>0</td>\n",
              "    </tr>\n",
              "    <tr>\n",
              "      <th>88</th>\n",
              "      <td>88</td>\n",
              "      <td>Anil Dinesh  Valaparla</td>\n",
              "      <td>After couple of days Bluetooth is not pairing....</td>\n",
              "      <td>0</td>\n",
              "    </tr>\n",
              "    <tr>\n",
              "      <th>90</th>\n",
              "      <td>90</td>\n",
              "      <td>Akhina Rebin</td>\n",
              "      <td>Very very small size..its just like kids watch...</td>\n",
              "      <td>0</td>\n",
              "    </tr>\n",
              "    <tr>\n",
              "      <th>98</th>\n",
              "      <td>98</td>\n",
              "      <td>pandiyan j</td>\n",
              "      <td>Too many scratches on medal body totaly waste ...</td>\n",
              "      <td>0</td>\n",
              "    </tr>\n",
              "    <tr>\n",
              "      <th>101</th>\n",
              "      <td>101</td>\n",
              "      <td>Flipkart Customer</td>\n",
              "      <td>Activity tracking is inaccurate. It don't trac...</td>\n",
              "      <td>0</td>\n",
              "    </tr>\n",
              "    <tr>\n",
              "      <th>...</th>\n",
              "      <td>...</td>\n",
              "      <td>...</td>\n",
              "      <td>...</td>\n",
              "      <td>...</td>\n",
              "    </tr>\n",
              "    <tr>\n",
              "      <th>8781</th>\n",
              "      <td>8781</td>\n",
              "      <td>Balram Polai</td>\n",
              "      <td>Not good productsREAD MORE</td>\n",
              "      <td>0</td>\n",
              "    </tr>\n",
              "    <tr>\n",
              "      <th>8783</th>\n",
              "      <td>8783</td>\n",
              "      <td>A RAHMAN KHAN</td>\n",
              "      <td>Very bad product  from fireboltTotal watch is ...</td>\n",
              "      <td>0</td>\n",
              "    </tr>\n",
              "    <tr>\n",
              "      <th>8785</th>\n",
              "      <td>8785</td>\n",
              "      <td>Flipkart Customer</td>\n",
              "      <td>Bad watchedREAD MORE</td>\n",
              "      <td>0</td>\n",
              "    </tr>\n",
              "    <tr>\n",
              "      <th>8813</th>\n",
              "      <td>8813</td>\n",
              "      <td>Flipkart Customer</td>\n",
              "      <td>Cheating. In the pictures used by the company ...</td>\n",
              "      <td>0</td>\n",
              "    </tr>\n",
              "    <tr>\n",
              "      <th>8826</th>\n",
              "      <td>8826</td>\n",
              "      <td>Flipkart Customer</td>\n",
              "      <td>Samsung m42 is not connected.......READ MORE</td>\n",
              "      <td>0</td>\n",
              "    </tr>\n",
              "  </tbody>\n",
              "</table>\n",
              "<p>1330 rows × 4 columns</p>\n",
              "</div>\n",
              "      <button class=\"colab-df-convert\" onclick=\"convertToInteractive('df-946224d5-3d39-4c90-8672-4065dfcd61f8')\"\n",
              "              title=\"Convert this dataframe to an interactive table.\"\n",
              "              style=\"display:none;\">\n",
              "        \n",
              "  <svg xmlns=\"http://www.w3.org/2000/svg\" height=\"24px\"viewBox=\"0 0 24 24\"\n",
              "       width=\"24px\">\n",
              "    <path d=\"M0 0h24v24H0V0z\" fill=\"none\"/>\n",
              "    <path d=\"M18.56 5.44l.94 2.06.94-2.06 2.06-.94-2.06-.94-.94-2.06-.94 2.06-2.06.94zm-11 1L8.5 8.5l.94-2.06 2.06-.94-2.06-.94L8.5 2.5l-.94 2.06-2.06.94zm10 10l.94 2.06.94-2.06 2.06-.94-2.06-.94-.94-2.06-.94 2.06-2.06.94z\"/><path d=\"M17.41 7.96l-1.37-1.37c-.4-.4-.92-.59-1.43-.59-.52 0-1.04.2-1.43.59L10.3 9.45l-7.72 7.72c-.78.78-.78 2.05 0 2.83L4 21.41c.39.39.9.59 1.41.59.51 0 1.02-.2 1.41-.59l7.78-7.78 2.81-2.81c.8-.78.8-2.07 0-2.86zM5.41 20L4 18.59l7.72-7.72 1.47 1.35L5.41 20z\"/>\n",
              "  </svg>\n",
              "      </button>\n",
              "      \n",
              "  <style>\n",
              "    .colab-df-container {\n",
              "      display:flex;\n",
              "      flex-wrap:wrap;\n",
              "      gap: 12px;\n",
              "    }\n",
              "\n",
              "    .colab-df-convert {\n",
              "      background-color: #E8F0FE;\n",
              "      border: none;\n",
              "      border-radius: 50%;\n",
              "      cursor: pointer;\n",
              "      display: none;\n",
              "      fill: #1967D2;\n",
              "      height: 32px;\n",
              "      padding: 0 0 0 0;\n",
              "      width: 32px;\n",
              "    }\n",
              "\n",
              "    .colab-df-convert:hover {\n",
              "      background-color: #E2EBFA;\n",
              "      box-shadow: 0px 1px 2px rgba(60, 64, 67, 0.3), 0px 1px 3px 1px rgba(60, 64, 67, 0.15);\n",
              "      fill: #174EA6;\n",
              "    }\n",
              "\n",
              "    [theme=dark] .colab-df-convert {\n",
              "      background-color: #3B4455;\n",
              "      fill: #D2E3FC;\n",
              "    }\n",
              "\n",
              "    [theme=dark] .colab-df-convert:hover {\n",
              "      background-color: #434B5C;\n",
              "      box-shadow: 0px 1px 3px 1px rgba(0, 0, 0, 0.15);\n",
              "      filter: drop-shadow(0px 1px 2px rgba(0, 0, 0, 0.3));\n",
              "      fill: #FFFFFF;\n",
              "    }\n",
              "  </style>\n",
              "\n",
              "      <script>\n",
              "        const buttonEl =\n",
              "          document.querySelector('#df-946224d5-3d39-4c90-8672-4065dfcd61f8 button.colab-df-convert');\n",
              "        buttonEl.style.display =\n",
              "          google.colab.kernel.accessAllowed ? 'block' : 'none';\n",
              "\n",
              "        async function convertToInteractive(key) {\n",
              "          const element = document.querySelector('#df-946224d5-3d39-4c90-8672-4065dfcd61f8');\n",
              "          const dataTable =\n",
              "            await google.colab.kernel.invokeFunction('convertToInteractive',\n",
              "                                                     [key], {});\n",
              "          if (!dataTable) return;\n",
              "\n",
              "          const docLinkHtml = 'Like what you see? Visit the ' +\n",
              "            '<a target=\"_blank\" href=https://colab.research.google.com/notebooks/data_table.ipynb>data table notebook</a>'\n",
              "            + ' to learn more about interactive tables.';\n",
              "          element.innerHTML = '';\n",
              "          dataTable['output_type'] = 'display_data';\n",
              "          await google.colab.output.renderOutput(dataTable, element);\n",
              "          const docLink = document.createElement('div');\n",
              "          docLink.innerHTML = docLinkHtml;\n",
              "          element.appendChild(docLink);\n",
              "        }\n",
              "      </script>\n",
              "    </div>\n",
              "  </div>\n",
              "  "
            ]
          },
          "metadata": {},
          "execution_count": 19
        }
      ]
    },
    {
      "cell_type": "code",
      "source": [
        "#New dataframe df_1 which contain only target value as '1'\n",
        "df_1=file[file['Rating']==1]\n",
        "df_1"
      ],
      "metadata": {
        "colab": {
          "base_uri": "https://localhost:8080/",
          "height": 423
        },
        "id": "jzaEszdEk_RT",
        "outputId": "f4a3986c-932a-43ac-d9b7-1f03d79a3873"
      },
      "execution_count": null,
      "outputs": [
        {
          "output_type": "execute_result",
          "data": {
            "text/plain": [
              "      Unnamed: 0                 Name  \\\n",
              "0              0    Flipkart Customer   \n",
              "1              1  Ramkumar Srinivasan   \n",
              "2              2        Arya Anikumar   \n",
              "3              3    Abhijeet Sengupta   \n",
              "4              4    Flipkart Customer   \n",
              "...          ...                  ...   \n",
              "8831        8831       Ranjeet Prasad   \n",
              "8832        8832    Flipkart Customer   \n",
              "8833        8833    Flipkart Customer   \n",
              "8834        8834        Parveen Ranga   \n",
              "8835        8835        Aryan  Kumar    \n",
              "\n",
              "                                                Reviews  Rating  \n",
              "0     Its my first smart watch... And my experience ...       1  \n",
              "1     The delivery was blazing speed. I ordered 2 un...       1  \n",
              "2     Such an amazing product I ever purchased . Goo...       1  \n",
              "3     Lovely stylish watch at good price, gorgeous w...       1  \n",
              "4     The watch is very well design also the touch r...       1  \n",
              "...                                                 ...     ...  \n",
              "8831                            Value of moneyREAD MORE       1  \n",
              "8832  Awesome watch...worth buying at this price ran...       1  \n",
              "8833  The smart hand watch is a very pretty so beaut...       1  \n",
              "8834  Best watch for everyone thanks to fire boltREA...       1  \n",
              "8835  Very nice product.  Value For money. Highly Re...       1  \n",
              "\n",
              "[7506 rows x 4 columns]"
            ],
            "text/html": [
              "\n",
              "  <div id=\"df-5dacc757-bb85-4425-a36c-2bb8546dec88\">\n",
              "    <div class=\"colab-df-container\">\n",
              "      <div>\n",
              "<style scoped>\n",
              "    .dataframe tbody tr th:only-of-type {\n",
              "        vertical-align: middle;\n",
              "    }\n",
              "\n",
              "    .dataframe tbody tr th {\n",
              "        vertical-align: top;\n",
              "    }\n",
              "\n",
              "    .dataframe thead th {\n",
              "        text-align: right;\n",
              "    }\n",
              "</style>\n",
              "<table border=\"1\" class=\"dataframe\">\n",
              "  <thead>\n",
              "    <tr style=\"text-align: right;\">\n",
              "      <th></th>\n",
              "      <th>Unnamed: 0</th>\n",
              "      <th>Name</th>\n",
              "      <th>Reviews</th>\n",
              "      <th>Rating</th>\n",
              "    </tr>\n",
              "  </thead>\n",
              "  <tbody>\n",
              "    <tr>\n",
              "      <th>0</th>\n",
              "      <td>0</td>\n",
              "      <td>Flipkart Customer</td>\n",
              "      <td>Its my first smart watch... And my experience ...</td>\n",
              "      <td>1</td>\n",
              "    </tr>\n",
              "    <tr>\n",
              "      <th>1</th>\n",
              "      <td>1</td>\n",
              "      <td>Ramkumar Srinivasan</td>\n",
              "      <td>The delivery was blazing speed. I ordered 2 un...</td>\n",
              "      <td>1</td>\n",
              "    </tr>\n",
              "    <tr>\n",
              "      <th>2</th>\n",
              "      <td>2</td>\n",
              "      <td>Arya Anikumar</td>\n",
              "      <td>Such an amazing product I ever purchased . Goo...</td>\n",
              "      <td>1</td>\n",
              "    </tr>\n",
              "    <tr>\n",
              "      <th>3</th>\n",
              "      <td>3</td>\n",
              "      <td>Abhijeet Sengupta</td>\n",
              "      <td>Lovely stylish watch at good price, gorgeous w...</td>\n",
              "      <td>1</td>\n",
              "    </tr>\n",
              "    <tr>\n",
              "      <th>4</th>\n",
              "      <td>4</td>\n",
              "      <td>Flipkart Customer</td>\n",
              "      <td>The watch is very well design also the touch r...</td>\n",
              "      <td>1</td>\n",
              "    </tr>\n",
              "    <tr>\n",
              "      <th>...</th>\n",
              "      <td>...</td>\n",
              "      <td>...</td>\n",
              "      <td>...</td>\n",
              "      <td>...</td>\n",
              "    </tr>\n",
              "    <tr>\n",
              "      <th>8831</th>\n",
              "      <td>8831</td>\n",
              "      <td>Ranjeet Prasad</td>\n",
              "      <td>Value of moneyREAD MORE</td>\n",
              "      <td>1</td>\n",
              "    </tr>\n",
              "    <tr>\n",
              "      <th>8832</th>\n",
              "      <td>8832</td>\n",
              "      <td>Flipkart Customer</td>\n",
              "      <td>Awesome watch...worth buying at this price ran...</td>\n",
              "      <td>1</td>\n",
              "    </tr>\n",
              "    <tr>\n",
              "      <th>8833</th>\n",
              "      <td>8833</td>\n",
              "      <td>Flipkart Customer</td>\n",
              "      <td>The smart hand watch is a very pretty so beaut...</td>\n",
              "      <td>1</td>\n",
              "    </tr>\n",
              "    <tr>\n",
              "      <th>8834</th>\n",
              "      <td>8834</td>\n",
              "      <td>Parveen Ranga</td>\n",
              "      <td>Best watch for everyone thanks to fire boltREA...</td>\n",
              "      <td>1</td>\n",
              "    </tr>\n",
              "    <tr>\n",
              "      <th>8835</th>\n",
              "      <td>8835</td>\n",
              "      <td>Aryan  Kumar</td>\n",
              "      <td>Very nice product.  Value For money. Highly Re...</td>\n",
              "      <td>1</td>\n",
              "    </tr>\n",
              "  </tbody>\n",
              "</table>\n",
              "<p>7506 rows × 4 columns</p>\n",
              "</div>\n",
              "      <button class=\"colab-df-convert\" onclick=\"convertToInteractive('df-5dacc757-bb85-4425-a36c-2bb8546dec88')\"\n",
              "              title=\"Convert this dataframe to an interactive table.\"\n",
              "              style=\"display:none;\">\n",
              "        \n",
              "  <svg xmlns=\"http://www.w3.org/2000/svg\" height=\"24px\"viewBox=\"0 0 24 24\"\n",
              "       width=\"24px\">\n",
              "    <path d=\"M0 0h24v24H0V0z\" fill=\"none\"/>\n",
              "    <path d=\"M18.56 5.44l.94 2.06.94-2.06 2.06-.94-2.06-.94-.94-2.06-.94 2.06-2.06.94zm-11 1L8.5 8.5l.94-2.06 2.06-.94-2.06-.94L8.5 2.5l-.94 2.06-2.06.94zm10 10l.94 2.06.94-2.06 2.06-.94-2.06-.94-.94-2.06-.94 2.06-2.06.94z\"/><path d=\"M17.41 7.96l-1.37-1.37c-.4-.4-.92-.59-1.43-.59-.52 0-1.04.2-1.43.59L10.3 9.45l-7.72 7.72c-.78.78-.78 2.05 0 2.83L4 21.41c.39.39.9.59 1.41.59.51 0 1.02-.2 1.41-.59l7.78-7.78 2.81-2.81c.8-.78.8-2.07 0-2.86zM5.41 20L4 18.59l7.72-7.72 1.47 1.35L5.41 20z\"/>\n",
              "  </svg>\n",
              "      </button>\n",
              "      \n",
              "  <style>\n",
              "    .colab-df-container {\n",
              "      display:flex;\n",
              "      flex-wrap:wrap;\n",
              "      gap: 12px;\n",
              "    }\n",
              "\n",
              "    .colab-df-convert {\n",
              "      background-color: #E8F0FE;\n",
              "      border: none;\n",
              "      border-radius: 50%;\n",
              "      cursor: pointer;\n",
              "      display: none;\n",
              "      fill: #1967D2;\n",
              "      height: 32px;\n",
              "      padding: 0 0 0 0;\n",
              "      width: 32px;\n",
              "    }\n",
              "\n",
              "    .colab-df-convert:hover {\n",
              "      background-color: #E2EBFA;\n",
              "      box-shadow: 0px 1px 2px rgba(60, 64, 67, 0.3), 0px 1px 3px 1px rgba(60, 64, 67, 0.15);\n",
              "      fill: #174EA6;\n",
              "    }\n",
              "\n",
              "    [theme=dark] .colab-df-convert {\n",
              "      background-color: #3B4455;\n",
              "      fill: #D2E3FC;\n",
              "    }\n",
              "\n",
              "    [theme=dark] .colab-df-convert:hover {\n",
              "      background-color: #434B5C;\n",
              "      box-shadow: 0px 1px 3px 1px rgba(0, 0, 0, 0.15);\n",
              "      filter: drop-shadow(0px 1px 2px rgba(0, 0, 0, 0.3));\n",
              "      fill: #FFFFFF;\n",
              "    }\n",
              "  </style>\n",
              "\n",
              "      <script>\n",
              "        const buttonEl =\n",
              "          document.querySelector('#df-5dacc757-bb85-4425-a36c-2bb8546dec88 button.colab-df-convert');\n",
              "        buttonEl.style.display =\n",
              "          google.colab.kernel.accessAllowed ? 'block' : 'none';\n",
              "\n",
              "        async function convertToInteractive(key) {\n",
              "          const element = document.querySelector('#df-5dacc757-bb85-4425-a36c-2bb8546dec88');\n",
              "          const dataTable =\n",
              "            await google.colab.kernel.invokeFunction('convertToInteractive',\n",
              "                                                     [key], {});\n",
              "          if (!dataTable) return;\n",
              "\n",
              "          const docLinkHtml = 'Like what you see? Visit the ' +\n",
              "            '<a target=\"_blank\" href=https://colab.research.google.com/notebooks/data_table.ipynb>data table notebook</a>'\n",
              "            + ' to learn more about interactive tables.';\n",
              "          element.innerHTML = '';\n",
              "          dataTable['output_type'] = 'display_data';\n",
              "          await google.colab.output.renderOutput(dataTable, element);\n",
              "          const docLink = document.createElement('div');\n",
              "          docLink.innerHTML = docLinkHtml;\n",
              "          element.appendChild(docLink);\n",
              "        }\n",
              "      </script>\n",
              "    </div>\n",
              "  </div>\n",
              "  "
            ]
          },
          "metadata": {},
          "execution_count": 20
        }
      ]
    },
    {
      "cell_type": "code",
      "source": [
        "#merge 2 dataframe\n",
        "file1=pd.concat([df_0,df_1[:1850]])#,ignore_index=True)\n",
        "file1"
      ],
      "metadata": {
        "colab": {
          "base_uri": "https://localhost:8080/",
          "height": 423
        },
        "id": "mJpDWmznpdBN",
        "outputId": "e0274cdc-007e-4b84-fbce-da7d4ee4aff5"
      },
      "execution_count": null,
      "outputs": [
        {
          "output_type": "execute_result",
          "data": {
            "text/plain": [
              "      Unnamed: 0                     Name  \\\n",
              "87            87        Flipkart Customer   \n",
              "88            88  Anil Dinesh  Valaparla    \n",
              "90            90             Akhina Rebin   \n",
              "98            98               pandiyan j   \n",
              "101          101        Flipkart Customer   \n",
              "...          ...                      ...   \n",
              "2336        2336         Mohammad Shakeet   \n",
              "2338        2338             Sachin Patne   \n",
              "2342        2342             Moh Abdullah   \n",
              "2343        2343           Jitendra Kumar   \n",
              "2344        2344           Mohd   Riyazul   \n",
              "\n",
              "                                                Reviews  Rating  \n",
              "87    Cheating. In the pictures used by the company ...       0  \n",
              "88    After couple of days Bluetooth is not pairing....       0  \n",
              "90    Very very small size..its just like kids watch...       0  \n",
              "98    Too many scratches on medal body totaly waste ...       0  \n",
              "101   Activity tracking is inaccurate. It don't trac...       0  \n",
              "...                                                 ...     ...  \n",
              "2336                                      NiceREAD MORE       1  \n",
              "2338                             Better to useREAD MORE       1  \n",
              "2342                      This is good productREAD MORE       1  \n",
              "2343                                      NiceREAD MORE       1  \n",
              "2344                                Good watchREAD MORE       1  \n",
              "\n",
              "[3180 rows x 4 columns]"
            ],
            "text/html": [
              "\n",
              "  <div id=\"df-2cb0a64c-b439-4239-ad66-8e9698c393f3\">\n",
              "    <div class=\"colab-df-container\">\n",
              "      <div>\n",
              "<style scoped>\n",
              "    .dataframe tbody tr th:only-of-type {\n",
              "        vertical-align: middle;\n",
              "    }\n",
              "\n",
              "    .dataframe tbody tr th {\n",
              "        vertical-align: top;\n",
              "    }\n",
              "\n",
              "    .dataframe thead th {\n",
              "        text-align: right;\n",
              "    }\n",
              "</style>\n",
              "<table border=\"1\" class=\"dataframe\">\n",
              "  <thead>\n",
              "    <tr style=\"text-align: right;\">\n",
              "      <th></th>\n",
              "      <th>Unnamed: 0</th>\n",
              "      <th>Name</th>\n",
              "      <th>Reviews</th>\n",
              "      <th>Rating</th>\n",
              "    </tr>\n",
              "  </thead>\n",
              "  <tbody>\n",
              "    <tr>\n",
              "      <th>87</th>\n",
              "      <td>87</td>\n",
              "      <td>Flipkart Customer</td>\n",
              "      <td>Cheating. In the pictures used by the company ...</td>\n",
              "      <td>0</td>\n",
              "    </tr>\n",
              "    <tr>\n",
              "      <th>88</th>\n",
              "      <td>88</td>\n",
              "      <td>Anil Dinesh  Valaparla</td>\n",
              "      <td>After couple of days Bluetooth is not pairing....</td>\n",
              "      <td>0</td>\n",
              "    </tr>\n",
              "    <tr>\n",
              "      <th>90</th>\n",
              "      <td>90</td>\n",
              "      <td>Akhina Rebin</td>\n",
              "      <td>Very very small size..its just like kids watch...</td>\n",
              "      <td>0</td>\n",
              "    </tr>\n",
              "    <tr>\n",
              "      <th>98</th>\n",
              "      <td>98</td>\n",
              "      <td>pandiyan j</td>\n",
              "      <td>Too many scratches on medal body totaly waste ...</td>\n",
              "      <td>0</td>\n",
              "    </tr>\n",
              "    <tr>\n",
              "      <th>101</th>\n",
              "      <td>101</td>\n",
              "      <td>Flipkart Customer</td>\n",
              "      <td>Activity tracking is inaccurate. It don't trac...</td>\n",
              "      <td>0</td>\n",
              "    </tr>\n",
              "    <tr>\n",
              "      <th>...</th>\n",
              "      <td>...</td>\n",
              "      <td>...</td>\n",
              "      <td>...</td>\n",
              "      <td>...</td>\n",
              "    </tr>\n",
              "    <tr>\n",
              "      <th>2336</th>\n",
              "      <td>2336</td>\n",
              "      <td>Mohammad Shakeet</td>\n",
              "      <td>NiceREAD MORE</td>\n",
              "      <td>1</td>\n",
              "    </tr>\n",
              "    <tr>\n",
              "      <th>2338</th>\n",
              "      <td>2338</td>\n",
              "      <td>Sachin Patne</td>\n",
              "      <td>Better to useREAD MORE</td>\n",
              "      <td>1</td>\n",
              "    </tr>\n",
              "    <tr>\n",
              "      <th>2342</th>\n",
              "      <td>2342</td>\n",
              "      <td>Moh Abdullah</td>\n",
              "      <td>This is good productREAD MORE</td>\n",
              "      <td>1</td>\n",
              "    </tr>\n",
              "    <tr>\n",
              "      <th>2343</th>\n",
              "      <td>2343</td>\n",
              "      <td>Jitendra Kumar</td>\n",
              "      <td>NiceREAD MORE</td>\n",
              "      <td>1</td>\n",
              "    </tr>\n",
              "    <tr>\n",
              "      <th>2344</th>\n",
              "      <td>2344</td>\n",
              "      <td>Mohd   Riyazul</td>\n",
              "      <td>Good watchREAD MORE</td>\n",
              "      <td>1</td>\n",
              "    </tr>\n",
              "  </tbody>\n",
              "</table>\n",
              "<p>3180 rows × 4 columns</p>\n",
              "</div>\n",
              "      <button class=\"colab-df-convert\" onclick=\"convertToInteractive('df-2cb0a64c-b439-4239-ad66-8e9698c393f3')\"\n",
              "              title=\"Convert this dataframe to an interactive table.\"\n",
              "              style=\"display:none;\">\n",
              "        \n",
              "  <svg xmlns=\"http://www.w3.org/2000/svg\" height=\"24px\"viewBox=\"0 0 24 24\"\n",
              "       width=\"24px\">\n",
              "    <path d=\"M0 0h24v24H0V0z\" fill=\"none\"/>\n",
              "    <path d=\"M18.56 5.44l.94 2.06.94-2.06 2.06-.94-2.06-.94-.94-2.06-.94 2.06-2.06.94zm-11 1L8.5 8.5l.94-2.06 2.06-.94-2.06-.94L8.5 2.5l-.94 2.06-2.06.94zm10 10l.94 2.06.94-2.06 2.06-.94-2.06-.94-.94-2.06-.94 2.06-2.06.94z\"/><path d=\"M17.41 7.96l-1.37-1.37c-.4-.4-.92-.59-1.43-.59-.52 0-1.04.2-1.43.59L10.3 9.45l-7.72 7.72c-.78.78-.78 2.05 0 2.83L4 21.41c.39.39.9.59 1.41.59.51 0 1.02-.2 1.41-.59l7.78-7.78 2.81-2.81c.8-.78.8-2.07 0-2.86zM5.41 20L4 18.59l7.72-7.72 1.47 1.35L5.41 20z\"/>\n",
              "  </svg>\n",
              "      </button>\n",
              "      \n",
              "  <style>\n",
              "    .colab-df-container {\n",
              "      display:flex;\n",
              "      flex-wrap:wrap;\n",
              "      gap: 12px;\n",
              "    }\n",
              "\n",
              "    .colab-df-convert {\n",
              "      background-color: #E8F0FE;\n",
              "      border: none;\n",
              "      border-radius: 50%;\n",
              "      cursor: pointer;\n",
              "      display: none;\n",
              "      fill: #1967D2;\n",
              "      height: 32px;\n",
              "      padding: 0 0 0 0;\n",
              "      width: 32px;\n",
              "    }\n",
              "\n",
              "    .colab-df-convert:hover {\n",
              "      background-color: #E2EBFA;\n",
              "      box-shadow: 0px 1px 2px rgba(60, 64, 67, 0.3), 0px 1px 3px 1px rgba(60, 64, 67, 0.15);\n",
              "      fill: #174EA6;\n",
              "    }\n",
              "\n",
              "    [theme=dark] .colab-df-convert {\n",
              "      background-color: #3B4455;\n",
              "      fill: #D2E3FC;\n",
              "    }\n",
              "\n",
              "    [theme=dark] .colab-df-convert:hover {\n",
              "      background-color: #434B5C;\n",
              "      box-shadow: 0px 1px 3px 1px rgba(0, 0, 0, 0.15);\n",
              "      filter: drop-shadow(0px 1px 2px rgba(0, 0, 0, 0.3));\n",
              "      fill: #FFFFFF;\n",
              "    }\n",
              "  </style>\n",
              "\n",
              "      <script>\n",
              "        const buttonEl =\n",
              "          document.querySelector('#df-2cb0a64c-b439-4239-ad66-8e9698c393f3 button.colab-df-convert');\n",
              "        buttonEl.style.display =\n",
              "          google.colab.kernel.accessAllowed ? 'block' : 'none';\n",
              "\n",
              "        async function convertToInteractive(key) {\n",
              "          const element = document.querySelector('#df-2cb0a64c-b439-4239-ad66-8e9698c393f3');\n",
              "          const dataTable =\n",
              "            await google.colab.kernel.invokeFunction('convertToInteractive',\n",
              "                                                     [key], {});\n",
              "          if (!dataTable) return;\n",
              "\n",
              "          const docLinkHtml = 'Like what you see? Visit the ' +\n",
              "            '<a target=\"_blank\" href=https://colab.research.google.com/notebooks/data_table.ipynb>data table notebook</a>'\n",
              "            + ' to learn more about interactive tables.';\n",
              "          element.innerHTML = '';\n",
              "          dataTable['output_type'] = 'display_data';\n",
              "          await google.colab.output.renderOutput(dataTable, element);\n",
              "          const docLink = document.createElement('div');\n",
              "          docLink.innerHTML = docLinkHtml;\n",
              "          element.appendChild(docLink);\n",
              "        }\n",
              "      </script>\n",
              "    </div>\n",
              "  </div>\n",
              "  "
            ]
          },
          "metadata": {},
          "execution_count": 21
        }
      ]
    },
    {
      "cell_type": "code",
      "execution_count": null,
      "metadata": {
        "colab": {
          "base_uri": "https://localhost:8080/"
        },
        "id": "u8pOoxVNj-bL",
        "outputId": "1f2a5b60-f80a-4073-8e85-73e3ecc17444"
      },
      "outputs": [
        {
          "output_type": "execute_result",
          "data": {
            "text/plain": [
              "87      Cheating. In the pictures used by the company ...\n",
              "88      After couple of days Bluetooth is not pairing....\n",
              "90      Very very small size..its just like kids watch...\n",
              "98      Too many scratches on medal body totaly waste ...\n",
              "101     Activity tracking is inaccurate. It don't trac...\n",
              "                              ...                        \n",
              "2336                                        NiceREAD MORE\n",
              "2338                               Better to useREAD MORE\n",
              "2342                        This is good productREAD MORE\n",
              "2343                                        NiceREAD MORE\n",
              "2344                                  Good watchREAD MORE\n",
              "Name: Reviews, Length: 3180, dtype: object"
            ]
          },
          "metadata": {},
          "execution_count": 22
        }
      ],
      "source": [
        "#Take a look into Reviws Columns\n",
        "file1['Reviews']"
      ]
    },
    {
      "cell_type": "code",
      "execution_count": null,
      "metadata": {
        "id": "5oce0M_JlB27",
        "colab": {
          "base_uri": "https://localhost:8080/"
        },
        "outputId": "432fb090-a93c-46ae-d404-871232881c50"
      },
      "outputs": [
        {
          "output_type": "execute_result",
          "data": {
            "text/plain": [
              "87      0\n",
              "88      0\n",
              "90      0\n",
              "98      0\n",
              "101     0\n",
              "       ..\n",
              "2336    1\n",
              "2338    1\n",
              "2342    1\n",
              "2343    1\n",
              "2344    1\n",
              "Name: Rating, Length: 3180, dtype: int64"
            ]
          },
          "metadata": {},
          "execution_count": 23
        }
      ],
      "source": [
        "#Take a look into Rating Columns\n",
        "file1['Rating']"
      ]
    },
    {
      "cell_type": "markdown",
      "source": [
        ":# **WE NEED ONLY Reviews & Rating COULMN SO WE DROP REMAINING COLUMNS**"
      ],
      "metadata": {
        "id": "wv-PGC1crH6F"
      }
    },
    {
      "cell_type": "code",
      "source": [
        "file1.drop(columns=['Unnamed: 0','Name'],inplace=True)\n",
        "file1"
      ],
      "metadata": {
        "colab": {
          "base_uri": "https://localhost:8080/",
          "height": 423
        },
        "id": "mc982MGdrHgt",
        "outputId": "edfbe707-1e1a-4715-ddc6-9829e1a65cc8"
      },
      "execution_count": null,
      "outputs": [
        {
          "output_type": "execute_result",
          "data": {
            "text/plain": [
              "                                                Reviews  Rating\n",
              "87    Cheating. In the pictures used by the company ...       0\n",
              "88    After couple of days Bluetooth is not pairing....       0\n",
              "90    Very very small size..its just like kids watch...       0\n",
              "98    Too many scratches on medal body totaly waste ...       0\n",
              "101   Activity tracking is inaccurate. It don't trac...       0\n",
              "...                                                 ...     ...\n",
              "2336                                      NiceREAD MORE       1\n",
              "2338                             Better to useREAD MORE       1\n",
              "2342                      This is good productREAD MORE       1\n",
              "2343                                      NiceREAD MORE       1\n",
              "2344                                Good watchREAD MORE       1\n",
              "\n",
              "[3180 rows x 2 columns]"
            ],
            "text/html": [
              "\n",
              "  <div id=\"df-b3053eee-8006-4776-bd59-23e4c29ade73\">\n",
              "    <div class=\"colab-df-container\">\n",
              "      <div>\n",
              "<style scoped>\n",
              "    .dataframe tbody tr th:only-of-type {\n",
              "        vertical-align: middle;\n",
              "    }\n",
              "\n",
              "    .dataframe tbody tr th {\n",
              "        vertical-align: top;\n",
              "    }\n",
              "\n",
              "    .dataframe thead th {\n",
              "        text-align: right;\n",
              "    }\n",
              "</style>\n",
              "<table border=\"1\" class=\"dataframe\">\n",
              "  <thead>\n",
              "    <tr style=\"text-align: right;\">\n",
              "      <th></th>\n",
              "      <th>Reviews</th>\n",
              "      <th>Rating</th>\n",
              "    </tr>\n",
              "  </thead>\n",
              "  <tbody>\n",
              "    <tr>\n",
              "      <th>87</th>\n",
              "      <td>Cheating. In the pictures used by the company ...</td>\n",
              "      <td>0</td>\n",
              "    </tr>\n",
              "    <tr>\n",
              "      <th>88</th>\n",
              "      <td>After couple of days Bluetooth is not pairing....</td>\n",
              "      <td>0</td>\n",
              "    </tr>\n",
              "    <tr>\n",
              "      <th>90</th>\n",
              "      <td>Very very small size..its just like kids watch...</td>\n",
              "      <td>0</td>\n",
              "    </tr>\n",
              "    <tr>\n",
              "      <th>98</th>\n",
              "      <td>Too many scratches on medal body totaly waste ...</td>\n",
              "      <td>0</td>\n",
              "    </tr>\n",
              "    <tr>\n",
              "      <th>101</th>\n",
              "      <td>Activity tracking is inaccurate. It don't trac...</td>\n",
              "      <td>0</td>\n",
              "    </tr>\n",
              "    <tr>\n",
              "      <th>...</th>\n",
              "      <td>...</td>\n",
              "      <td>...</td>\n",
              "    </tr>\n",
              "    <tr>\n",
              "      <th>2336</th>\n",
              "      <td>NiceREAD MORE</td>\n",
              "      <td>1</td>\n",
              "    </tr>\n",
              "    <tr>\n",
              "      <th>2338</th>\n",
              "      <td>Better to useREAD MORE</td>\n",
              "      <td>1</td>\n",
              "    </tr>\n",
              "    <tr>\n",
              "      <th>2342</th>\n",
              "      <td>This is good productREAD MORE</td>\n",
              "      <td>1</td>\n",
              "    </tr>\n",
              "    <tr>\n",
              "      <th>2343</th>\n",
              "      <td>NiceREAD MORE</td>\n",
              "      <td>1</td>\n",
              "    </tr>\n",
              "    <tr>\n",
              "      <th>2344</th>\n",
              "      <td>Good watchREAD MORE</td>\n",
              "      <td>1</td>\n",
              "    </tr>\n",
              "  </tbody>\n",
              "</table>\n",
              "<p>3180 rows × 2 columns</p>\n",
              "</div>\n",
              "      <button class=\"colab-df-convert\" onclick=\"convertToInteractive('df-b3053eee-8006-4776-bd59-23e4c29ade73')\"\n",
              "              title=\"Convert this dataframe to an interactive table.\"\n",
              "              style=\"display:none;\">\n",
              "        \n",
              "  <svg xmlns=\"http://www.w3.org/2000/svg\" height=\"24px\"viewBox=\"0 0 24 24\"\n",
              "       width=\"24px\">\n",
              "    <path d=\"M0 0h24v24H0V0z\" fill=\"none\"/>\n",
              "    <path d=\"M18.56 5.44l.94 2.06.94-2.06 2.06-.94-2.06-.94-.94-2.06-.94 2.06-2.06.94zm-11 1L8.5 8.5l.94-2.06 2.06-.94-2.06-.94L8.5 2.5l-.94 2.06-2.06.94zm10 10l.94 2.06.94-2.06 2.06-.94-2.06-.94-.94-2.06-.94 2.06-2.06.94z\"/><path d=\"M17.41 7.96l-1.37-1.37c-.4-.4-.92-.59-1.43-.59-.52 0-1.04.2-1.43.59L10.3 9.45l-7.72 7.72c-.78.78-.78 2.05 0 2.83L4 21.41c.39.39.9.59 1.41.59.51 0 1.02-.2 1.41-.59l7.78-7.78 2.81-2.81c.8-.78.8-2.07 0-2.86zM5.41 20L4 18.59l7.72-7.72 1.47 1.35L5.41 20z\"/>\n",
              "  </svg>\n",
              "      </button>\n",
              "      \n",
              "  <style>\n",
              "    .colab-df-container {\n",
              "      display:flex;\n",
              "      flex-wrap:wrap;\n",
              "      gap: 12px;\n",
              "    }\n",
              "\n",
              "    .colab-df-convert {\n",
              "      background-color: #E8F0FE;\n",
              "      border: none;\n",
              "      border-radius: 50%;\n",
              "      cursor: pointer;\n",
              "      display: none;\n",
              "      fill: #1967D2;\n",
              "      height: 32px;\n",
              "      padding: 0 0 0 0;\n",
              "      width: 32px;\n",
              "    }\n",
              "\n",
              "    .colab-df-convert:hover {\n",
              "      background-color: #E2EBFA;\n",
              "      box-shadow: 0px 1px 2px rgba(60, 64, 67, 0.3), 0px 1px 3px 1px rgba(60, 64, 67, 0.15);\n",
              "      fill: #174EA6;\n",
              "    }\n",
              "\n",
              "    [theme=dark] .colab-df-convert {\n",
              "      background-color: #3B4455;\n",
              "      fill: #D2E3FC;\n",
              "    }\n",
              "\n",
              "    [theme=dark] .colab-df-convert:hover {\n",
              "      background-color: #434B5C;\n",
              "      box-shadow: 0px 1px 3px 1px rgba(0, 0, 0, 0.15);\n",
              "      filter: drop-shadow(0px 1px 2px rgba(0, 0, 0, 0.3));\n",
              "      fill: #FFFFFF;\n",
              "    }\n",
              "  </style>\n",
              "\n",
              "      <script>\n",
              "        const buttonEl =\n",
              "          document.querySelector('#df-b3053eee-8006-4776-bd59-23e4c29ade73 button.colab-df-convert');\n",
              "        buttonEl.style.display =\n",
              "          google.colab.kernel.accessAllowed ? 'block' : 'none';\n",
              "\n",
              "        async function convertToInteractive(key) {\n",
              "          const element = document.querySelector('#df-b3053eee-8006-4776-bd59-23e4c29ade73');\n",
              "          const dataTable =\n",
              "            await google.colab.kernel.invokeFunction('convertToInteractive',\n",
              "                                                     [key], {});\n",
              "          if (!dataTable) return;\n",
              "\n",
              "          const docLinkHtml = 'Like what you see? Visit the ' +\n",
              "            '<a target=\"_blank\" href=https://colab.research.google.com/notebooks/data_table.ipynb>data table notebook</a>'\n",
              "            + ' to learn more about interactive tables.';\n",
              "          element.innerHTML = '';\n",
              "          dataTable['output_type'] = 'display_data';\n",
              "          await google.colab.output.renderOutput(dataTable, element);\n",
              "          const docLink = document.createElement('div');\n",
              "          docLink.innerHTML = docLinkHtml;\n",
              "          element.appendChild(docLink);\n",
              "        }\n",
              "      </script>\n",
              "    </div>\n",
              "  </div>\n",
              "  "
            ]
          },
          "metadata": {},
          "execution_count": 24
        }
      ]
    },
    {
      "cell_type": "code",
      "source": [
        "file1.info()\n",
        "#file1 contain only 2 columns ."
      ],
      "metadata": {
        "colab": {
          "base_uri": "https://localhost:8080/"
        },
        "id": "294UEzXrrTuo",
        "outputId": "2dde7980-d6fd-4615-f4d6-e3861d0de5bd"
      },
      "execution_count": null,
      "outputs": [
        {
          "output_type": "stream",
          "name": "stdout",
          "text": [
            "<class 'pandas.core.frame.DataFrame'>\n",
            "Int64Index: 3180 entries, 87 to 2344\n",
            "Data columns (total 2 columns):\n",
            " #   Column   Non-Null Count  Dtype \n",
            "---  ------   --------------  ----- \n",
            " 0   Reviews  3180 non-null   object\n",
            " 1   Rating   3180 non-null   int64 \n",
            "dtypes: int64(1), object(1)\n",
            "memory usage: 74.5+ KB\n"
          ]
        }
      ]
    },
    {
      "cell_type": "code",
      "source": [
        "# How many examples of each class?\n",
        "file1.Rating.value_counts()"
      ],
      "metadata": {
        "colab": {
          "base_uri": "https://localhost:8080/"
        },
        "id": "Iy7xcvWRuszH",
        "outputId": "81223151-8a2e-4046-9ff1-ea9fa51ee5a6"
      },
      "execution_count": null,
      "outputs": [
        {
          "output_type": "execute_result",
          "data": {
            "text/plain": [
              "1    1850\n",
              "0    1330\n",
              "Name: Rating, dtype: int64"
            ]
          },
          "metadata": {},
          "execution_count": 26
        }
      ]
    },
    {
      "cell_type": "markdown",
      "metadata": {
        "id": "Z93btg5Cl0Ga"
      },
      "source": [
        "# **IMPORT LIBRARIES**"
      ]
    },
    {
      "cell_type": "code",
      "execution_count": null,
      "metadata": {
        "colab": {
          "base_uri": "https://localhost:8080/"
        },
        "id": "c1ePCVn0lvo4",
        "outputId": "9dfdd381-8043-4581-9111-f461a3154346"
      },
      "outputs": [
        {
          "output_type": "stream",
          "name": "stdout",
          "text": [
            "Looking in indexes: https://pypi.org/simple, https://us-python.pkg.dev/colab-wheels/public/simple/\n",
            "Requirement already satisfied: gensim in /usr/local/lib/python3.8/dist-packages (3.6.0)\n",
            "Requirement already satisfied: numpy>=1.11.3 in /usr/local/lib/python3.8/dist-packages (from gensim) (1.21.6)\n",
            "Requirement already satisfied: smart-open>=1.2.1 in /usr/local/lib/python3.8/dist-packages (from gensim) (6.3.0)\n",
            "Requirement already satisfied: scipy>=0.18.1 in /usr/local/lib/python3.8/dist-packages (from gensim) (1.7.3)\n",
            "Requirement already satisfied: six>=1.5.0 in /usr/local/lib/python3.8/dist-packages (from gensim) (1.15.0)\n"
          ]
        },
        {
          "output_type": "stream",
          "name": "stderr",
          "text": [
            "[nltk_data] Downloading collection 'popular'\n",
            "[nltk_data]    | \n",
            "[nltk_data]    | Downloading package cmudict to /root/nltk_data...\n",
            "[nltk_data]    |   Package cmudict is already up-to-date!\n",
            "[nltk_data]    | Downloading package gazetteers to /root/nltk_data...\n",
            "[nltk_data]    |   Package gazetteers is already up-to-date!\n",
            "[nltk_data]    | Downloading package genesis to /root/nltk_data...\n",
            "[nltk_data]    |   Package genesis is already up-to-date!\n",
            "[nltk_data]    | Downloading package gutenberg to /root/nltk_data...\n",
            "[nltk_data]    |   Package gutenberg is already up-to-date!\n",
            "[nltk_data]    | Downloading package inaugural to /root/nltk_data...\n",
            "[nltk_data]    |   Package inaugural is already up-to-date!\n",
            "[nltk_data]    | Downloading package movie_reviews to\n",
            "[nltk_data]    |     /root/nltk_data...\n",
            "[nltk_data]    |   Package movie_reviews is already up-to-date!\n",
            "[nltk_data]    | Downloading package names to /root/nltk_data...\n",
            "[nltk_data]    |   Package names is already up-to-date!\n",
            "[nltk_data]    | Downloading package shakespeare to /root/nltk_data...\n",
            "[nltk_data]    |   Package shakespeare is already up-to-date!\n",
            "[nltk_data]    | Downloading package stopwords to /root/nltk_data...\n",
            "[nltk_data]    |   Package stopwords is already up-to-date!\n",
            "[nltk_data]    | Downloading package treebank to /root/nltk_data...\n",
            "[nltk_data]    |   Package treebank is already up-to-date!\n",
            "[nltk_data]    | Downloading package twitter_samples to\n",
            "[nltk_data]    |     /root/nltk_data...\n",
            "[nltk_data]    |   Package twitter_samples is already up-to-date!\n",
            "[nltk_data]    | Downloading package omw to /root/nltk_data...\n",
            "[nltk_data]    |   Package omw is already up-to-date!\n",
            "[nltk_data]    | Downloading package omw-1.4 to /root/nltk_data...\n",
            "[nltk_data]    |   Package omw-1.4 is already up-to-date!\n",
            "[nltk_data]    | Downloading package wordnet to /root/nltk_data...\n",
            "[nltk_data]    |   Package wordnet is already up-to-date!\n",
            "[nltk_data]    | Downloading package wordnet2021 to /root/nltk_data...\n",
            "[nltk_data]    |   Package wordnet2021 is already up-to-date!\n",
            "[nltk_data]    | Downloading package wordnet31 to /root/nltk_data...\n",
            "[nltk_data]    |   Package wordnet31 is already up-to-date!\n",
            "[nltk_data]    | Downloading package wordnet_ic to /root/nltk_data...\n",
            "[nltk_data]    |   Package wordnet_ic is already up-to-date!\n",
            "[nltk_data]    | Downloading package words to /root/nltk_data...\n",
            "[nltk_data]    |   Package words is already up-to-date!\n",
            "[nltk_data]    | Downloading package maxent_ne_chunker to\n",
            "[nltk_data]    |     /root/nltk_data...\n",
            "[nltk_data]    |   Package maxent_ne_chunker is already up-to-date!\n",
            "[nltk_data]    | Downloading package punkt to /root/nltk_data...\n",
            "[nltk_data]    |   Package punkt is already up-to-date!\n",
            "[nltk_data]    | Downloading package snowball_data to\n",
            "[nltk_data]    |     /root/nltk_data...\n",
            "[nltk_data]    |   Package snowball_data is already up-to-date!\n",
            "[nltk_data]    | Downloading package averaged_perceptron_tagger to\n",
            "[nltk_data]    |     /root/nltk_data...\n",
            "[nltk_data]    |   Package averaged_perceptron_tagger is already up-\n",
            "[nltk_data]    |       to-date!\n",
            "[nltk_data]    | \n",
            "[nltk_data]  Done downloading collection popular\n"
          ]
        }
      ],
      "source": [
        "!pip install gensim\n",
        "import pandas as pd\n",
        "import numpy as np\n",
        "import os\n",
        "import gensim\n",
        "import nltk\n",
        "nltk.download(\"popular\")\n",
        "from nltk import sent_tokenize\n",
        "from gensim.utils import simple_preprocess\n",
        "from gensim.parsing.preprocessing import remove_stopwords\n",
        "from collections import Counter\n",
        "from sklearn import model_selection, svm"
      ]
    },
    {
      "cell_type": "markdown",
      "metadata": {
        "id": "ME50fE_ym2_T"
      },
      "source": [
        "# **NOW WE WORK ON Review COLUMN**"
      ]
    },
    {
      "cell_type": "code",
      "execution_count": null,
      "metadata": {
        "id": "y90rDAxLoSRQ",
        "colab": {
          "base_uri": "https://localhost:8080/"
        },
        "outputId": "b542cdae-826a-45e4-c5ca-63cf5a260b6a"
      },
      "outputs": [
        {
          "output_type": "execute_result",
          "data": {
            "text/plain": [
              "87      Cheating. In the pictures used by the company ...\n",
              "88      After couple of days Bluetooth is not pairing....\n",
              "90      Very very small size..its just like kids watch...\n",
              "98      Too many scratches on medal body totaly waste ...\n",
              "101     Activity tracking is inaccurate. It don't trac...\n",
              "                              ...                        \n",
              "2336                                        NiceREAD MORE\n",
              "2338                               Better to useREAD MORE\n",
              "2342                        This is good productREAD MORE\n",
              "2343                                        NiceREAD MORE\n",
              "2344                                  Good watchREAD MORE\n",
              "Name: Reviews, Length: 3180, dtype: object"
            ]
          },
          "metadata": {},
          "execution_count": 28
        }
      ],
      "source": [
        "file1['Reviews']"
      ]
    },
    {
      "cell_type": "code",
      "source": [
        "#in our dataset READ MORE is non sensible word so we remove it\n",
        "file1[\"Reviews\"] = file[\"Reviews\"].apply(lambda word: word.replace('READ MORE',''))\n",
        "#df[\"Final_text\"] = df[\"Reviews\"].str.replace('READ MORE','')\n",
        "file1\n",
        "\n"
      ],
      "metadata": {
        "colab": {
          "base_uri": "https://localhost:8080/",
          "height": 423
        },
        "id": "ivNhQlrJt52F",
        "outputId": "bf21a5c7-ae4b-478b-c050-fbaff5d70838"
      },
      "execution_count": null,
      "outputs": [
        {
          "output_type": "execute_result",
          "data": {
            "text/plain": [
              "                                                Reviews  Rating\n",
              "87    Cheating. In the pictures used by the company ...       0\n",
              "88    After couple of days Bluetooth is not pairing....       0\n",
              "90    Very very small size..its just like kids watch...       0\n",
              "98    Too many scratches on medal body totaly waste ...       0\n",
              "101   Activity tracking is inaccurate. It don't trac...       0\n",
              "...                                                 ...     ...\n",
              "2336                                               Nice       1\n",
              "2338                                      Better to use       1\n",
              "2342                               This is good product       1\n",
              "2343                                               Nice       1\n",
              "2344                                         Good watch       1\n",
              "\n",
              "[3180 rows x 2 columns]"
            ],
            "text/html": [
              "\n",
              "  <div id=\"df-b73b6d26-0445-4c72-97d4-62352e268bf0\">\n",
              "    <div class=\"colab-df-container\">\n",
              "      <div>\n",
              "<style scoped>\n",
              "    .dataframe tbody tr th:only-of-type {\n",
              "        vertical-align: middle;\n",
              "    }\n",
              "\n",
              "    .dataframe tbody tr th {\n",
              "        vertical-align: top;\n",
              "    }\n",
              "\n",
              "    .dataframe thead th {\n",
              "        text-align: right;\n",
              "    }\n",
              "</style>\n",
              "<table border=\"1\" class=\"dataframe\">\n",
              "  <thead>\n",
              "    <tr style=\"text-align: right;\">\n",
              "      <th></th>\n",
              "      <th>Reviews</th>\n",
              "      <th>Rating</th>\n",
              "    </tr>\n",
              "  </thead>\n",
              "  <tbody>\n",
              "    <tr>\n",
              "      <th>87</th>\n",
              "      <td>Cheating. In the pictures used by the company ...</td>\n",
              "      <td>0</td>\n",
              "    </tr>\n",
              "    <tr>\n",
              "      <th>88</th>\n",
              "      <td>After couple of days Bluetooth is not pairing....</td>\n",
              "      <td>0</td>\n",
              "    </tr>\n",
              "    <tr>\n",
              "      <th>90</th>\n",
              "      <td>Very very small size..its just like kids watch...</td>\n",
              "      <td>0</td>\n",
              "    </tr>\n",
              "    <tr>\n",
              "      <th>98</th>\n",
              "      <td>Too many scratches on medal body totaly waste ...</td>\n",
              "      <td>0</td>\n",
              "    </tr>\n",
              "    <tr>\n",
              "      <th>101</th>\n",
              "      <td>Activity tracking is inaccurate. It don't trac...</td>\n",
              "      <td>0</td>\n",
              "    </tr>\n",
              "    <tr>\n",
              "      <th>...</th>\n",
              "      <td>...</td>\n",
              "      <td>...</td>\n",
              "    </tr>\n",
              "    <tr>\n",
              "      <th>2336</th>\n",
              "      <td>Nice</td>\n",
              "      <td>1</td>\n",
              "    </tr>\n",
              "    <tr>\n",
              "      <th>2338</th>\n",
              "      <td>Better to use</td>\n",
              "      <td>1</td>\n",
              "    </tr>\n",
              "    <tr>\n",
              "      <th>2342</th>\n",
              "      <td>This is good product</td>\n",
              "      <td>1</td>\n",
              "    </tr>\n",
              "    <tr>\n",
              "      <th>2343</th>\n",
              "      <td>Nice</td>\n",
              "      <td>1</td>\n",
              "    </tr>\n",
              "    <tr>\n",
              "      <th>2344</th>\n",
              "      <td>Good watch</td>\n",
              "      <td>1</td>\n",
              "    </tr>\n",
              "  </tbody>\n",
              "</table>\n",
              "<p>3180 rows × 2 columns</p>\n",
              "</div>\n",
              "      <button class=\"colab-df-convert\" onclick=\"convertToInteractive('df-b73b6d26-0445-4c72-97d4-62352e268bf0')\"\n",
              "              title=\"Convert this dataframe to an interactive table.\"\n",
              "              style=\"display:none;\">\n",
              "        \n",
              "  <svg xmlns=\"http://www.w3.org/2000/svg\" height=\"24px\"viewBox=\"0 0 24 24\"\n",
              "       width=\"24px\">\n",
              "    <path d=\"M0 0h24v24H0V0z\" fill=\"none\"/>\n",
              "    <path d=\"M18.56 5.44l.94 2.06.94-2.06 2.06-.94-2.06-.94-.94-2.06-.94 2.06-2.06.94zm-11 1L8.5 8.5l.94-2.06 2.06-.94-2.06-.94L8.5 2.5l-.94 2.06-2.06.94zm10 10l.94 2.06.94-2.06 2.06-.94-2.06-.94-.94-2.06-.94 2.06-2.06.94z\"/><path d=\"M17.41 7.96l-1.37-1.37c-.4-.4-.92-.59-1.43-.59-.52 0-1.04.2-1.43.59L10.3 9.45l-7.72 7.72c-.78.78-.78 2.05 0 2.83L4 21.41c.39.39.9.59 1.41.59.51 0 1.02-.2 1.41-.59l7.78-7.78 2.81-2.81c.8-.78.8-2.07 0-2.86zM5.41 20L4 18.59l7.72-7.72 1.47 1.35L5.41 20z\"/>\n",
              "  </svg>\n",
              "      </button>\n",
              "      \n",
              "  <style>\n",
              "    .colab-df-container {\n",
              "      display:flex;\n",
              "      flex-wrap:wrap;\n",
              "      gap: 12px;\n",
              "    }\n",
              "\n",
              "    .colab-df-convert {\n",
              "      background-color: #E8F0FE;\n",
              "      border: none;\n",
              "      border-radius: 50%;\n",
              "      cursor: pointer;\n",
              "      display: none;\n",
              "      fill: #1967D2;\n",
              "      height: 32px;\n",
              "      padding: 0 0 0 0;\n",
              "      width: 32px;\n",
              "    }\n",
              "\n",
              "    .colab-df-convert:hover {\n",
              "      background-color: #E2EBFA;\n",
              "      box-shadow: 0px 1px 2px rgba(60, 64, 67, 0.3), 0px 1px 3px 1px rgba(60, 64, 67, 0.15);\n",
              "      fill: #174EA6;\n",
              "    }\n",
              "\n",
              "    [theme=dark] .colab-df-convert {\n",
              "      background-color: #3B4455;\n",
              "      fill: #D2E3FC;\n",
              "    }\n",
              "\n",
              "    [theme=dark] .colab-df-convert:hover {\n",
              "      background-color: #434B5C;\n",
              "      box-shadow: 0px 1px 3px 1px rgba(0, 0, 0, 0.15);\n",
              "      filter: drop-shadow(0px 1px 2px rgba(0, 0, 0, 0.3));\n",
              "      fill: #FFFFFF;\n",
              "    }\n",
              "  </style>\n",
              "\n",
              "      <script>\n",
              "        const buttonEl =\n",
              "          document.querySelector('#df-b73b6d26-0445-4c72-97d4-62352e268bf0 button.colab-df-convert');\n",
              "        buttonEl.style.display =\n",
              "          google.colab.kernel.accessAllowed ? 'block' : 'none';\n",
              "\n",
              "        async function convertToInteractive(key) {\n",
              "          const element = document.querySelector('#df-b73b6d26-0445-4c72-97d4-62352e268bf0');\n",
              "          const dataTable =\n",
              "            await google.colab.kernel.invokeFunction('convertToInteractive',\n",
              "                                                     [key], {});\n",
              "          if (!dataTable) return;\n",
              "\n",
              "          const docLinkHtml = 'Like what you see? Visit the ' +\n",
              "            '<a target=\"_blank\" href=https://colab.research.google.com/notebooks/data_table.ipynb>data table notebook</a>'\n",
              "            + ' to learn more about interactive tables.';\n",
              "          element.innerHTML = '';\n",
              "          dataTable['output_type'] = 'display_data';\n",
              "          await google.colab.output.renderOutput(dataTable, element);\n",
              "          const docLink = document.createElement('div');\n",
              "          docLink.innerHTML = docLinkHtml;\n",
              "          element.appendChild(docLink);\n",
              "        }\n",
              "      </script>\n",
              "    </div>\n",
              "  </div>\n",
              "  "
            ]
          },
          "metadata": {},
          "execution_count": 29
        }
      ]
    },
    {
      "cell_type": "markdown",
      "metadata": {
        "id": "JN1D6xx3YPa9"
      },
      "source": [
        "# **Remove emoji**"
      ]
    },
    {
      "cell_type": "code",
      "execution_count": null,
      "metadata": {
        "id": "EkqZLKogYG5k",
        "colab": {
          "base_uri": "https://localhost:8080/",
          "height": 35
        },
        "outputId": "3083708e-0fe9-4898-e1ab-dbf36b75cb0c"
      },
      "outputs": [
        {
          "output_type": "execute_result",
          "data": {
            "text/plain": [
              "'Just amazing satisfied camera just awesome and display sound quality awesome..READ MORE'"
            ],
            "application/vnd.google.colaboratory.intrinsic+json": {
              "type": "string"
            }
          },
          "metadata": {},
          "execution_count": 30
        }
      ],
      "source": [
        "import re\n",
        "def remove_emoji(string):\n",
        "    emoji_pattern = re.compile(\"[\"\n",
        "                               u\"\\U0001F600-\\U0001F64F\"  # emoticons\n",
        "                               u\"\\U0001F300-\\U0001F5FF\"  # symbols & pictographs\n",
        "                               u\"\\U0001F680-\\U0001F6FF\"  # transport & map symbols\n",
        "                               u\"\\U0001F1E0-\\U0001F1FF\"  # flags (iOS)\n",
        "                               u\"\\U00002500-\\U00002BEF\"  # chinese char\n",
        "                               u\"\\U00002702-\\U000027B0\"\n",
        "                               u\"\\U00002702-\\U000027B0\"\n",
        "                               u\"\\U000024C2-\\U0001F251\"\n",
        "                               u\"\\U0001f926-\\U0001f937\"\n",
        "                               u\"\\U00010000-\\U0010ffff\"\n",
        "                               u\"\\u2640-\\u2642\"\n",
        "                               u\"\\u2600-\\u2B55\"\n",
        "                               u\"\\u200d\"\n",
        "                               u\"\\u23cf\"\n",
        "                               u\"\\u23e9\"\n",
        "                               u\"\\u231a\"\n",
        "                               u\"\\ufe0f\"  # dingbats\n",
        "                               u\"\\u3030\"\n",
        "                               \"]+\", flags=re.UNICODE)\n",
        "    return emoji_pattern.sub(r'', string)\n",
        "remove_emoji(\"Just amazing🤩🤩 satisfied😊😊 camera just awesome and display sound quality awesome..READ MORE\")"
      ]
    },
    {
      "cell_type": "code",
      "execution_count": null,
      "metadata": {
        "id": "B_Va-yexYWWF",
        "colab": {
          "base_uri": "https://localhost:8080/"
        },
        "outputId": "51d675ab-515d-45c0-ecf7-f8cd825bfa7e"
      },
      "outputs": [
        {
          "output_type": "execute_result",
          "data": {
            "text/plain": [
              "[\"Cheating. In the pictures used by the company it seems like the display is full screen. But actual display is so small. Though there aren't many features I bought it to support Indian products. Step count is not even close to decent. I regret buying this one.\",\n",
              " 'After couple of days Bluetooth is not pairing. When requested for replacement, flipkart rejected the request without contacting me. Worst product',\n",
              " \"Very very small size..its just like kids watch.dont buy this and dont waste your money . display is very small, display quality is very bad,Very low quality watch.please don't buy this and don't waste your money\",\n",
              " \"Too many scratches on medal body totaly waste I'm request replacement (not worthy for money) don't buy it's out look was worst and spo2 tracking bp,heat rate tracking compare with other brand not good quality and not detecting upto mark, totaly its china brand and software look also china look\",\n",
              " \"Activity tracking is inaccurate. It don't track steps,  BP, SPO2  correctly.  Waste of money\",\n",
              " 'Watch is not visible to phone bluetooth. Screen is not on more than 2 second.',\n",
              " 'Touch Stopped working after 2 daysConsidering Price compare to Competitors products, This watch wins the Game but at the cost of inaccurate activity tracking. It count steps even i am standing & moving hands. Records SpO2, BP, Heart Rate monitoring of Non-Living things. In last 24hrs, Battery drains at 50%. Disconnecting issue with phone even after keeping app on Autostart & locking the app. Watch keeps on searching device in every 5mins although phone is within 5m range. Sleep Monitoring i...',\n",
              " \"15 days working properly after 15 days watch not connect to application don't west money\",\n",
              " 'Don\\'t buy at all, Company cheat the customers. Company claimed display size is 1.3\" but it actually less then 1\". Waste of money.',\n",
              " 'Dont purchase this watch...Money wasted ',\n",
              " 'Very poor product',\n",
              " \"It's 3 day n it's not working\",\n",
              " \"It's showing not worn when I try to check bp , hr and spo2\",\n",
              " 'Very bad',\n",
              " \"I would rate this product 0 stars if I could ..... All the sensors are terrible they are barely accurate the app is very unstable and lacks customisation the screen is to small for any proper viewing the only redeem thing about this smart watch is the battery life. Please do not buy this product and waste you're money ...... Go for boat xtend or noise smartwatches they are infinitly better and will give you a way better product\",\n",
              " 'No battery backup and no bp measure',\n",
              " 'Bad quality',\n",
              " 'Display not working after using 15 days.',\n",
              " 'Dial size is good but display size is worst.',\n",
              " \"Don't buy anyone totally money waste product\",\n",
              " 'Wasted',\n",
              " 'Cheap products',\n",
              " 'Very bad',\n",
              " 'Waste',\n",
              " 'Looks is premium but display size too small and battery pickup 2-3 days max.',\n",
              " 'Waste full',\n",
              " 'Disappointed (review after 1 month use)1.Facing Display issue - screen wakes up automatically after every 5 secs resulting in battery drain within few hours.2. Features like SpO2, BP & Heart Rate Monitoring does not work accurately, even giving results for non-living objects. Now even the smart watch cannot be used as a simple digital watch due to above issues.',\n",
              " 'Display  small',\n",
              " 'Bad Watch',\n",
              " \"Very bad product.. from today onwards it's start legging.. horibole software... It's a very much bad experience I ever find from Boult company and second tym from Flipkart for this electronic items... This is my last purchase from Flipkart in electronic.items...\",\n",
              " 'Pathetic watch. Not working any more',\n",
              " 'Very poor product',\n",
              " \"Silver coated at side of display is peeling off and colour is changing to tan brown. It was my wrong choice to choose this model. Please don't buy this product.\",\n",
              " \"Very bad product.. don't waste your money\",\n",
              " 'Third class product',\n",
              " 'Too bad',\n",
              " 'This watch bad not purchase',\n",
              " 'Connection issues, waste product',\n",
              " 'Bad product',\n",
              " 'Dont buy',\n",
              " \"Don't purchase\",\n",
              " 'Not working properly',\n",
              " 'Not good display very tiny',\n",
              " 'Worst productDial size to small not as shown in pic',\n",
              " 'Very bad',\n",
              " 'Wrost product...... Very disappointed product, never expect it from flipkart',\n",
              " 'Product was so disgusting. i am Highly disappointed.',\n",
              " 'Not buy this product',\n",
              " \"Screen size very small don't buy \",\n",
              " \"Don't buy wrost product\",\n",
              " \"Major connection issues, it keeps disconnecting so often that you hardly get to enjoy the features.Honest feedback after using it for a week, I wouldn't recommend anyone to buy this product.Lots of things to fix for this product I wish if the company gets to act on the issues faced by customers. Also its shocking that how did watch even pass the test to be released in the market.As a user terribly disappointed. I wouldn't wont anyone else to land up with the same.Thanks\",\n",
              " 'Product design is poor and also continues heart rate monitoring feature is not available. I am very disappointed',\n",
              " 'Not satisfied with the display size. It is very tiny,  body and strap both are thicker',\n",
              " 'Not good frodact',\n",
              " \"It is a fake product. Don't waste your money\",\n",
              " 'Lose of many',\n",
              " 'WEATHER STATUS NOT SHOW ..',\n",
              " 'Accuracy very bad',\n",
              " \"Don't buy it. Demaged it self. It's display don't on after few days. Now have to fine care center\",\n",
              " \"This watch is only for show piece. Any sensor doesn't work properly. sometime it shows non living things heart rate  Flipkart is not accepting return request\",\n",
              " 'Display size is small not full screen,  health monitor readings are not correct.',\n",
              " 'MOST WORST PRODUCT EVER SEEN ! STOPS WORKING WITHIN 8MONTHS FROM DATE OF PURCHASING. THE COMPANY IS CHEATING PEOPLE GIVING IT AT CHEAP RATES . PLEASE DONT BUY HARDLY WORKS FOR 7-8 MONTHS!',\n",
              " 'Very bad product, not run even 8 month..and seller (flipcart)has raised their hand.',\n",
              " 'Worst product.If u thinking to buy a smart watch never go for this device 1.Not getting charged after 2month, 2.touch not working completely waste of money',\n",
              " \"Lot of features in others section which are available in my pTron smartwatch with similar price range are missing in this smartwatch. I want to return but policy doesn't allow so I'm stuck with a lesser feature watch and obviously not happy to keep it।\",\n",
              " \"Very Bad product please don't buyAfter some days of purchase it's not working properly and stop permanently and also very Bad battery backup. Charging problem also happened in almost products of fire-bolt.\",\n",
              " \"This watch is good for nothing, a screen which is shown in the image is not at all similar from it's very small screen and step counter is totally wrong, don't go for this watch if you are looking for a fitness smart watch\",\n",
              " \"Charging related experience is not good.this is worst product. costomer care number is not reachable.pleace can't waist money for this watch ......\",\n",
              " 'Battery quality is ',\n",
              " 'The BP monitor and oxymeter readings are nowhere near realistic readings. Even the pedometer readings are not correct',\n",
              " 'Not working properly. I worn in my hand & given command for measuring heart rate, spo2 in watch it displays no worn. So not functional.',\n",
              " \"I would recommend not buy .... This watch is a waste of money.. Worst part is it doesn't show accurate BP, spo2\",\n",
              " 'Worst product',\n",
              " 'Screen is too small, battery backup is not good, always disconnected from the device, connectivity problem',\n",
              " \"Don't buy. Only after using 3 month it stop working. I registered 3 time complaint but they don't respond and helpline center also not received call. Useless product.\",\n",
              " \"Don't bay this product Sensor issues\",\n",
              " 'Most faltu watch',\n",
              " \"Waste watch don't wast of money\",\n",
              " 'Very Bad quality',\n",
              " 'Poor quality and working not good',\n",
              " 'Bad',\n",
              " 'Product is ok to use',\n",
              " 'Very bad product',\n",
              " 'Very bad quality',\n",
              " 'Call reject & notification silent mode options not there... Better go with another brand',\n",
              " 'its third class peace nd dont get buy anyone its money west i was baught and i felt guilty for this',\n",
              " 'Nothing is batter',\n",
              " 'No satisfaction',\n",
              " 'At this price company have to inbuilt with better feature.',\n",
              " 'Activate not good battery performance bag',\n",
              " 'Bad smart watch',\n",
              " \"Worst watch after 10 days touch not working...don't buy waste of money\",\n",
              " \"Don't buy this product\",\n",
              " \"After 7 days , it's stop working. It doesn't charge\",\n",
              " 'Product is cheap in quality. Not water proof definitely as it got wet in rain and stopped working. Raised a complaint, lets c will update later about customer care once issue resolved.',\n",
              " 'Very bad',\n",
              " 'Worest product in flipkart. Sensor not working properly. Battery consumption is too high. And there is no return policy.',\n",
              " 'Only 2 to 3 days',\n",
              " \"Battery backup too low don't buy this product unless u want battery backup\",\n",
              " 'Waste of money It show SPO2 for dead thing also.0% accuracy',\n",
              " 'This podcast very bad',\n",
              " 'Not any future work properly',\n",
              " 'It shows wrong reading of BP,HR and Spo2.Unable to set the time and date.',\n",
              " 'Software problem',\n",
              " 'Very poor battery backup, look could have been better also',\n",
              " 'Watch is very good and just like the name fire..Using since last 15 days but used it now.Quality and battery backup is good.',\n",
              " 'Not a good product',\n",
              " 'My watch is not changing after a week. !!!!',\n",
              " \"Very bad product after 10 days my display is not working now I can't even replace it\",\n",
              " 'Bad product',\n",
              " 'Good But needs to improved some features...Some of features  not working',\n",
              " 'Battery draining fast in one day from 100 to 70 waste watch I ever seen money waste',\n",
              " 'This is very bad experience from flipkart. I want return but no one pick up boy come to return pickup and 5 time cancel return request. Seller is cheat with me',\n",
              " 'The display is the main concern because while showing the picture in flipkart it shows complete display and coming to practicality the display is only 80% which is not acceptable to me',\n",
              " 'Waste of money.',\n",
              " 'Very very small Display. They Published in images looks full display screen. But in reality very small screen. Battery & charging problem. Cheated. Other features also not upto mark. Totally waste.',\n",
              " 'Waste money',\n",
              " 'Very bad product',\n",
              " 'Dial is thick',\n",
              " \"Very bad product it's is not useful product\",\n",
              " 'Useless product. Not getting reminders & messages notifications.',\n",
              " \"Don't buy this is a worst product I have ever seen\",\n",
              " 'Bp oxygen measures are wrong',\n",
              " 'Very bad prodect, twist on display very slow, very small display',\n",
              " 'Money west',\n",
              " 'Watch size mini and sensor not working properly ....and bp not working',\n",
              " 'Not as much as expected better to go for bolt or noise and waste of money and its not connecting with mobile application pathetic and poor software..',\n",
              " \"Please don't buy this watch ,I bought it just to support our made in India product.pedometer and battery are the worst in this watch.not happy,I can't get refund according to their wonderful policy...I am stuck ,you don't get by buying this.i would have been happy if I got refund.\",\n",
              " 'Product is not good',\n",
              " 'Battery backup is very poor standby upto 2 days',\n",
              " 'Very small screen size',\n",
              " 'Nice Watch',\n",
              " 'Nice affordable smart watch',\n",
              " 'I bought watch 20 days back...Screen is blinking and now it  stopped working..Nothing is showing in display. Please help.',\n",
              " \"Don't buy this watch it's very bulky and not have music control and back button available. Better go for boat strom watch from this price range.\",\n",
              " 'Size is very small waste of money ',\n",
              " 'Actual product is literally not matching with the images available on website. Watch size is very small and looks like Chinese product. Would suggest to choose any other product instead on this Watch.',\n",
              " 'Battery is not up to my expections and screen is small doproductste your money',\n",
              " 'Value to money, Must purchase and use it',\n",
              " 'Not worth to get the productDisplay size is very small. Very tiny nothing impressive.Kindly choose different models',\n",
              " \"Smart features doesn't work at all. doesn't show the heart rate, bp level and oxygen..it always shos not worn... Waste of money... Don't even think to buy this product.. waste of money and time..\",\n",
              " 'Its looking cheapVery tiny display sizeSpo2 , bp , hr reading on non living things',\n",
              " 'It not connecting to my device.',\n",
              " \"Don't buy this watch waste product\",\n",
              " 'Display looks small, touch is not working after 15 days, highly disappointed with the product',\n",
              " 'Bad product ... Getting so many problems in first week',\n",
              " 'Not to buy......Display is small but in the flipkart picture is full and sensors working sometimes battery only works 2 days ....... disappointedBetter to add another 1000 for good product',\n",
              " 'Nice one good',\n",
              " 'Not working and bad quality',\n",
              " 'Display size is small',\n",
              " 'Excellent',\n",
              " 'Not good',\n",
              " \"Don't buy this product on flipcart we have purchased last 15 days back  product not worked properly\",\n",
              " 'Very poor quality and flipkart is a froud company my purchase not replacement.',\n",
              " \"This product cannot work properly.. bcz I purchased a product on 15 July 2022 within one month watch can't work properly\",\n",
              " 'New watch not working very bad cqality',\n",
              " 'Fully poor product',\n",
              " \"Don't waterproof\",\n",
              " 'After 6 months the watch is not working properly',\n",
              " '3 class product',\n",
              " 'Battery backup is too bad ,no side button .bulky from behind and heating problem. Price is very costly too. Looks like a very low quality Product.Bad gestures..not recommended.',\n",
              " 'Simply waste',\n",
              " 'This watch is not good',\n",
              " 'Ver bad',\n",
              " 'Not good',\n",
              " 'Body colour got damage.',\n",
              " 'Very poor',\n",
              " \"Third class product and third class service don't waste money because nobody can help from boltt service center side\",\n",
              " 'Display small',\n",
              " 'Watch is not bad but within 1 month , recharging cable stop working and now there is no other way that I can recharge and use .... Since there is no switch to ON, you will never understand that this watch working or not',\n",
              " 'Not Satisfied as watch stop working after 3 days',\n",
              " 'Bad watch ',\n",
              " 'Display not working properly',\n",
              " 'Very very poor but value for money',\n",
              " 'Very disappointed due to battery issues.',\n",
              " \"Don't go buy this watch\",\n",
              " 'Poor',\n",
              " 'This fire boltt watch is very cheap quality I lost my watch for a few days and I took the second one too destroy.',\n",
              " \"Don't purchase this product.\",\n",
              " 'There problem in watch with in 5 days',\n",
              " 'Very very worst product',\n",
              " \"I gifted this smart watch to my son.From one month it's not even working. Very very worst.Please don't waste ur precious money.\",\n",
              " 'No good manufacturing is not good, paint of the watch is removed and charging point is weak',\n",
              " \"Battery is so poor .. I got this watch month of July. Now 1month still my watch can't charged properly and not on off system correctly.... Waist of money.  plz don't buy this watch\",\n",
              " \"After 20 days it's sensor does not working and it's also get power off and on automatically very bad product\",\n",
              " 'Good watch but usb charger is not good',\n",
              " 'Device is not working.I have used the watch hardly for 4-5 months and then the battery started draining fast. And henceforth the device stopped working.',\n",
              " \"Strictly don't buy this product.This is not a quality product, just worked for 2-3 months and you will start facing issues with the touch and soon battery  will not be charged.Better not waste your hard-earned money.Thanks\",\n",
              " 'Totally bad product, i can used it for 4 months, after that it cannot charge properly, waste of money. They offer you one month free zee5 subscription for writing good reviews. If product is good then there is no need to bribe like this.',\n",
              " 'Very bad product 15 day warking whatcha not open',\n",
              " 'Battery health problems',\n",
              " \"Just in somedays, the screen of watch broken automatically from middle and it doesn't even charge. To charge I had to keep on full day charge and in full day will charge only 40-45%. Worst product\",\n",
              " 'Watch is not working',\n",
              " \"Exactly after 1 year and 2 days the display started to show some issues. Even though I had registered for 1 year additional warranty fireboltt didn't arrange pick up. Very very bad experience. Won't ever purchase from this brand.\",\n",
              " 'Not good products',\n",
              " 'battery problem',\n",
              " 'Product very bad',\n",
              " 'Worst product',\n",
              " 'Worst watch .. money loss ..',\n",
              " \"Very bad and useless.. bad quality.. don't buy it ... We ordered 3 quantity.. all 3 same not used more than a 1 week ..\",\n",
              " 'Very very bad watch',\n",
              " 'Bad',\n",
              " \"Don't buy this\",\n",
              " 'Cheap glass quality',\n",
              " 'Worst Watch. Charging stopped in another 6 months.',\n",
              " 'Best watch in my life',\n",
              " 'Watch Charging problem Complete registration but no back call Very poor quality fire boltt ninja watch',\n",
              " 'very bed product',\n",
              " 'Very bad quality and battery',\n",
              " 'Not working well and no button Or switch to operate so problem in operation',\n",
              " \"Please don't buy  its stop working within 10 months battery drained instantly. Very cheap product ever\",\n",
              " 'Good but not expected',\n",
              " 'Very bad product',\n",
              " 'Not good quality and not is very little accurate',\n",
              " \"Worst watch  It didn't even return also\",\n",
              " 'Having virat have make good product Worst  product wast product worthless Dont buy',\n",
              " 'Not gud battery backup and waste of money',\n",
              " 'Bad quality ',\n",
              " 'Very bad  i',\n",
              " \"Watch'stopped working after 3 months \",\n",
              " 'Belt quality is very very bad, my both watch belt are broken.',\n",
              " 'Very poor products',\n",
              " 'Not working just after10 days thus us nonsense',\n",
              " 'Waste of my time',\n",
              " 'I am not happy for this product',\n",
              " \"Was very nice initially . Poor battery life Battery dead after 6 months of functioning. and product not powering up after that.Since it was during warranty period , I emailed the customer care  . They replied with list of repair service provider. But the numbers are inactivated.Appear like warranty promises are fraud. Don't recommend to buy because poor battery life expectancy and bad warranty promises Better buy some thing with lithium polymer battery than lithium iron\",\n",
              " 'Waste money',\n",
              " 'Chargeing propalam',\n",
              " 'Battery is not working and also not charging smartwatch',\n",
              " 'Very bad quality',\n",
              " 'Display got faulty after 21 days use',\n",
              " 'Charger is not charging watch',\n",
              " 'It stop working after a monthNot charging and not working at allDo not go for itTry amazefit smart watches',\n",
              " 'Very good',\n",
              " 'Share feedback after using 2 months.Smartwatch not working properly, now automatically switch off and on...Waste money bad product',\n",
              " 'I have used this product for only 6 months after suddenly its not working even its not switching on when i connect to charging also',\n",
              " 'Not good',\n",
              " \"Worst watch ever....Charge lasts only 1 hour....it's very disappointed... Don't buy this watch waste of moneyREALME IS THE BEST\",\n",
              " 'Nice',\n",
              " 'Very bad item',\n",
              " \"Its a bed quality product. Don't buy it\",\n",
              " 'Average product',\n",
              " 'Very bad item...not according to cost....I recommend not to buy it.I m also not satisfy with buy/sell policy of Flipkart.Worst experience.',\n",
              " 'Running count is so bad It is not made for sports person',\n",
              " \"Waste of money it's my first smart watch.but wearing it for month only backside of its body started getting rust and the battery backup if waste it's work only for 1 day.Overall my experience with this watch is waste of money and useless watch.\",\n",
              " 'Worst worst worst',\n",
              " 'It stopped working after 7days of using',\n",
              " \"It's very bad\",\n",
              " 'IP67 water Resistant is very bad',\n",
              " \"I am facing charging issues. And also was facing issues while switching on. But now it's not switching on. I changed this device for more than hour then to not opening.\",\n",
              " 'Product worked only 1 month aprox Now a days not working',\n",
              " 'Lining on display',\n",
              " \"After 1 week it's not working. Display not work\",\n",
              " \"Initially smartwatch was working well not it's not charging...\",\n",
              " 'Not bad',\n",
              " 'Not bad',\n",
              " 'Not good',\n",
              " 'Not working properly',\n",
              " 'The amount is high but the product will no feature',\n",
              " \"won't ever buy it it is worse Every less features\",\n",
              " 'Very bad product',\n",
              " 'Poor quality of fire boltt smart watch.weast of money.',\n",
              " 'Very poor product Flipkart service not good',\n",
              " 'Display not working after 5days',\n",
              " 'Watch not work',\n",
              " 'After sale service is worst...',\n",
              " 'Not charging. Even kept on charge for whole night (10-12 hrs) charging will show not more than 60%.',\n",
              " 'in the fourth month there is minor crack in the watch and they refused to help by saying - after 3 months we are not responsible for anything even if you want to pay. ridiculous',\n",
              " \"Don't buy\",\n",
              " 'Nice watch but rate is  to.higher  no quick.reply. no.call rejecte feutre',\n",
              " 'Good one',\n",
              " \"Don't buy this.Totally wastage of money\",\n",
              " 'Not full screen just notification, in other watch in same rate calling facility available',\n",
              " 'Bad watch suddenly off',\n",
              " \"West of money battery backup is very week low quality , it's don't buy this product I'm really in happy on this product\",\n",
              " 'Faulty item received display not working',\n",
              " 'Not good, but not bad , this is an average product',\n",
              " \"Worst product in a name of smart watch. If you are looking for only time & looks , go for it. The other all features doesn't work at all or works like an internet explorer.I had mi band 4 before this , that worked liked a charm.So, thanks but no thanks!!\",\n",
              " 'Very bad product and company service',\n",
              " 'Nice product',\n",
              " 'The very worst product battery is very down and display also waste',\n",
              " 'Not so good',\n",
              " \"Every time disconnect BT pairing.Very bad watch.Totally waste money.Don't buy anybody.Battery drain fastly.\",\n",
              " 'Battery chargering problem 24% charging only',\n",
              " 'Touch screen was not properly work ',\n",
              " \"Waste products,i bought it after 1 month using now it's not turning on from 4 days i don't know what happened it's just waste product not value for money\",\n",
              " 'Cheater the watch is not working after return period is over',\n",
              " 'Bakbas product',\n",
              " 'Nice',\n",
              " 'Not nice',\n",
              " 'Bad product',\n",
              " 'Display is not prober',\n",
              " 'Totally useless after two weeks stopped working',\n",
              " \"Don't buy this item battery very bed\",\n",
              " 'I am not seteshfi not warking..watch fire bolt is not ok....not warking I am ushing.15 day.  Sarjing not warking...this matrial watch bad',\n",
              " 'Shuter not working',\n",
              " 'Within 1 month it is stopped working. Unable to charge it.',\n",
              " 'Not nice app',\n",
              " 'Local quality and functional not allowed and displays in  water Local for watch fire boltt',\n",
              " 'Activity checking human body minimum distance is required..this problem capital issue ,, Activity very bad,,iam not support,,',\n",
              " 'Total waste of money',\n",
              " 'Waste of money',\n",
              " 'This is very bad',\n",
              " 'Bad product I hated Flipkart',\n",
              " \"Worst product battery is not stable don't buy it\",\n",
              " 'Damage watch',\n",
              " 'Nice watch',\n",
              " 'Activiti tracker not working properly & battery backup also not well.',\n",
              " 'just a usual product.not special',\n",
              " 'Very bad quality',\n",
              " 'Waste worest',\n",
              " \"Worst product... don't buy this and don't waste your money.\",\n",
              " 'I am not satisfied with smart watch',\n",
              " 'wrost product within a week the watch is not powering on',\n",
              " 'Only use for watch ..... Never buy again',\n",
              " 'In after one month my watch is not working and customer care no. has not working.',\n",
              " \"Worst product couldn't connect to mobile\",\n",
              " 'Nice watch',\n",
              " 'Not a good product',\n",
              " 'It bettery back up is worst and bettery is not charging properly',\n",
              " 'Worst product and service by the seller',\n",
              " 'Bad',\n",
              " 'Dont buy this one just used as a dummy watch 10 minuts turned on .After the watch dead , Flipkart saying that the replacement period is over ',\n",
              " \"Very bad product.quality of this perticular product is very low.no costumer service all over india.please don't buy this product if you are thinking.\",\n",
              " 'Touch response is very hardbattery indication is not appropriate',\n",
              " 'After one month watch not on',\n",
              " 'As expected   as it is on display of flipkart',\n",
              " 'Very bad product',\n",
              " 'Its screen touch is not working, I was asked to change but not changed. This product is very bad.',\n",
              " 'Display stopped working with in 03 days of purchase',\n",
              " 'Very small display',\n",
              " \"Sometimes it doesn't wakes upon touch . then need to wake it from App-- only optiionOne day it didn't wake up and dead now -- in 8 months\",\n",
              " 'Watch is good at this price. Material quality is too bad and its sensors of BP, altitude are not even near to the correct one. It seems he generate the measurements randomly. Not accuracy in produt',\n",
              " 'Bad product',\n",
              " 'Very bad',\n",
              " \"Don't buy this product. It doest show proper measurment and sensor doest work properly. If anyone recomended for this product then just drop it will regret later and waste of money. U can just use for seeing time only. even they dont refund. They will just replace so same product U willl get I recomend go for good measurment product and day long battery backup\",\n",
              " 'Third class product dont buy this flipkart not return this product',\n",
              " 'This watch is not connecting to Mobile',\n",
              " \"They are liars. They have given some vouchers like Gana.com subscription, movie voucher etc. But till date I haven't received their codes. Redeemed it 2 times but did not recipe the code. They fool you with this just to give them 5 star. They will not survive in the market for long\",\n",
              " \"It has been the worst and pathetic experience using this watch. Firstly all went well for a month, then battery issues came forth. It lasted hardly a day, the touch stopped working. It is working so late or not working at times. It's a complete waste of money. Kindly tell me what to do.\",\n",
              " 'it is not charging after 2 week .',\n",
              " 'The data of heart rate and bp are wrong',\n",
              " 'Waste of money',\n",
              " 'Not proper function',\n",
              " 'Very bad',\n",
              " 'Bluetooth connectivity is very bad sometimes watch is not ready to connect',\n",
              " 'very bad product',\n",
              " 'Worst product ever never buy.Also the delivery was horrible.',\n",
              " 'Worst product ',\n",
              " \"V bad experience don't purchase it, totally waste of money\",\n",
              " 'Watch display has stopped working automatically',\n",
              " 'I buy this watch few months back. Suddenly watch did not take charge and off. I complaint the same to fire bolt costumer care through e mail but  not yet responding.Very bad experience with this watch.. so I am not satisfied with product and watch Company too.. this is wastage of money and time...',\n",
              " 'poor quality too much high price',\n",
              " \"Bad quality. Display damage after one week and now in 15 days stop working.. don't buy\",\n",
              " 'Not good ',\n",
              " 'This product not good in quality',\n",
              " 'Its not working',\n",
              " \"Third Class product,After ten days doesn't work touch function,,Battery capacity just one day,,Activity doesn't work....Please please  don't buy this product....\",\n",
              " 'Bad quality',\n",
              " 'Purchased product with great expectations but the Battery seems to be very poor.. Battery charging issue is there.. Not at all charging the battery',\n",
              " 'Very bed',\n",
              " 'Vary bad products return not take Fire-bolt every wacth changing problem not like this products very bad',\n",
              " 'Bad product I am very said',\n",
              " 'So bad   product is utter waste   is not working properly',\n",
              " \"After 1wk charger didn't working\",\n",
              " 'Touch stopped working from 21st day of purchase',\n",
              " 'This watch is not that good. It counts more than the number of steps I walk.',\n",
              " 'Very bad productUseless waste of money dont buy this product you will lose your money',\n",
              " \"It's wrost item\",\n",
              " 'Touch not working very bad',\n",
              " 'wrost product i want to return my money',\n",
              " 'Display size is small,',\n",
              " \"Its not working, completely dead in 5 months, don't buy scammers\",\n",
              " \"Worst product i ever boughtIt comes with very poor battery backup Versy small display with terrible touch responsePlz plzz don't buy this Fire boltt u should fix these issues plzz\",\n",
              " 'Little Bit good Not full Screen',\n",
              " 'I got only 8days but not senceing product is not good i hate this bad product.',\n",
              " 'This watch is stop working and i charged 3 to 4 but than also my watch is not working',\n",
              " 'Not functioning properly.',\n",
              " 'Bad product',\n",
              " 'Dont buy this product... Wastage of money',\n",
              " 'Very Bad smartwatch because Refund policy is not given and from next time I will not purchase any product from your Flipkart and I will also tell my friends and neighbours to not to buy any product from Flipkart. Thank You Good bye',\n",
              " 'Very bad experience don’t buy',\n",
              " 'battery backup very por ',\n",
              " 'Bad watch touch is not properly work',\n",
              " 'Damaged',\n",
              " \"Very bad don't buy\",\n",
              " 'Bad',\n",
              " 'Very bad product     Dont buy this.........',\n",
              " 'Awesome watch',\n",
              " \"Don't buy it is not a waterproof and not a strong  it is waste of money\",\n",
              " 'Water wach',\n",
              " 'No accuracy at all',\n",
              " \"Don't by this product . The worst Product ever I got from  Filpkart.\",\n",
              " 'After 8 days it was not working',\n",
              " 'This product is worst product... i have replaced 3 times but all times smart watch works for few days then issue raise.Service also very worst by firebolt tea.',\n",
              " 'Bad watch ......not working in two month found',\n",
              " 'Very bad item display own picture nit support..',\n",
              " 'Charging not used',\n",
              " 'This watch display stop working after 3 weeks.',\n",
              " 'Touch is not good it is very bad waste of money',\n",
              " 'Worthless',\n",
              " 'Excellent',\n",
              " 'Nice features with built in qualities.',\n",
              " 'Very bad product.Worked only one month',\n",
              " 'Very bad watches not bay this product',\n",
              " 'Product was good but it stopped working after few months',\n",
              " 'Bad product.....features are not working...Waste of money....',\n",
              " 'Dont buy this product its not a waterproof and discharge battery in 2 days i just bought 1 week back plss dont waste money guys Even company people also not responding plsssss  dont buy',\n",
              " 'Battery backup is not good',\n",
              " \"It's is very very small in size\",\n",
              " 'Average product.Limited options from faces to other functions.',\n",
              " 'Very poor product',\n",
              " \"Please don't buy fire boltt. After 2 months It is not charging. &  their customer care didn't receive call. Totally waste of money.\",\n",
              " 'Display very small',\n",
              " 'Very good product',\n",
              " 'Not interested',\n",
              " 'Ok average',\n",
              " 'Time is not work very bad',\n",
              " 'Very less features, music control not provided',\n",
              " 'Charger quality is very poor  the charger wire is four to five inches long having trouble charging ',\n",
              " 'Everything is good but battery backup is not five days which is company clain. Poor backup almost 2-3 days.Charger type is not perfect.it should be magnetic.',\n",
              " 'Not satisfied, quality not good....',\n",
              " 'Very bad',\n",
              " \"Don't purchase this product very bad quality\",\n",
              " 'Bad product',\n",
              " 'Not worth of money , now watch is not actually switching on , no respond on long touch',\n",
              " 'Not good product',\n",
              " 'I like this model',\n",
              " 'Not good',\n",
              " 'Not good product',\n",
              " 'It is not as expected',\n",
              " 'Waste',\n",
              " 'Bad items',\n",
              " 'Worst product',\n",
              " 'Very poor quality product, stopped working within 9 months only',\n",
              " 'Good',\n",
              " 'Display is not work properly',\n",
              " 'Very bad',\n",
              " 'This watch is defected after 10 days its not running',\n",
              " 'Not looking good product',\n",
              " 'Bad',\n",
              " \"Waste product don't buy this\",\n",
              " 'Very worst product, connection problem',\n",
              " '3rd class product and service',\n",
              " 'Very bad watch.',\n",
              " 'Smart watch not workong..',\n",
              " 'Very very bad smart watchWast of money',\n",
              " 'Wasted ',\n",
              " 'My watch has been stopped working in just 10 days . What should I do now',\n",
              " 'Good',\n",
              " 'Battery not good and touch not working after 5days',\n",
              " \"Guys don't buy this it's worst product ever in my life it's to small watch bad display\",\n",
              " 'Poor',\n",
              " 'Bad product',\n",
              " 'Waste of money',\n",
              " 'Its good but in my device camera can’t be open',\n",
              " 'Battery backup is slow....',\n",
              " 'I was order this watch on month of march.. Within 2 mounths its swich off automatically and not charge and not start again.. Weast of money',\n",
              " 'Battery not proper running very bad product',\n",
              " 'Very nice product',\n",
              " 'Local product',\n",
              " 'Not Attracted Watch',\n",
              " 'Very bad watch battery',\n",
              " \"Don't like\",\n",
              " \"i'm not satisfied with the product.its not working.\",\n",
              " 'Awesome..',\n",
              " 'Not good',\n",
              " 'Worst experience with this watch...battery is getting low with in 3 to 4 hours...not satisfied with this watch...',\n",
              " 'Not good battery life',\n",
              " 'Too worst .dont buy.servicing too bad.dont buy in flipkart',\n",
              " 'Not working watch',\n",
              " \"Dont buy this watch no durability waste of money it have charging issues its a genuine feed back don't check for fake feed back its really a worst product flipkart should feel ashamed to sell such type of products.\",\n",
              " 'Worst product, heart rate not perfect working  do not by',\n",
              " 'Very bad products, I want my refund, totally waste of money..',\n",
              " 'not a good product',\n",
              " 'Battery is draining very fast and software working falty',\n",
              " \"It's ok ok product...\",\n",
              " 'I am totally not liking this gadget',\n",
              " \"Display is very sensitive. I purchased this smartwatch and after few days it's display gets damaged.\",\n",
              " 'Third class product.Please do not buy this productWorst condition always',\n",
              " 'Just hate ',\n",
              " \"Never buy this product. My watch became sluggish after 2 month . There are lot of charging and battery problem persist. It take 6 to 9 hours to fully charge some time watch didn't  get fully charged too. Very pathetic product.\",\n",
              " \"Very bad product don't buy it\",\n",
              " 'Good item but display not too good as expected and size is also small  and touch is not working proper',\n",
              " 'Very bad products',\n",
              " 'Suddenly stopped working after buying 3weeks, service of fireboltt is not responding',\n",
              " 'Touch screen does not work properly also the activity related information is not up to the standard',\n",
              " 'Nit expected product',\n",
              " \"It's not working, no display\",\n",
              " 'Waste of money',\n",
              " 'Very bad product',\n",
              " \"Very poor product  3months later it's not charging\",\n",
              " \"Not so cool. Display will turn off just after screen turns on, you can't view your notifications properly, no music control. If you are seriously intrested in having smart watch please don't go for this. Go for some other company like Boat, Real me, or any other but not for this atleast not for this model. Pathetic\",\n",
              " \"Worst product first I have purchased battery problem..the same replace new one second material also same issue ur giving specifications 5 days battery back .one day also not getting poor ..fed up with the fire bolt smart watch...don't buy this product..\",\n",
              " 'So bed colour to wear',\n",
              " \"Very bad service by fire-bolt some issues in watch no satisfied answer no man come no call pick up by company I will try many times don't buy any fire Bolt product\",\n",
              " 'Battery not good',\n",
              " 'Display brightness not working after few month....',\n",
              " 'Not bad but I am giving it two stars because sometimes I am not getting even notification of apps that I enabled from my phone. So think before you purchase it',\n",
              " 'Just Waste of money..It is now 7 days and It is no longer starting।।।Just Waste product',\n",
              " \"Downgraded product ...don't buy it you will regret later\",\n",
              " \"Porr watch don't buy\",\n",
              " 'Battery capacity is very low not good product',\n",
              " 'Product looking like ordinary',\n",
              " 'Battery capacity very bad',\n",
              " \"The product cover shows bigg display but in the watch not good display. After two weeks of usage it's not working There is no power swicth on this project it's a major week point\",\n",
              " 'Touch issue',\n",
              " 'Very bad product. Touch has stopped working within 15 days. No support from Flipkart.',\n",
              " 'A waste of money',\n",
              " 'Worst purchase ever , it stopped working the next day ',\n",
              " \"I don't like\",\n",
              " 'I brought five watch every watch was dead in a 2month',\n",
              " 'Not switching ON very bad product',\n",
              " 'Very poor this wach',\n",
              " 'Charger issue',\n",
              " 'Touch display issue not good fire boltt company',\n",
              " 'Bad experience dont buy',\n",
              " 'Dont buy very bad product and bad fire boltt please dont buy',\n",
              " 'The watch was switched off....And not switch on properly, what will we do',\n",
              " 'Display is not working',\n",
              " 'Its not working after two months bad product ',\n",
              " 'Not charging after 5 months.',\n",
              " 'It is suddenly got shutdown and not waking up. And return policy is already crossed.',\n",
              " \"Worst watch don't buy this watch screen broken no repair no replacement they given warranty card that also not valid for broken screen then why they are giving warranty card wasting customer time.worst customer care of fire Bolt.not even connect call.\",\n",
              " 'Charger is not working. I have contacted many. But no response. Waste of money',\n",
              " 'Just like a simple watch not more than.',\n",
              " 'Bad',\n",
              " \"Poor product having connectivity issues..once it's lost connection,it will not connect\",\n",
              " 'Worst product ever i hv usedUnable to charge the watchWorst experienceThere is no any button to on the watch',\n",
              " 'Battery back up poor asper policyDisplay blinging 10 time to one minute',\n",
              " 'Charging issue & open problem for lock',\n",
              " 'look not good. looks like kid watch. worst build quality . dont waste money.',\n",
              " \"Worst ever watch I have received, Flipkart kindly return it ... display is getting worst, it's just become white blank\",\n",
              " 'The product got dead within a week. It starts blinking minute after minute.',\n",
              " 'This product was so bad',\n",
              " \"Worst product don't purchase that watch\",\n",
              " 'Vey bad product',\n",
              " 'Really dissappointed with this watch. It get disconnected very often. This was my worst experience. Would never buy any product from fire-boltt.',\n",
              " 'Bad products',\n",
              " 'We take a watch but not working properly and the other.....',\n",
              " 'Display is very small and battery drains fast. Parameters shown are not that approximate.',\n",
              " '5 month later not working',\n",
              " 'Not buy this product only waste of time',\n",
              " \"Dear friends don't buy this product because if any problem in watch there is no response from firebolt and flippant team I am unhappy with both teams .. so I suggest you don't buy this\",\n",
              " 'Bought it 8 months before, Not used frequently.Now Battery Issues., Watch wakes up on only in charging time. Otherwise not works.',\n",
              " 'This divisi West pradakt display not working',\n",
              " 'Very bad',\n",
              " 'battery  backup issue plz dont buy this one if its having warrenty also they dont respond to calls and mails also',\n",
              " 'Not working',\n",
              " 'Not good  product  charger problam and my smart watch  to off and not replacement',\n",
              " 'Its a good product',\n",
              " 'After 1 month watch is not connecting with phone',\n",
              " \"This watch is not able to track my exercise activity even sleep as well The display touch work slowlyI have already returned it once But now it showing that you cannot return it Plz don't buy fire boltt spO2 , it's not a good investment\",\n",
              " 'Bad performance this watch not open',\n",
              " 'Very much poor',\n",
              " 'Watch not on in displey',\n",
              " 'Battery discharge fast. Not even charging.It is not we expect.It is a waste of money.',\n",
              " 'Not good ....',\n",
              " \"I have used it last four months, after one month I faced charging issues and after three month some black lines have created in the bottom portion of the display.... don't know how much time I can use this watch...\",\n",
              " 'Backup not good',\n",
              " 'Waste',\n",
              " \"Guys Don't buy any fire- boltt products it's very bad quality\",\n",
              " 'Just average',\n",
              " 'battery drains fast, it is not even working for a half-day',\n",
              " 'Not worth of money due to the features and quality',\n",
              " 'Poor in charge connection Every day to charge',\n",
              " 'Very bad',\n",
              " 'Bad product',\n",
              " 'Very worst',\n",
              " 'Never buy this product it is not well',\n",
              " 'Fature  of notifications has to improve entire  massages will  display  instead  of pop ping And missed call  notifications not available only calling  notify available',\n",
              " 'After 15 days climate temperature not shown ...walking wrong foot count shown.battery is also worst',\n",
              " \"Worst product don't buy\",\n",
              " \"1. Perfectly fits2. Less features for this price as compared to other brands like noise and boat.3. Sometimes taking values of heart rate of non living things how it's possible. 4. Claiming battery backup of 7 days, but real backup 3-4 days with medium brightness and medium use. 5. Like the function no switch on side for on/off.\",\n",
              " 'Watch is getting switched off. Not staring after a month of using it.',\n",
              " 'Protect not good',\n",
              " 'Poor battery lifeAnd charger not working',\n",
              " \"Very small  it for kids and not working in 2days dont buy this product  don't  waste your money\",\n",
              " 'Poor quality',\n",
              " \"Don't waste your money behind this product\",\n",
              " 'Worst product I have ever received.....',\n",
              " 'Waste is this watch waste product waste for money',\n",
              " 'Worst when u using speed',\n",
              " 'Bad Quality',\n",
              " 'Worest product',\n",
              " 'Very bad battry backup',\n",
              " \"Totally worst product, don't buy if u love ur money\",\n",
              " 'Not showing call alert in 1meter range',\n",
              " 'Bad',\n",
              " 'Don’t like color',\n",
              " 'Bad experience. After 1month the watch Stop warking',\n",
              " 'Device not getting charged, and  when plugged charger not showing any indication....  Also device not working Very disappointed  i returned it but company not given any responce .... World no.1 fraud company...',\n",
              " \"Don't buy this watch totally waste\",\n",
              " 'Display good but belt is so poor quality',\n",
              " 'Very bad',\n",
              " 'not bad',\n",
              " \"Not bad , it's ok\",\n",
              " 'Watch is not working after one month.',\n",
              " 'Good',\n",
              " 'Worst product I have ever bought on flipkart',\n",
              " 'No charging show',\n",
              " 'Bad quality',\n",
              " \"Battery drains very quickly say within 3 days if connected throught blootooth. Display looks bigger but thts just a trick. Actually it glows up with lesser area. Activities tracker are full of incorrect reading. Mine touch sensitive stooped working and now it displays according to its will n wish. So, iI have stopped using it now coz I can't check even time when required.\",\n",
              " 'Very bad product we have using 4 day then watch not working ',\n",
              " 'very bad product dont buy this  watch',\n",
              " 'My issue not resolved, my issue is charger not worked in firebolt smart watch, y so my return rejected, so i am already complaint in national consumer court take serious action in flipkart complaint num. 3649374',\n",
              " 'Not good very bad product My experience six months use',\n",
              " 'Dont buy jt its showing good on pics but in reality its tiny and bad quality less features waste of money',\n",
              " 'everything is good in watch at this price but charging is very slow',\n",
              " 'Very very bad product not working',\n",
              " 'Average Product',\n",
              " 'This watch is nice only but not baitar',\n",
              " 'Waste',\n",
              " \"Didn't work after 4months\",\n",
              " 'Most bogous',\n",
              " 'Battery is not charging normally, eight hrs for 30% and sometimes not even charged at all',\n",
              " 'No thanks ',\n",
              " 'Vare  bad',\n",
              " 'Not too good..just ok ok',\n",
              " 'Its not good as expected.. Also damaged with in 2 month worst experience',\n",
              " 'Good product! Must buy',\n",
              " 'Very good',\n",
              " 'Worst watch charge not even 2 days last',\n",
              " \"The product having on /off problm I'm very disappointed with the product and the costumer care of the fire -boltt is worst .\",\n",
              " \"Not working properly. Please don't buy.\",\n",
              " 'Very nice ',\n",
              " 'Not good.watch waste of money',\n",
              " 'Worst is the watch. It has gone bad in six months. The water has gone in it.',\n",
              " 'Weather forecast not working',\n",
              " 'Bed bad product',\n",
              " 'Don’t buy this product… stopped working after less than one year of usage',\n",
              " 'Bad',\n",
              " 'Waste of money.worst product..customer support is not good',\n",
              " 'Not good battery pick up not good',\n",
              " \"Worst product. No service provider available. Maximum life spam 1 month. Don't buy even its price 'll be Rs. 1.\",\n",
              " 'Not good ',\n",
              " 'Not good',\n",
              " 'Worst',\n",
              " 'Charger is not working properly',\n",
              " 'It works only 34 days.water go inside watch then display not work.',\n",
              " \"This product has only 7 activities as compare to fire boltt ninja pro has 27 activities in same price they didn't replace or exchange and don't give 1month Zee subcribation\",\n",
              " 'Not good this product',\n",
              " \"Please please don't buy kind request this is not that good that it that bad  please don't waste of the money waste of the time\",\n",
              " 'Very bad poor quality',\n",
              " 'Not even 2 months the touch is not working in watch. Feeling so sad',\n",
              " 'Not good tracker are not work properly',\n",
              " 'Not good watch',\n",
              " 'Quality not good and screen also not good',\n",
              " 'Not good',\n",
              " \"This is to bad quality and images are system and working battery is too bad only two to three hours working in the batteries don't purchase anyone please\",\n",
              " 'Charger slot damaged within one month',\n",
              " 'After 4 months battery drained in 2 days',\n",
              " 'Watch died after 10 days of usage',\n",
              " 'Sensor problem.So bad',\n",
              " 'Not working after 4monthes',\n",
              " 'Not working.!',\n",
              " 'Vary worst product',\n",
              " 'Bad',\n",
              " 'very bad ',\n",
              " 'Not worth after 5 months touch is not working again same problem',\n",
              " 'Totally bad',\n",
              " 'There is no accuracy in Blood pressure and Step counting....',\n",
              " 'Poor quality',\n",
              " 'Waste of money',\n",
              " 'The watch is not working and the coustemer care is also not work',\n",
              " 'Not bad',\n",
              " 'Touch not sensing',\n",
              " 'Watch not work well Tranking app use not wark well thise app hang when start tranking app',\n",
              " 'Super and cute',\n",
              " 'The screen was not working properly',\n",
              " 'Not satisfied.price Is too high compared to its features',\n",
              " 'Very bed',\n",
              " 'Bad  porodict',\n",
              " 'Connecting problem',\n",
              " 'Useless',\n",
              " 'Worst product experience',\n",
              " 'Wesst problem',\n",
              " 'Too much battery consuming evry alternate day you need to charge this device and even my watch had issue in just 3 months.',\n",
              " 'V v v v pure quality',\n",
              " \"Worst product  don't  ever try to buy this one ...i bought  it within 9 months the display is gone ...\",\n",
              " 'Worst smartwatch ever i buy',\n",
              " 'Average product...',\n",
              " 'Poor quality',\n",
              " 'very bad product ',\n",
              " 'The charger magnet is on opposite side so it is not charging where i can get replace in warranty?',\n",
              " 'Nice Watch',\n",
              " 'very bad experience',\n",
              " 'No accuracy at all',\n",
              " 'Not value of money',\n",
              " 'Very bad experience from this product and flipkart',\n",
              " 'Don’t buy……….waist money……after 4 days can’t work….worst company brand smartwatch',\n",
              " \"I don't liked no refund money \",\n",
              " \"Very very bad product don't buy this product\",\n",
              " 'Not goodVery bad product',\n",
              " 'Bed product loss for Invest mani',\n",
              " 'Not good',\n",
              " \"Very bad product and display quality is not good pls don't buy it\",\n",
              " 'Not working properly and not even lasting for an hour after Charge.',\n",
              " \"Worst product....... Don't purchase\",\n",
              " 'Not good productFlipkart service is not goodNo return for uncomfert product',\n",
              " 'Worst product. Unable to chargeCompletely waste of money No customercare No warranty',\n",
              " 'Very bad',\n",
              " 'Very worst watch..Display 1star',\n",
              " \"Don't buy this watch waste of my screen is not working\",\n",
              " 'Very bad function ',\n",
              " 'Ok not good',\n",
              " \"Waste watch not working properly and not getting on also within one month....I'm very disappointed with product because spent 1999 rupees on this....\",\n",
              " 'Very nice',\n",
              " 'Display not Good',\n",
              " \"Battery Backup of just 1 hrDon't buy it\",\n",
              " \"It stopped working with in 3 months i don't know how and where to get the service done.\",\n",
              " 'I am not satisfied for this product sorry I want buy the other product',\n",
              " 'Worst product, blood pressure not accurate.',\n",
              " 'Waist for mony',\n",
              " 'Heart rate monitor pathetic.. Not worth buying...',\n",
              " 'Ok product',\n",
              " 'Battary not support',\n",
              " 'Money waist',\n",
              " 'Not good. After 1 week touch not work. Automatic all option is coming going. My money is gone. Very bad item',\n",
              " \"Don't connected\",\n",
              " \"Don't buy\",\n",
              " 'Good quality in this price range',\n",
              " 'Worse',\n",
              " 'So bad',\n",
              " 'Call and sms notifications not working properly. After 4 month body will be damage',\n",
              " 'Bad',\n",
              " 'Bed brand',\n",
              " 'It was working only for one month, now its not charging or switching on.',\n",
              " \"Waste of moneyDon't buy Fire boltt watches , low quality watches with poor battery performance .\",\n",
              " \"First thing this is not water resistant . If you are washing your hands normally it'll black out from screen\",\n",
              " 'charger always showing low battery after two months of usage . no support call as whenever we try to reach call automatically cuts off',\n",
              " 'Vary bad item',\n",
              " 'Getting rust on body and touch stopped working after 6 months.',\n",
              " 'not good',\n",
              " 'Looks good, feels good, features of least use, step counting counts something different from the actual. No use of features',\n",
              " 'Bad product',\n",
              " 'Not happy',\n",
              " 'Compare to other brands like noise I dint like the look and feel of fire boltt. Also the features which is available in same range in other brands are missing like find my phone music etc. The look of the icons are of old style which cannot be changed from Da fit app as well. Overall an average smartwatch',\n",
              " 'Battery  backup bad',\n",
              " 'Useless',\n",
              " 'Very bad bcz of battery is very bad',\n",
              " \"Don't buy very bad quality\",\n",
              " 'My product was missing. So i suggest everyone that you should remember it do any activity thanks',\n",
              " 'Watch is not working properly',\n",
              " 'Screen is so small',\n",
              " \"It's very disgusting\",\n",
              " 'Fuddu... smartwatch',\n",
              " 'I am not getting more apps in it Please tell me how I will get more apps in it other wise I will (SYIC)',\n",
              " 'Good product ... Worth and useful',\n",
              " 'Look wise the product is good. The camera shutter feature is not working on iphone. Battery is getting drained to fast and bluetooth also keeps disconnecting frequently.',\n",
              " 'Bad product battrey damage not charging',\n",
              " 'Very bad product and very bad Flipkart service',\n",
              " 'Worst not at all connecting for phone',\n",
              " 'Fell',\n",
              " \"Very very small and poor display.Please don't waste your money.\",\n",
              " 'Stoped working after a week and no responce since september 2021',\n",
              " 'Very poor watch bakvash',\n",
              " 'Normal',\n",
              " 'Bkwas watch  connecting problem',\n",
              " 'Damage',\n",
              " 'Worst product',\n",
              " 'Bad quality',\n",
              " 'Worst to buy',\n",
              " 'Watch was good but display not comfortable and features old waste of money',\n",
              " 'So Nice Looking, Very Good Battery Backup & Also Activity Traking Performance is best',\n",
              " 'Good',\n",
              " 'Excellent watch',\n",
              " \"Battery is getting discharged soon and it's automatically generated some function touch is not working properly\",\n",
              " 'Bad product',\n",
              " \"It's tracking not good\",\n",
              " 'Very bad stuff Battery is not good it lasts very less time bought 1 week and the display is also turned off the notification is just like this.',\n",
              " 'Please dont purchase it. 1st of all they wouldnt  refund your money if u dnt like the product.2nd Software is totally looks duplicate.3rd it didnt installed more thn 4 faces of watch.',\n",
              " 'Battery is not charging',\n",
              " 'Wrost product',\n",
              " \"It didn't woke up on touching..\",\n",
              " 'Not good',\n",
              " 'Very bad',\n",
              " \"Smart Clock Saha shuts down in the month But doesn't pick up the wrist phone but does not pick up the mobile when it is connected or leaves it after a while\",\n",
              " \"Not smart watch only smart band no calling featur n battery backup very bad if all notifications will be on I'm not satisfy with this product\",\n",
              " 'Worst',\n",
              " 'Watch not good paint problem',\n",
              " 'The device is not good',\n",
              " 'Average',\n",
              " 'No button for on off N not on device withouth charge ',\n",
              " 'Very bad product after 4 days it is not charging  , and not working,  there is no service centre in India. Waste of money. I honorably say never buy this product.',\n",
              " 'Not good',\n",
              " 'Worst quality battery back up is very poor not worth for money with in 2months battery life is gone need to charge everyday',\n",
              " 'Bad watche',\n",
              " 'Very Nice product!I bought it for my daughter she loved it!!Must buy!!Value for money!',\n",
              " 'This not good very bad',\n",
              " 'My watch is not workinh',\n",
              " 'Good product in budget',\n",
              " 'Very Bade & display size very small',\n",
              " 'Product is good but i am facing some issue with this product l like this is not working properly and watch face is not changing even charging is not working properly.',\n",
              " \"Screen size is very small comparison to dail. Watch face is useless it's like kids watch faces. Inaccurate data,  after few months of uses it is stopped working So,  Don't waste your money.\",\n",
              " 'This one amazing ',\n",
              " 'Battery ProblemBattery even not standing for a Day....Rubbish Design and Performance',\n",
              " 'Wrost product',\n",
              " \"Don't buy  wast of money\",\n",
              " 'Not good',\n",
              " 'Using not like',\n",
              " \"Don't buy , stopped working after just 2 days . Waste of money\",\n",
              " 'Not up to mark',\n",
              " 'Not good',\n",
              " \"Not showing any SpO2, Heart Rate, Blood Pressure on this Device. It's Showing Not Warm\",\n",
              " 'Touch slove and battery tym minimum 2 days not worth',\n",
              " 'Very bad product.. with in a month it got failed. no one is looking the after sale services.... Not recommended...',\n",
              " 'Super l love watch thank you filpkart ',\n",
              " 'No connect blu tooth',\n",
              " 'Display issue after 1 week',\n",
              " 'Wast of money this product is not showing right activity',\n",
              " 'Bad product',\n",
              " \"Not satisfied with the battery life and the touch screen sensor. Too quickly battery die and touch sensor don't work properly. Not liked the watch\",\n",
              " 'Trash',\n",
              " 'Worst watch....chetha... my money vest.....',\n",
              " 'It has lots of features, unfortunately they are not accurate. For the price it is good, we are getting almost  all these sensors but What is the point in giving so many sensor at a lower price, when they are not accurate.',\n",
              " 'The fire- Boltt Ninja touch watch is not working properly',\n",
              " 'Prodact is veri bad',\n",
              " 'Not good',\n",
              " \"A useless product . Waste of money . The activity tracking is not accurate .  Heart beat without wearing it is measuring . Please don't buy this product\",\n",
              " 'This product totaly waste money is waste gyz dont purchesed on this product. I have a purchesed this producd yesterday today not warking. And coustomer service not responsed',\n",
              " \"Don't bye this product,Sometimes it's disconnected with paired phone\",\n",
              " 'It was very bad product After 15 - 20 days automatically off on and blutooth not connected I stumbled upon this product',\n",
              " 'Charger not working',\n",
              " 'charging issue',\n",
              " 'Display size very small',\n",
              " 'This product are very bad .',\n",
              " 'Not good',\n",
              " 'Good product',\n",
              " 'Bluetooth connectivity very bad After 15 mi they will be disconnect',\n",
              " 'Nice product',\n",
              " 'Not working some futures',\n",
              " 'My money is west for this product',\n",
              " 'Worst quality product .Never buy!!!',\n",
              " 'Worst',\n",
              " 'Not good watch',\n",
              " 'Worst',\n",
              " 'Nice',\n",
              " 'Not batter smartwatch',\n",
              " 'Hated',\n",
              " 'Blood pressure checking is not working properly',\n",
              " 'Worest product',\n",
              " 'Money waste',\n",
              " \"This watch doesn't have good battery backup and also very less features. The da- fit app is also very bad. Not proper option to enable multiple app notifications. You have to use Prebuilt app notifications and if you enable all then you will need to charge this every day at the end of day. Not good experience.\",\n",
              " 'Very late response quality also not satisfactory',\n",
              " \"Battre charging system it's poor not good ever time change problem\",\n",
              " 'Very bad',\n",
              " 'Bad product',\n",
              " 'This watch no longer connects to my mobile and not swo display on watch',\n",
              " 'Very good product ',\n",
              " 'Very Bad product',\n",
              " 'This product was very bed and no useless touched',\n",
              " \"Wake up doesn't work properly\",\n",
              " 'No accuracy ',\n",
              " \"After 1 day it's not working\",\n",
              " 'Good one',\n",
              " 'Wastage of money no battery backup waterproof not working its totally worse',\n",
              " 'watch are small screen',\n",
              " 'Awesome quality and very smooth touch i love this watch everything is perfect',\n",
              " \"Don't buy this product it gives 1 hour batry backup   and all sensors are worst gives false report\",\n",
              " 'Very bed',\n",
              " 'Vibration is not working.Not good condition',\n",
              " \"Very bad quality please don't buy\",\n",
              " 'Very bad features s waist money',\n",
              " 'Vry bad product',\n",
              " 'Problem with battery will discharge in 3 days, charger not working within 20 day',\n",
              " 'Not value for money watch',\n",
              " 'The product is looking good but their features is not work properly like foot track not work properly and gifts with this watch they do not working like ganna subscription not work at all',\n",
              " 'Worst product',\n",
              " 'The product is very bad',\n",
              " 'Worst product',\n",
              " 'Very Bad product .After 10 days of delivery it become dead .......',\n",
              " 'Disply problem',\n",
              " 'Not working',\n",
              " 'Phone canting is bad',\n",
              " 'SHAMELESS WHO BUILT THIS THIRD CLASS WATCH',\n",
              " 'Worked for 2 months stopped working suddendly,No single scratch,no fell down,no',\n",
              " 'screen has cracked after 10 days',\n",
              " 'I think that it is large in size but this is too small Looking at my hand ',\n",
              " 'Product ok but not smart watch only charging watch n smart band',\n",
              " 'Bad quality',\n",
              " 'Waste product',\n",
              " 'One of the worst smart watch. Incorrect measurement of all parameters.',\n",
              " 'Very bad product with no call attend and reject option damage display',\n",
              " \"Very bad  Don't parches any one\",\n",
              " \"The battery charge when is 50% it gets shutdown, it doesn't power on after that. don't go for this please\",\n",
              " 'Vry bad product',\n",
              " 'West of money display was now tough good vary bad product',\n",
              " \"Didn't like it.. Waste of money.. It's just smart watch that's it. Features are not good\",\n",
              " 'Worst product and worst service',\n",
              " \"I bought this on Flipkart it's worked only two days properly after its not working, I felt very bad about this One\",\n",
              " 'Am not interested watch is not Good',\n",
              " 'No long time battery backup',\n",
              " 'Need to improve lot on the parameter accuracy. Not up to the mark.',\n",
              " 'Very bad quality',\n",
              " 'Display is so small',\n",
              " 'Waste',\n",
              " 'Display was broken with in one week . low quality watch.its to delicate.New to improve metireal quality',\n",
              " \"This is worst product .After one month display doesn't work properly..\",\n",
              " 'loss of money dont buy this product',\n",
              " 'Very bad item',\n",
              " 'Very bad experience suddenly stopped',\n",
              " 'Bad quality',\n",
              " 'Bad product',\n",
              " 'It damaged in one day not waterproof its not even ipx4',\n",
              " '3days battery backup only',\n",
              " 'Not at all worth for this price compare to other smartwatches like boat',\n",
              " 'very bad product',\n",
              " \"Don't buy the watcheVery small watche\",\n",
              " 'It stopped working on the very 2nd day.',\n",
              " 'This watch is not working  warranty used please',\n",
              " 'Battery problem',\n",
              " 'Not as I expectedIt is still not working after replacement',\n",
              " 'Notification not work it',\n",
              " 'Bad  watch fire boltt',\n",
              " 'Excellent',\n",
              " 'First 2 month ok This time it is not workingSo do not buy this product',\n",
              " 'It is a useless  product              it is not working   and very bad',\n",
              " 'This was is not good this watch is not good total lost lost money',\n",
              " 'Step counts raise to thousands just for few mteres of walking',\n",
              " 'waste product',\n",
              " \"It's battery stop charging after one month and now dis watch is only for show piece\",\n",
              " 'Battery issues',\n",
              " \"Bad product the charger did not work after a month and there is no service from them. It's waste\",\n",
              " 'Bad quality',\n",
              " 'Stop working after 15 days of delivery',\n",
              " \"Within one month screen issue came..no return poor service .don't buy it\",\n",
              " 'Its stop charging the battery. The company respond but not working according to response. Avoid buying it. Go for other brand who reply u on time',\n",
              " 'Osm product',\n",
              " 'Useless ',\n",
              " 'Not worth',\n",
              " 'Worst product',\n",
              " 'Not showing exact bp and pulse rate . Showing error bad product and it counting wrong steps it showing the steps of traveling .Bad product waste of money',\n",
              " 'Very bad item mera',\n",
              " 'Very bad',\n",
              " 'Disappointed',\n",
              " 'Charging default.. i am bought 3month ago.. but no charging.. waste of money ',\n",
              " 'Loss of money',\n",
              " 'Heart rate , BP will showing on non living things also. Sensors not working properly',\n",
              " 'Very bad ',\n",
              " 'Watch not on ',\n",
              " 'bad.',\n",
              " 'Worst watch',\n",
              " 'Dead piece in just 15days of purchase',\n",
              " 'Watch not on charger not working',\n",
              " 'Battery backup waste experience',\n",
              " 'Bad product',\n",
              " 'My watch complaint  in after one month',\n",
              " \"Don't buy it waste of money very poor charging cableI got faulty cableNot charging watch fast After some days watch will not charging above 40%\",\n",
              " 'Waste your moneyCharging durable so weekThis watch so bad Up to 3moth use this watch',\n",
              " \"It works with only his app u can not use ur mobile cam on it it's bad as watch ok\",\n",
              " 'Item is not good',\n",
              " 'Not good',\n",
              " 'Good product',\n",
              " \"It's amazing smart watch. I like it.\",\n",
              " 'Watch not working after some days',\n",
              " 'Very bad',\n",
              " 'Poor quality....',\n",
              " 'Not bad',\n",
              " 'Full bad watch display not working sensor not working customer not response fastly do not thiz watch',\n",
              " 'Very bad product.because display was glass ',\n",
              " 'Very poor',\n",
              " 'This is not good',\n",
              " \"I purchased before 7 days but now it's not working return policy is also expired.. Weast of money don't buy\",\n",
              " \"Watch not working, just bought 1 month before but now it didn't work at all\",\n",
              " 'Waste product',\n",
              " \"It's a very bad\",\n",
              " 'Most horrible watch always give erratic reading . simply waste of money',\n",
              " 'Waste of money.',\n",
              " 'Medium quality',\n",
              " 'Not smart watch is jast watch ',\n",
              " 'Build quality was ok but size of screen is very small',\n",
              " 'Screen size almost small',\n",
              " 'Wort watch did not connect to mobile',\n",
              " \"I am very disappointed with this watch &It's not a water resistant watch\",\n",
              " \"Poor Battery backup. Battery draining fast even after full charging! The device manages to maintain battery only for 3-4 hrs and now it has stopped working. Don't waste your money on Firebolt.\",\n",
              " 'Bad product bettary is not good working',\n",
              " 'Rubbish not satisfy',\n",
              " 'Vibration not working',\n",
              " 'Not worth the price',\n",
              " 'Good ',\n",
              " 'Poor',\n",
              " 'Battery backup is very poor and low quality product and very poor designed ',\n",
              " 'Not good as per preview',\n",
              " 'very bad, After one week no on',\n",
              " 'Not good,',\n",
              " 'The steps counter is inaccurate and the battery gets drained quickly.',\n",
              " \"I never seen like this type of worst smart watch, don't fall in seller's self reviews. Waste of money.\",\n",
              " 'Bore item',\n",
              " \"It's a very bad product\",\n",
              " 'Bad item',\n",
              " 'Not working after 15days',\n",
              " 'after 30 days battery and touch not working',\n",
              " \"Don't buy this product..Not worthable at all.\",\n",
              " 'WATCH BATTERY OKAY FEATURES ARE GOOD VALUE FOR MONEY',\n",
              " 'nice watch but scree n is so small',\n",
              " 'Battery is very very poor',\n",
              " 'Wrost product',\n",
              " 'Not good',\n",
              " \"don't buy money waste product the senser is only for  so off   [the senser measure the heart rate /spo2/and BP of books and clothes ]this is not good the company should have improve there senser even the senser is not able to recognize living thing[human] or non living thing\",\n",
              " ...]"
            ]
          },
          "metadata": {},
          "execution_count": 31
        }
      ],
      "source": [
        "final_text=[]\n",
        "for i in file1['Reviews']:\n",
        "  final_text.append(remove_emoji(i))\n",
        "final_text"
      ]
    },
    {
      "cell_type": "code",
      "execution_count": null,
      "metadata": {
        "id": "3yWUGp05YZiP",
        "colab": {
          "base_uri": "https://localhost:8080/",
          "height": 363
        },
        "outputId": "64f995ca-17e3-48c7-c6b6-9ac89fbabab9"
      },
      "outputs": [
        {
          "output_type": "execute_result",
          "data": {
            "text/plain": [
              "                                          Reviews  Rating  \\\n",
              "1554                                        Wow 👌       1   \n",
              "1819               Full satisfied thanks Flipkart       1   \n",
              "988                                          Good       1   \n",
              "631        Very gud hoping for better versions :)       1   \n",
              "4495                      Display size very small       0   \n",
              "1062                      Proper toch not working       1   \n",
              "765   very nice watch i like this watch very much       1   \n",
              "1749                                         Nice       1   \n",
              "6495                          Very worst product.       0   \n",
              "5350        Dead piece in just 15days of purchase       0   \n",
              "\n",
              "                                       final_text  \n",
              "1554                                         Wow   \n",
              "1819               Full satisfied thanks Flipkart  \n",
              "988                                          Good  \n",
              "631        Very gud hoping for better versions :)  \n",
              "4495                      Display size very small  \n",
              "1062                      Proper toch not working  \n",
              "765   very nice watch i like this watch very much  \n",
              "1749                                         Nice  \n",
              "6495                          Very worst product.  \n",
              "5350        Dead piece in just 15days of purchase  "
            ],
            "text/html": [
              "\n",
              "  <div id=\"df-43728cc8-d91c-4af9-8001-3d60817415ad\">\n",
              "    <div class=\"colab-df-container\">\n",
              "      <div>\n",
              "<style scoped>\n",
              "    .dataframe tbody tr th:only-of-type {\n",
              "        vertical-align: middle;\n",
              "    }\n",
              "\n",
              "    .dataframe tbody tr th {\n",
              "        vertical-align: top;\n",
              "    }\n",
              "\n",
              "    .dataframe thead th {\n",
              "        text-align: right;\n",
              "    }\n",
              "</style>\n",
              "<table border=\"1\" class=\"dataframe\">\n",
              "  <thead>\n",
              "    <tr style=\"text-align: right;\">\n",
              "      <th></th>\n",
              "      <th>Reviews</th>\n",
              "      <th>Rating</th>\n",
              "      <th>final_text</th>\n",
              "    </tr>\n",
              "  </thead>\n",
              "  <tbody>\n",
              "    <tr>\n",
              "      <th>1554</th>\n",
              "      <td>Wow 👌</td>\n",
              "      <td>1</td>\n",
              "      <td>Wow</td>\n",
              "    </tr>\n",
              "    <tr>\n",
              "      <th>1819</th>\n",
              "      <td>Full satisfied thanks Flipkart</td>\n",
              "      <td>1</td>\n",
              "      <td>Full satisfied thanks Flipkart</td>\n",
              "    </tr>\n",
              "    <tr>\n",
              "      <th>988</th>\n",
              "      <td>Good</td>\n",
              "      <td>1</td>\n",
              "      <td>Good</td>\n",
              "    </tr>\n",
              "    <tr>\n",
              "      <th>631</th>\n",
              "      <td>Very gud hoping for better versions :)</td>\n",
              "      <td>1</td>\n",
              "      <td>Very gud hoping for better versions :)</td>\n",
              "    </tr>\n",
              "    <tr>\n",
              "      <th>4495</th>\n",
              "      <td>Display size very small</td>\n",
              "      <td>0</td>\n",
              "      <td>Display size very small</td>\n",
              "    </tr>\n",
              "    <tr>\n",
              "      <th>1062</th>\n",
              "      <td>Proper toch not working</td>\n",
              "      <td>1</td>\n",
              "      <td>Proper toch not working</td>\n",
              "    </tr>\n",
              "    <tr>\n",
              "      <th>765</th>\n",
              "      <td>very nice watch i like this watch very much</td>\n",
              "      <td>1</td>\n",
              "      <td>very nice watch i like this watch very much</td>\n",
              "    </tr>\n",
              "    <tr>\n",
              "      <th>1749</th>\n",
              "      <td>Nice</td>\n",
              "      <td>1</td>\n",
              "      <td>Nice</td>\n",
              "    </tr>\n",
              "    <tr>\n",
              "      <th>6495</th>\n",
              "      <td>Very worst product.</td>\n",
              "      <td>0</td>\n",
              "      <td>Very worst product.</td>\n",
              "    </tr>\n",
              "    <tr>\n",
              "      <th>5350</th>\n",
              "      <td>Dead piece in just 15days of purchase</td>\n",
              "      <td>0</td>\n",
              "      <td>Dead piece in just 15days of purchase</td>\n",
              "    </tr>\n",
              "  </tbody>\n",
              "</table>\n",
              "</div>\n",
              "      <button class=\"colab-df-convert\" onclick=\"convertToInteractive('df-43728cc8-d91c-4af9-8001-3d60817415ad')\"\n",
              "              title=\"Convert this dataframe to an interactive table.\"\n",
              "              style=\"display:none;\">\n",
              "        \n",
              "  <svg xmlns=\"http://www.w3.org/2000/svg\" height=\"24px\"viewBox=\"0 0 24 24\"\n",
              "       width=\"24px\">\n",
              "    <path d=\"M0 0h24v24H0V0z\" fill=\"none\"/>\n",
              "    <path d=\"M18.56 5.44l.94 2.06.94-2.06 2.06-.94-2.06-.94-.94-2.06-.94 2.06-2.06.94zm-11 1L8.5 8.5l.94-2.06 2.06-.94-2.06-.94L8.5 2.5l-.94 2.06-2.06.94zm10 10l.94 2.06.94-2.06 2.06-.94-2.06-.94-.94-2.06-.94 2.06-2.06.94z\"/><path d=\"M17.41 7.96l-1.37-1.37c-.4-.4-.92-.59-1.43-.59-.52 0-1.04.2-1.43.59L10.3 9.45l-7.72 7.72c-.78.78-.78 2.05 0 2.83L4 21.41c.39.39.9.59 1.41.59.51 0 1.02-.2 1.41-.59l7.78-7.78 2.81-2.81c.8-.78.8-2.07 0-2.86zM5.41 20L4 18.59l7.72-7.72 1.47 1.35L5.41 20z\"/>\n",
              "  </svg>\n",
              "      </button>\n",
              "      \n",
              "  <style>\n",
              "    .colab-df-container {\n",
              "      display:flex;\n",
              "      flex-wrap:wrap;\n",
              "      gap: 12px;\n",
              "    }\n",
              "\n",
              "    .colab-df-convert {\n",
              "      background-color: #E8F0FE;\n",
              "      border: none;\n",
              "      border-radius: 50%;\n",
              "      cursor: pointer;\n",
              "      display: none;\n",
              "      fill: #1967D2;\n",
              "      height: 32px;\n",
              "      padding: 0 0 0 0;\n",
              "      width: 32px;\n",
              "    }\n",
              "\n",
              "    .colab-df-convert:hover {\n",
              "      background-color: #E2EBFA;\n",
              "      box-shadow: 0px 1px 2px rgba(60, 64, 67, 0.3), 0px 1px 3px 1px rgba(60, 64, 67, 0.15);\n",
              "      fill: #174EA6;\n",
              "    }\n",
              "\n",
              "    [theme=dark] .colab-df-convert {\n",
              "      background-color: #3B4455;\n",
              "      fill: #D2E3FC;\n",
              "    }\n",
              "\n",
              "    [theme=dark] .colab-df-convert:hover {\n",
              "      background-color: #434B5C;\n",
              "      box-shadow: 0px 1px 3px 1px rgba(0, 0, 0, 0.15);\n",
              "      filter: drop-shadow(0px 1px 2px rgba(0, 0, 0, 0.3));\n",
              "      fill: #FFFFFF;\n",
              "    }\n",
              "  </style>\n",
              "\n",
              "      <script>\n",
              "        const buttonEl =\n",
              "          document.querySelector('#df-43728cc8-d91c-4af9-8001-3d60817415ad button.colab-df-convert');\n",
              "        buttonEl.style.display =\n",
              "          google.colab.kernel.accessAllowed ? 'block' : 'none';\n",
              "\n",
              "        async function convertToInteractive(key) {\n",
              "          const element = document.querySelector('#df-43728cc8-d91c-4af9-8001-3d60817415ad');\n",
              "          const dataTable =\n",
              "            await google.colab.kernel.invokeFunction('convertToInteractive',\n",
              "                                                     [key], {});\n",
              "          if (!dataTable) return;\n",
              "\n",
              "          const docLinkHtml = 'Like what you see? Visit the ' +\n",
              "            '<a target=\"_blank\" href=https://colab.research.google.com/notebooks/data_table.ipynb>data table notebook</a>'\n",
              "            + ' to learn more about interactive tables.';\n",
              "          element.innerHTML = '';\n",
              "          dataTable['output_type'] = 'display_data';\n",
              "          await google.colab.output.renderOutput(dataTable, element);\n",
              "          const docLink = document.createElement('div');\n",
              "          docLink.innerHTML = docLinkHtml;\n",
              "          element.appendChild(docLink);\n",
              "        }\n",
              "      </script>\n",
              "    </div>\n",
              "  </div>\n",
              "  "
            ]
          },
          "metadata": {},
          "execution_count": 32
        }
      ],
      "source": [
        "file1['final_text']=final_text\n",
        "file1.sample(10)"
      ]
    },
    {
      "cell_type": "code",
      "execution_count": null,
      "metadata": {
        "id": "qGuYtdEuVPva",
        "colab": {
          "base_uri": "https://localhost:8080/",
          "height": 877
        },
        "outputId": "0996e641-5c23-436e-d0b2-3aa1b41eeb09"
      },
      "outputs": [
        {
          "output_type": "execute_result",
          "data": {
            "text/plain": [
              "                                                Reviews  Rating  \\\n",
              "5075                loss of money dont buy this product       0   \n",
              "1134                    Excellent watch value for money       1   \n",
              "1750  Don't buy it is not a waterproof and not a str...       0   \n",
              "1473         Good product nice colour battery life good       1   \n",
              "2121  Guys don't buy this it's worst product ever in...       0   \n",
              "952   Waste of money it's my first smart watch.but w...       0   \n",
              "2110                             Nice product I like it       1   \n",
              "3154                                        Most bogous       0   \n",
              "6124                                       Poor quality       0   \n",
              "716                                                nice       1   \n",
              "6492      It is not working properly ND worrest product       0   \n",
              "645                                          Nice watch       1   \n",
              "2527  Charger is not working. I have contacted many....       0   \n",
              "950   Running count is so bad It is not made for spo...       0   \n",
              "1204                                       Best product       1   \n",
              "941                                                Nice       1   \n",
              "2046                        Very nice watch,I loved it.       1   \n",
              "3694            Battery Backup of just 1 hrDon't buy it       0   \n",
              "1942                                               Good       1   \n",
              "6604                                        Low quality       0   \n",
              "2023                       Amazing product . Loved it 😍       1   \n",
              "3613  Very bad product and display quality is not go...       0   \n",
              "6944       West money default watch trird class product       0   \n",
              "7175        This is a very bad watch🤮🤮🤮🤮🤮🤮🤮🤮🤮🤮🤮🤮🤮🤢🤢🤢🤢🤢🤢       0   \n",
              "460   This product cannot work properly.. bcz I purc...       0   \n",
              "\n",
              "                                             final_text  \n",
              "5075                loss of money dont buy this product  \n",
              "1134                    Excellent watch value for money  \n",
              "1750  Don't buy it is not a waterproof and not a str...  \n",
              "1473         Good product nice colour battery life good  \n",
              "2121  Guys don't buy this it's worst product ever in...  \n",
              "952   Waste of money it's my first smart watch.but w...  \n",
              "2110                             Nice product I like it  \n",
              "3154                                        Most bogous  \n",
              "6124                                       Poor quality  \n",
              "716                                                nice  \n",
              "6492      It is not working properly ND worrest product  \n",
              "645                                          Nice watch  \n",
              "2527  Charger is not working. I have contacted many....  \n",
              "950   Running count is so bad It is not made for spo...  \n",
              "1204                                       Best product  \n",
              "941                                                Nice  \n",
              "2046                        Very nice watch,I loved it.  \n",
              "3694            Battery Backup of just 1 hrDon't buy it  \n",
              "1942                                               Good  \n",
              "6604                                        Low quality  \n",
              "2023                        Amazing product . Loved it   \n",
              "3613  Very bad product and display quality is not go...  \n",
              "6944       West money default watch trird class product  \n",
              "7175                           This is a very bad watch  \n",
              "460   This product cannot work properly.. bcz I purc...  "
            ],
            "text/html": [
              "\n",
              "  <div id=\"df-0e1eb242-8b52-4fe9-9cd5-8ad7ad563b39\">\n",
              "    <div class=\"colab-df-container\">\n",
              "      <div>\n",
              "<style scoped>\n",
              "    .dataframe tbody tr th:only-of-type {\n",
              "        vertical-align: middle;\n",
              "    }\n",
              "\n",
              "    .dataframe tbody tr th {\n",
              "        vertical-align: top;\n",
              "    }\n",
              "\n",
              "    .dataframe thead th {\n",
              "        text-align: right;\n",
              "    }\n",
              "</style>\n",
              "<table border=\"1\" class=\"dataframe\">\n",
              "  <thead>\n",
              "    <tr style=\"text-align: right;\">\n",
              "      <th></th>\n",
              "      <th>Reviews</th>\n",
              "      <th>Rating</th>\n",
              "      <th>final_text</th>\n",
              "    </tr>\n",
              "  </thead>\n",
              "  <tbody>\n",
              "    <tr>\n",
              "      <th>5075</th>\n",
              "      <td>loss of money dont buy this product</td>\n",
              "      <td>0</td>\n",
              "      <td>loss of money dont buy this product</td>\n",
              "    </tr>\n",
              "    <tr>\n",
              "      <th>1134</th>\n",
              "      <td>Excellent watch value for money</td>\n",
              "      <td>1</td>\n",
              "      <td>Excellent watch value for money</td>\n",
              "    </tr>\n",
              "    <tr>\n",
              "      <th>1750</th>\n",
              "      <td>Don't buy it is not a waterproof and not a str...</td>\n",
              "      <td>0</td>\n",
              "      <td>Don't buy it is not a waterproof and not a str...</td>\n",
              "    </tr>\n",
              "    <tr>\n",
              "      <th>1473</th>\n",
              "      <td>Good product nice colour battery life good</td>\n",
              "      <td>1</td>\n",
              "      <td>Good product nice colour battery life good</td>\n",
              "    </tr>\n",
              "    <tr>\n",
              "      <th>2121</th>\n",
              "      <td>Guys don't buy this it's worst product ever in...</td>\n",
              "      <td>0</td>\n",
              "      <td>Guys don't buy this it's worst product ever in...</td>\n",
              "    </tr>\n",
              "    <tr>\n",
              "      <th>952</th>\n",
              "      <td>Waste of money it's my first smart watch.but w...</td>\n",
              "      <td>0</td>\n",
              "      <td>Waste of money it's my first smart watch.but w...</td>\n",
              "    </tr>\n",
              "    <tr>\n",
              "      <th>2110</th>\n",
              "      <td>Nice product I like it</td>\n",
              "      <td>1</td>\n",
              "      <td>Nice product I like it</td>\n",
              "    </tr>\n",
              "    <tr>\n",
              "      <th>3154</th>\n",
              "      <td>Most bogous</td>\n",
              "      <td>0</td>\n",
              "      <td>Most bogous</td>\n",
              "    </tr>\n",
              "    <tr>\n",
              "      <th>6124</th>\n",
              "      <td>Poor quality</td>\n",
              "      <td>0</td>\n",
              "      <td>Poor quality</td>\n",
              "    </tr>\n",
              "    <tr>\n",
              "      <th>716</th>\n",
              "      <td>nice</td>\n",
              "      <td>1</td>\n",
              "      <td>nice</td>\n",
              "    </tr>\n",
              "    <tr>\n",
              "      <th>6492</th>\n",
              "      <td>It is not working properly ND worrest product</td>\n",
              "      <td>0</td>\n",
              "      <td>It is not working properly ND worrest product</td>\n",
              "    </tr>\n",
              "    <tr>\n",
              "      <th>645</th>\n",
              "      <td>Nice watch</td>\n",
              "      <td>1</td>\n",
              "      <td>Nice watch</td>\n",
              "    </tr>\n",
              "    <tr>\n",
              "      <th>2527</th>\n",
              "      <td>Charger is not working. I have contacted many....</td>\n",
              "      <td>0</td>\n",
              "      <td>Charger is not working. I have contacted many....</td>\n",
              "    </tr>\n",
              "    <tr>\n",
              "      <th>950</th>\n",
              "      <td>Running count is so bad It is not made for spo...</td>\n",
              "      <td>0</td>\n",
              "      <td>Running count is so bad It is not made for spo...</td>\n",
              "    </tr>\n",
              "    <tr>\n",
              "      <th>1204</th>\n",
              "      <td>Best product</td>\n",
              "      <td>1</td>\n",
              "      <td>Best product</td>\n",
              "    </tr>\n",
              "    <tr>\n",
              "      <th>941</th>\n",
              "      <td>Nice</td>\n",
              "      <td>1</td>\n",
              "      <td>Nice</td>\n",
              "    </tr>\n",
              "    <tr>\n",
              "      <th>2046</th>\n",
              "      <td>Very nice watch,I loved it.</td>\n",
              "      <td>1</td>\n",
              "      <td>Very nice watch,I loved it.</td>\n",
              "    </tr>\n",
              "    <tr>\n",
              "      <th>3694</th>\n",
              "      <td>Battery Backup of just 1 hrDon't buy it</td>\n",
              "      <td>0</td>\n",
              "      <td>Battery Backup of just 1 hrDon't buy it</td>\n",
              "    </tr>\n",
              "    <tr>\n",
              "      <th>1942</th>\n",
              "      <td>Good</td>\n",
              "      <td>1</td>\n",
              "      <td>Good</td>\n",
              "    </tr>\n",
              "    <tr>\n",
              "      <th>6604</th>\n",
              "      <td>Low quality</td>\n",
              "      <td>0</td>\n",
              "      <td>Low quality</td>\n",
              "    </tr>\n",
              "    <tr>\n",
              "      <th>2023</th>\n",
              "      <td>Amazing product . Loved it 😍</td>\n",
              "      <td>1</td>\n",
              "      <td>Amazing product . Loved it</td>\n",
              "    </tr>\n",
              "    <tr>\n",
              "      <th>3613</th>\n",
              "      <td>Very bad product and display quality is not go...</td>\n",
              "      <td>0</td>\n",
              "      <td>Very bad product and display quality is not go...</td>\n",
              "    </tr>\n",
              "    <tr>\n",
              "      <th>6944</th>\n",
              "      <td>West money default watch trird class product</td>\n",
              "      <td>0</td>\n",
              "      <td>West money default watch trird class product</td>\n",
              "    </tr>\n",
              "    <tr>\n",
              "      <th>7175</th>\n",
              "      <td>This is a very bad watch🤮🤮🤮🤮🤮🤮🤮🤮🤮🤮🤮🤮🤮🤢🤢🤢🤢🤢🤢</td>\n",
              "      <td>0</td>\n",
              "      <td>This is a very bad watch</td>\n",
              "    </tr>\n",
              "    <tr>\n",
              "      <th>460</th>\n",
              "      <td>This product cannot work properly.. bcz I purc...</td>\n",
              "      <td>0</td>\n",
              "      <td>This product cannot work properly.. bcz I purc...</td>\n",
              "    </tr>\n",
              "  </tbody>\n",
              "</table>\n",
              "</div>\n",
              "      <button class=\"colab-df-convert\" onclick=\"convertToInteractive('df-0e1eb242-8b52-4fe9-9cd5-8ad7ad563b39')\"\n",
              "              title=\"Convert this dataframe to an interactive table.\"\n",
              "              style=\"display:none;\">\n",
              "        \n",
              "  <svg xmlns=\"http://www.w3.org/2000/svg\" height=\"24px\"viewBox=\"0 0 24 24\"\n",
              "       width=\"24px\">\n",
              "    <path d=\"M0 0h24v24H0V0z\" fill=\"none\"/>\n",
              "    <path d=\"M18.56 5.44l.94 2.06.94-2.06 2.06-.94-2.06-.94-.94-2.06-.94 2.06-2.06.94zm-11 1L8.5 8.5l.94-2.06 2.06-.94-2.06-.94L8.5 2.5l-.94 2.06-2.06.94zm10 10l.94 2.06.94-2.06 2.06-.94-2.06-.94-.94-2.06-.94 2.06-2.06.94z\"/><path d=\"M17.41 7.96l-1.37-1.37c-.4-.4-.92-.59-1.43-.59-.52 0-1.04.2-1.43.59L10.3 9.45l-7.72 7.72c-.78.78-.78 2.05 0 2.83L4 21.41c.39.39.9.59 1.41.59.51 0 1.02-.2 1.41-.59l7.78-7.78 2.81-2.81c.8-.78.8-2.07 0-2.86zM5.41 20L4 18.59l7.72-7.72 1.47 1.35L5.41 20z\"/>\n",
              "  </svg>\n",
              "      </button>\n",
              "      \n",
              "  <style>\n",
              "    .colab-df-container {\n",
              "      display:flex;\n",
              "      flex-wrap:wrap;\n",
              "      gap: 12px;\n",
              "    }\n",
              "\n",
              "    .colab-df-convert {\n",
              "      background-color: #E8F0FE;\n",
              "      border: none;\n",
              "      border-radius: 50%;\n",
              "      cursor: pointer;\n",
              "      display: none;\n",
              "      fill: #1967D2;\n",
              "      height: 32px;\n",
              "      padding: 0 0 0 0;\n",
              "      width: 32px;\n",
              "    }\n",
              "\n",
              "    .colab-df-convert:hover {\n",
              "      background-color: #E2EBFA;\n",
              "      box-shadow: 0px 1px 2px rgba(60, 64, 67, 0.3), 0px 1px 3px 1px rgba(60, 64, 67, 0.15);\n",
              "      fill: #174EA6;\n",
              "    }\n",
              "\n",
              "    [theme=dark] .colab-df-convert {\n",
              "      background-color: #3B4455;\n",
              "      fill: #D2E3FC;\n",
              "    }\n",
              "\n",
              "    [theme=dark] .colab-df-convert:hover {\n",
              "      background-color: #434B5C;\n",
              "      box-shadow: 0px 1px 3px 1px rgba(0, 0, 0, 0.15);\n",
              "      filter: drop-shadow(0px 1px 2px rgba(0, 0, 0, 0.3));\n",
              "      fill: #FFFFFF;\n",
              "    }\n",
              "  </style>\n",
              "\n",
              "      <script>\n",
              "        const buttonEl =\n",
              "          document.querySelector('#df-0e1eb242-8b52-4fe9-9cd5-8ad7ad563b39 button.colab-df-convert');\n",
              "        buttonEl.style.display =\n",
              "          google.colab.kernel.accessAllowed ? 'block' : 'none';\n",
              "\n",
              "        async function convertToInteractive(key) {\n",
              "          const element = document.querySelector('#df-0e1eb242-8b52-4fe9-9cd5-8ad7ad563b39');\n",
              "          const dataTable =\n",
              "            await google.colab.kernel.invokeFunction('convertToInteractive',\n",
              "                                                     [key], {});\n",
              "          if (!dataTable) return;\n",
              "\n",
              "          const docLinkHtml = 'Like what you see? Visit the ' +\n",
              "            '<a target=\"_blank\" href=https://colab.research.google.com/notebooks/data_table.ipynb>data table notebook</a>'\n",
              "            + ' to learn more about interactive tables.';\n",
              "          element.innerHTML = '';\n",
              "          dataTable['output_type'] = 'display_data';\n",
              "          await google.colab.output.renderOutput(dataTable, element);\n",
              "          const docLink = document.createElement('div');\n",
              "          docLink.innerHTML = docLinkHtml;\n",
              "          element.appendChild(docLink);\n",
              "        }\n",
              "      </script>\n",
              "    </div>\n",
              "  </div>\n",
              "  "
            ]
          },
          "metadata": {},
          "execution_count": 33
        }
      ],
      "source": [
        "file1.sample(25)"
      ]
    },
    {
      "cell_type": "markdown",
      "source": [
        "# **split dataset**"
      ],
      "metadata": {
        "id": "o4MwVhZm-NEB"
      }
    },
    {
      "cell_type": "code",
      "source": [
        "file1.info()"
      ],
      "metadata": {
        "colab": {
          "base_uri": "https://localhost:8080/"
        },
        "id": "qBbbofxz9DeU",
        "outputId": "b30e0234-1003-490e-9bf7-20d728560d35"
      },
      "execution_count": null,
      "outputs": [
        {
          "output_type": "stream",
          "name": "stdout",
          "text": [
            "<class 'pandas.core.frame.DataFrame'>\n",
            "Int64Index: 3180 entries, 87 to 2344\n",
            "Data columns (total 3 columns):\n",
            " #   Column      Non-Null Count  Dtype \n",
            "---  ------      --------------  ----- \n",
            " 0   Reviews     3180 non-null   object\n",
            " 1   Rating      3180 non-null   int64 \n",
            " 2   final_text  3180 non-null   object\n",
            "dtypes: int64(1), object(2)\n",
            "memory usage: 99.4+ KB\n"
          ]
        }
      ]
    },
    {
      "cell_type": "code",
      "execution_count": null,
      "metadata": {
        "id": "-bbH6S7ESRa-",
        "colab": {
          "base_uri": "https://localhost:8080/",
          "height": 363
        },
        "outputId": "20b6d890-2671-42da-f174-797bd8f054f7"
      },
      "outputs": [
        {
          "output_type": "execute_result",
          "data": {
            "text/plain": [
              "                                                Reviews  Rating  \\\n",
              "5502                                   This is not good       0   \n",
              "2335                                       Nice awesome       1   \n",
              "1354                                    Just Amazing 🤩🙂       1   \n",
              "1567                              Verry bad smart watch       1   \n",
              "6845  Waste of money don't buy it some features are ...       0   \n",
              "3554                                 Not value of money       0   \n",
              "277                                        Nice product       1   \n",
              "963                                        Nice product       1   \n",
              "462                                                Best       1   \n",
              "72                                         Nice watch ⌚       1   \n",
              "\n",
              "                                             final_text  \n",
              "5502                                   This is not good  \n",
              "2335                                       Nice awesome  \n",
              "1354                                      Just Amazing   \n",
              "1567                              Verry bad smart watch  \n",
              "6845  Waste of money don't buy it some features are ...  \n",
              "3554                                 Not value of money  \n",
              "277                                        Nice product  \n",
              "963                                        Nice product  \n",
              "462                                                Best  \n",
              "72                                          Nice watch   "
            ],
            "text/html": [
              "\n",
              "  <div id=\"df-5af1f022-2122-45fd-9b45-f4dbc188e4f7\">\n",
              "    <div class=\"colab-df-container\">\n",
              "      <div>\n",
              "<style scoped>\n",
              "    .dataframe tbody tr th:only-of-type {\n",
              "        vertical-align: middle;\n",
              "    }\n",
              "\n",
              "    .dataframe tbody tr th {\n",
              "        vertical-align: top;\n",
              "    }\n",
              "\n",
              "    .dataframe thead th {\n",
              "        text-align: right;\n",
              "    }\n",
              "</style>\n",
              "<table border=\"1\" class=\"dataframe\">\n",
              "  <thead>\n",
              "    <tr style=\"text-align: right;\">\n",
              "      <th></th>\n",
              "      <th>Reviews</th>\n",
              "      <th>Rating</th>\n",
              "      <th>final_text</th>\n",
              "    </tr>\n",
              "  </thead>\n",
              "  <tbody>\n",
              "    <tr>\n",
              "      <th>5502</th>\n",
              "      <td>This is not good</td>\n",
              "      <td>0</td>\n",
              "      <td>This is not good</td>\n",
              "    </tr>\n",
              "    <tr>\n",
              "      <th>2335</th>\n",
              "      <td>Nice awesome</td>\n",
              "      <td>1</td>\n",
              "      <td>Nice awesome</td>\n",
              "    </tr>\n",
              "    <tr>\n",
              "      <th>1354</th>\n",
              "      <td>Just Amazing 🤩🙂</td>\n",
              "      <td>1</td>\n",
              "      <td>Just Amazing</td>\n",
              "    </tr>\n",
              "    <tr>\n",
              "      <th>1567</th>\n",
              "      <td>Verry bad smart watch</td>\n",
              "      <td>1</td>\n",
              "      <td>Verry bad smart watch</td>\n",
              "    </tr>\n",
              "    <tr>\n",
              "      <th>6845</th>\n",
              "      <td>Waste of money don't buy it some features are ...</td>\n",
              "      <td>0</td>\n",
              "      <td>Waste of money don't buy it some features are ...</td>\n",
              "    </tr>\n",
              "    <tr>\n",
              "      <th>3554</th>\n",
              "      <td>Not value of money</td>\n",
              "      <td>0</td>\n",
              "      <td>Not value of money</td>\n",
              "    </tr>\n",
              "    <tr>\n",
              "      <th>277</th>\n",
              "      <td>Nice product</td>\n",
              "      <td>1</td>\n",
              "      <td>Nice product</td>\n",
              "    </tr>\n",
              "    <tr>\n",
              "      <th>963</th>\n",
              "      <td>Nice product</td>\n",
              "      <td>1</td>\n",
              "      <td>Nice product</td>\n",
              "    </tr>\n",
              "    <tr>\n",
              "      <th>462</th>\n",
              "      <td>Best</td>\n",
              "      <td>1</td>\n",
              "      <td>Best</td>\n",
              "    </tr>\n",
              "    <tr>\n",
              "      <th>72</th>\n",
              "      <td>Nice watch ⌚</td>\n",
              "      <td>1</td>\n",
              "      <td>Nice watch</td>\n",
              "    </tr>\n",
              "  </tbody>\n",
              "</table>\n",
              "</div>\n",
              "      <button class=\"colab-df-convert\" onclick=\"convertToInteractive('df-5af1f022-2122-45fd-9b45-f4dbc188e4f7')\"\n",
              "              title=\"Convert this dataframe to an interactive table.\"\n",
              "              style=\"display:none;\">\n",
              "        \n",
              "  <svg xmlns=\"http://www.w3.org/2000/svg\" height=\"24px\"viewBox=\"0 0 24 24\"\n",
              "       width=\"24px\">\n",
              "    <path d=\"M0 0h24v24H0V0z\" fill=\"none\"/>\n",
              "    <path d=\"M18.56 5.44l.94 2.06.94-2.06 2.06-.94-2.06-.94-.94-2.06-.94 2.06-2.06.94zm-11 1L8.5 8.5l.94-2.06 2.06-.94-2.06-.94L8.5 2.5l-.94 2.06-2.06.94zm10 10l.94 2.06.94-2.06 2.06-.94-2.06-.94-.94-2.06-.94 2.06-2.06.94z\"/><path d=\"M17.41 7.96l-1.37-1.37c-.4-.4-.92-.59-1.43-.59-.52 0-1.04.2-1.43.59L10.3 9.45l-7.72 7.72c-.78.78-.78 2.05 0 2.83L4 21.41c.39.39.9.59 1.41.59.51 0 1.02-.2 1.41-.59l7.78-7.78 2.81-2.81c.8-.78.8-2.07 0-2.86zM5.41 20L4 18.59l7.72-7.72 1.47 1.35L5.41 20z\"/>\n",
              "  </svg>\n",
              "      </button>\n",
              "      \n",
              "  <style>\n",
              "    .colab-df-container {\n",
              "      display:flex;\n",
              "      flex-wrap:wrap;\n",
              "      gap: 12px;\n",
              "    }\n",
              "\n",
              "    .colab-df-convert {\n",
              "      background-color: #E8F0FE;\n",
              "      border: none;\n",
              "      border-radius: 50%;\n",
              "      cursor: pointer;\n",
              "      display: none;\n",
              "      fill: #1967D2;\n",
              "      height: 32px;\n",
              "      padding: 0 0 0 0;\n",
              "      width: 32px;\n",
              "    }\n",
              "\n",
              "    .colab-df-convert:hover {\n",
              "      background-color: #E2EBFA;\n",
              "      box-shadow: 0px 1px 2px rgba(60, 64, 67, 0.3), 0px 1px 3px 1px rgba(60, 64, 67, 0.15);\n",
              "      fill: #174EA6;\n",
              "    }\n",
              "\n",
              "    [theme=dark] .colab-df-convert {\n",
              "      background-color: #3B4455;\n",
              "      fill: #D2E3FC;\n",
              "    }\n",
              "\n",
              "    [theme=dark] .colab-df-convert:hover {\n",
              "      background-color: #434B5C;\n",
              "      box-shadow: 0px 1px 3px 1px rgba(0, 0, 0, 0.15);\n",
              "      filter: drop-shadow(0px 1px 2px rgba(0, 0, 0, 0.3));\n",
              "      fill: #FFFFFF;\n",
              "    }\n",
              "  </style>\n",
              "\n",
              "      <script>\n",
              "        const buttonEl =\n",
              "          document.querySelector('#df-5af1f022-2122-45fd-9b45-f4dbc188e4f7 button.colab-df-convert');\n",
              "        buttonEl.style.display =\n",
              "          google.colab.kernel.accessAllowed ? 'block' : 'none';\n",
              "\n",
              "        async function convertToInteractive(key) {\n",
              "          const element = document.querySelector('#df-5af1f022-2122-45fd-9b45-f4dbc188e4f7');\n",
              "          const dataTable =\n",
              "            await google.colab.kernel.invokeFunction('convertToInteractive',\n",
              "                                                     [key], {});\n",
              "          if (!dataTable) return;\n",
              "\n",
              "          const docLinkHtml = 'Like what you see? Visit the ' +\n",
              "            '<a target=\"_blank\" href=https://colab.research.google.com/notebooks/data_table.ipynb>data table notebook</a>'\n",
              "            + ' to learn more about interactive tables.';\n",
              "          element.innerHTML = '';\n",
              "          dataTable['output_type'] = 'display_data';\n",
              "          await google.colab.output.renderOutput(dataTable, element);\n",
              "          const docLink = document.createElement('div');\n",
              "          docLink.innerHTML = docLinkHtml;\n",
              "          element.appendChild(docLink);\n",
              "        }\n",
              "      </script>\n",
              "    </div>\n",
              "  </div>\n",
              "  "
            ]
          },
          "metadata": {},
          "execution_count": 35
        }
      ],
      "source": [
        "# Shuffle dataframe\n",
        "file_shuffled = file1.sample(frac=1, random_state=42) # shuffle with random_state=42 for reproducibility\n",
        "file_shuffled.sample(10)"
      ]
    },
    {
      "cell_type": "markdown",
      "source": [
        "# #as we only need Final Text column & Rating column so we drop remaining column."
      ],
      "metadata": {
        "id": "a9Tg-SHEwjxi"
      }
    },
    {
      "cell_type": "code",
      "execution_count": null,
      "metadata": {
        "id": "6NDWiplISRjc",
        "colab": {
          "base_uri": "https://localhost:8080/",
          "height": 423
        },
        "outputId": "ad59246f-d845-428e-cea3-5a2851f5da2f"
      },
      "outputs": [
        {
          "output_type": "execute_result",
          "data": {
            "text/plain": [
              "      Rating                                         final_text\n",
              "5974       0                               Bad quality product.\n",
              "236        1  Best build quality in the segmentSuper fast in...\n",
              "4244       0                                           Not good\n",
              "1862       0                                  Very poor product\n",
              "6495       0                                Very worst product.\n",
              "...      ...                                                ...\n",
              "6427       0                                   Not good product\n",
              "6768       0                 Don't buy this not worthy ur money\n",
              "8193       0  Very Bad watch... Not connected to smart appli...\n",
              "4781       0                                           Very bed\n",
              "2335       1                                       Nice awesome\n",
              "\n",
              "[3180 rows x 2 columns]"
            ],
            "text/html": [
              "\n",
              "  <div id=\"df-88e7dcc2-4831-45c3-a51c-9accaee14daa\">\n",
              "    <div class=\"colab-df-container\">\n",
              "      <div>\n",
              "<style scoped>\n",
              "    .dataframe tbody tr th:only-of-type {\n",
              "        vertical-align: middle;\n",
              "    }\n",
              "\n",
              "    .dataframe tbody tr th {\n",
              "        vertical-align: top;\n",
              "    }\n",
              "\n",
              "    .dataframe thead th {\n",
              "        text-align: right;\n",
              "    }\n",
              "</style>\n",
              "<table border=\"1\" class=\"dataframe\">\n",
              "  <thead>\n",
              "    <tr style=\"text-align: right;\">\n",
              "      <th></th>\n",
              "      <th>Rating</th>\n",
              "      <th>final_text</th>\n",
              "    </tr>\n",
              "  </thead>\n",
              "  <tbody>\n",
              "    <tr>\n",
              "      <th>5974</th>\n",
              "      <td>0</td>\n",
              "      <td>Bad quality product.</td>\n",
              "    </tr>\n",
              "    <tr>\n",
              "      <th>236</th>\n",
              "      <td>1</td>\n",
              "      <td>Best build quality in the segmentSuper fast in...</td>\n",
              "    </tr>\n",
              "    <tr>\n",
              "      <th>4244</th>\n",
              "      <td>0</td>\n",
              "      <td>Not good</td>\n",
              "    </tr>\n",
              "    <tr>\n",
              "      <th>1862</th>\n",
              "      <td>0</td>\n",
              "      <td>Very poor product</td>\n",
              "    </tr>\n",
              "    <tr>\n",
              "      <th>6495</th>\n",
              "      <td>0</td>\n",
              "      <td>Very worst product.</td>\n",
              "    </tr>\n",
              "    <tr>\n",
              "      <th>...</th>\n",
              "      <td>...</td>\n",
              "      <td>...</td>\n",
              "    </tr>\n",
              "    <tr>\n",
              "      <th>6427</th>\n",
              "      <td>0</td>\n",
              "      <td>Not good product</td>\n",
              "    </tr>\n",
              "    <tr>\n",
              "      <th>6768</th>\n",
              "      <td>0</td>\n",
              "      <td>Don't buy this not worthy ur money</td>\n",
              "    </tr>\n",
              "    <tr>\n",
              "      <th>8193</th>\n",
              "      <td>0</td>\n",
              "      <td>Very Bad watch... Not connected to smart appli...</td>\n",
              "    </tr>\n",
              "    <tr>\n",
              "      <th>4781</th>\n",
              "      <td>0</td>\n",
              "      <td>Very bed</td>\n",
              "    </tr>\n",
              "    <tr>\n",
              "      <th>2335</th>\n",
              "      <td>1</td>\n",
              "      <td>Nice awesome</td>\n",
              "    </tr>\n",
              "  </tbody>\n",
              "</table>\n",
              "<p>3180 rows × 2 columns</p>\n",
              "</div>\n",
              "      <button class=\"colab-df-convert\" onclick=\"convertToInteractive('df-88e7dcc2-4831-45c3-a51c-9accaee14daa')\"\n",
              "              title=\"Convert this dataframe to an interactive table.\"\n",
              "              style=\"display:none;\">\n",
              "        \n",
              "  <svg xmlns=\"http://www.w3.org/2000/svg\" height=\"24px\"viewBox=\"0 0 24 24\"\n",
              "       width=\"24px\">\n",
              "    <path d=\"M0 0h24v24H0V0z\" fill=\"none\"/>\n",
              "    <path d=\"M18.56 5.44l.94 2.06.94-2.06 2.06-.94-2.06-.94-.94-2.06-.94 2.06-2.06.94zm-11 1L8.5 8.5l.94-2.06 2.06-.94-2.06-.94L8.5 2.5l-.94 2.06-2.06.94zm10 10l.94 2.06.94-2.06 2.06-.94-2.06-.94-.94-2.06-.94 2.06-2.06.94z\"/><path d=\"M17.41 7.96l-1.37-1.37c-.4-.4-.92-.59-1.43-.59-.52 0-1.04.2-1.43.59L10.3 9.45l-7.72 7.72c-.78.78-.78 2.05 0 2.83L4 21.41c.39.39.9.59 1.41.59.51 0 1.02-.2 1.41-.59l7.78-7.78 2.81-2.81c.8-.78.8-2.07 0-2.86zM5.41 20L4 18.59l7.72-7.72 1.47 1.35L5.41 20z\"/>\n",
              "  </svg>\n",
              "      </button>\n",
              "      \n",
              "  <style>\n",
              "    .colab-df-container {\n",
              "      display:flex;\n",
              "      flex-wrap:wrap;\n",
              "      gap: 12px;\n",
              "    }\n",
              "\n",
              "    .colab-df-convert {\n",
              "      background-color: #E8F0FE;\n",
              "      border: none;\n",
              "      border-radius: 50%;\n",
              "      cursor: pointer;\n",
              "      display: none;\n",
              "      fill: #1967D2;\n",
              "      height: 32px;\n",
              "      padding: 0 0 0 0;\n",
              "      width: 32px;\n",
              "    }\n",
              "\n",
              "    .colab-df-convert:hover {\n",
              "      background-color: #E2EBFA;\n",
              "      box-shadow: 0px 1px 2px rgba(60, 64, 67, 0.3), 0px 1px 3px 1px rgba(60, 64, 67, 0.15);\n",
              "      fill: #174EA6;\n",
              "    }\n",
              "\n",
              "    [theme=dark] .colab-df-convert {\n",
              "      background-color: #3B4455;\n",
              "      fill: #D2E3FC;\n",
              "    }\n",
              "\n",
              "    [theme=dark] .colab-df-convert:hover {\n",
              "      background-color: #434B5C;\n",
              "      box-shadow: 0px 1px 3px 1px rgba(0, 0, 0, 0.15);\n",
              "      filter: drop-shadow(0px 1px 2px rgba(0, 0, 0, 0.3));\n",
              "      fill: #FFFFFF;\n",
              "    }\n",
              "  </style>\n",
              "\n",
              "      <script>\n",
              "        const buttonEl =\n",
              "          document.querySelector('#df-88e7dcc2-4831-45c3-a51c-9accaee14daa button.colab-df-convert');\n",
              "        buttonEl.style.display =\n",
              "          google.colab.kernel.accessAllowed ? 'block' : 'none';\n",
              "\n",
              "        async function convertToInteractive(key) {\n",
              "          const element = document.querySelector('#df-88e7dcc2-4831-45c3-a51c-9accaee14daa');\n",
              "          const dataTable =\n",
              "            await google.colab.kernel.invokeFunction('convertToInteractive',\n",
              "                                                     [key], {});\n",
              "          if (!dataTable) return;\n",
              "\n",
              "          const docLinkHtml = 'Like what you see? Visit the ' +\n",
              "            '<a target=\"_blank\" href=https://colab.research.google.com/notebooks/data_table.ipynb>data table notebook</a>'\n",
              "            + ' to learn more about interactive tables.';\n",
              "          element.innerHTML = '';\n",
              "          dataTable['output_type'] = 'display_data';\n",
              "          await google.colab.output.renderOutput(dataTable, element);\n",
              "          const docLink = document.createElement('div');\n",
              "          docLink.innerHTML = docLinkHtml;\n",
              "          element.appendChild(docLink);\n",
              "        }\n",
              "      </script>\n",
              "    </div>\n",
              "  </div>\n",
              "  "
            ]
          },
          "metadata": {},
          "execution_count": 36
        }
      ],
      "source": [
        "file_shuffled.drop(columns=['Reviews'],inplace=True)\n",
        "file_shuffled"
      ]
    },
    {
      "cell_type": "code",
      "source": [
        "import plotly.express as px\n",
        "sentiment_pie = file1['Rating'].replace({1 : 'Positive', 0 : 'Negative'})\n",
        "Rating = sentiment_pie.value_counts()\n",
        "fig = px.pie(values=Rating.values, \n",
        "             names=Rating.index,\n",
        "             color_discrete_sequence=px.colors.sequential.Darkmint)\n",
        "fig.update_traces(textposition='inside',\n",
        "                  textfont_size=15,\n",
        "                  textinfo='percent+label')\n",
        "fig.update_layout(title_text=\"Sentiment Pie Graph\",\n",
        "                  uniformtext_minsize=12, \n",
        "                  uniformtext_mode='hide')\n",
        "\n",
        "fig.show()"
      ],
      "metadata": {
        "colab": {
          "base_uri": "https://localhost:8080/",
          "height": 542
        },
        "id": "jZp4rIi--dKB",
        "outputId": "cca53178-1461-4bd2-fbc9-36ebac0efb5c"
      },
      "execution_count": null,
      "outputs": [
        {
          "output_type": "display_data",
          "data": {
            "text/html": [
              "<html>\n",
              "<head><meta charset=\"utf-8\" /></head>\n",
              "<body>\n",
              "    <div>            <script src=\"https://cdnjs.cloudflare.com/ajax/libs/mathjax/2.7.5/MathJax.js?config=TeX-AMS-MML_SVG\"></script><script type=\"text/javascript\">if (window.MathJax) {MathJax.Hub.Config({SVG: {font: \"STIX-Web\"}});}</script>                <script type=\"text/javascript\">window.PlotlyConfig = {MathJaxConfig: 'local'};</script>\n",
              "        <script src=\"https://cdn.plot.ly/plotly-2.8.3.min.js\"></script>                <div id=\"9ad55d5e-b73e-4f4a-91d7-e8cae2b1f8fb\" class=\"plotly-graph-div\" style=\"height:525px; width:100%;\"></div>            <script type=\"text/javascript\">                                    window.PLOTLYENV=window.PLOTLYENV || {};                                    if (document.getElementById(\"9ad55d5e-b73e-4f4a-91d7-e8cae2b1f8fb\")) {                    Plotly.newPlot(                        \"9ad55d5e-b73e-4f4a-91d7-e8cae2b1f8fb\",                        [{\"domain\":{\"x\":[0.0,1.0],\"y\":[0.0,1.0]},\"hovertemplate\":\"label=%{label}<br>value=%{value}<extra></extra>\",\"labels\":[\"Positive\",\"Negative\"],\"legendgroup\":\"\",\"name\":\"\",\"showlegend\":true,\"values\":[1850,1330],\"type\":\"pie\",\"textfont\":{\"size\":15},\"textinfo\":\"percent+label\",\"textposition\":\"inside\"}],                        {\"template\":{\"data\":{\"bar\":[{\"error_x\":{\"color\":\"#2a3f5f\"},\"error_y\":{\"color\":\"#2a3f5f\"},\"marker\":{\"line\":{\"color\":\"#E5ECF6\",\"width\":0.5},\"pattern\":{\"fillmode\":\"overlay\",\"size\":10,\"solidity\":0.2}},\"type\":\"bar\"}],\"barpolar\":[{\"marker\":{\"line\":{\"color\":\"#E5ECF6\",\"width\":0.5},\"pattern\":{\"fillmode\":\"overlay\",\"size\":10,\"solidity\":0.2}},\"type\":\"barpolar\"}],\"carpet\":[{\"aaxis\":{\"endlinecolor\":\"#2a3f5f\",\"gridcolor\":\"white\",\"linecolor\":\"white\",\"minorgridcolor\":\"white\",\"startlinecolor\":\"#2a3f5f\"},\"baxis\":{\"endlinecolor\":\"#2a3f5f\",\"gridcolor\":\"white\",\"linecolor\":\"white\",\"minorgridcolor\":\"white\",\"startlinecolor\":\"#2a3f5f\"},\"type\":\"carpet\"}],\"choropleth\":[{\"colorbar\":{\"outlinewidth\":0,\"ticks\":\"\"},\"type\":\"choropleth\"}],\"contour\":[{\"colorbar\":{\"outlinewidth\":0,\"ticks\":\"\"},\"colorscale\":[[0.0,\"#0d0887\"],[0.1111111111111111,\"#46039f\"],[0.2222222222222222,\"#7201a8\"],[0.3333333333333333,\"#9c179e\"],[0.4444444444444444,\"#bd3786\"],[0.5555555555555556,\"#d8576b\"],[0.6666666666666666,\"#ed7953\"],[0.7777777777777778,\"#fb9f3a\"],[0.8888888888888888,\"#fdca26\"],[1.0,\"#f0f921\"]],\"type\":\"contour\"}],\"contourcarpet\":[{\"colorbar\":{\"outlinewidth\":0,\"ticks\":\"\"},\"type\":\"contourcarpet\"}],\"heatmap\":[{\"colorbar\":{\"outlinewidth\":0,\"ticks\":\"\"},\"colorscale\":[[0.0,\"#0d0887\"],[0.1111111111111111,\"#46039f\"],[0.2222222222222222,\"#7201a8\"],[0.3333333333333333,\"#9c179e\"],[0.4444444444444444,\"#bd3786\"],[0.5555555555555556,\"#d8576b\"],[0.6666666666666666,\"#ed7953\"],[0.7777777777777778,\"#fb9f3a\"],[0.8888888888888888,\"#fdca26\"],[1.0,\"#f0f921\"]],\"type\":\"heatmap\"}],\"heatmapgl\":[{\"colorbar\":{\"outlinewidth\":0,\"ticks\":\"\"},\"colorscale\":[[0.0,\"#0d0887\"],[0.1111111111111111,\"#46039f\"],[0.2222222222222222,\"#7201a8\"],[0.3333333333333333,\"#9c179e\"],[0.4444444444444444,\"#bd3786\"],[0.5555555555555556,\"#d8576b\"],[0.6666666666666666,\"#ed7953\"],[0.7777777777777778,\"#fb9f3a\"],[0.8888888888888888,\"#fdca26\"],[1.0,\"#f0f921\"]],\"type\":\"heatmapgl\"}],\"histogram\":[{\"marker\":{\"pattern\":{\"fillmode\":\"overlay\",\"size\":10,\"solidity\":0.2}},\"type\":\"histogram\"}],\"histogram2d\":[{\"colorbar\":{\"outlinewidth\":0,\"ticks\":\"\"},\"colorscale\":[[0.0,\"#0d0887\"],[0.1111111111111111,\"#46039f\"],[0.2222222222222222,\"#7201a8\"],[0.3333333333333333,\"#9c179e\"],[0.4444444444444444,\"#bd3786\"],[0.5555555555555556,\"#d8576b\"],[0.6666666666666666,\"#ed7953\"],[0.7777777777777778,\"#fb9f3a\"],[0.8888888888888888,\"#fdca26\"],[1.0,\"#f0f921\"]],\"type\":\"histogram2d\"}],\"histogram2dcontour\":[{\"colorbar\":{\"outlinewidth\":0,\"ticks\":\"\"},\"colorscale\":[[0.0,\"#0d0887\"],[0.1111111111111111,\"#46039f\"],[0.2222222222222222,\"#7201a8\"],[0.3333333333333333,\"#9c179e\"],[0.4444444444444444,\"#bd3786\"],[0.5555555555555556,\"#d8576b\"],[0.6666666666666666,\"#ed7953\"],[0.7777777777777778,\"#fb9f3a\"],[0.8888888888888888,\"#fdca26\"],[1.0,\"#f0f921\"]],\"type\":\"histogram2dcontour\"}],\"mesh3d\":[{\"colorbar\":{\"outlinewidth\":0,\"ticks\":\"\"},\"type\":\"mesh3d\"}],\"parcoords\":[{\"line\":{\"colorbar\":{\"outlinewidth\":0,\"ticks\":\"\"}},\"type\":\"parcoords\"}],\"pie\":[{\"automargin\":true,\"type\":\"pie\"}],\"scatter\":[{\"marker\":{\"colorbar\":{\"outlinewidth\":0,\"ticks\":\"\"}},\"type\":\"scatter\"}],\"scatter3d\":[{\"line\":{\"colorbar\":{\"outlinewidth\":0,\"ticks\":\"\"}},\"marker\":{\"colorbar\":{\"outlinewidth\":0,\"ticks\":\"\"}},\"type\":\"scatter3d\"}],\"scattercarpet\":[{\"marker\":{\"colorbar\":{\"outlinewidth\":0,\"ticks\":\"\"}},\"type\":\"scattercarpet\"}],\"scattergeo\":[{\"marker\":{\"colorbar\":{\"outlinewidth\":0,\"ticks\":\"\"}},\"type\":\"scattergeo\"}],\"scattergl\":[{\"marker\":{\"colorbar\":{\"outlinewidth\":0,\"ticks\":\"\"}},\"type\":\"scattergl\"}],\"scattermapbox\":[{\"marker\":{\"colorbar\":{\"outlinewidth\":0,\"ticks\":\"\"}},\"type\":\"scattermapbox\"}],\"scatterpolar\":[{\"marker\":{\"colorbar\":{\"outlinewidth\":0,\"ticks\":\"\"}},\"type\":\"scatterpolar\"}],\"scatterpolargl\":[{\"marker\":{\"colorbar\":{\"outlinewidth\":0,\"ticks\":\"\"}},\"type\":\"scatterpolargl\"}],\"scatterternary\":[{\"marker\":{\"colorbar\":{\"outlinewidth\":0,\"ticks\":\"\"}},\"type\":\"scatterternary\"}],\"surface\":[{\"colorbar\":{\"outlinewidth\":0,\"ticks\":\"\"},\"colorscale\":[[0.0,\"#0d0887\"],[0.1111111111111111,\"#46039f\"],[0.2222222222222222,\"#7201a8\"],[0.3333333333333333,\"#9c179e\"],[0.4444444444444444,\"#bd3786\"],[0.5555555555555556,\"#d8576b\"],[0.6666666666666666,\"#ed7953\"],[0.7777777777777778,\"#fb9f3a\"],[0.8888888888888888,\"#fdca26\"],[1.0,\"#f0f921\"]],\"type\":\"surface\"}],\"table\":[{\"cells\":{\"fill\":{\"color\":\"#EBF0F8\"},\"line\":{\"color\":\"white\"}},\"header\":{\"fill\":{\"color\":\"#C8D4E3\"},\"line\":{\"color\":\"white\"}},\"type\":\"table\"}]},\"layout\":{\"annotationdefaults\":{\"arrowcolor\":\"#2a3f5f\",\"arrowhead\":0,\"arrowwidth\":1},\"autotypenumbers\":\"strict\",\"coloraxis\":{\"colorbar\":{\"outlinewidth\":0,\"ticks\":\"\"}},\"colorscale\":{\"diverging\":[[0,\"#8e0152\"],[0.1,\"#c51b7d\"],[0.2,\"#de77ae\"],[0.3,\"#f1b6da\"],[0.4,\"#fde0ef\"],[0.5,\"#f7f7f7\"],[0.6,\"#e6f5d0\"],[0.7,\"#b8e186\"],[0.8,\"#7fbc41\"],[0.9,\"#4d9221\"],[1,\"#276419\"]],\"sequential\":[[0.0,\"#0d0887\"],[0.1111111111111111,\"#46039f\"],[0.2222222222222222,\"#7201a8\"],[0.3333333333333333,\"#9c179e\"],[0.4444444444444444,\"#bd3786\"],[0.5555555555555556,\"#d8576b\"],[0.6666666666666666,\"#ed7953\"],[0.7777777777777778,\"#fb9f3a\"],[0.8888888888888888,\"#fdca26\"],[1.0,\"#f0f921\"]],\"sequentialminus\":[[0.0,\"#0d0887\"],[0.1111111111111111,\"#46039f\"],[0.2222222222222222,\"#7201a8\"],[0.3333333333333333,\"#9c179e\"],[0.4444444444444444,\"#bd3786\"],[0.5555555555555556,\"#d8576b\"],[0.6666666666666666,\"#ed7953\"],[0.7777777777777778,\"#fb9f3a\"],[0.8888888888888888,\"#fdca26\"],[1.0,\"#f0f921\"]]},\"colorway\":[\"#636efa\",\"#EF553B\",\"#00cc96\",\"#ab63fa\",\"#FFA15A\",\"#19d3f3\",\"#FF6692\",\"#B6E880\",\"#FF97FF\",\"#FECB52\"],\"font\":{\"color\":\"#2a3f5f\"},\"geo\":{\"bgcolor\":\"white\",\"lakecolor\":\"white\",\"landcolor\":\"#E5ECF6\",\"showlakes\":true,\"showland\":true,\"subunitcolor\":\"white\"},\"hoverlabel\":{\"align\":\"left\"},\"hovermode\":\"closest\",\"mapbox\":{\"style\":\"light\"},\"paper_bgcolor\":\"white\",\"plot_bgcolor\":\"#E5ECF6\",\"polar\":{\"angularaxis\":{\"gridcolor\":\"white\",\"linecolor\":\"white\",\"ticks\":\"\"},\"bgcolor\":\"#E5ECF6\",\"radialaxis\":{\"gridcolor\":\"white\",\"linecolor\":\"white\",\"ticks\":\"\"}},\"scene\":{\"xaxis\":{\"backgroundcolor\":\"#E5ECF6\",\"gridcolor\":\"white\",\"gridwidth\":2,\"linecolor\":\"white\",\"showbackground\":true,\"ticks\":\"\",\"zerolinecolor\":\"white\"},\"yaxis\":{\"backgroundcolor\":\"#E5ECF6\",\"gridcolor\":\"white\",\"gridwidth\":2,\"linecolor\":\"white\",\"showbackground\":true,\"ticks\":\"\",\"zerolinecolor\":\"white\"},\"zaxis\":{\"backgroundcolor\":\"#E5ECF6\",\"gridcolor\":\"white\",\"gridwidth\":2,\"linecolor\":\"white\",\"showbackground\":true,\"ticks\":\"\",\"zerolinecolor\":\"white\"}},\"shapedefaults\":{\"line\":{\"color\":\"#2a3f5f\"}},\"ternary\":{\"aaxis\":{\"gridcolor\":\"white\",\"linecolor\":\"white\",\"ticks\":\"\"},\"baxis\":{\"gridcolor\":\"white\",\"linecolor\":\"white\",\"ticks\":\"\"},\"bgcolor\":\"#E5ECF6\",\"caxis\":{\"gridcolor\":\"white\",\"linecolor\":\"white\",\"ticks\":\"\"}},\"title\":{\"x\":0.05},\"xaxis\":{\"automargin\":true,\"gridcolor\":\"white\",\"linecolor\":\"white\",\"ticks\":\"\",\"title\":{\"standoff\":15},\"zerolinecolor\":\"white\",\"zerolinewidth\":2},\"yaxis\":{\"automargin\":true,\"gridcolor\":\"white\",\"linecolor\":\"white\",\"ticks\":\"\",\"title\":{\"standoff\":15},\"zerolinecolor\":\"white\",\"zerolinewidth\":2}}},\"legend\":{\"tracegroupgap\":0},\"margin\":{\"t\":60},\"piecolorway\":[\"rgb(210, 251, 212)\",\"rgb(165, 219, 194)\",\"rgb(123, 188, 176)\",\"rgb(85, 156, 158)\",\"rgb(58, 124, 137)\",\"rgb(35, 93, 114)\",\"rgb(18, 63, 90)\"],\"title\":{\"text\":\"Sentiment Pie Graph\"},\"uniformtext\":{\"minsize\":12,\"mode\":\"hide\"}},                        {\"responsive\": true}                    ).then(function(){\n",
              "                            \n",
              "var gd = document.getElementById('9ad55d5e-b73e-4f4a-91d7-e8cae2b1f8fb');\n",
              "var x = new MutationObserver(function (mutations, observer) {{\n",
              "        var display = window.getComputedStyle(gd).display;\n",
              "        if (!display || display === 'none') {{\n",
              "            console.log([gd, 'removed!']);\n",
              "            Plotly.purge(gd);\n",
              "            observer.disconnect();\n",
              "        }}\n",
              "}});\n",
              "\n",
              "// Listen for the removal of the full notebook cells\n",
              "var notebookContainer = gd.closest('#notebook-container');\n",
              "if (notebookContainer) {{\n",
              "    x.observe(notebookContainer, {childList: true});\n",
              "}}\n",
              "\n",
              "// Listen for the clearing of the current output cell\n",
              "var outputEl = gd.closest('.output');\n",
              "if (outputEl) {{\n",
              "    x.observe(outputEl, {childList: true});\n",
              "}}\n",
              "\n",
              "                        })                };                            </script>        </div>\n",
              "</body>\n",
              "</html>"
            ]
          },
          "metadata": {}
        }
      ]
    },
    {
      "cell_type": "markdown",
      "source": [
        "Since we have 2 Rating values, we're dealing with a binary classification problem.\n",
        "\n",
        "It's balanced too, about 52.9% positive  (Rating 4 & 5) and 47.1% Negative class (Rating 1 & 3).\n",
        "\n"
      ],
      "metadata": {
        "id": "tTUXQaDYxJQ7"
      }
    },
    {
      "cell_type": "code",
      "source": [
        "file_shuffled.Rating.unique()\n",
        "file_shuffled.sample(15)"
      ],
      "metadata": {
        "colab": {
          "base_uri": "https://localhost:8080/",
          "height": 519
        },
        "id": "36vJPSBeGnj4",
        "outputId": "5e8fc72d-7d57-4faa-af7c-e9ce06808d07"
      },
      "execution_count": null,
      "outputs": [
        {
          "output_type": "execute_result",
          "data": {
            "text/plain": [
              "      Rating                                         final_text\n",
              "2700       0   After 1 month watch is not connecting with phone\n",
              "156        1                                              Super\n",
              "779        1                                    Best Smartphone\n",
              "1873       1  Good product but it stopped charging after 6 m...\n",
              "689        1                                         Good watch\n",
              "274        0  Screen is too small, battery backup is not goo...\n",
              "3902       0                         Don't buy very bad quality\n",
              "2121       0  Guys don't buy this it's worst product ever in...\n",
              "1483       1                                          Excellent\n",
              "111        0           Dont purchase this watch...Money wasted \n",
              "1675       1                                    awesome product\n",
              "1619       1                                       Best Is Best\n",
              "5735       0                                           Not good\n",
              "470        1  Very Nice product,value for money thank you fi...\n",
              "2110       1                             Nice product I like it"
            ],
            "text/html": [
              "\n",
              "  <div id=\"df-01f51ebd-9afb-4f13-854e-627c2b5404fb\">\n",
              "    <div class=\"colab-df-container\">\n",
              "      <div>\n",
              "<style scoped>\n",
              "    .dataframe tbody tr th:only-of-type {\n",
              "        vertical-align: middle;\n",
              "    }\n",
              "\n",
              "    .dataframe tbody tr th {\n",
              "        vertical-align: top;\n",
              "    }\n",
              "\n",
              "    .dataframe thead th {\n",
              "        text-align: right;\n",
              "    }\n",
              "</style>\n",
              "<table border=\"1\" class=\"dataframe\">\n",
              "  <thead>\n",
              "    <tr style=\"text-align: right;\">\n",
              "      <th></th>\n",
              "      <th>Rating</th>\n",
              "      <th>final_text</th>\n",
              "    </tr>\n",
              "  </thead>\n",
              "  <tbody>\n",
              "    <tr>\n",
              "      <th>2700</th>\n",
              "      <td>0</td>\n",
              "      <td>After 1 month watch is not connecting with phone</td>\n",
              "    </tr>\n",
              "    <tr>\n",
              "      <th>156</th>\n",
              "      <td>1</td>\n",
              "      <td>Super</td>\n",
              "    </tr>\n",
              "    <tr>\n",
              "      <th>779</th>\n",
              "      <td>1</td>\n",
              "      <td>Best Smartphone</td>\n",
              "    </tr>\n",
              "    <tr>\n",
              "      <th>1873</th>\n",
              "      <td>1</td>\n",
              "      <td>Good product but it stopped charging after 6 m...</td>\n",
              "    </tr>\n",
              "    <tr>\n",
              "      <th>689</th>\n",
              "      <td>1</td>\n",
              "      <td>Good watch</td>\n",
              "    </tr>\n",
              "    <tr>\n",
              "      <th>274</th>\n",
              "      <td>0</td>\n",
              "      <td>Screen is too small, battery backup is not goo...</td>\n",
              "    </tr>\n",
              "    <tr>\n",
              "      <th>3902</th>\n",
              "      <td>0</td>\n",
              "      <td>Don't buy very bad quality</td>\n",
              "    </tr>\n",
              "    <tr>\n",
              "      <th>2121</th>\n",
              "      <td>0</td>\n",
              "      <td>Guys don't buy this it's worst product ever in...</td>\n",
              "    </tr>\n",
              "    <tr>\n",
              "      <th>1483</th>\n",
              "      <td>1</td>\n",
              "      <td>Excellent</td>\n",
              "    </tr>\n",
              "    <tr>\n",
              "      <th>111</th>\n",
              "      <td>0</td>\n",
              "      <td>Dont purchase this watch...Money wasted</td>\n",
              "    </tr>\n",
              "    <tr>\n",
              "      <th>1675</th>\n",
              "      <td>1</td>\n",
              "      <td>awesome product</td>\n",
              "    </tr>\n",
              "    <tr>\n",
              "      <th>1619</th>\n",
              "      <td>1</td>\n",
              "      <td>Best Is Best</td>\n",
              "    </tr>\n",
              "    <tr>\n",
              "      <th>5735</th>\n",
              "      <td>0</td>\n",
              "      <td>Not good</td>\n",
              "    </tr>\n",
              "    <tr>\n",
              "      <th>470</th>\n",
              "      <td>1</td>\n",
              "      <td>Very Nice product,value for money thank you fi...</td>\n",
              "    </tr>\n",
              "    <tr>\n",
              "      <th>2110</th>\n",
              "      <td>1</td>\n",
              "      <td>Nice product I like it</td>\n",
              "    </tr>\n",
              "  </tbody>\n",
              "</table>\n",
              "</div>\n",
              "      <button class=\"colab-df-convert\" onclick=\"convertToInteractive('df-01f51ebd-9afb-4f13-854e-627c2b5404fb')\"\n",
              "              title=\"Convert this dataframe to an interactive table.\"\n",
              "              style=\"display:none;\">\n",
              "        \n",
              "  <svg xmlns=\"http://www.w3.org/2000/svg\" height=\"24px\"viewBox=\"0 0 24 24\"\n",
              "       width=\"24px\">\n",
              "    <path d=\"M0 0h24v24H0V0z\" fill=\"none\"/>\n",
              "    <path d=\"M18.56 5.44l.94 2.06.94-2.06 2.06-.94-2.06-.94-.94-2.06-.94 2.06-2.06.94zm-11 1L8.5 8.5l.94-2.06 2.06-.94-2.06-.94L8.5 2.5l-.94 2.06-2.06.94zm10 10l.94 2.06.94-2.06 2.06-.94-2.06-.94-.94-2.06-.94 2.06-2.06.94z\"/><path d=\"M17.41 7.96l-1.37-1.37c-.4-.4-.92-.59-1.43-.59-.52 0-1.04.2-1.43.59L10.3 9.45l-7.72 7.72c-.78.78-.78 2.05 0 2.83L4 21.41c.39.39.9.59 1.41.59.51 0 1.02-.2 1.41-.59l7.78-7.78 2.81-2.81c.8-.78.8-2.07 0-2.86zM5.41 20L4 18.59l7.72-7.72 1.47 1.35L5.41 20z\"/>\n",
              "  </svg>\n",
              "      </button>\n",
              "      \n",
              "  <style>\n",
              "    .colab-df-container {\n",
              "      display:flex;\n",
              "      flex-wrap:wrap;\n",
              "      gap: 12px;\n",
              "    }\n",
              "\n",
              "    .colab-df-convert {\n",
              "      background-color: #E8F0FE;\n",
              "      border: none;\n",
              "      border-radius: 50%;\n",
              "      cursor: pointer;\n",
              "      display: none;\n",
              "      fill: #1967D2;\n",
              "      height: 32px;\n",
              "      padding: 0 0 0 0;\n",
              "      width: 32px;\n",
              "    }\n",
              "\n",
              "    .colab-df-convert:hover {\n",
              "      background-color: #E2EBFA;\n",
              "      box-shadow: 0px 1px 2px rgba(60, 64, 67, 0.3), 0px 1px 3px 1px rgba(60, 64, 67, 0.15);\n",
              "      fill: #174EA6;\n",
              "    }\n",
              "\n",
              "    [theme=dark] .colab-df-convert {\n",
              "      background-color: #3B4455;\n",
              "      fill: #D2E3FC;\n",
              "    }\n",
              "\n",
              "    [theme=dark] .colab-df-convert:hover {\n",
              "      background-color: #434B5C;\n",
              "      box-shadow: 0px 1px 3px 1px rgba(0, 0, 0, 0.15);\n",
              "      filter: drop-shadow(0px 1px 2px rgba(0, 0, 0, 0.3));\n",
              "      fill: #FFFFFF;\n",
              "    }\n",
              "  </style>\n",
              "\n",
              "      <script>\n",
              "        const buttonEl =\n",
              "          document.querySelector('#df-01f51ebd-9afb-4f13-854e-627c2b5404fb button.colab-df-convert');\n",
              "        buttonEl.style.display =\n",
              "          google.colab.kernel.accessAllowed ? 'block' : 'none';\n",
              "\n",
              "        async function convertToInteractive(key) {\n",
              "          const element = document.querySelector('#df-01f51ebd-9afb-4f13-854e-627c2b5404fb');\n",
              "          const dataTable =\n",
              "            await google.colab.kernel.invokeFunction('convertToInteractive',\n",
              "                                                     [key], {});\n",
              "          if (!dataTable) return;\n",
              "\n",
              "          const docLinkHtml = 'Like what you see? Visit the ' +\n",
              "            '<a target=\"_blank\" href=https://colab.research.google.com/notebooks/data_table.ipynb>data table notebook</a>'\n",
              "            + ' to learn more about interactive tables.';\n",
              "          element.innerHTML = '';\n",
              "          dataTable['output_type'] = 'display_data';\n",
              "          await google.colab.output.renderOutput(dataTable, element);\n",
              "          const docLink = document.createElement('div');\n",
              "          docLink.innerHTML = docLinkHtml;\n",
              "          element.appendChild(docLink);\n",
              "        }\n",
              "      </script>\n",
              "    </div>\n",
              "  </div>\n",
              "  "
            ]
          },
          "metadata": {},
          "execution_count": 38
        }
      ]
    },
    {
      "cell_type": "markdown",
      "metadata": {
        "id": "TPJqnyl5WR2g"
      },
      "source": [
        "# visualize random samples"
      ]
    },
    {
      "cell_type": "code",
      "execution_count": null,
      "metadata": {
        "id": "xbkVBVRqSRr0",
        "colab": {
          "base_uri": "https://localhost:8080/"
        },
        "outputId": "96d8d3ec-9336-4d5f-96c5-30f787962f9e"
      },
      "outputs": [
        {
          "output_type": "stream",
          "name": "stdout",
          "text": [
            "Pandas(Index=5974, final_text='Bad quality product.', Rating=0)\n",
            "Pandas(Index=236, final_text='Best build quality in the segmentSuper fast interface experience', Rating=1)\n",
            "Pandas(Index=4244, final_text='Not good', Rating=0)\n",
            "Pandas(Index=1862, final_text='Very poor product', Rating=0)\n",
            "Pandas(Index=6495, final_text='Very worst product.', Rating=0)\n",
            "Pandas(Index=3150, final_text='Waste', Rating=0)\n",
            "Pandas(Index=3136, final_text='Average Product', Rating=0)\n",
            "Pandas(Index=2004, final_text='Nice product', Rating=1)\n",
            "Pandas(Index=379, final_text=\"Don't buy this watch it's very bulky and not have music control and back button available. Better go for boat strom watch from this price range.\", Rating=0)\n",
            "Pandas(Index=707, final_text='Very nice ', Rating=1)\n"
          ]
        }
      ],
      "source": [
        "for i in file_shuffled[[\"final_text\",\"Rating\"]][0:10].itertuples():\n",
        "  print(i)\n",
        "  index, Final_text,Rating = i"
      ]
    },
    {
      "cell_type": "code",
      "source": [
        "# Let's visualize some random training examples\n",
        "import random\n",
        "random_index = random.randint(0, len(file1)-5) # create random indexes not higher than the total number of samples\n",
        "for row in file_shuffled[[\"final_text\", \"Rating\"]][random_index:random_index+5].itertuples():\n",
        "  _, text, Rating = row\n",
        "  print(f\"Rating: {Rating}\", \"(Positive)\" if Rating == 1 else \"(Negative)\")\n",
        "  print(f\"Text:\\n{text}\\n\")\n",
        "  print(\"---\\n\")"
      ],
      "metadata": {
        "colab": {
          "base_uri": "https://localhost:8080/"
        },
        "id": "UfMrPyrVya6z",
        "outputId": "478a89af-165b-46f6-ba73-7f84d3011fd7"
      },
      "execution_count": null,
      "outputs": [
        {
          "output_type": "stream",
          "name": "stdout",
          "text": [
            "Rating: 1 (Positive)\n",
            "Text:\n",
            "The product is gud\n",
            "\n",
            "---\n",
            "\n",
            "Rating: 1 (Positive)\n",
            "Text:\n",
            "Best Product \n",
            "\n",
            "---\n",
            "\n",
            "Rating: 1 (Positive)\n",
            "Text:\n",
            "Very wonderful \n",
            "\n",
            "---\n",
            "\n",
            "Rating: 0 (Negative)\n",
            "Text:\n",
            "Bluetooth connectivity issue\n",
            "\n",
            "---\n",
            "\n",
            "Rating: 0 (Negative)\n",
            "Text:\n",
            "Nice\n",
            "\n",
            "---\n",
            "\n"
          ]
        }
      ]
    },
    {
      "cell_type": "markdown",
      "metadata": {
        "id": "TH0kjZ54WcfJ"
      },
      "source": [
        "# Split data into training and validation sets"
      ]
    },
    {
      "cell_type": "code",
      "execution_count": null,
      "metadata": {
        "id": "stznGk5ZSRun"
      },
      "outputs": [],
      "source": [
        "#we have imbalance data so we split data with stratify\n",
        "from sklearn.model_selection import train_test_split\n",
        "\n",
        "# Use train_test_split to split training data into training and validation sets\n",
        "train_sentences, val_sentences, train_labels, val_labels = train_test_split(file_shuffled[\"final_text\"].to_numpy(),\n",
        "                                                                            file_shuffled[\"Rating\"].to_numpy(),\n",
        "                                                                            test_size=0.2, # dedicate 10% of samples to validation set\n",
        "                                                                            random_state=42) # random state for reproducibility"
      ]
    },
    {
      "cell_type": "code",
      "execution_count": null,
      "metadata": {
        "id": "UsHEMrQ_b-xw",
        "colab": {
          "base_uri": "https://localhost:8080/"
        },
        "outputId": "c42c1b47-853f-460c-c744-61d2f0eeea7d"
      },
      "outputs": [
        {
          "output_type": "execute_result",
          "data": {
            "text/plain": [
              "(2544, 2544, 636, 636)"
            ]
          },
          "metadata": {},
          "execution_count": 42
        }
      ],
      "source": [
        "# Check the lengths\n",
        "len(train_sentences), len(train_labels), len(val_sentences), len(val_labels)"
      ]
    },
    {
      "cell_type": "code",
      "execution_count": null,
      "metadata": {
        "id": "gw23yTk6cHzY",
        "colab": {
          "base_uri": "https://localhost:8080/"
        },
        "outputId": "dfa737d3-9f20-4a2c-9207-69132962e772"
      },
      "outputs": [
        {
          "output_type": "execute_result",
          "data": {
            "text/plain": [
              "(array(['Display is very small and battery drains fast. Parameters shown are not that approximate.',\n",
              "        'Good', 'Nice', 'Nice products',\n",
              "        'Share feedback after using 2 months.Smartwatch not working properly, now automatically switch off and on...Waste money bad product'],\n",
              "       dtype=object), array([0, 1, 1, 1, 0]))"
            ]
          },
          "metadata": {},
          "execution_count": 43
        }
      ],
      "source": [
        "# View the first 10 training sentences and their labels\n",
        "train_sentences[:5], train_labels[:5]"
      ]
    },
    {
      "cell_type": "markdown",
      "metadata": {
        "id": "bJNYNdxbcZfc"
      },
      "source": [
        "# **Converting text into numbers**"
      ]
    },
    {
      "cell_type": "code",
      "execution_count": null,
      "metadata": {
        "id": "UfucDpP5dFHL"
      },
      "outputs": [],
      "source": [
        "import tensorflow as tf\n",
        "from tensorflow.keras.layers import TextVectorization  #https://www.tensorflow.org/api_docs/python/tf/keras/layers/TextVectorization\n",
        "\n",
        "# Use the default TextVectorization variables\n",
        "text_vectorizer = TextVectorization(max_tokens=None, # how many words in the vocabulary (all of the different words in your text)\n",
        "                                    standardize=\"lower_and_strip_punctuation\", # how to process text\n",
        "                                    split=\"whitespace\", # how to split tokens\n",
        "                                    ngrams=None, # create groups of n-words?\n",
        "                                    output_mode=\"int\", # how to map tokens to numbers\n",
        "                                    output_sequence_length=None) # how long should the output sequence of tokens be?\n",
        "                                    # pad_to_max_tokens=True) # Not valid if using max_tokens=None"
      ]
    },
    {
      "cell_type": "code",
      "execution_count": null,
      "metadata": {
        "id": "P0x2QFeUdRDo",
        "colab": {
          "base_uri": "https://localhost:8080/"
        },
        "outputId": "769f703c-5e9b-4fde-8389-c97770eddf75"
      },
      "outputs": [
        {
          "output_type": "execute_result",
          "data": {
            "text/plain": [
              "8"
            ]
          },
          "metadata": {},
          "execution_count": 45
        }
      ],
      "source": [
        "# Find average number of tokens (words) in training Tweets\n",
        "round(sum([len(i.split()) for i in train_sentences])/len(train_sentences))"
      ]
    },
    {
      "cell_type": "code",
      "execution_count": null,
      "metadata": {
        "id": "8pczGG69duF-"
      },
      "outputs": [],
      "source": [
        "#Now let's create another TextVectorization object using our custom parameters.\n",
        "# Setup text vectorization with custom variables\n",
        "max_vocab_length = 10000 # max number of words to have in our vocabulary\n",
        "max_length = 14 # max length our sequences will be (e.g. how many words from a Tweet does our model see?)\n",
        "\n",
        "text_vectorizer = TextVectorization(max_tokens=max_vocab_length,\n",
        "                                    output_mode=\"int\",\n",
        "                                    output_sequence_length=max_length)"
      ]
    },
    {
      "cell_type": "code",
      "execution_count": null,
      "metadata": {
        "id": "LMY4h6Mwduo3"
      },
      "outputs": [],
      "source": [
        "# Fit the text vectorizer to the training text\n",
        "text_vectorizer.adapt(train_sentences)"
      ]
    },
    {
      "cell_type": "markdown",
      "metadata": {
        "id": "PuLyDelXd4DD"
      },
      "source": [
        "Training data mapped! Let's try our text_vectorizer on a custom sentence (one similar to what you might see in the training data)."
      ]
    },
    {
      "cell_type": "code",
      "execution_count": null,
      "metadata": {
        "id": "dap-C84Gd6ma",
        "colab": {
          "base_uri": "https://localhost:8080/"
        },
        "outputId": "dd742eb4-fb0d-435f-bc86-2086e05f0a3c"
      },
      "outputs": [
        {
          "output_type": "execute_result",
          "data": {
            "text/plain": [
              "<tf.Tensor: shape=(1, 14), dtype=int64, numpy=array([[ 1, 21,  1, 19, 31,  1,  0,  0,  0,  0,  0,  0,  0,  0]])>"
            ]
          },
          "metadata": {},
          "execution_count": 48
        }
      ],
      "source": [
        "# Create sample sentence and tokenize it\n",
        "sample_sentence = \"There's a flood in my street!\"\n",
        "text_vectorizer([sample_sentence])"
      ]
    },
    {
      "cell_type": "code",
      "execution_count": null,
      "metadata": {
        "id": "B0gQCy4PeMIz",
        "colab": {
          "base_uri": "https://localhost:8080/"
        },
        "outputId": "75859fe8-f8c8-41bc-cbf6-099f03b1ea26"
      },
      "outputs": [
        {
          "output_type": "stream",
          "name": "stdout",
          "text": [
            "Original text:\n",
            "Money west      \n",
            "\n",
            "Vectorized version:\n"
          ]
        },
        {
          "output_type": "execute_result",
          "data": {
            "text/plain": [
              "<tf.Tensor: shape=(1, 14), dtype=int64, numpy=\n",
              "array([[ 18, 276,   0,   0,   0,   0,   0,   0,   0,   0,   0,   0,   0,\n",
              "          0]])>"
            ]
          },
          "metadata": {},
          "execution_count": 49
        }
      ],
      "source": [
        "import random\n",
        "# Choose a random sentence from the training dataset and tokenize it\n",
        "random_sentence = random.choice(train_sentences)\n",
        "print(f\"Original text:\\n{random_sentence}\\\n",
        "      \\n\\nVectorized version:\")\n",
        "text_vectorizer([random_sentence])"
      ]
    },
    {
      "cell_type": "code",
      "execution_count": null,
      "metadata": {
        "id": "CteXKYj6fMb0",
        "colab": {
          "base_uri": "https://localhost:8080/"
        },
        "outputId": "8dc6a76b-5366-4576-b52c-cbbb3c9cf948"
      },
      "outputs": [
        {
          "output_type": "stream",
          "name": "stdout",
          "text": [
            "Number of words in vocab: 2323\n",
            "Top 5 most common words: ['', '[UNK]', 'product', 'good', 'is']\n",
            "Bottom 5 least common words: ['1500', '130200', '10days', '091021no', '03']\n"
          ]
        }
      ],
      "source": [
        "# Get the unique words in the vocabulary\n",
        "words_in_vocab = text_vectorizer.get_vocabulary()\n",
        "top_5_words = words_in_vocab[:5] # most common tokens (notice the [UNK] token for \"unknown\" words)\n",
        "bottom_5_words = words_in_vocab[-5:] # least common tokens\n",
        "print(f\"Number of words in vocab: {len(words_in_vocab)}\")\n",
        "print(f\"Top 5 most common words: {top_5_words}\") \n",
        "print(f\"Bottom 5 least common words: {bottom_5_words}\")"
      ]
    },
    {
      "cell_type": "markdown",
      "metadata": {
        "id": "RlZhYKs8esft"
      },
      "source": [
        "# Creating an Embedding using an Embedding Layer"
      ]
    },
    {
      "cell_type": "code",
      "execution_count": null,
      "metadata": {
        "id": "UbJUJrncewWo",
        "colab": {
          "base_uri": "https://localhost:8080/"
        },
        "outputId": "36d43a7c-ee6e-4743-a839-a1304f945497"
      },
      "outputs": [
        {
          "output_type": "execute_result",
          "data": {
            "text/plain": [
              "<keras.layers.core.embedding.Embedding at 0x7f739484c340>"
            ]
          },
          "metadata": {},
          "execution_count": 51
        }
      ],
      "source": [
        "tf.random.set_seed(42)\n",
        "from tensorflow.keras import layers\n",
        "\n",
        "embedding = layers.Embedding(input_dim=max_vocab_length, # set input shape\n",
        "                             output_dim=128, # set size of embedding vector\n",
        "                             embeddings_initializer=\"uniform\", # default, intialize randomly\n",
        "                             input_length=max_length, # how long is each input\n",
        "                             name=\"embedding_1\") \n",
        "\n",
        "embedding"
      ]
    },
    {
      "cell_type": "code",
      "execution_count": null,
      "metadata": {
        "id": "KDRvI5y8hKYA",
        "colab": {
          "base_uri": "https://localhost:8080/"
        },
        "outputId": "d921190f-9a27-4097-b7c6-6c07a7d585b2"
      },
      "outputs": [
        {
          "output_type": "stream",
          "name": "stdout",
          "text": [
            "Original text:\n",
            "Good product with specifications at this price. But if withstanding battery can be extended it would be a great product in the market for such moderate price      \n",
            "\n",
            "Embedded version:\n"
          ]
        },
        {
          "output_type": "execute_result",
          "data": {
            "text/plain": [
              "<tf.Tensor: shape=(1, 14, 128), dtype=float32, numpy=\n",
              "array([[[-0.04284013, -0.01489798, -0.0159496 , ..., -0.01166106,\n",
              "          0.03061062,  0.01972148],\n",
              "        [ 0.02504804,  0.02770906,  0.01542609, ..., -0.04612003,\n",
              "         -0.02924401, -0.00331711],\n",
              "        [-0.00724739, -0.04718477, -0.02565417, ..., -0.03481182,\n",
              "          0.01107268, -0.03028326],\n",
              "        ...,\n",
              "        [ 0.01010628, -0.04829277, -0.00221435, ..., -0.02659488,\n",
              "          0.02275628,  0.00718063],\n",
              "        [-0.01947756,  0.02440102, -0.01877919, ...,  0.01174287,\n",
              "         -0.03495647,  0.01842399],\n",
              "        [-0.04433925, -0.03570546,  0.02443169, ..., -0.0464985 ,\n",
              "          0.00939996, -0.0362088 ]]], dtype=float32)>"
            ]
          },
          "metadata": {},
          "execution_count": 52
        }
      ],
      "source": [
        "# Get a random sentence from training set\n",
        "import random\n",
        "random_sentence = random.choice(train_sentences)\n",
        "print(f\"Original text:\\n{random_sentence}\\\n",
        "      \\n\\nEmbedded version:\")\n",
        "\n",
        "# Embed the random sentence (turn it into numerical representation)\n",
        "sample_embed = embedding(text_vectorizer([random_sentence]))\n",
        "sample_embed"
      ]
    },
    {
      "cell_type": "markdown",
      "metadata": {
        "id": "ljE_8H8EhSL5"
      },
      "source": [
        "Each token in the sentence gets turned into a length 128 feature vector."
      ]
    },
    {
      "cell_type": "code",
      "execution_count": null,
      "metadata": {
        "id": "MKMAQkJchVSh",
        "colab": {
          "base_uri": "https://localhost:8080/"
        },
        "outputId": "0a9940bf-4c01-4597-f2af-3a4a3501dd01"
      },
      "outputs": [
        {
          "output_type": "execute_result",
          "data": {
            "text/plain": [
              "<tf.Tensor: shape=(128,), dtype=float32, numpy=\n",
              "array([-0.04433925, -0.03570546,  0.02443169,  0.01175194, -0.03723625,\n",
              "        0.04321582, -0.02260336, -0.01964359, -0.01709039, -0.00992705,\n",
              "       -0.04245746,  0.01499433, -0.04957719, -0.000142  , -0.01259267,\n",
              "        0.0169082 ,  0.02293256,  0.00557793, -0.00124152, -0.04568279,\n",
              "        0.0222862 , -0.04328867,  0.0135317 , -0.00218012,  0.00378336,\n",
              "       -0.03133409, -0.00501471, -0.02307351,  0.03662862, -0.00432576,\n",
              "        0.01638664, -0.03532409, -0.01268573,  0.0081845 ,  0.03379171,\n",
              "       -0.04181246, -0.04322147,  0.01759111, -0.04629202,  0.02194213,\n",
              "       -0.00347496, -0.01426553, -0.02718166, -0.01056472,  0.0436177 ,\n",
              "        0.04045249, -0.02864109, -0.00745635, -0.04882998, -0.04313942,\n",
              "       -0.02394249,  0.00721136, -0.0245168 , -0.00670507, -0.02964333,\n",
              "       -0.00048586,  0.00893348,  0.02867866, -0.0368901 ,  0.0341094 ,\n",
              "       -0.00487894, -0.04396294,  0.02722828, -0.02581365,  0.01352665,\n",
              "       -0.00839399,  0.01691462,  0.00256981, -0.03766613, -0.01387747,\n",
              "        0.04489598,  0.04253954,  0.03435841,  0.02788109,  0.04742822,\n",
              "       -0.04865326, -0.04448199,  0.02741644, -0.03179734,  0.03834966,\n",
              "       -0.02263118, -0.0419723 , -0.03285618, -0.00665043,  0.04026003,\n",
              "       -0.00090905,  0.04128356, -0.00513488,  0.0048173 ,  0.00186097,\n",
              "        0.00377069, -0.03466885,  0.04952261, -0.04843133, -0.00701052,\n",
              "       -0.03838396, -0.04090506, -0.02664338, -0.0219887 , -0.04664794,\n",
              "        0.04696291, -0.00109376,  0.03723533,  0.02416556,  0.03241992,\n",
              "       -0.02116208,  0.04628364,  0.04314559, -0.01542496,  0.02840257,\n",
              "       -0.04995453, -0.04870993,  0.02514699, -0.0147142 , -0.0220288 ,\n",
              "        0.02361527,  0.04792513, -0.00022086,  0.04933829,  0.04387556,\n",
              "        0.02601287, -0.02983686,  0.00446428,  0.00548475,  0.04577781,\n",
              "       -0.0464985 ,  0.00939996, -0.0362088 ], dtype=float32)>"
            ]
          },
          "metadata": {},
          "execution_count": 53
        }
      ],
      "source": [
        "# Check out a single token's embedding\n",
        "sample_embed[0][13]"
      ]
    },
    {
      "cell_type": "code",
      "execution_count": null,
      "metadata": {
        "id": "RVhuHyBKhhcQ",
        "colab": {
          "base_uri": "https://localhost:8080/"
        },
        "outputId": "a1db1c85-d212-4081-b550-1422a48272e0"
      },
      "outputs": [
        {
          "output_type": "execute_result",
          "data": {
            "text/plain": [
              "Pipeline(steps=[('tfidf', TfidfVectorizer()), ('clf', MultinomialNB())])"
            ]
          },
          "metadata": {},
          "execution_count": 54
        }
      ],
      "source": [
        "#Model 0: Getting a baseline\n",
        "from sklearn.feature_extraction.text import TfidfVectorizer\n",
        "from sklearn.naive_bayes import MultinomialNB\n",
        "from sklearn.pipeline import Pipeline\n",
        "\n",
        "# Create tokenization and modelling pipeline\n",
        "model_0 = Pipeline([\n",
        "                    (\"tfidf\", TfidfVectorizer()), # convert words to numbers using tfidf\n",
        "                    (\"clf\", MultinomialNB()) # model the text\n",
        "])\n",
        "\n",
        "# Fit the pipeline to the training data\n",
        "model_0.fit(train_sentences, train_labels)"
      ]
    },
    {
      "cell_type": "code",
      "execution_count": null,
      "metadata": {
        "id": "_sz-ZTEuhz9g",
        "colab": {
          "base_uri": "https://localhost:8080/"
        },
        "outputId": "20a61fb1-6f9e-443c-c18f-b617e389af11"
      },
      "outputs": [
        {
          "output_type": "execute_result",
          "data": {
            "text/plain": [
              "((636,), (636,))"
            ]
          },
          "metadata": {},
          "execution_count": 55
        }
      ],
      "source": [
        "val_sentences.shape, val_labels.shape"
      ]
    },
    {
      "cell_type": "code",
      "execution_count": null,
      "metadata": {
        "id": "p22Vr0t-h3KM",
        "colab": {
          "base_uri": "https://localhost:8080/"
        },
        "outputId": "b8d9ed2a-a629-424f-8abf-38985e3d58f0"
      },
      "outputs": [
        {
          "output_type": "stream",
          "name": "stdout",
          "text": [
            "Our baseline model achieves an accuracy of: 89.15%\n"
          ]
        }
      ],
      "source": [
        "baseline_score = model_0.score(val_sentences, val_labels)\n",
        "print(f\"Our baseline model achieves an accuracy of: {baseline_score*100:.2f}%\")"
      ]
    },
    {
      "cell_type": "code",
      "execution_count": null,
      "metadata": {
        "id": "I-AFYFuJh-kI",
        "colab": {
          "base_uri": "https://localhost:8080/"
        },
        "outputId": "29eba439-9cb1-4dc4-da10-e15e9f18e847"
      },
      "outputs": [
        {
          "output_type": "execute_result",
          "data": {
            "text/plain": [
              "array([0, 1, 0, 0, 1, 0, 0, 0, 0, 0, 1, 1, 1, 1, 1, 0, 1, 1, 1, 0])"
            ]
          },
          "metadata": {},
          "execution_count": 57
        }
      ],
      "source": [
        "# Make predictions\n",
        "baseline_preds = model_0.predict(val_sentences)\n",
        "baseline_preds[:20]"
      ]
    },
    {
      "cell_type": "code",
      "execution_count": null,
      "metadata": {
        "id": "bwycZsMLiD-4"
      },
      "outputs": [],
      "source": [
        "# Function to evaluate: accuracy, precision, recall, f1-score\n",
        "from sklearn.metrics import accuracy_score, precision_recall_fscore_support\n",
        "\n",
        "def calculate_results(y_true, y_pred):\n",
        "  \"\"\"\n",
        "  Calculates model accuracy, precision, recall and f1 score of a binary classification model.\n",
        "\n",
        "  Args:\n",
        "  -----\n",
        "  y_true = true labels in the form of a 1D array\n",
        "  y_pred = predicted labels in the form of a 1D array\n",
        "\n",
        "  Returns a dictionary of accuracy, precision, recall, f1-score.\n",
        "  \"\"\"\n",
        "  # Calculate model accuracy\n",
        "  model_accuracy = accuracy_score(y_true, y_pred) * 100\n",
        "  # Calculate model precision, recall and f1 score using \"weighted\" average\n",
        "  model_precision, model_recall, model_f1, _ = precision_recall_fscore_support(y_true, y_pred, average=\"weighted\")\n",
        "  model_results = {\"accuracy\": model_accuracy,\n",
        "                  \"precision\": model_precision,\n",
        "                  \"recall\": model_recall,\n",
        "                  \"f1\": model_f1}\n",
        "  return model_results"
      ]
    },
    {
      "cell_type": "code",
      "execution_count": null,
      "metadata": {
        "id": "jpHcoMSSiHPP",
        "colab": {
          "base_uri": "https://localhost:8080/"
        },
        "outputId": "33f7671f-73a2-44f6-8170-d4205a8d9750"
      },
      "outputs": [
        {
          "output_type": "execute_result",
          "data": {
            "text/plain": [
              "{'accuracy': 89.15094339622641,\n",
              " 'precision': 0.89209206751623,\n",
              " 'recall': 0.8915094339622641,\n",
              " 'f1': 0.8909814196678236}"
            ]
          },
          "metadata": {},
          "execution_count": 59
        }
      ],
      "source": [
        "# Get baseline results\n",
        "baseline_results = calculate_results(y_true=val_labels,\n",
        "                                     y_pred=baseline_preds)\n",
        "baseline_results"
      ]
    },
    {
      "cell_type": "code",
      "execution_count": null,
      "metadata": {
        "id": "XtDI_0uDiKy4"
      },
      "outputs": [],
      "source": [
        "#Model 1: A simple dense model\n",
        "# Create tensorboard callback (need to create a new one for each model)\n",
        "from helper_functions import create_tensorboard_callback\n",
        "\n",
        "# Create directory to save TensorBoard logs\n",
        "SAVE_DIR = \"model_logs\""
      ]
    },
    {
      "cell_type": "code",
      "execution_count": null,
      "metadata": {
        "id": "hvvkORq1jcou"
      },
      "outputs": [],
      "source": [
        "# Build model with the Functional API\n",
        "from tensorflow.keras import layers\n",
        "inputs = layers.Input(shape=(1,), dtype=\"string\") # inputs are 1-dimensional strings\n",
        "x = text_vectorizer(inputs) # turn the input text into numbers\n",
        "x = embedding(x) # create an embedding of the numerized numbers\n",
        "x = layers.GlobalAveragePooling1D()(x) # lower the dimensionality of the embedding (try running the model without this layer and see what happens)\n",
        "outputs = layers.Dense(1, activation=\"sigmoid\")(x) # create the output layer, want binary outputs so use sigmoid activation\n",
        "model_1 = tf.keras.Model(inputs, outputs, name=\"model_1_dense\") # construct the model"
      ]
    },
    {
      "cell_type": "code",
      "execution_count": null,
      "metadata": {
        "id": "x0sRAnxojgEq",
        "colab": {
          "base_uri": "https://localhost:8080/"
        },
        "outputId": "c05adb30-aa09-4024-f28d-d6a9b4bc6c49"
      },
      "outputs": [
        {
          "output_type": "stream",
          "name": "stderr",
          "text": [
            "/usr/local/lib/python3.8/dist-packages/keras/optimizers/optimizer_v2/adam.py:110: UserWarning:\n",
            "\n",
            "The `lr` argument is deprecated, use `learning_rate` instead.\n",
            "\n"
          ]
        }
      ],
      "source": [
        "# Compile model\n",
        "model_1.compile(loss=\"binary_crossentropy\",\n",
        "                optimizer=tf.keras.optimizers.Adam(lr=0.001),\n",
        "                metrics=[\"accuracy\"])"
      ]
    },
    {
      "cell_type": "code",
      "execution_count": null,
      "metadata": {
        "id": "IGOM1GBpjs8I",
        "colab": {
          "base_uri": "https://localhost:8080/"
        },
        "outputId": "f87445c1-edf1-46e2-dd28-ddc3e6ad424a"
      },
      "outputs": [
        {
          "output_type": "stream",
          "name": "stdout",
          "text": [
            "Model: \"model_1_dense\"\n",
            "_________________________________________________________________\n",
            " Layer (type)                Output Shape              Param #   \n",
            "=================================================================\n",
            " input_1 (InputLayer)        [(None, 1)]               0         \n",
            "                                                                 \n",
            " text_vectorization_1 (TextV  (None, 14)               0         \n",
            " ectorization)                                                   \n",
            "                                                                 \n",
            " embedding_1 (Embedding)     (None, 14, 128)           1280000   \n",
            "                                                                 \n",
            " global_average_pooling1d (G  (None, 128)              0         \n",
            " lobalAveragePooling1D)                                          \n",
            "                                                                 \n",
            " dense (Dense)               (None, 1)                 129       \n",
            "                                                                 \n",
            "=================================================================\n",
            "Total params: 1,280,129\n",
            "Trainable params: 1,280,129\n",
            "Non-trainable params: 0\n",
            "_________________________________________________________________\n"
          ]
        }
      ],
      "source": [
        "# Get a summary of the model\n",
        "model_1.summary()"
      ]
    },
    {
      "cell_type": "code",
      "execution_count": null,
      "metadata": {
        "id": "nHnMQj1Bjwuo",
        "colab": {
          "base_uri": "https://localhost:8080/"
        },
        "outputId": "baf85420-5a62-46a1-da7d-46651e9c43b7"
      },
      "outputs": [
        {
          "output_type": "stream",
          "name": "stdout",
          "text": [
            "Saving TensorBoard log files to: model_logs/simple_dense_model/20230125-170010\n",
            "Epoch 1/10\n",
            "80/80 [==============================] - 3s 22ms/step - loss: 0.6425 - accuracy: 0.6592 - val_loss: 0.6138 - val_accuracy: 0.6651\n",
            "Epoch 2/10\n",
            "80/80 [==============================] - 2s 20ms/step - loss: 0.5536 - accuracy: 0.7374 - val_loss: 0.5133 - val_accuracy: 0.7673\n",
            "Epoch 3/10\n",
            "80/80 [==============================] - 1s 16ms/step - loss: 0.4485 - accuracy: 0.8184 - val_loss: 0.4229 - val_accuracy: 0.8286\n",
            "Epoch 4/10\n",
            "80/80 [==============================] - 2s 22ms/step - loss: 0.3668 - accuracy: 0.8766 - val_loss: 0.3595 - val_accuracy: 0.8852\n",
            "Epoch 5/10\n",
            "80/80 [==============================] - 1s 18ms/step - loss: 0.3157 - accuracy: 0.8994 - val_loss: 0.3273 - val_accuracy: 0.8915\n",
            "Epoch 6/10\n",
            "80/80 [==============================] - 2s 24ms/step - loss: 0.2836 - accuracy: 0.9080 - val_loss: 0.3081 - val_accuracy: 0.9009\n",
            "Epoch 7/10\n",
            "80/80 [==============================] - 1s 16ms/step - loss: 0.2620 - accuracy: 0.9190 - val_loss: 0.3017 - val_accuracy: 0.9009\n",
            "Epoch 8/10\n",
            "80/80 [==============================] - 2s 19ms/step - loss: 0.2469 - accuracy: 0.9237 - val_loss: 0.2942 - val_accuracy: 0.9119\n",
            "Epoch 9/10\n",
            "80/80 [==============================] - 1s 15ms/step - loss: 0.2344 - accuracy: 0.9328 - val_loss: 0.2919 - val_accuracy: 0.9182\n",
            "Epoch 10/10\n",
            "80/80 [==============================] - 2s 21ms/step - loss: 0.2233 - accuracy: 0.9399 - val_loss: 0.2912 - val_accuracy: 0.9261\n"
          ]
        }
      ],
      "source": [
        "\n",
        "# Fit the model\n",
        "model_1_history = model_1.fit(train_sentences, # input sentences can be a list of strings due to text preprocessing layer built-in model\n",
        "                              train_labels,\n",
        "                              epochs=10,\n",
        "                              validation_data=(val_sentences, val_labels),\n",
        "                              callbacks=[create_tensorboard_callback(dir_name=SAVE_DIR, \n",
        "                                                                     experiment_name=\"simple_dense_model\")])"
      ]
    },
    {
      "cell_type": "code",
      "execution_count": null,
      "metadata": {
        "id": "b2Lr7t_aj5M4",
        "colab": {
          "base_uri": "https://localhost:8080/"
        },
        "outputId": "f9e5e6aa-85be-4fe4-a870-ddbee1a68f71"
      },
      "outputs": [
        {
          "output_type": "stream",
          "name": "stdout",
          "text": [
            "20/20 [==============================] - 0s 2ms/step - loss: 0.2912 - accuracy: 0.9261\n"
          ]
        },
        {
          "output_type": "execute_result",
          "data": {
            "text/plain": [
              "[0.29119423031806946, 0.9261006116867065]"
            ]
          },
          "metadata": {},
          "execution_count": 65
        }
      ],
      "source": [
        "\n",
        "# Check the results\n",
        "model_1.evaluate(val_sentences, val_labels)"
      ]
    },
    {
      "cell_type": "code",
      "execution_count": null,
      "metadata": {
        "id": "VO8kfXnbkB24",
        "colab": {
          "base_uri": "https://localhost:8080/"
        },
        "outputId": "853260d9-4f17-4226-d6d8-21e776a40d4b"
      },
      "outputs": [
        {
          "output_type": "execute_result",
          "data": {
            "text/plain": [
              "[<tf.Variable 'embedding_1/embeddings:0' shape=(10000, 128) dtype=float32, numpy=\n",
              " array([[ 0.02221324, -0.01045684, -0.00904906, ..., -0.00843669,\n",
              "          0.01709474, -0.00700544],\n",
              "        [ 0.03977952, -0.03782602, -0.03646283, ...,  0.00236253,\n",
              "          0.03332629,  0.02803668],\n",
              "        [ 0.0621515 , -0.01915385,  0.05112294, ..., -0.07761798,\n",
              "          0.00564442, -0.03888289],\n",
              "        ...,\n",
              "        [-0.03301444, -0.0052493 , -0.04209725, ...,  0.02028764,\n",
              "          0.00308807,  0.02215792],\n",
              "        [ 0.04933501,  0.01553482,  0.01593169, ..., -0.01781169,\n",
              "          0.02554074, -0.00167966],\n",
              "        [ 0.03103676, -0.00607105, -0.01014895, ...,  0.04555799,\n",
              "         -0.02234115, -0.04768636]], dtype=float32)>]"
            ]
          },
          "metadata": {},
          "execution_count": 66
        }
      ],
      "source": [
        "embedding.weights"
      ]
    },
    {
      "cell_type": "code",
      "execution_count": null,
      "metadata": {
        "id": "vfX4WRO8kFx4",
        "colab": {
          "base_uri": "https://localhost:8080/"
        },
        "outputId": "fde4a3a5-9b82-4678-a5c2-60fe2e623fd6"
      },
      "outputs": [
        {
          "output_type": "stream",
          "name": "stdout",
          "text": [
            "(10000, 128)\n"
          ]
        }
      ],
      "source": [
        "embed_weights = model_1.get_layer(\"embedding_1\").get_weights()[0]\n",
        "print(embed_weights.shape)"
      ]
    },
    {
      "cell_type": "code",
      "execution_count": null,
      "metadata": {
        "id": "ur2VFQqCkal4",
        "colab": {
          "base_uri": "https://localhost:8080/"
        },
        "outputId": "06977baf-71d5-41aa-cf84-7412fbeff8ca"
      },
      "outputs": [
        {
          "output_type": "stream",
          "name": "stdout",
          "text": [
            "20/20 [==============================] - 0s 2ms/step\n"
          ]
        },
        {
          "output_type": "execute_result",
          "data": {
            "text/plain": [
              "array([[0.02765303],\n",
              "       [0.9961367 ],\n",
              "       [0.08178478],\n",
              "       [0.12692308],\n",
              "       [0.990814  ],\n",
              "       [0.98190814],\n",
              "       [0.00714085],\n",
              "       [0.1230994 ],\n",
              "       [0.07473323],\n",
              "       [0.18860662]], dtype=float32)"
            ]
          },
          "metadata": {},
          "execution_count": 68
        }
      ],
      "source": [
        "# Make predictions (these come back in the form of probabilities)\n",
        "model_1_pred_probs = model_1.predict(val_sentences)\n",
        "model_1_pred_probs[:10] # only print out the first 10 prediction probabilities"
      ]
    },
    {
      "cell_type": "code",
      "execution_count": null,
      "metadata": {
        "id": "I8SHWeeKkf3A",
        "colab": {
          "base_uri": "https://localhost:8080/"
        },
        "outputId": "68191aee-7ccd-4e16-f8d4-123a1768f5d6"
      },
      "outputs": [
        {
          "output_type": "execute_result",
          "data": {
            "text/plain": [
              "<tf.Tensor: shape=(20,), dtype=float32, numpy=\n",
              "array([0., 1., 0., 0., 1., 1., 0., 0., 0., 0., 1., 1., 1., 1., 1., 0., 1.,\n",
              "       1., 1., 0.], dtype=float32)>"
            ]
          },
          "metadata": {},
          "execution_count": 69
        }
      ],
      "source": [
        "# Turn prediction probabilities into single-dimension tensor of floats\n",
        "model_1_preds = tf.squeeze(tf.round(model_1_pred_probs)) # squeeze removes single dimensions\n",
        "model_1_preds[:20]"
      ]
    },
    {
      "cell_type": "code",
      "execution_count": null,
      "metadata": {
        "id": "XdZl5QZrkmYB",
        "colab": {
          "base_uri": "https://localhost:8080/"
        },
        "outputId": "d90be67a-730a-4268-dec8-558a3222e731"
      },
      "outputs": [
        {
          "output_type": "execute_result",
          "data": {
            "text/plain": [
              "{'accuracy': 92.61006289308176,\n",
              " 'precision': 0.9264328079947373,\n",
              " 'recall': 0.9261006289308176,\n",
              " 'f1': 0.9258698516468438}"
            ]
          },
          "metadata": {},
          "execution_count": 70
        }
      ],
      "source": [
        "# Calculate model_1 metrics\n",
        "model_1_results = calculate_results(y_true=val_labels, \n",
        "                                    y_pred=model_1_preds)\n",
        "model_1_results"
      ]
    },
    {
      "cell_type": "code",
      "execution_count": null,
      "metadata": {
        "id": "Vwg19XzdlHpR",
        "colab": {
          "base_uri": "https://localhost:8080/"
        },
        "outputId": "b4a6c346-dfdb-451e-c343-004f64a56a62"
      },
      "outputs": [
        {
          "output_type": "stream",
          "name": "stdout",
          "text": [
            "(None, 14, 128)\n",
            "(None, 64)\n"
          ]
        }
      ],
      "source": [
        "#Model 2: LSTM\n",
        "# Set random seed and create embedding layer (new embedding layer for each model)\n",
        "tf.random.set_seed(42)\n",
        "from tensorflow.keras import layers\n",
        "model_2_embedding = layers.Embedding(input_dim=max_vocab_length,\n",
        "                                     output_dim=128,\n",
        "                                     embeddings_initializer=\"uniform\",\n",
        "                                     input_length=max_length,\n",
        "                                     name=\"embedding_2\")\n",
        "\n",
        "\n",
        "# Create LSTM model\n",
        "inputs = layers.Input(shape=(1,), dtype=\"string\")\n",
        "x = text_vectorizer(inputs)\n",
        "x = model_2_embedding(x)\n",
        "print(x.shape)\n",
        "x = layers.LSTM(64)(x) # return vector for whole sequence\n",
        "print(x.shape)\n",
        "# x = layers.Dense(64, activation=\"relu\")(x) # optional dense layer on top of output of LSTM cell\n",
        "outputs = layers.Dense(1, activation=\"sigmoid\")(x)\n",
        "model_2 = tf.keras.Model(inputs, outputs, name=\"model_2_LSTM\")"
      ]
    },
    {
      "cell_type": "code",
      "execution_count": null,
      "metadata": {
        "id": "7752UDv5lOtZ",
        "colab": {
          "base_uri": "https://localhost:8080/"
        },
        "outputId": "8e4e2214-4527-47a2-cb89-4dc4f5e3816a"
      },
      "outputs": [
        {
          "output_type": "stream",
          "name": "stderr",
          "text": [
            "/usr/local/lib/python3.8/dist-packages/keras/optimizers/optimizer_v2/adam.py:110: UserWarning:\n",
            "\n",
            "The `lr` argument is deprecated, use `learning_rate` instead.\n",
            "\n"
          ]
        }
      ],
      "source": [
        "# Compile model\n",
        "model_2.compile(loss=\"categorical_crossentropy\",\n",
        "                optimizer=tf.keras.optimizers.Adam(lr=0.003),\n",
        "                metrics=[\"accuracy\"])"
      ]
    },
    {
      "cell_type": "code",
      "execution_count": null,
      "metadata": {
        "id": "sSeTY1uQlS9Z",
        "colab": {
          "base_uri": "https://localhost:8080/"
        },
        "outputId": "85a826a5-a4a7-4d5e-82f4-0564c5b181b6"
      },
      "outputs": [
        {
          "output_type": "stream",
          "name": "stdout",
          "text": [
            "Saving TensorBoard log files to: model_logs/LSTM/20230125-170032\n",
            "Epoch 1/5\n",
            "80/80 [==============================] - 6s 41ms/step - loss: 0.0000e+00 - accuracy: 0.4155 - val_loss: 0.0000e+00 - val_accuracy: 0.4355\n",
            "Epoch 2/5\n",
            "80/80 [==============================] - 2s 31ms/step - loss: 0.0000e+00 - accuracy: 0.4139 - val_loss: 0.0000e+00 - val_accuracy: 0.4355\n",
            "Epoch 3/5\n",
            "80/80 [==============================] - 2s 31ms/step - loss: 0.0000e+00 - accuracy: 0.4139 - val_loss: 0.0000e+00 - val_accuracy: 0.4355\n",
            "Epoch 4/5\n",
            "80/80 [==============================] - 2s 31ms/step - loss: 0.0000e+00 - accuracy: 0.4139 - val_loss: 0.0000e+00 - val_accuracy: 0.4355\n",
            "Epoch 5/5\n",
            "80/80 [==============================] - 3s 34ms/step - loss: 0.0000e+00 - accuracy: 0.4139 - val_loss: 0.0000e+00 - val_accuracy: 0.4355\n"
          ]
        }
      ],
      "source": [
        "# Fit model\n",
        "model_2_history = model_2.fit(train_sentences,\n",
        "                              train_labels,\n",
        "                              epochs=5,\n",
        "                              validation_data=(val_sentences, val_labels),\n",
        "                              callbacks=[create_tensorboard_callback(SAVE_DIR, \n",
        "                                                                     \"LSTM\")])"
      ]
    },
    {
      "cell_type": "code",
      "execution_count": null,
      "metadata": {
        "id": "BuEDQFw-lbKL",
        "colab": {
          "base_uri": "https://localhost:8080/"
        },
        "outputId": "a6d88525-bce9-4811-99ec-adf9febcf742"
      },
      "outputs": [
        {
          "output_type": "stream",
          "name": "stdout",
          "text": [
            "20/20 [==============================] - 1s 5ms/step\n"
          ]
        },
        {
          "output_type": "execute_result",
          "data": {
            "text/plain": [
              "((636, 1), array([[1.8886893e-38],\n",
              "        [1.9079952e-38],\n",
              "        [1.8736769e-38],\n",
              "        [1.8736769e-38],\n",
              "        [1.8832072e-38],\n",
              "        [1.8880986e-38],\n",
              "        [1.8736769e-38],\n",
              "        [1.8736769e-38],\n",
              "        [1.8736769e-38],\n",
              "        [1.8736769e-38]], dtype=float32))"
            ]
          },
          "metadata": {},
          "execution_count": 74
        }
      ],
      "source": [
        "# Make predictions on the validation dataset\n",
        "model_2_pred_probs = model_2.predict(val_sentences)\n",
        "model_2_pred_probs.shape, model_2_pred_probs[:10] # view the first 10"
      ]
    },
    {
      "cell_type": "code",
      "execution_count": null,
      "metadata": {
        "id": "Kxr4dE9mlgop",
        "colab": {
          "base_uri": "https://localhost:8080/"
        },
        "outputId": "25c84702-acf8-4d28-cc5a-3465ad6d8a97"
      },
      "outputs": [
        {
          "output_type": "execute_result",
          "data": {
            "text/plain": [
              "<tf.Tensor: shape=(10,), dtype=float32, numpy=array([0., 0., 0., 0., 0., 0., 0., 0., 0., 0.], dtype=float32)>"
            ]
          },
          "metadata": {},
          "execution_count": 75
        }
      ],
      "source": [
        "# Round out predictions and reduce to 1-dimensional array\n",
        "model_2_preds = tf.squeeze(tf.round(model_2_pred_probs))\n",
        "model_2_preds[:10]"
      ]
    },
    {
      "cell_type": "code",
      "execution_count": null,
      "metadata": {
        "id": "CG_ofrvsljYB",
        "colab": {
          "base_uri": "https://localhost:8080/"
        },
        "outputId": "47b0a148-38bd-4118-9a3a-def39ab707a9"
      },
      "outputs": [
        {
          "output_type": "stream",
          "name": "stderr",
          "text": [
            "/usr/local/lib/python3.8/dist-packages/sklearn/metrics/_classification.py:1318: UndefinedMetricWarning:\n",
            "\n",
            "Precision and F-score are ill-defined and being set to 0.0 in labels with no predicted samples. Use `zero_division` parameter to control this behavior.\n",
            "\n"
          ]
        },
        {
          "output_type": "execute_result",
          "data": {
            "text/plain": [
              "{'accuracy': 43.55345911949686,\n",
              " 'precision': 0.18969038012736839,\n",
              " 'recall': 0.43553459119496857,\n",
              " 'f1': 0.26427838282805316}"
            ]
          },
          "metadata": {},
          "execution_count": 76
        }
      ],
      "source": [
        "# Calculate LSTM model results\n",
        "model_2_results = calculate_results(y_true=val_labels,\n",
        "                                    y_pred=model_2_preds)\n",
        "model_2_results"
      ]
    },
    {
      "cell_type": "code",
      "source": [
        "#model-3\n",
        "# Set random seed and create embedding layer (new embedding layer for each model)\n",
        "tf.random.set_seed(42)\n",
        "from tensorflow.keras import layers\n",
        "model_3_embedding = layers.Embedding(input_dim=max_vocab_length,\n",
        "                                     output_dim=128,\n",
        "                                     embeddings_initializer=\"uniform\",\n",
        "                                     input_length=max_length,\n",
        "                                     name=\"embedding_3\")\n",
        "\n",
        "# Build an RNN using the GRU cell\n",
        "inputs = layers.Input(shape=(1,), dtype=\"string\")\n",
        "x = text_vectorizer(inputs)\n",
        "x = model_3_embedding(x)\n",
        "# x = layers.GRU(64, return_sequences=True) # stacking recurrent cells requires return_sequences=True\n",
        "x = layers.GRU(64)(x) \n",
        "# x = layers.Dense(64, activation=\"relu\")(x) # optional dense layer after GRU cell\n",
        "outputs = layers.Dense(1, activation=\"sigmoid\")(x)\n",
        "model_3 = tf.keras.Model(inputs, outputs, name=\"model_3_GRU\")"
      ],
      "metadata": {
        "id": "B5x2C-NhUFRK"
      },
      "execution_count": null,
      "outputs": []
    },
    {
      "cell_type": "code",
      "source": [
        "# Compile GRU model\n",
        "model_3.compile(loss=\"binary_crossentropy\",\n",
        "                optimizer=tf.keras.optimizers.Adam(),\n",
        "                metrics=[\"accuracy\"])"
      ],
      "metadata": {
        "id": "Fqtr_N-NUFNh"
      },
      "execution_count": null,
      "outputs": []
    },
    {
      "cell_type": "code",
      "source": [
        "# Get a summary of the GRU model\n",
        "model_3.summary()"
      ],
      "metadata": {
        "colab": {
          "base_uri": "https://localhost:8080/"
        },
        "id": "be4f3QDHUFKg",
        "outputId": "fea69a07-ba74-4cf5-f66c-17840f0c017b"
      },
      "execution_count": null,
      "outputs": [
        {
          "output_type": "stream",
          "name": "stdout",
          "text": [
            "Model: \"model_3_GRU\"\n",
            "_________________________________________________________________\n",
            " Layer (type)                Output Shape              Param #   \n",
            "=================================================================\n",
            " input_3 (InputLayer)        [(None, 1)]               0         \n",
            "                                                                 \n",
            " text_vectorization_1 (TextV  (None, 14)               0         \n",
            " ectorization)                                                   \n",
            "                                                                 \n",
            " embedding_3 (Embedding)     (None, 14, 128)           1280000   \n",
            "                                                                 \n",
            " gru (GRU)                   (None, 64)                37248     \n",
            "                                                                 \n",
            " dense_2 (Dense)             (None, 1)                 65        \n",
            "                                                                 \n",
            "=================================================================\n",
            "Total params: 1,317,313\n",
            "Trainable params: 1,317,313\n",
            "Non-trainable params: 0\n",
            "_________________________________________________________________\n"
          ]
        }
      ]
    },
    {
      "cell_type": "code",
      "source": [
        "# Fit model\n",
        "model_3_history = model_3.fit(train_sentences,\n",
        "                              train_labels,\n",
        "                              epochs=5,\n",
        "                              validation_data=(val_sentences, val_labels),\n",
        "                              callbacks=[create_tensorboard_callback(SAVE_DIR, \"GRU\")])"
      ],
      "metadata": {
        "colab": {
          "base_uri": "https://localhost:8080/"
        },
        "id": "5gEZyla9UFHm",
        "outputId": "9ece30fe-588f-4327-8756-1951c808cdeb"
      },
      "execution_count": null,
      "outputs": [
        {
          "output_type": "stream",
          "name": "stdout",
          "text": [
            "Saving TensorBoard log files to: model_logs/GRU/20230125-170050\n",
            "Epoch 1/5\n",
            "80/80 [==============================] - 6s 39ms/step - loss: 0.6013 - accuracy: 0.6733 - val_loss: 0.2786 - val_accuracy: 0.9214\n",
            "Epoch 2/5\n",
            "80/80 [==============================] - 2s 27ms/step - loss: 0.2567 - accuracy: 0.9182 - val_loss: 0.2499 - val_accuracy: 0.9261\n",
            "Epoch 3/5\n",
            "80/80 [==============================] - 2s 30ms/step - loss: 0.2127 - accuracy: 0.9351 - val_loss: 0.2716 - val_accuracy: 0.9119\n",
            "Epoch 4/5\n",
            "80/80 [==============================] - 2s 29ms/step - loss: 0.1893 - accuracy: 0.9481 - val_loss: 0.2733 - val_accuracy: 0.9088\n",
            "Epoch 5/5\n",
            "80/80 [==============================] - 2s 30ms/step - loss: 0.1693 - accuracy: 0.9572 - val_loss: 0.2839 - val_accuracy: 0.9057\n"
          ]
        }
      ]
    },
    {
      "cell_type": "code",
      "source": [
        "# Make predictions on the validation data\n",
        "model_3_pred_probs = model_3.predict(val_sentences)\n",
        "model_3_pred_probs.shape, model_3_pred_probs[:10]"
      ],
      "metadata": {
        "colab": {
          "base_uri": "https://localhost:8080/"
        },
        "id": "7UlUlgfGUFFQ",
        "outputId": "e598b4a9-4d26-4905-d17f-f1699dce3964"
      },
      "execution_count": null,
      "outputs": [
        {
          "output_type": "stream",
          "name": "stdout",
          "text": [
            "20/20 [==============================] - 1s 5ms/step\n"
          ]
        },
        {
          "output_type": "execute_result",
          "data": {
            "text/plain": [
              "((636, 1), array([[0.11128431],\n",
              "        [0.96297616],\n",
              "        [0.04813187],\n",
              "        [0.05373354],\n",
              "        [0.92425936],\n",
              "        [0.9531683 ],\n",
              "        [0.0381433 ],\n",
              "        [0.04812599],\n",
              "        [0.04935139],\n",
              "        [0.0875145 ]], dtype=float32))"
            ]
          },
          "metadata": {},
          "execution_count": 81
        }
      ]
    },
    {
      "cell_type": "code",
      "source": [
        "# Convert prediction probabilities to prediction classes\n",
        "model_3_preds = tf.squeeze(tf.round(model_3_pred_probs))\n",
        "model_3_preds[:10]"
      ],
      "metadata": {
        "colab": {
          "base_uri": "https://localhost:8080/"
        },
        "id": "k1zUJPFyUFCw",
        "outputId": "fae519e1-33ab-4b7b-e503-374f62b2cf07"
      },
      "execution_count": null,
      "outputs": [
        {
          "output_type": "execute_result",
          "data": {
            "text/plain": [
              "<tf.Tensor: shape=(10,), dtype=float32, numpy=array([0., 1., 0., 0., 1., 1., 0., 0., 0., 0.], dtype=float32)>"
            ]
          },
          "metadata": {},
          "execution_count": 82
        }
      ]
    },
    {
      "cell_type": "code",
      "source": [
        "# Calcuate model_3 results\n",
        "model_3_results = calculate_results(y_true=val_labels, \n",
        "                                    y_pred=model_3_preds)\n",
        "model_3_results"
      ],
      "metadata": {
        "colab": {
          "base_uri": "https://localhost:8080/"
        },
        "id": "QQA-C6Q6UE_o",
        "outputId": "cb07aec4-8261-495e-c4b8-17c0782ec697"
      },
      "execution_count": null,
      "outputs": [
        {
          "output_type": "execute_result",
          "data": {
            "text/plain": [
              "{'accuracy': 90.56603773584906,\n",
              " 'precision': 0.9056099217192223,\n",
              " 'recall': 0.9056603773584906,\n",
              " 'f1': 0.9054890221271011}"
            ]
          },
          "metadata": {},
          "execution_count": 83
        }
      ]
    },
    {
      "cell_type": "code",
      "source": [
        "# Is our simple Keras model better than our baseline model?\n",
        "import numpy as np\n",
        "np.array(list(model_1_results.values())) > np.array(list(baseline_results.values()))"
      ],
      "metadata": {
        "colab": {
          "base_uri": "https://localhost:8080/"
        },
        "id": "O-AGq1GrVckc",
        "outputId": "4b7925fe-174a-42f9-fc44-3ffa54577c2c"
      },
      "execution_count": null,
      "outputs": [
        {
          "output_type": "execute_result",
          "data": {
            "text/plain": [
              "array([ True,  True,  True,  True])"
            ]
          },
          "metadata": {},
          "execution_count": 84
        }
      ]
    },
    {
      "cell_type": "code",
      "source": [
        "# Create a helper function to compare our baseline results to new model results\n",
        "def compare_baseline_to_new_results(baseline_results, new_model_results):\n",
        "  for key, value in baseline_results.items():\n",
        "    print(f\"Baseline {key}: {value:.2f}, New {key}: {new_model_results[key]:.2f}, Difference: {new_model_results[key]-value:.2f}\")\n",
        "\n",
        "compare_baseline_to_new_results(baseline_results=baseline_results, \n",
        "                                new_model_results=model_1_results)"
      ],
      "metadata": {
        "colab": {
          "base_uri": "https://localhost:8080/"
        },
        "id": "2Z-4NdJ4VCKL",
        "outputId": "8d40afe9-d6b6-41ac-8b9f-ba660abda095"
      },
      "execution_count": null,
      "outputs": [
        {
          "output_type": "stream",
          "name": "stdout",
          "text": [
            "Baseline accuracy: 89.15, New accuracy: 92.61, Difference: 3.46\n",
            "Baseline precision: 0.89, New precision: 0.93, Difference: 0.03\n",
            "Baseline recall: 0.89, New recall: 0.93, Difference: 0.03\n",
            "Baseline f1: 0.89, New f1: 0.93, Difference: 0.03\n"
          ]
        }
      ]
    },
    {
      "cell_type": "code",
      "source": [
        "# Compare model 2 to baseline\n",
        "compare_baseline_to_new_results(baseline_results, model_2_results)"
      ],
      "metadata": {
        "colab": {
          "base_uri": "https://localhost:8080/"
        },
        "id": "s8Lu5yzVVWOu",
        "outputId": "da83fd9a-d89c-4f6b-9476-3c35a758f4ea"
      },
      "execution_count": null,
      "outputs": [
        {
          "output_type": "stream",
          "name": "stdout",
          "text": [
            "Baseline accuracy: 89.15, New accuracy: 43.55, Difference: -45.60\n",
            "Baseline precision: 0.89, New precision: 0.19, Difference: -0.70\n",
            "Baseline recall: 0.89, New recall: 0.44, Difference: -0.46\n",
            "Baseline f1: 0.89, New f1: 0.26, Difference: -0.63\n"
          ]
        }
      ]
    },
    {
      "cell_type": "code",
      "source": [
        "# Compare model 2 to baseline\n",
        "compare_baseline_to_new_results(baseline_results, model_3_results)"
      ],
      "metadata": {
        "colab": {
          "base_uri": "https://localhost:8080/"
        },
        "id": "hj0OYbtbWAgI",
        "outputId": "7f4b496f-4e6d-4c4c-98e5-64592cf7aca2"
      },
      "execution_count": null,
      "outputs": [
        {
          "output_type": "stream",
          "name": "stdout",
          "text": [
            "Baseline accuracy: 89.15, New accuracy: 90.57, Difference: 1.42\n",
            "Baseline precision: 0.89, New precision: 0.91, Difference: 0.01\n",
            "Baseline recall: 0.89, New recall: 0.91, Difference: 0.01\n",
            "Baseline f1: 0.89, New f1: 0.91, Difference: 0.01\n"
          ]
        }
      ]
    },
    {
      "cell_type": "code",
      "source": [
        "#bidirection rnn\n",
        "# Set random seed and create embedding layer (new embedding layer for each model)\n",
        "tf.random.set_seed(42)\n",
        "from tensorflow.keras import layers\n",
        "model_4_embedding = layers.Embedding(input_dim=max_vocab_length,\n",
        "                                     output_dim=128,\n",
        "                                     embeddings_initializer=\"uniform\",\n",
        "                                     input_length=max_length,\n",
        "                                     name=\"embedding_4\")\n",
        "\n",
        "# Build a Bidirectional RNN in TensorFlow\n",
        "inputs = layers.Input(shape=(1,), dtype=\"string\")\n",
        "x = text_vectorizer(inputs)\n",
        "x = model_4_embedding(x)\n",
        "# x = layers.Bidirectional(layers.LSTM(64, return_sequences=True))(x) # stacking RNN layers requires return_sequences=True\n",
        "x = layers.Bidirectional(layers.GRU(64))(x) # bidirectional goes both ways so has double the parameters of a regular LSTM layer\n",
        "outputs = layers.Dense(1, activation=\"sigmoid\")(x)\n",
        "model_4 = tf.keras.Model(inputs, outputs, name=\"model_4_Bidirectional\")"
      ],
      "metadata": {
        "id": "RHZj3Fy_WAc1"
      },
      "execution_count": null,
      "outputs": []
    },
    {
      "cell_type": "code",
      "source": [
        "# Compile\n",
        "model_4.compile(loss=\"binary_crossentropy\",\n",
        "                optimizer=tf.keras.optimizers.SGD(0.01),\n",
        "                metrics=[\"accuracy\"])"
      ],
      "metadata": {
        "id": "wfuUS1VYWAaI"
      },
      "execution_count": null,
      "outputs": []
    },
    {
      "cell_type": "code",
      "source": [
        "# Get a summary of our bidirectional model\n",
        "model_4.summary()"
      ],
      "metadata": {
        "colab": {
          "base_uri": "https://localhost:8080/"
        },
        "id": "3QejcgABWAXA",
        "outputId": "50222352-bc25-42a3-c4db-a637da023c53"
      },
      "execution_count": null,
      "outputs": [
        {
          "output_type": "stream",
          "name": "stdout",
          "text": [
            "Model: \"model_4_Bidirectional\"\n",
            "_________________________________________________________________\n",
            " Layer (type)                Output Shape              Param #   \n",
            "=================================================================\n",
            " input_4 (InputLayer)        [(None, 1)]               0         \n",
            "                                                                 \n",
            " text_vectorization_1 (TextV  (None, 14)               0         \n",
            " ectorization)                                                   \n",
            "                                                                 \n",
            " embedding_4 (Embedding)     (None, 14, 128)           1280000   \n",
            "                                                                 \n",
            " bidirectional (Bidirectiona  (None, 128)              74496     \n",
            " l)                                                              \n",
            "                                                                 \n",
            " dense_3 (Dense)             (None, 1)                 129       \n",
            "                                                                 \n",
            "=================================================================\n",
            "Total params: 1,354,625\n",
            "Trainable params: 1,354,625\n",
            "Non-trainable params: 0\n",
            "_________________________________________________________________\n"
          ]
        }
      ]
    },
    {
      "cell_type": "code",
      "source": [
        "# Fit the model (takes longer because of the bidirectional layers)\n",
        "model_4_history = model_4.fit(train_sentences,\n",
        "                              train_labels,\n",
        "                              epochs=10,\n",
        "                              validation_data=(val_sentences, val_labels),\n",
        "                              callbacks=[create_tensorboard_callback(SAVE_DIR, \"bidirectional_RNN\")])"
      ],
      "metadata": {
        "colab": {
          "base_uri": "https://localhost:8080/"
        },
        "id": "XqIaOtHmWAT9",
        "outputId": "c1476b04-82ac-4462-e8f2-1f109c49ea6f"
      },
      "execution_count": null,
      "outputs": [
        {
          "output_type": "stream",
          "name": "stdout",
          "text": [
            "Saving TensorBoard log files to: model_logs/bidirectional_RNN/20230125-170115\n",
            "Epoch 1/10\n",
            "80/80 [==============================] - 8s 40ms/step - loss: 0.6824 - accuracy: 0.5900 - val_loss: 0.6812 - val_accuracy: 0.5645\n",
            "Epoch 2/10\n",
            "80/80 [==============================] - 2s 27ms/step - loss: 0.6737 - accuracy: 0.5861 - val_loss: 0.6784 - val_accuracy: 0.5645\n",
            "Epoch 3/10\n",
            "80/80 [==============================] - 4s 48ms/step - loss: 0.6702 - accuracy: 0.5861 - val_loss: 0.6764 - val_accuracy: 0.5645\n",
            "Epoch 4/10\n",
            "80/80 [==============================] - 2s 31ms/step - loss: 0.6675 - accuracy: 0.5861 - val_loss: 0.6741 - val_accuracy: 0.5645\n",
            "Epoch 5/10\n",
            "80/80 [==============================] - 2s 23ms/step - loss: 0.6650 - accuracy: 0.5861 - val_loss: 0.6718 - val_accuracy: 0.5645\n",
            "Epoch 6/10\n",
            "80/80 [==============================] - 2s 21ms/step - loss: 0.6623 - accuracy: 0.5861 - val_loss: 0.6691 - val_accuracy: 0.5645\n",
            "Epoch 7/10\n",
            "80/80 [==============================] - 2s 24ms/step - loss: 0.6595 - accuracy: 0.5861 - val_loss: 0.6664 - val_accuracy: 0.5645\n",
            "Epoch 8/10\n",
            "80/80 [==============================] - 2s 21ms/step - loss: 0.6567 - accuracy: 0.5861 - val_loss: 0.6630 - val_accuracy: 0.5645\n",
            "Epoch 9/10\n",
            "80/80 [==============================] - 2s 22ms/step - loss: 0.6535 - accuracy: 0.5861 - val_loss: 0.6595 - val_accuracy: 0.5645\n",
            "Epoch 10/10\n",
            "80/80 [==============================] - 2s 23ms/step - loss: 0.6502 - accuracy: 0.5869 - val_loss: 0.6560 - val_accuracy: 0.5676\n"
          ]
        }
      ]
    },
    {
      "cell_type": "code",
      "source": [
        "# Make predictions with bidirectional RNN on the validation data\n",
        "model_4_pred_probs = model_4.predict(val_sentences)\n",
        "model_4_pred_probs[:10]"
      ],
      "metadata": {
        "colab": {
          "base_uri": "https://localhost:8080/"
        },
        "id": "9LBtxnD3WAQ5",
        "outputId": "3d61a84c-4280-4c59-f90f-21c460c15f30"
      },
      "execution_count": null,
      "outputs": [
        {
          "output_type": "stream",
          "name": "stdout",
          "text": [
            "20/20 [==============================] - 1s 6ms/step\n"
          ]
        },
        {
          "output_type": "execute_result",
          "data": {
            "text/plain": [
              "array([[0.51104355],\n",
              "       [0.52785784],\n",
              "       [0.5941702 ],\n",
              "       [0.6185685 ],\n",
              "       [0.52224016],\n",
              "       [0.54936886],\n",
              "       [0.58181   ],\n",
              "       [0.5964622 ],\n",
              "       [0.5972534 ],\n",
              "       [0.592005  ]], dtype=float32)"
            ]
          },
          "metadata": {},
          "execution_count": 92
        }
      ]
    },
    {
      "cell_type": "code",
      "source": [
        "# Convert prediction probabilities to labels\n",
        "model_4_preds = tf.squeeze(tf.round(model_4_pred_probs))\n",
        "model_4_preds[:10]"
      ],
      "metadata": {
        "colab": {
          "base_uri": "https://localhost:8080/"
        },
        "id": "DTzJnJnbWAN0",
        "outputId": "8f214688-2897-4db6-d23a-131cc2d0a4de"
      },
      "execution_count": null,
      "outputs": [
        {
          "output_type": "execute_result",
          "data": {
            "text/plain": [
              "<tf.Tensor: shape=(10,), dtype=float32, numpy=array([1., 1., 1., 1., 1., 1., 1., 1., 1., 1.], dtype=float32)>"
            ]
          },
          "metadata": {},
          "execution_count": 93
        }
      ]
    },
    {
      "cell_type": "code",
      "source": [
        "# Calculate bidirectional RNN model results\n",
        "model_4_results = calculate_results(val_labels, model_4_preds)\n",
        "model_4_results\n"
      ],
      "metadata": {
        "colab": {
          "base_uri": "https://localhost:8080/"
        },
        "id": "UNjnNf-2WALM",
        "outputId": "2b2e1419-b7e0-4f42-f70c-f8c678ea58e7"
      },
      "execution_count": null,
      "outputs": [
        {
          "output_type": "execute_result",
          "data": {
            "text/plain": [
              "{'accuracy': 56.76100628930818,\n",
              " 'precision': 0.6463955895231271,\n",
              " 'recall': 0.5676100628930818,\n",
              " 'f1': 0.4171273528273407}"
            ]
          },
          "metadata": {},
          "execution_count": 94
        }
      ]
    },
    {
      "cell_type": "code",
      "source": [
        "# Check to see how the bidirectional model performs against the baseline\n",
        "compare_baseline_to_new_results(baseline_results, model_4_results)"
      ],
      "metadata": {
        "colab": {
          "base_uri": "https://localhost:8080/"
        },
        "id": "mzzZ_pDnWAIG",
        "outputId": "ca3c1aac-b339-4e4f-f60f-3c1b59e8a3ec"
      },
      "execution_count": null,
      "outputs": [
        {
          "output_type": "stream",
          "name": "stdout",
          "text": [
            "Baseline accuracy: 89.15, New accuracy: 56.76, Difference: -32.39\n",
            "Baseline precision: 0.89, New precision: 0.65, Difference: -0.25\n",
            "Baseline recall: 0.89, New recall: 0.57, Difference: -0.32\n",
            "Baseline f1: 0.89, New f1: 0.42, Difference: -0.47\n"
          ]
        }
      ]
    },
    {
      "cell_type": "code",
      "source": [
        "#conv1D\n",
        "# Test out the embedding, 1D convolutional and max pooling\n",
        "embedding_test = embedding(text_vectorizer([\"this is a test sentence\"])) # turn target sentence into embedding\n",
        "conv_1d = layers.Conv1D(filters=64, kernel_size=5, activation=\"relu\") # convolve over target sequence 5 words at a time\n",
        "conv_1d_output = conv_1d(embedding_test) # pass embedding through 1D convolutional layer\n",
        "max_pool = layers.GlobalMaxPool1D() \n",
        "max_pool_output = max_pool(conv_1d_output) # get the most important features\n",
        "embedding_test.shape, conv_1d_output.shape, max_pool_output.shape"
      ],
      "metadata": {
        "colab": {
          "base_uri": "https://localhost:8080/"
        },
        "id": "J1wCDjviV_9I",
        "outputId": "50836920-a74d-4619-a1fc-a4959a62bf7f"
      },
      "execution_count": null,
      "outputs": [
        {
          "output_type": "execute_result",
          "data": {
            "text/plain": [
              "(TensorShape([1, 14, 128]), TensorShape([1, 10, 64]), TensorShape([1, 64]))"
            ]
          },
          "metadata": {},
          "execution_count": 96
        }
      ]
    },
    {
      "cell_type": "code",
      "source": [
        "# See the outputs of each layer\n",
        "embedding_test[:1], conv_1d_output[:1], max_pool_output[:1]\n"
      ],
      "metadata": {
        "colab": {
          "base_uri": "https://localhost:8080/"
        },
        "id": "g0HzihwhV_56",
        "outputId": "0d9d2b2e-d504-45b7-b213-6c5af5d26117"
      },
      "execution_count": null,
      "outputs": [
        {
          "output_type": "execute_result",
          "data": {
            "text/plain": [
              "(<tf.Tensor: shape=(1, 14, 128), dtype=float32, numpy=\n",
              " array([[[-0.06043421,  0.07650428, -0.0142952 , ...,  0.07628804,\n",
              "          -0.0389382 ,  0.07636782],\n",
              "         [-0.02210843,  0.00546362, -0.01682529, ..., -0.05686936,\n",
              "           0.04770556, -0.01273419],\n",
              "         [ 0.02248635,  0.00793754, -0.03250271, ...,  0.02005672,\n",
              "           0.00946558, -0.00267544],\n",
              "         ...,\n",
              "         [ 0.02221324, -0.01045684, -0.00904906, ..., -0.00843669,\n",
              "           0.01709474, -0.00700544],\n",
              "         [ 0.02221324, -0.01045684, -0.00904906, ..., -0.00843669,\n",
              "           0.01709474, -0.00700544],\n",
              "         [ 0.02221324, -0.01045684, -0.00904906, ..., -0.00843669,\n",
              "           0.01709474, -0.00700544]]], dtype=float32)>,\n",
              " <tf.Tensor: shape=(1, 10, 64), dtype=float32, numpy=\n",
              " array([[[0.01692958, 0.        , 0.        , 0.05409921, 0.05124638,\n",
              "          0.0089059 , 0.03006143, 0.00493123, 0.03062528, 0.02275828,\n",
              "          0.        , 0.03398925, 0.        , 0.01793407, 0.        ,\n",
              "          0.04948436, 0.        , 0.        , 0.        , 0.04661677,\n",
              "          0.        , 0.        , 0.        , 0.05148964, 0.01003929,\n",
              "          0.        , 0.        , 0.        , 0.        , 0.        ,\n",
              "          0.00896772, 0.03556083, 0.        , 0.        , 0.        ,\n",
              "          0.        , 0.01611841, 0.05266288, 0.02251046, 0.0178096 ,\n",
              "          0.05993123, 0.01874704, 0.        , 0.0791344 , 0.        ,\n",
              "          0.        , 0.        , 0.05356897, 0.        , 0.05774971,\n",
              "          0.05520885, 0.00360485, 0.05659901, 0.        , 0.        ,\n",
              "          0.        , 0.01344324, 0.0804998 , 0.        , 0.00168236,\n",
              "          0.        , 0.        , 0.        , 0.        ],\n",
              "         [0.03511418, 0.        , 0.00672873, 0.        , 0.        ,\n",
              "          0.        , 0.        , 0.07745357, 0.        , 0.        ,\n",
              "          0.        , 0.04755367, 0.        , 0.        , 0.03551365,\n",
              "          0.05965357, 0.02090184, 0.        , 0.        , 0.01737513,\n",
              "          0.07576687, 0.0063262 , 0.        , 0.07154851, 0.        ,\n",
              "          0.03377684, 0.00814291, 0.01465988, 0.02475918, 0.0091682 ,\n",
              "          0.02804531, 0.0690905 , 0.05489795, 0.03667011, 0.01979456,\n",
              "          0.        , 0.02135741, 0.        , 0.        , 0.        ,\n",
              "          0.00105756, 0.        , 0.        , 0.        , 0.02737504,\n",
              "          0.01854879, 0.05029555, 0.        , 0.00573393, 0.        ,\n",
              "          0.02293365, 0.        , 0.02172902, 0.01243132, 0.04793077,\n",
              "          0.0607988 , 0.        , 0.        , 0.        , 0.        ,\n",
              "          0.01405119, 0.        , 0.        , 0.        ],\n",
              "         [0.        , 0.00725419, 0.04507348, 0.00305517, 0.        ,\n",
              "          0.        , 0.02719628, 0.07969233, 0.01041896, 0.        ,\n",
              "          0.        , 0.0143573 , 0.02320716, 0.        , 0.        ,\n",
              "          0.        , 0.03894489, 0.        , 0.02394734, 0.        ,\n",
              "          0.05500134, 0.0267884 , 0.        , 0.03610221, 0.        ,\n",
              "          0.05013886, 0.0323442 , 0.        , 0.        , 0.06186716,\n",
              "          0.03734372, 0.0147932 , 0.01070764, 0.05165938, 0.        ,\n",
              "          0.        , 0.04801531, 0.03232791, 0.        , 0.        ,\n",
              "          0.        , 0.        , 0.        , 0.        , 0.01571941,\n",
              "          0.        , 0.        , 0.00818543, 0.07067356, 0.02704488,\n",
              "          0.        , 0.        , 0.00170288, 0.0245376 , 0.        ,\n",
              "          0.01557363, 0.        , 0.        , 0.        , 0.03665552,\n",
              "          0.00130573, 0.        , 0.0497121 , 0.        ],\n",
              "         [0.        , 0.        , 0.03457456, 0.03291351, 0.        ,\n",
              "          0.01764397, 0.00743267, 0.        , 0.        , 0.04012516,\n",
              "          0.        , 0.00025221, 0.        , 0.        , 0.        ,\n",
              "          0.        , 0.04624001, 0.        , 0.        , 0.        ,\n",
              "          0.04259196, 0.        , 0.00352265, 0.        , 0.        ,\n",
              "          0.00603818, 0.        , 0.00778712, 0.03822533, 0.03321852,\n",
              "          0.        , 0.        , 0.01832656, 0.01634353, 0.        ,\n",
              "          0.        , 0.        , 0.01097501, 0.        , 0.        ,\n",
              "          0.04826342, 0.        , 0.        , 0.        , 0.        ,\n",
              "          0.        , 0.        , 0.        , 0.        , 0.        ,\n",
              "          0.00856379, 0.        , 0.06056772, 0.06168231, 0.02210058,\n",
              "          0.        , 0.02503649, 0.00659567, 0.02613901, 0.        ,\n",
              "          0.02918383, 0.01687229, 0.        , 0.00237585],\n",
              "         [0.        , 0.        , 0.05644102, 0.03929334, 0.        ,\n",
              "          0.02112678, 0.        , 0.05375324, 0.01601044, 0.02876344,\n",
              "          0.        , 0.00221143, 0.0354704 , 0.        , 0.        ,\n",
              "          0.        , 0.0697754 , 0.        , 0.        , 0.06183951,\n",
              "          0.0399949 , 0.00811738, 0.02210187, 0.0253929 , 0.        ,\n",
              "          0.03754227, 0.        , 0.00399322, 0.        , 0.02333529,\n",
              "          0.04652893, 0.00830128, 0.00329366, 0.        , 0.        ,\n",
              "          0.        , 0.        , 0.01176513, 0.        , 0.        ,\n",
              "          0.04274546, 0.        , 0.        , 0.        , 0.        ,\n",
              "          0.00632969, 0.        , 0.        , 0.        , 0.        ,\n",
              "          0.01043827, 0.        , 0.03105162, 0.01471922, 0.        ,\n",
              "          0.02796945, 0.00200684, 0.        , 0.01730268, 0.03037352,\n",
              "          0.00422584, 0.02364938, 0.        , 0.00123151],\n",
              "         [0.        , 0.        , 0.03890649, 0.0270916 , 0.        ,\n",
              "          0.02662899, 0.        , 0.04526239, 0.        , 0.07186639,\n",
              "          0.        , 0.        , 0.02661349, 0.00962017, 0.        ,\n",
              "          0.        , 0.01538995, 0.        , 0.        , 0.01553787,\n",
              "          0.01632658, 0.        , 0.00916782, 0.        , 0.        ,\n",
              "          0.03933451, 0.        , 0.        , 0.        , 0.05762564,\n",
              "          0.04716004, 0.02824914, 0.        , 0.00462618, 0.        ,\n",
              "          0.        , 0.        , 0.        , 0.        , 0.        ,\n",
              "          0.00311711, 0.        , 0.003292  , 0.        , 0.00106159,\n",
              "          0.00828793, 0.        , 0.        , 0.00550285, 0.        ,\n",
              "          0.        , 0.        , 0.02760841, 0.01692824, 0.02034763,\n",
              "          0.0288422 , 0.        , 0.00586668, 0.02181677, 0.04490788,\n",
              "          0.        , 0.01464419, 0.00226479, 0.007363  ],\n",
              "         [0.        , 0.        , 0.03890649, 0.0270916 , 0.        ,\n",
              "          0.02662899, 0.        , 0.04526239, 0.        , 0.07186639,\n",
              "          0.        , 0.        , 0.02661349, 0.00962017, 0.        ,\n",
              "          0.        , 0.01538995, 0.        , 0.        , 0.01553787,\n",
              "          0.01632658, 0.        , 0.00916782, 0.        , 0.        ,\n",
              "          0.03933451, 0.        , 0.        , 0.        , 0.05762564,\n",
              "          0.04716004, 0.02824914, 0.        , 0.00462618, 0.        ,\n",
              "          0.        , 0.        , 0.        , 0.        , 0.        ,\n",
              "          0.00311711, 0.        , 0.003292  , 0.        , 0.00106159,\n",
              "          0.00828793, 0.        , 0.        , 0.00550285, 0.        ,\n",
              "          0.        , 0.        , 0.02760841, 0.01692824, 0.02034763,\n",
              "          0.0288422 , 0.        , 0.00586668, 0.02181677, 0.04490788,\n",
              "          0.        , 0.01464419, 0.00226479, 0.007363  ],\n",
              "         [0.        , 0.        , 0.03890649, 0.0270916 , 0.        ,\n",
              "          0.02662899, 0.        , 0.04526239, 0.        , 0.07186639,\n",
              "          0.        , 0.        , 0.02661349, 0.00962017, 0.        ,\n",
              "          0.        , 0.01538995, 0.        , 0.        , 0.01553787,\n",
              "          0.01632658, 0.        , 0.00916782, 0.        , 0.        ,\n",
              "          0.03933451, 0.        , 0.        , 0.        , 0.05762564,\n",
              "          0.04716004, 0.02824914, 0.        , 0.00462618, 0.        ,\n",
              "          0.        , 0.        , 0.        , 0.        , 0.        ,\n",
              "          0.00311711, 0.        , 0.003292  , 0.        , 0.00106159,\n",
              "          0.00828793, 0.        , 0.        , 0.00550285, 0.        ,\n",
              "          0.        , 0.        , 0.02760841, 0.01692824, 0.02034763,\n",
              "          0.0288422 , 0.        , 0.00586668, 0.02181677, 0.04490788,\n",
              "          0.        , 0.01464419, 0.00226479, 0.007363  ],\n",
              "         [0.        , 0.        , 0.03890649, 0.0270916 , 0.        ,\n",
              "          0.02662899, 0.        , 0.04526239, 0.        , 0.07186639,\n",
              "          0.        , 0.        , 0.02661349, 0.00962017, 0.        ,\n",
              "          0.        , 0.01538995, 0.        , 0.        , 0.01553787,\n",
              "          0.01632658, 0.        , 0.00916782, 0.        , 0.        ,\n",
              "          0.03933451, 0.        , 0.        , 0.        , 0.05762564,\n",
              "          0.04716004, 0.02824914, 0.        , 0.00462618, 0.        ,\n",
              "          0.        , 0.        , 0.        , 0.        , 0.        ,\n",
              "          0.00311711, 0.        , 0.003292  , 0.        , 0.00106159,\n",
              "          0.00828793, 0.        , 0.        , 0.00550285, 0.        ,\n",
              "          0.        , 0.        , 0.02760841, 0.01692824, 0.02034763,\n",
              "          0.0288422 , 0.        , 0.00586668, 0.02181677, 0.04490788,\n",
              "          0.        , 0.01464419, 0.00226479, 0.007363  ],\n",
              "         [0.        , 0.        , 0.03890649, 0.0270916 , 0.        ,\n",
              "          0.02662899, 0.        , 0.04526239, 0.        , 0.07186639,\n",
              "          0.        , 0.        , 0.02661349, 0.00962017, 0.        ,\n",
              "          0.        , 0.01538995, 0.        , 0.        , 0.01553787,\n",
              "          0.01632658, 0.        , 0.00916782, 0.        , 0.        ,\n",
              "          0.03933451, 0.        , 0.        , 0.        , 0.05762564,\n",
              "          0.04716004, 0.02824914, 0.        , 0.00462618, 0.        ,\n",
              "          0.        , 0.        , 0.        , 0.        , 0.        ,\n",
              "          0.00311711, 0.        , 0.003292  , 0.        , 0.00106159,\n",
              "          0.00828793, 0.        , 0.        , 0.00550285, 0.        ,\n",
              "          0.        , 0.        , 0.02760841, 0.01692824, 0.02034763,\n",
              "          0.0288422 , 0.        , 0.00586668, 0.02181677, 0.04490788,\n",
              "          0.        , 0.01464419, 0.00226479, 0.007363  ]]], dtype=float32)>,\n",
              " <tf.Tensor: shape=(1, 64), dtype=float32, numpy=\n",
              " array([[0.03511418, 0.00725419, 0.05644102, 0.05409921, 0.05124638,\n",
              "         0.02662899, 0.03006143, 0.07969233, 0.03062528, 0.07186639,\n",
              "         0.        , 0.04755367, 0.0354704 , 0.01793407, 0.03551365,\n",
              "         0.05965357, 0.0697754 , 0.        , 0.02394734, 0.06183951,\n",
              "         0.07576687, 0.0267884 , 0.02210187, 0.07154851, 0.01003929,\n",
              "         0.05013886, 0.0323442 , 0.01465988, 0.03822533, 0.06186716,\n",
              "         0.04716004, 0.0690905 , 0.05489795, 0.05165938, 0.01979456,\n",
              "         0.        , 0.04801531, 0.05266288, 0.02251046, 0.0178096 ,\n",
              "         0.05993123, 0.01874704, 0.003292  , 0.0791344 , 0.02737504,\n",
              "         0.01854879, 0.05029555, 0.05356897, 0.07067356, 0.05774971,\n",
              "         0.05520885, 0.00360485, 0.06056772, 0.06168231, 0.04793077,\n",
              "         0.0607988 , 0.02503649, 0.0804998 , 0.02613901, 0.04490788,\n",
              "         0.02918383, 0.02364938, 0.0497121 , 0.007363  ]], dtype=float32)>)"
            ]
          },
          "metadata": {},
          "execution_count": 97
        }
      ]
    },
    {
      "cell_type": "code",
      "source": [
        "# Set random seed and create embedding layer (new embedding layer for each model)\n",
        "tf.random.set_seed(42)\n",
        "from tensorflow.keras import layers\n",
        "model_5_embedding = layers.Embedding(input_dim=max_vocab_length,\n",
        "                                     output_dim=128,\n",
        "                                     embeddings_initializer=\"uniform\",\n",
        "                                     input_length=max_length,\n",
        "                                     name=\"embedding_5\")\n",
        "\n",
        "# Create 1-dimensional convolutional layer to model sequences\n",
        "from tensorflow.keras import layers\n",
        "inputs = layers.Input(shape=(1,), dtype=\"string\")\n",
        "x = text_vectorizer(inputs)\n",
        "x = model_5_embedding(x)\n",
        "x = layers.Conv1D(filters=32, kernel_size=5, activation=\"relu\")(x)\n",
        "x = layers.GlobalMaxPool1D()(x)\n",
        "x = layers.Dense(264, activation=\"relu\")(x) # optional dense layer\n",
        "outputs = layers.Dense(1, activation=\"sigmoid\")(x)\n",
        "model_5 = tf.keras.Model(inputs, outputs, name=\"model_5_Conv1D\")\n",
        "\n",
        "# Compile Conv1D model\n",
        "model_5.compile(loss=\"binary_crossentropy\",\n",
        "                optimizer=tf.keras.optimizers.Adam(lr=0.001),\n",
        "                metrics=[\"accuracy\"])\n",
        "\n",
        "# Get a summary of our 1D convolution model\n",
        "model_5.summary()"
      ],
      "metadata": {
        "colab": {
          "base_uri": "https://localhost:8080/"
        },
        "id": "L2xsJbfAV_2r",
        "outputId": "81268469-f310-4388-ceb9-0c341ad4b1ac"
      },
      "execution_count": null,
      "outputs": [
        {
          "output_type": "stream",
          "name": "stdout",
          "text": [
            "Model: \"model_5_Conv1D\"\n",
            "_________________________________________________________________\n",
            " Layer (type)                Output Shape              Param #   \n",
            "=================================================================\n",
            " input_5 (InputLayer)        [(None, 1)]               0         \n",
            "                                                                 \n",
            " text_vectorization_1 (TextV  (None, 14)               0         \n",
            " ectorization)                                                   \n",
            "                                                                 \n",
            " embedding_5 (Embedding)     (None, 14, 128)           1280000   \n",
            "                                                                 \n",
            " conv1d_1 (Conv1D)           (None, 10, 32)            20512     \n",
            "                                                                 \n",
            " global_max_pooling1d_1 (Glo  (None, 32)               0         \n",
            " balMaxPooling1D)                                                \n",
            "                                                                 \n",
            " dense_4 (Dense)             (None, 264)               8712      \n",
            "                                                                 \n",
            " dense_5 (Dense)             (None, 1)                 265       \n",
            "                                                                 \n",
            "=================================================================\n",
            "Total params: 1,309,489\n",
            "Trainable params: 1,309,489\n",
            "Non-trainable params: 0\n",
            "_________________________________________________________________\n"
          ]
        },
        {
          "output_type": "stream",
          "name": "stderr",
          "text": [
            "/usr/local/lib/python3.8/dist-packages/keras/optimizers/optimizer_v2/adam.py:110: UserWarning:\n",
            "\n",
            "The `lr` argument is deprecated, use `learning_rate` instead.\n",
            "\n"
          ]
        }
      ]
    },
    {
      "cell_type": "code",
      "source": [
        "# Fit the model\n",
        "model_5_history = model_5.fit(train_sentences,\n",
        "                              train_labels,\n",
        "                              epochs=5,\n",
        "                              validation_data=(val_sentences, val_labels),\n",
        "                              callbacks=[create_tensorboard_callback(SAVE_DIR, \n",
        "                                                                     \"Conv1D\")])"
      ],
      "metadata": {
        "colab": {
          "base_uri": "https://localhost:8080/"
        },
        "id": "6hApqGOFXjsR",
        "outputId": "5b6039f0-bdd1-4962-8712-b8f3a0ea559a"
      },
      "execution_count": null,
      "outputs": [
        {
          "output_type": "stream",
          "name": "stdout",
          "text": [
            "Saving TensorBoard log files to: model_logs/Conv1D/20230125-170201\n",
            "Epoch 1/5\n",
            "80/80 [==============================] - 3s 25ms/step - loss: 0.5219 - accuracy: 0.7512 - val_loss: 0.3205 - val_accuracy: 0.8742\n",
            "Epoch 2/5\n",
            "80/80 [==============================] - 2s 22ms/step - loss: 0.2570 - accuracy: 0.9214 - val_loss: 0.2671 - val_accuracy: 0.9182\n",
            "Epoch 3/5\n",
            "80/80 [==============================] - 2s 22ms/step - loss: 0.1902 - accuracy: 0.9458 - val_loss: 0.2771 - val_accuracy: 0.9151\n",
            "Epoch 4/5\n",
            "80/80 [==============================] - 1s 17ms/step - loss: 0.1507 - accuracy: 0.9619 - val_loss: 0.2939 - val_accuracy: 0.9104\n",
            "Epoch 5/5\n",
            "80/80 [==============================] - 2s 22ms/step - loss: 0.1266 - accuracy: 0.9674 - val_loss: 0.3029 - val_accuracy: 0.9057\n"
          ]
        }
      ]
    },
    {
      "cell_type": "code",
      "source": [
        "# Make predictions with model_5\n",
        "model_5_pred_probs = model_5.predict(val_sentences)\n",
        "model_5_pred_probs[:10]"
      ],
      "metadata": {
        "colab": {
          "base_uri": "https://localhost:8080/"
        },
        "id": "8SiuQNTVXogZ",
        "outputId": "aaca3088-c30a-4621-974a-d86ef0a8eca6"
      },
      "execution_count": null,
      "outputs": [
        {
          "output_type": "stream",
          "name": "stdout",
          "text": [
            "20/20 [==============================] - 0s 3ms/step\n"
          ]
        },
        {
          "output_type": "execute_result",
          "data": {
            "text/plain": [
              "array([[1.0028823e-01],\n",
              "       [9.7748911e-01],\n",
              "       [5.8232870e-02],\n",
              "       [2.0943053e-02],\n",
              "       [8.2032889e-01],\n",
              "       [9.8304969e-01],\n",
              "       [9.0491440e-04],\n",
              "       [8.3478108e-02],\n",
              "       [7.7381752e-02],\n",
              "       [3.3139925e-02]], dtype=float32)"
            ]
          },
          "metadata": {},
          "execution_count": 100
        }
      ]
    },
    {
      "cell_type": "code",
      "source": [
        "# Convert model_5 prediction probabilities to labels\n",
        "model_5_preds = tf.squeeze(tf.round(model_5_pred_probs))\n",
        "model_5_preds[:10]"
      ],
      "metadata": {
        "colab": {
          "base_uri": "https://localhost:8080/"
        },
        "id": "bnODUE1kX1kF",
        "outputId": "aa3593d2-446c-4fd3-fc56-0e49f3ebeaa8"
      },
      "execution_count": null,
      "outputs": [
        {
          "output_type": "execute_result",
          "data": {
            "text/plain": [
              "<tf.Tensor: shape=(10,), dtype=float32, numpy=array([0., 1., 0., 0., 1., 1., 0., 0., 0., 0.], dtype=float32)>"
            ]
          },
          "metadata": {},
          "execution_count": 101
        }
      ]
    },
    {
      "cell_type": "code",
      "source": [
        "# Calculate model_5 evaluation metrics \n",
        "model_5_results = calculate_results(y_true=val_labels, \n",
        "                                    y_pred=model_5_preds)\n",
        "model_5_results"
      ],
      "metadata": {
        "colab": {
          "base_uri": "https://localhost:8080/"
        },
        "id": "wbni9nIyX1hU",
        "outputId": "379e21be-63b7-44d3-df5d-b5e173e6391c"
      },
      "execution_count": null,
      "outputs": [
        {
          "output_type": "execute_result",
          "data": {
            "text/plain": [
              "{'accuracy': 90.56603773584906,\n",
              " 'precision': 0.9057824340131212,\n",
              " 'recall': 0.9056603773584906,\n",
              " 'f1': 0.9053914214510458}"
            ]
          },
          "metadata": {},
          "execution_count": 102
        }
      ]
    },
    {
      "cell_type": "code",
      "source": [
        "### Model 6: TensorFlow Hub Pretrained Sentence Encoder\n"
      ],
      "metadata": {
        "id": "GOLGwCgxX1e_"
      },
      "execution_count": null,
      "outputs": []
    },
    {
      "cell_type": "code",
      "source": [
        "# Example of pretrained embedding with universal sentence encoder - https://tfhub.dev/google/universal-sentence-encoder/4\n",
        "import tensorflow_hub as hub\n",
        "embed = hub.load(\"https://tfhub.dev/google/universal-sentence-encoder/4\") # load Universal Sentence Encoder\n",
        "embed_samples = embed([sample_sentence,\n",
        "                      \"When you call the universal sentence encoder on a sentence, it turns it into numbers.\"])\n",
        "\n",
        "print(embed_samples[0][:50])"
      ],
      "metadata": {
        "colab": {
          "base_uri": "https://localhost:8080/"
        },
        "id": "UlJJXpV9X1cS",
        "outputId": "7845703b-49d3-4365-e1f9-3ffad6e1f00a"
      },
      "execution_count": null,
      "outputs": [
        {
          "output_type": "stream",
          "name": "stdout",
          "text": [
            "tf.Tensor(\n",
            "[-0.01157025  0.02485911  0.02878051 -0.012715    0.03971541  0.08827761\n",
            "  0.02680988  0.05589838 -0.01068731 -0.00597293  0.00639321 -0.01819516\n",
            "  0.00030816  0.09105889  0.05874645 -0.03180629  0.01512474 -0.05162925\n",
            "  0.00991366 -0.06865345 -0.04209306  0.0267898   0.03011009  0.00321065\n",
            " -0.00337968 -0.04787356  0.0226672  -0.00985927 -0.04063615 -0.01292093\n",
            " -0.04666382  0.05630299 -0.03949255  0.00517682  0.02495827 -0.07014439\n",
            "  0.0287151   0.0494768  -0.00633978 -0.08960193  0.02807119 -0.00808364\n",
            " -0.01360601  0.05998649 -0.10361788 -0.05195372  0.00232958 -0.02332531\n",
            " -0.03758106  0.03327729], shape=(50,), dtype=float32)\n"
          ]
        }
      ]
    },
    {
      "cell_type": "code",
      "source": [
        "# Each sentence has been encoded into a 512 dimension vector\n",
        "embed_samples[0].shape"
      ],
      "metadata": {
        "colab": {
          "base_uri": "https://localhost:8080/"
        },
        "id": "cPhBtwx_X1ZF",
        "outputId": "c321be02-a4c6-4a96-f9cb-fa811513365e"
      },
      "execution_count": null,
      "outputs": [
        {
          "output_type": "execute_result",
          "data": {
            "text/plain": [
              "TensorShape([512])"
            ]
          },
          "metadata": {},
          "execution_count": 105
        }
      ]
    },
    {
      "cell_type": "code",
      "source": [
        "# We can use this encoding layer in place of our text_vectorizer and embedding layer\n",
        "sentence_encoder_layer = hub.KerasLayer(\"https://tfhub.dev/google/universal-sentence-encoder/4\",\n",
        "                                        input_shape=[], # shape of inputs coming to our model \n",
        "                                        dtype=tf.string, # data type of inputs coming to the USE layer\n",
        "                                        trainable=False, # keep the pretrained weights (we'll create a feature extractor)\n",
        "                                        name=\"USE\") "
      ],
      "metadata": {
        "id": "r5bGG_QSX1Wn"
      },
      "execution_count": null,
      "outputs": []
    },
    {
      "cell_type": "code",
      "source": [
        "# Create model using the Sequential API\n",
        "model_6 = tf.keras.Sequential([\n",
        "  sentence_encoder_layer, # take in sentences and then encode them into an embedding\n",
        "  layers.Dense(64, activation=\"relu\"),\n",
        "  layers.Dense(1, activation=\"sigmoid\")\n",
        "], name=\"model_6_USE\")\n",
        "\n",
        "# Compile model\n",
        "model_6.compile(loss=\"binary_crossentropy\",\n",
        "                optimizer=tf.keras.optimizers.Adam(),\n",
        "                metrics=[\"accuracy\"])\n",
        "\n",
        "model_6.summary()"
      ],
      "metadata": {
        "colab": {
          "base_uri": "https://localhost:8080/"
        },
        "id": "rYM_FAykX1Ty",
        "outputId": "585d7d38-7b95-47cb-bf8e-921ea3a81f2c"
      },
      "execution_count": null,
      "outputs": [
        {
          "output_type": "stream",
          "name": "stdout",
          "text": [
            "Model: \"model_6_USE\"\n",
            "_________________________________________________________________\n",
            " Layer (type)                Output Shape              Param #   \n",
            "=================================================================\n",
            " USE (KerasLayer)            (None, 512)               256797824 \n",
            "                                                                 \n",
            " dense_6 (Dense)             (None, 64)                32832     \n",
            "                                                                 \n",
            " dense_7 (Dense)             (None, 1)                 65        \n",
            "                                                                 \n",
            "=================================================================\n",
            "Total params: 256,830,721\n",
            "Trainable params: 32,897\n",
            "Non-trainable params: 256,797,824\n",
            "_________________________________________________________________\n"
          ]
        }
      ]
    },
    {
      "cell_type": "code",
      "source": [
        "# Train a classifier on top of pretrained embeddings\n",
        "model_6_history = model_6.fit(train_sentences,\n",
        "                              train_labels,\n",
        "                              epochs=10,\n",
        "                              validation_data=(val_sentences, val_labels),\n",
        "                              callbacks=[create_tensorboard_callback(SAVE_DIR, \n",
        "                                                                     \"tf_hub_sentence_encoder\")])"
      ],
      "metadata": {
        "colab": {
          "base_uri": "https://localhost:8080/"
        },
        "id": "fBz3q-12X1RS",
        "outputId": "adcf8965-6c7e-4670-a920-c9c27ac185b7"
      },
      "execution_count": null,
      "outputs": [
        {
          "output_type": "stream",
          "name": "stdout",
          "text": [
            "Saving TensorBoard log files to: model_logs/tf_hub_sentence_encoder/20230125-170230\n",
            "Epoch 1/10\n",
            "80/80 [==============================] - 5s 20ms/step - loss: 0.4521 - accuracy: 0.8593 - val_loss: 0.3151 - val_accuracy: 0.9182\n",
            "Epoch 2/10\n",
            "80/80 [==============================] - 1s 15ms/step - loss: 0.2880 - accuracy: 0.9104 - val_loss: 0.2735 - val_accuracy: 0.9261\n",
            "Epoch 3/10\n",
            "80/80 [==============================] - 1s 14ms/step - loss: 0.2632 - accuracy: 0.9127 - val_loss: 0.2631 - val_accuracy: 0.9292\n",
            "Epoch 4/10\n",
            "80/80 [==============================] - 1s 16ms/step - loss: 0.2511 - accuracy: 0.9167 - val_loss: 0.2609 - val_accuracy: 0.9292\n",
            "Epoch 5/10\n",
            "80/80 [==============================] - 1s 15ms/step - loss: 0.2420 - accuracy: 0.9206 - val_loss: 0.2597 - val_accuracy: 0.9245\n",
            "Epoch 6/10\n",
            "80/80 [==============================] - 1s 17ms/step - loss: 0.2355 - accuracy: 0.9214 - val_loss: 0.2580 - val_accuracy: 0.9292\n",
            "Epoch 7/10\n",
            "80/80 [==============================] - 1s 15ms/step - loss: 0.2322 - accuracy: 0.9253 - val_loss: 0.2590 - val_accuracy: 0.9277\n",
            "Epoch 8/10\n",
            "80/80 [==============================] - 1s 15ms/step - loss: 0.2255 - accuracy: 0.9261 - val_loss: 0.2589 - val_accuracy: 0.9340\n",
            "Epoch 9/10\n",
            "80/80 [==============================] - 1s 15ms/step - loss: 0.2219 - accuracy: 0.9285 - val_loss: 0.2629 - val_accuracy: 0.9245\n",
            "Epoch 10/10\n",
            "80/80 [==============================] - 1s 15ms/step - loss: 0.2171 - accuracy: 0.9300 - val_loss: 0.2620 - val_accuracy: 0.9261\n"
          ]
        }
      ]
    },
    {
      "cell_type": "code",
      "source": [
        "# Make predictions with USE TF Hub model\n",
        "model_6_pred_probs = model_6.predict(val_sentences)\n",
        "model_6_pred_probs[:10]"
      ],
      "metadata": {
        "colab": {
          "base_uri": "https://localhost:8080/"
        },
        "id": "mtu5_aGRX1NU",
        "outputId": "798ba06f-be69-4c36-87d7-4a175de10e9e"
      },
      "execution_count": null,
      "outputs": [
        {
          "output_type": "stream",
          "name": "stdout",
          "text": [
            "20/20 [==============================] - 1s 11ms/step\n"
          ]
        },
        {
          "output_type": "execute_result",
          "data": {
            "text/plain": [
              "array([[0.03262158],\n",
              "       [0.99019027],\n",
              "       [0.01704803],\n",
              "       [0.02033106],\n",
              "       [0.6570747 ],\n",
              "       [0.96480405],\n",
              "       [0.01580887],\n",
              "       [0.01708716],\n",
              "       [0.01693145],\n",
              "       [0.07220642]], dtype=float32)"
            ]
          },
          "metadata": {},
          "execution_count": 109
        }
      ]
    },
    {
      "cell_type": "code",
      "source": [
        "# Convert prediction probabilities to labels\n",
        "model_6_preds = tf.squeeze(tf.round(model_6_pred_probs))\n",
        "model_6_preds[:10]"
      ],
      "metadata": {
        "colab": {
          "base_uri": "https://localhost:8080/"
        },
        "id": "7nJ_2RnAX1Jf",
        "outputId": "1898bfce-2989-49a0-9aed-71b2a57207b0"
      },
      "execution_count": null,
      "outputs": [
        {
          "output_type": "execute_result",
          "data": {
            "text/plain": [
              "<tf.Tensor: shape=(10,), dtype=float32, numpy=array([0., 1., 0., 0., 1., 1., 0., 0., 0., 0.], dtype=float32)>"
            ]
          },
          "metadata": {},
          "execution_count": 110
        }
      ]
    },
    {
      "cell_type": "code",
      "source": [
        "# Calculate model 6 performance metrics\n",
        "model_6_results = calculate_results(val_labels, model_6_preds)\n",
        "model_6_results"
      ],
      "metadata": {
        "colab": {
          "base_uri": "https://localhost:8080/"
        },
        "id": "EDVFEwUsX1GE",
        "outputId": "9294d926-590c-41d5-cce5-d6bd899a4cbf"
      },
      "execution_count": null,
      "outputs": [
        {
          "output_type": "execute_result",
          "data": {
            "text/plain": [
              "{'accuracy': 92.61006289308176,\n",
              " 'precision': 0.9260552098197771,\n",
              " 'recall': 0.9261006289308176,\n",
              " 'f1': 0.9260196411763562}"
            ]
          },
          "metadata": {},
          "execution_count": 111
        }
      ]
    },
    {
      "cell_type": "code",
      "source": [
        "# Compare TF Hub model to baseline\n",
        "compare_baseline_to_new_results(baseline_results, model_6_results)"
      ],
      "metadata": {
        "colab": {
          "base_uri": "https://localhost:8080/"
        },
        "id": "GrawbuJgX1DY",
        "outputId": "143d0955-7ced-409c-a1a1-89f484e6a024"
      },
      "execution_count": null,
      "outputs": [
        {
          "output_type": "stream",
          "name": "stdout",
          "text": [
            "Baseline accuracy: 89.15, New accuracy: 92.61, Difference: 3.46\n",
            "Baseline precision: 0.89, New precision: 0.93, Difference: 0.03\n",
            "Baseline recall: 0.89, New recall: 0.93, Difference: 0.03\n",
            "Baseline f1: 0.89, New f1: 0.93, Difference: 0.04\n"
          ]
        }
      ]
    },
    {
      "cell_type": "code",
      "source": [
        "### Model 7: TensorFlow Hub Pretrained Sentence Encoder 10% of the training data\n"
      ],
      "metadata": {
        "id": "X23iZy9ZX1AZ"
      },
      "execution_count": null,
      "outputs": []
    },
    {
      "cell_type": "code",
      "execution_count": null,
      "metadata": {
        "id": "XHgowC3GUPJH"
      },
      "outputs": [],
      "source": [
        "# One kind of correct way (there are more) to make data subset\n",
        "# (split the already split train_sentences/train_labels)\n",
        "train_sentences_90_percent, train_sentences_10_percent, train_labels_90_percent, train_labels_10_percent = train_test_split(np.array(train_sentences),\n",
        "                                                                                                                            train_labels,\n",
        "                                                                                                                            test_size=0.1,\n",
        "                                                                                                                            random_state=42)\n"
      ]
    },
    {
      "cell_type": "code",
      "source": [
        "# Check length of 10 percent datasets\n",
        "print(f\"Total training examples: {len(train_sentences)}\")\n",
        "print(f\"Length of 10% training examples: {len(train_sentences_10_percent)}\")"
      ],
      "metadata": {
        "colab": {
          "base_uri": "https://localhost:8080/"
        },
        "id": "7Dgr0tCJY7wx",
        "outputId": "189e8df0-e4cb-4c81-887d-6d8a364f89e8"
      },
      "execution_count": null,
      "outputs": [
        {
          "output_type": "stream",
          "name": "stdout",
          "text": [
            "Total training examples: 2544\n",
            "Length of 10% training examples: 255\n"
          ]
        }
      ]
    },
    {
      "cell_type": "code",
      "source": [
        "np.unique(train_labels_90_percent, return_counts=True)"
      ],
      "metadata": {
        "colab": {
          "base_uri": "https://localhost:8080/"
        },
        "id": "KMvjG21SY_A3",
        "outputId": "c5f5838c-c566-4630-813f-debbca5bf3ab"
      },
      "execution_count": null,
      "outputs": [
        {
          "output_type": "execute_result",
          "data": {
            "text/plain": [
              "(array([0, 1]), array([ 939, 1350]))"
            ]
          },
          "metadata": {},
          "execution_count": 116
        }
      ]
    },
    {
      "cell_type": "code",
      "source": [
        "np.unique(train_labels_10_percent, return_counts=True)"
      ],
      "metadata": {
        "colab": {
          "base_uri": "https://localhost:8080/"
        },
        "id": "dpbphPGoZDAO",
        "outputId": "ad7b967a-545a-4b5b-f828-adacbe57534c"
      },
      "execution_count": null,
      "outputs": [
        {
          "output_type": "execute_result",
          "data": {
            "text/plain": [
              "(array([0, 1]), array([114, 141]))"
            ]
          },
          "metadata": {},
          "execution_count": 117
        }
      ]
    },
    {
      "cell_type": "code",
      "source": [
        "# Check the number of targets in our subset of data \n",
        "# (this should be close to the distribution of labels in the original train_labels)\n",
        "pd.Series(train_labels_10_percent).value_counts()"
      ],
      "metadata": {
        "colab": {
          "base_uri": "https://localhost:8080/"
        },
        "id": "Bwa-ZeeaZIsu",
        "outputId": "16bbe32f-7858-44e2-d57b-2d99438f01bd"
      },
      "execution_count": null,
      "outputs": [
        {
          "output_type": "execute_result",
          "data": {
            "text/plain": [
              "1    141\n",
              "0    114\n",
              "dtype: int64"
            ]
          },
          "metadata": {},
          "execution_count": 118
        }
      ]
    },
    {
      "cell_type": "code",
      "source": [
        "# Clone model_6 but reset weights\n",
        "model_7 = tf.keras.models.clone_model(model_6)\n",
        "\n",
        "# Compile model\n",
        "model_7.compile(loss=\"binary_crossentropy\",\n",
        "                optimizer=tf.keras.optimizers.Adam(),\n",
        "                metrics=[\"accuracy\"])\n",
        "\n",
        "# Get a summary (will be same as model_6)\n",
        "model_7.summary()"
      ],
      "metadata": {
        "id": "I9KHEvxpZOtN",
        "colab": {
          "base_uri": "https://localhost:8080/"
        },
        "outputId": "412b0d93-c870-4e40-cf7f-2dae56b6a854"
      },
      "execution_count": null,
      "outputs": [
        {
          "output_type": "stream",
          "name": "stdout",
          "text": [
            "Model: \"model_6_USE\"\n",
            "_________________________________________________________________\n",
            " Layer (type)                Output Shape              Param #   \n",
            "=================================================================\n",
            " USE (KerasLayer)            (None, 512)               256797824 \n",
            "                                                                 \n",
            " dense_6 (Dense)             (None, 64)                32832     \n",
            "                                                                 \n",
            " dense_7 (Dense)             (None, 1)                 65        \n",
            "                                                                 \n",
            "=================================================================\n",
            "Total params: 256,830,721\n",
            "Trainable params: 32,897\n",
            "Non-trainable params: 256,797,824\n",
            "_________________________________________________________________\n"
          ]
        }
      ]
    },
    {
      "cell_type": "code",
      "source": [
        "# Fit the model to 10% of the training data\n",
        "model_7_history = model_7.fit(x=train_sentences_10_percent,\n",
        "                              y=train_labels_10_percent,\n",
        "                              epochs=5,\n",
        "                              validation_data=(val_sentences, val_labels),\n",
        "                              callbacks=[create_tensorboard_callback(SAVE_DIR, \"10_percent_tf_hub_sentence_encoder\")])"
      ],
      "metadata": {
        "id": "6bR8NrEdZUHQ",
        "colab": {
          "base_uri": "https://localhost:8080/"
        },
        "outputId": "b720ebcb-cc2e-402c-fc36-8077f5340718"
      },
      "execution_count": null,
      "outputs": [
        {
          "output_type": "stream",
          "name": "stdout",
          "text": [
            "Saving TensorBoard log files to: model_logs/10_percent_tf_hub_sentence_encoder/20230125-170300\n",
            "Epoch 1/5\n",
            "8/8 [==============================] - 4s 126ms/step - loss: 0.6808 - accuracy: 0.6275 - val_loss: 0.6539 - val_accuracy: 0.7594\n",
            "Epoch 2/5\n",
            "8/8 [==============================] - 0s 58ms/step - loss: 0.6312 - accuracy: 0.8314 - val_loss: 0.6015 - val_accuracy: 0.8428\n",
            "Epoch 3/5\n",
            "8/8 [==============================] - 0s 57ms/step - loss: 0.5737 - accuracy: 0.8863 - val_loss: 0.5434 - val_accuracy: 0.8805\n",
            "Epoch 4/5\n",
            "8/8 [==============================] - 0s 58ms/step - loss: 0.5103 - accuracy: 0.8941 - val_loss: 0.4861 - val_accuracy: 0.8884\n",
            "Epoch 5/5\n",
            "8/8 [==============================] - 0s 44ms/step - loss: 0.4535 - accuracy: 0.8941 - val_loss: 0.4360 - val_accuracy: 0.8962\n"
          ]
        }
      ]
    },
    {
      "cell_type": "code",
      "source": [
        "# Make predictions with the model trained on 10% of the data\n",
        "model_7_pred_probs = model_7.predict(val_sentences)\n",
        "model_7_pred_probs[:10]"
      ],
      "metadata": {
        "id": "3nfUtW8nZYZM",
        "colab": {
          "base_uri": "https://localhost:8080/"
        },
        "outputId": "af5389a2-1487-4964-f69b-786bb692eb2b"
      },
      "execution_count": null,
      "outputs": [
        {
          "output_type": "stream",
          "name": "stdout",
          "text": [
            "20/20 [==============================] - 1s 9ms/step\n"
          ]
        },
        {
          "output_type": "execute_result",
          "data": {
            "text/plain": [
              "array([[0.44190913],\n",
              "       [0.68403065],\n",
              "       [0.3190536 ],\n",
              "       [0.3220981 ],\n",
              "       [0.43437064],\n",
              "       [0.5240633 ],\n",
              "       [0.36031702],\n",
              "       [0.3162822 ],\n",
              "       [0.3284536 ],\n",
              "       [0.41590503]], dtype=float32)"
            ]
          },
          "metadata": {},
          "execution_count": 121
        }
      ]
    },
    {
      "cell_type": "code",
      "source": [
        "# Convert prediction probabilities to labels\n",
        "model_7_preds = tf.squeeze(tf.round(model_7_pred_probs))\n",
        "model_7_preds[:10]"
      ],
      "metadata": {
        "id": "F1im_tMxZhd0",
        "colab": {
          "base_uri": "https://localhost:8080/"
        },
        "outputId": "2c5e9301-82f3-4f15-d67a-c8fc436c6076"
      },
      "execution_count": null,
      "outputs": [
        {
          "output_type": "execute_result",
          "data": {
            "text/plain": [
              "<tf.Tensor: shape=(10,), dtype=float32, numpy=array([0., 1., 0., 0., 0., 1., 0., 0., 0., 0.], dtype=float32)>"
            ]
          },
          "metadata": {},
          "execution_count": 122
        }
      ]
    },
    {
      "cell_type": "code",
      "source": [
        "# Calculate model results\n",
        "model_7_results = calculate_results(val_labels, model_7_preds)\n",
        "model_7_results"
      ],
      "metadata": {
        "id": "4LO6mxofZlR0",
        "colab": {
          "base_uri": "https://localhost:8080/"
        },
        "outputId": "e07c3854-62ae-4940-a83f-ad623d9e2dc6"
      },
      "execution_count": null,
      "outputs": [
        {
          "output_type": "execute_result",
          "data": {
            "text/plain": [
              "{'accuracy': 89.62264150943396,\n",
              " 'precision': 0.8961384999653117,\n",
              " 'recall': 0.8962264150943396,\n",
              " 'f1': 0.896037924339811}"
            ]
          },
          "metadata": {},
          "execution_count": 123
        }
      ]
    },
    {
      "cell_type": "code",
      "source": [
        "# Compare to baseline\n",
        "compare_baseline_to_new_results(baseline_results, model_7_results)"
      ],
      "metadata": {
        "id": "v_r0sV3KZo_7",
        "colab": {
          "base_uri": "https://localhost:8080/"
        },
        "outputId": "c73db96b-fdaa-4313-d477-9a4ea86371fb"
      },
      "execution_count": null,
      "outputs": [
        {
          "output_type": "stream",
          "name": "stdout",
          "text": [
            "Baseline accuracy: 89.15, New accuracy: 89.62, Difference: 0.47\n",
            "Baseline precision: 0.89, New precision: 0.90, Difference: 0.00\n",
            "Baseline recall: 0.89, New recall: 0.90, Difference: 0.00\n",
            "Baseline f1: 0.89, New f1: 0.90, Difference: 0.01\n"
          ]
        }
      ]
    },
    {
      "cell_type": "code",
      "source": [
        "# Combine model results into a DataFrame\n",
        "all_model_results = pd.DataFrame({\"baseline\": baseline_results,\n",
        "                                  \"simple_dense\": model_1_results,\n",
        "                                  \"lstm\": model_2_results,\n",
        "                                  \"gru\": model_3_results,\n",
        "                                  \"bidirectional\": model_4_results,\n",
        "                                  \"conv1d\": model_5_results,\n",
        "                                  \"tf_hub_sentence_encoder\": model_6_results,\n",
        "                                  \"tf_hub_10_percent_data\": model_7_results})\n",
        "all_model_results = all_model_results.transpose()\n",
        "all_model_results"
      ],
      "metadata": {
        "id": "ytn3jpHXZyhU",
        "colab": {
          "base_uri": "https://localhost:8080/"
        },
        "outputId": "fe823b7a-b745-4e37-c089-deecbd9f74ed"
      },
      "execution_count": null,
      "outputs": [
        {
          "output_type": "execute_result",
          "data": {
            "text/plain": [
              "                          accuracy  precision    recall        f1\n",
              "baseline                 89.150943   0.892092  0.891509  0.890981\n",
              "simple_dense             92.610063   0.926433  0.926101  0.925870\n",
              "lstm                     43.553459   0.189690  0.435535  0.264278\n",
              "gru                      90.566038   0.905610  0.905660  0.905489\n",
              "bidirectional            56.761006   0.646396  0.567610  0.417127\n",
              "conv1d                   90.566038   0.905782  0.905660  0.905391\n",
              "tf_hub_sentence_encoder  92.610063   0.926055  0.926101  0.926020\n",
              "tf_hub_10_percent_data   89.622642   0.896138  0.896226  0.896038"
            ],
            "text/html": [
              "\n",
              "  <div id=\"df-1fee5efd-4020-4678-a969-77a21daf7477\">\n",
              "    <div class=\"colab-df-container\">\n",
              "      <div>\n",
              "<style scoped>\n",
              "    .dataframe tbody tr th:only-of-type {\n",
              "        vertical-align: middle;\n",
              "    }\n",
              "\n",
              "    .dataframe tbody tr th {\n",
              "        vertical-align: top;\n",
              "    }\n",
              "\n",
              "    .dataframe thead th {\n",
              "        text-align: right;\n",
              "    }\n",
              "</style>\n",
              "<table border=\"1\" class=\"dataframe\">\n",
              "  <thead>\n",
              "    <tr style=\"text-align: right;\">\n",
              "      <th></th>\n",
              "      <th>accuracy</th>\n",
              "      <th>precision</th>\n",
              "      <th>recall</th>\n",
              "      <th>f1</th>\n",
              "    </tr>\n",
              "  </thead>\n",
              "  <tbody>\n",
              "    <tr>\n",
              "      <th>baseline</th>\n",
              "      <td>89.150943</td>\n",
              "      <td>0.892092</td>\n",
              "      <td>0.891509</td>\n",
              "      <td>0.890981</td>\n",
              "    </tr>\n",
              "    <tr>\n",
              "      <th>simple_dense</th>\n",
              "      <td>92.610063</td>\n",
              "      <td>0.926433</td>\n",
              "      <td>0.926101</td>\n",
              "      <td>0.925870</td>\n",
              "    </tr>\n",
              "    <tr>\n",
              "      <th>lstm</th>\n",
              "      <td>43.553459</td>\n",
              "      <td>0.189690</td>\n",
              "      <td>0.435535</td>\n",
              "      <td>0.264278</td>\n",
              "    </tr>\n",
              "    <tr>\n",
              "      <th>gru</th>\n",
              "      <td>90.566038</td>\n",
              "      <td>0.905610</td>\n",
              "      <td>0.905660</td>\n",
              "      <td>0.905489</td>\n",
              "    </tr>\n",
              "    <tr>\n",
              "      <th>bidirectional</th>\n",
              "      <td>56.761006</td>\n",
              "      <td>0.646396</td>\n",
              "      <td>0.567610</td>\n",
              "      <td>0.417127</td>\n",
              "    </tr>\n",
              "    <tr>\n",
              "      <th>conv1d</th>\n",
              "      <td>90.566038</td>\n",
              "      <td>0.905782</td>\n",
              "      <td>0.905660</td>\n",
              "      <td>0.905391</td>\n",
              "    </tr>\n",
              "    <tr>\n",
              "      <th>tf_hub_sentence_encoder</th>\n",
              "      <td>92.610063</td>\n",
              "      <td>0.926055</td>\n",
              "      <td>0.926101</td>\n",
              "      <td>0.926020</td>\n",
              "    </tr>\n",
              "    <tr>\n",
              "      <th>tf_hub_10_percent_data</th>\n",
              "      <td>89.622642</td>\n",
              "      <td>0.896138</td>\n",
              "      <td>0.896226</td>\n",
              "      <td>0.896038</td>\n",
              "    </tr>\n",
              "  </tbody>\n",
              "</table>\n",
              "</div>\n",
              "      <button class=\"colab-df-convert\" onclick=\"convertToInteractive('df-1fee5efd-4020-4678-a969-77a21daf7477')\"\n",
              "              title=\"Convert this dataframe to an interactive table.\"\n",
              "              style=\"display:none;\">\n",
              "        \n",
              "  <svg xmlns=\"http://www.w3.org/2000/svg\" height=\"24px\"viewBox=\"0 0 24 24\"\n",
              "       width=\"24px\">\n",
              "    <path d=\"M0 0h24v24H0V0z\" fill=\"none\"/>\n",
              "    <path d=\"M18.56 5.44l.94 2.06.94-2.06 2.06-.94-2.06-.94-.94-2.06-.94 2.06-2.06.94zm-11 1L8.5 8.5l.94-2.06 2.06-.94-2.06-.94L8.5 2.5l-.94 2.06-2.06.94zm10 10l.94 2.06.94-2.06 2.06-.94-2.06-.94-.94-2.06-.94 2.06-2.06.94z\"/><path d=\"M17.41 7.96l-1.37-1.37c-.4-.4-.92-.59-1.43-.59-.52 0-1.04.2-1.43.59L10.3 9.45l-7.72 7.72c-.78.78-.78 2.05 0 2.83L4 21.41c.39.39.9.59 1.41.59.51 0 1.02-.2 1.41-.59l7.78-7.78 2.81-2.81c.8-.78.8-2.07 0-2.86zM5.41 20L4 18.59l7.72-7.72 1.47 1.35L5.41 20z\"/>\n",
              "  </svg>\n",
              "      </button>\n",
              "      \n",
              "  <style>\n",
              "    .colab-df-container {\n",
              "      display:flex;\n",
              "      flex-wrap:wrap;\n",
              "      gap: 12px;\n",
              "    }\n",
              "\n",
              "    .colab-df-convert {\n",
              "      background-color: #E8F0FE;\n",
              "      border: none;\n",
              "      border-radius: 50%;\n",
              "      cursor: pointer;\n",
              "      display: none;\n",
              "      fill: #1967D2;\n",
              "      height: 32px;\n",
              "      padding: 0 0 0 0;\n",
              "      width: 32px;\n",
              "    }\n",
              "\n",
              "    .colab-df-convert:hover {\n",
              "      background-color: #E2EBFA;\n",
              "      box-shadow: 0px 1px 2px rgba(60, 64, 67, 0.3), 0px 1px 3px 1px rgba(60, 64, 67, 0.15);\n",
              "      fill: #174EA6;\n",
              "    }\n",
              "\n",
              "    [theme=dark] .colab-df-convert {\n",
              "      background-color: #3B4455;\n",
              "      fill: #D2E3FC;\n",
              "    }\n",
              "\n",
              "    [theme=dark] .colab-df-convert:hover {\n",
              "      background-color: #434B5C;\n",
              "      box-shadow: 0px 1px 3px 1px rgba(0, 0, 0, 0.15);\n",
              "      filter: drop-shadow(0px 1px 2px rgba(0, 0, 0, 0.3));\n",
              "      fill: #FFFFFF;\n",
              "    }\n",
              "  </style>\n",
              "\n",
              "      <script>\n",
              "        const buttonEl =\n",
              "          document.querySelector('#df-1fee5efd-4020-4678-a969-77a21daf7477 button.colab-df-convert');\n",
              "        buttonEl.style.display =\n",
              "          google.colab.kernel.accessAllowed ? 'block' : 'none';\n",
              "\n",
              "        async function convertToInteractive(key) {\n",
              "          const element = document.querySelector('#df-1fee5efd-4020-4678-a969-77a21daf7477');\n",
              "          const dataTable =\n",
              "            await google.colab.kernel.invokeFunction('convertToInteractive',\n",
              "                                                     [key], {});\n",
              "          if (!dataTable) return;\n",
              "\n",
              "          const docLinkHtml = 'Like what you see? Visit the ' +\n",
              "            '<a target=\"_blank\" href=https://colab.research.google.com/notebooks/data_table.ipynb>data table notebook</a>'\n",
              "            + ' to learn more about interactive tables.';\n",
              "          element.innerHTML = '';\n",
              "          dataTable['output_type'] = 'display_data';\n",
              "          await google.colab.output.renderOutput(dataTable, element);\n",
              "          const docLink = document.createElement('div');\n",
              "          docLink.innerHTML = docLinkHtml;\n",
              "          element.appendChild(docLink);\n",
              "        }\n",
              "      </script>\n",
              "    </div>\n",
              "  </div>\n",
              "  "
            ]
          },
          "metadata": {},
          "execution_count": 125
        }
      ]
    },
    {
      "cell_type": "code",
      "source": [
        "# Reduce the accuracy to same scale as other metrics\n",
        "all_model_results[\"accuracy\"] = all_model_results[\"accuracy\"]/100"
      ],
      "metadata": {
        "id": "s7husEPqZ254"
      },
      "execution_count": null,
      "outputs": []
    },
    {
      "cell_type": "code",
      "source": [
        "# Plot and compare all of the model results\n",
        "all_model_results.plot(kind=\"bar\", figsize=(10, 7)).legend(bbox_to_anchor=(1.0, 1.0));"
      ],
      "metadata": {
        "id": "foYT_x5jZ9qX",
        "colab": {
          "base_uri": "https://localhost:8080/"
        },
        "outputId": "859adc8a-dcab-4d4d-d3f3-0091ec132acf"
      },
      "execution_count": null,
      "outputs": [
        {
          "output_type": "display_data",
          "data": {
            "text/plain": [
              "<Figure size 720x504 with 1 Axes>"
            ],
            "image/png": "[encoded data removed]"
          },
          "metadata": {
            "needs_background": "light"
          }
        }
      ]
    },
    {
      "cell_type": "code",
      "source": [
        "# Sort model results by f1-score\n",
        "all_model_results.sort_values(\"f1\", ascending=False)[\"f1\"].plot(kind=\"bar\", figsize=(10, 7));"
      ],
      "metadata": {
        "id": "nZ69eQXNaA48",
        "colab": {
          "base_uri": "https://localhost:8080/",
          "height": 546
        },
        "outputId": "ac2d3e3b-bf8e-47e2-8755-d6adb8235ca2"
      },
      "execution_count": null,
      "outputs": [
        {
          "output_type": "display_data",
          "data": {
            "text/plain": [
              "<Figure size 720x504 with 1 Axes>"
            ],
            "image/png": "[encoded data removed]"
          },
          "metadata": {
            "needs_background": "light"
          }
        }
      ]
    },
    {
      "cell_type": "code",
      "source": [
        "# Combining our models (model ensembling/stacking)\n",
        "# Get mean pred probs for 3 models\n",
        "baseline_pred_probs = np.max(model_0.predict_proba(val_sentences), axis=1) # get the prediction probabilities from baseline model\n",
        "combined_pred_probs = baseline_pred_probs + tf.squeeze(model_2_pred_probs, axis=1) + tf.squeeze(model_6_pred_probs)\n",
        "combined_preds = tf.round(combined_pred_probs/3) # average and round the prediction probabilities to get prediction classes\n",
        "combined_preds[:20]"
      ],
      "metadata": {
        "id": "7SLrZbcvaFoi",
        "colab": {
          "base_uri": "https://localhost:8080/"
        },
        "outputId": "2eaa9e28-e517-4af7-a479-e5d95063bb3a"
      },
      "execution_count": null,
      "outputs": [
        {
          "output_type": "execute_result",
          "data": {
            "text/plain": [
              "<tf.Tensor: shape=(20,), dtype=float32, numpy=\n",
              "array([0., 1., 0., 0., 0., 1., 0., 0., 0., 0., 1., 1., 1., 1., 1., 0., 1.,\n",
              "       1., 1., 0.], dtype=float32)>"
            ]
          },
          "metadata": {},
          "execution_count": 129
        }
      ]
    },
    {
      "cell_type": "code",
      "source": [
        "# Calculate results from averaging the prediction probabilities\n",
        "ensemble_results = calculate_results(val_labels, combined_preds)\n",
        "ensemble_results"
      ],
      "metadata": {
        "id": "SImcQlVjamsF",
        "colab": {
          "base_uri": "https://localhost:8080/"
        },
        "outputId": "23d1197c-9ea4-4272-d9c7-718bff554ac6"
      },
      "execution_count": null,
      "outputs": [
        {
          "output_type": "execute_result",
          "data": {
            "text/plain": [
              "{'accuracy': 90.40880503144653,\n",
              " 'precision': 0.9091386591242782,\n",
              " 'recall': 0.9040880503144654,\n",
              " 'f1': 0.9044653548155237}"
            ]
          },
          "metadata": {},
          "execution_count": 130
        }
      ]
    },
    {
      "cell_type": "code",
      "source": [
        "# Add our combined model's results to the results DataFrame\n",
        "all_model_results.loc[\"ensemble_results\"] = ensemble_results"
      ],
      "metadata": {
        "id": "2h0ngM5jaqH1"
      },
      "execution_count": null,
      "outputs": []
    },
    {
      "cell_type": "code",
      "source": [
        "# Convert the accuracy to the same scale as the rest of the results\n",
        "all_model_results.loc[\"ensemble_results\"][\"accuracy\"] = all_model_results.loc[\"ensemble_results\"][\"accuracy\"]/100"
      ],
      "metadata": {
        "id": "4ZRJUS53at9X"
      },
      "execution_count": null,
      "outputs": []
    },
    {
      "cell_type": "code",
      "source": [
        "all_model_results"
      ],
      "metadata": {
        "id": "eZ9wJTbWawRD",
        "colab": {
          "base_uri": "https://localhost:8080/",
          "height": 331
        },
        "outputId": "00fed5a7-7bdf-49e7-a75a-c7fb05945547"
      },
      "execution_count": null,
      "outputs": [
        {
          "output_type": "execute_result",
          "data": {
            "text/plain": [
              "                         accuracy  precision    recall        f1\n",
              "baseline                 0.891509   0.892092  0.891509  0.890981\n",
              "simple_dense             0.926101   0.926433  0.926101  0.925870\n",
              "lstm                     0.435535   0.189690  0.435535  0.264278\n",
              "gru                      0.905660   0.905610  0.905660  0.905489\n",
              "bidirectional            0.567610   0.646396  0.567610  0.417127\n",
              "conv1d                   0.905660   0.905782  0.905660  0.905391\n",
              "tf_hub_sentence_encoder  0.926101   0.926055  0.926101  0.926020\n",
              "tf_hub_10_percent_data   0.896226   0.896138  0.896226  0.896038\n",
              "ensemble_results         0.904088   0.909139  0.904088  0.904465"
            ],
            "text/html": [
              "\n",
              "  <div id=\"df-c9f45a71-da51-42bb-8fa8-d4c10e87012e\">\n",
              "    <div class=\"colab-df-container\">\n",
              "      <div>\n",
              "<style scoped>\n",
              "    .dataframe tbody tr th:only-of-type {\n",
              "        vertical-align: middle;\n",
              "    }\n",
              "\n",
              "    .dataframe tbody tr th {\n",
              "        vertical-align: top;\n",
              "    }\n",
              "\n",
              "    .dataframe thead th {\n",
              "        text-align: right;\n",
              "    }\n",
              "</style>\n",
              "<table border=\"1\" class=\"dataframe\">\n",
              "  <thead>\n",
              "    <tr style=\"text-align: right;\">\n",
              "      <th></th>\n",
              "      <th>accuracy</th>\n",
              "      <th>precision</th>\n",
              "      <th>recall</th>\n",
              "      <th>f1</th>\n",
              "    </tr>\n",
              "  </thead>\n",
              "  <tbody>\n",
              "    <tr>\n",
              "      <th>baseline</th>\n",
              "      <td>0.891509</td>\n",
              "      <td>0.892092</td>\n",
              "      <td>0.891509</td>\n",
              "      <td>0.890981</td>\n",
              "    </tr>\n",
              "    <tr>\n",
              "      <th>simple_dense</th>\n",
              "      <td>0.926101</td>\n",
              "      <td>0.926433</td>\n",
              "      <td>0.926101</td>\n",
              "      <td>0.925870</td>\n",
              "    </tr>\n",
              "    <tr>\n",
              "      <th>lstm</th>\n",
              "      <td>0.435535</td>\n",
              "      <td>0.189690</td>\n",
              "      <td>0.435535</td>\n",
              "      <td>0.264278</td>\n",
              "    </tr>\n",
              "    <tr>\n",
              "      <th>gru</th>\n",
              "      <td>0.905660</td>\n",
              "      <td>0.905610</td>\n",
              "      <td>0.905660</td>\n",
              "      <td>0.905489</td>\n",
              "    </tr>\n",
              "    <tr>\n",
              "      <th>bidirectional</th>\n",
              "      <td>0.567610</td>\n",
              "      <td>0.646396</td>\n",
              "      <td>0.567610</td>\n",
              "      <td>0.417127</td>\n",
              "    </tr>\n",
              "    <tr>\n",
              "      <th>conv1d</th>\n",
              "      <td>0.905660</td>\n",
              "      <td>0.905782</td>\n",
              "      <td>0.905660</td>\n",
              "      <td>0.905391</td>\n",
              "    </tr>\n",
              "    <tr>\n",
              "      <th>tf_hub_sentence_encoder</th>\n",
              "      <td>0.926101</td>\n",
              "      <td>0.926055</td>\n",
              "      <td>0.926101</td>\n",
              "      <td>0.926020</td>\n",
              "    </tr>\n",
              "    <tr>\n",
              "      <th>tf_hub_10_percent_data</th>\n",
              "      <td>0.896226</td>\n",
              "      <td>0.896138</td>\n",
              "      <td>0.896226</td>\n",
              "      <td>0.896038</td>\n",
              "    </tr>\n",
              "    <tr>\n",
              "      <th>ensemble_results</th>\n",
              "      <td>0.904088</td>\n",
              "      <td>0.909139</td>\n",
              "      <td>0.904088</td>\n",
              "      <td>0.904465</td>\n",
              "    </tr>\n",
              "  </tbody>\n",
              "</table>\n",
              "</div>\n",
              "      <button class=\"colab-df-convert\" onclick=\"convertToInteractive('df-c9f45a71-da51-42bb-8fa8-d4c10e87012e')\"\n",
              "              title=\"Convert this dataframe to an interactive table.\"\n",
              "              style=\"display:none;\">\n",
              "        \n",
              "  <svg xmlns=\"http://www.w3.org/2000/svg\" height=\"24px\"viewBox=\"0 0 24 24\"\n",
              "       width=\"24px\">\n",
              "    <path d=\"M0 0h24v24H0V0z\" fill=\"none\"/>\n",
              "    <path d=\"M18.56 5.44l.94 2.06.94-2.06 2.06-.94-2.06-.94-.94-2.06-.94 2.06-2.06.94zm-11 1L8.5 8.5l.94-2.06 2.06-.94-2.06-.94L8.5 2.5l-.94 2.06-2.06.94zm10 10l.94 2.06.94-2.06 2.06-.94-2.06-.94-.94-2.06-.94 2.06-2.06.94z\"/><path d=\"M17.41 7.96l-1.37-1.37c-.4-.4-.92-.59-1.43-.59-.52 0-1.04.2-1.43.59L10.3 9.45l-7.72 7.72c-.78.78-.78 2.05 0 2.83L4 21.41c.39.39.9.59 1.41.59.51 0 1.02-.2 1.41-.59l7.78-7.78 2.81-2.81c.8-.78.8-2.07 0-2.86zM5.41 20L4 18.59l7.72-7.72 1.47 1.35L5.41 20z\"/>\n",
              "  </svg>\n",
              "      </button>\n",
              "      \n",
              "  <style>\n",
              "    .colab-df-container {\n",
              "      display:flex;\n",
              "      flex-wrap:wrap;\n",
              "      gap: 12px;\n",
              "    }\n",
              "\n",
              "    .colab-df-convert {\n",
              "      background-color: #E8F0FE;\n",
              "      border: none;\n",
              "      border-radius: 50%;\n",
              "      cursor: pointer;\n",
              "      display: none;\n",
              "      fill: #1967D2;\n",
              "      height: 32px;\n",
              "      padding: 0 0 0 0;\n",
              "      width: 32px;\n",
              "    }\n",
              "\n",
              "    .colab-df-convert:hover {\n",
              "      background-color: #E2EBFA;\n",
              "      box-shadow: 0px 1px 2px rgba(60, 64, 67, 0.3), 0px 1px 3px 1px rgba(60, 64, 67, 0.15);\n",
              "      fill: #174EA6;\n",
              "    }\n",
              "\n",
              "    [theme=dark] .colab-df-convert {\n",
              "      background-color: #3B4455;\n",
              "      fill: #D2E3FC;\n",
              "    }\n",
              "\n",
              "    [theme=dark] .colab-df-convert:hover {\n",
              "      background-color: #434B5C;\n",
              "      box-shadow: 0px 1px 3px 1px rgba(0, 0, 0, 0.15);\n",
              "      filter: drop-shadow(0px 1px 2px rgba(0, 0, 0, 0.3));\n",
              "      fill: #FFFFFF;\n",
              "    }\n",
              "  </style>\n",
              "\n",
              "      <script>\n",
              "        const buttonEl =\n",
              "          document.querySelector('#df-c9f45a71-da51-42bb-8fa8-d4c10e87012e button.colab-df-convert');\n",
              "        buttonEl.style.display =\n",
              "          google.colab.kernel.accessAllowed ? 'block' : 'none';\n",
              "\n",
              "        async function convertToInteractive(key) {\n",
              "          const element = document.querySelector('#df-c9f45a71-da51-42bb-8fa8-d4c10e87012e');\n",
              "          const dataTable =\n",
              "            await google.colab.kernel.invokeFunction('convertToInteractive',\n",
              "                                                     [key], {});\n",
              "          if (!dataTable) return;\n",
              "\n",
              "          const docLinkHtml = 'Like what you see? Visit the ' +\n",
              "            '<a target=\"_blank\" href=https://colab.research.google.com/notebooks/data_table.ipynb>data table notebook</a>'\n",
              "            + ' to learn more about interactive tables.';\n",
              "          element.innerHTML = '';\n",
              "          dataTable['output_type'] = 'display_data';\n",
              "          await google.colab.output.renderOutput(dataTable, element);\n",
              "          const docLink = document.createElement('div');\n",
              "          docLink.innerHTML = docLinkHtml;\n",
              "          element.appendChild(docLink);\n",
              "        }\n",
              "      </script>\n",
              "    </div>\n",
              "  </div>\n",
              "  "
            ]
          },
          "metadata": {},
          "execution_count": 133
        }
      ]
    },
    {
      "cell_type": "code",
      "source": [
        "import pickle\n",
        "\n",
        "with open(\"model.pkl\", \"wb\") as f:\n",
        "    pickle.dump(model_6, f)\n"
      ],
      "metadata": {
        "id": "I5r1wh5pcXHp",
        "colab": {
          "base_uri": "https://localhost:8080/"
        },
        "outputId": "c1b741db-80a8-48c1-9f9a-414253a51acf"
      },
      "execution_count": null,
      "outputs": [
        {
          "output_type": "stream",
          "name": "stderr",
          "text": [
            "WARNING:absl:Function `_wrapped_model` contains input name(s) USE_input with unsupported characters which will be renamed to use_input in the SavedModel.\n"
          ]
        }
      ]
    },
    {
      "cell_type": "code",
      "source": [
        "#saving mode\n",
        "from keras.models import load_model\n",
        "\n",
        "# Save TF Hub Sentence Encoder model to HDF5 format\n",
        "model_6.save(\"model_6.h5\")"
      ],
      "metadata": {
        "id": "VBKw9DBMaznR"
      },
      "execution_count": null,
      "outputs": []
    },
    {
      "cell_type": "code",
      "source": [
        "#with open(\"model.pkl\", \"rb\") as f:\n",
        "    #model = pickle.load(f)\n"
      ],
      "metadata": {
        "id": "qRRI-TxfbBSu"
      },
      "execution_count": null,
      "outputs": []
    },
    {
      "cell_type": "code",
      "source": [
        "# Load model with custom Hub Layer (required with HDF5 format)\n",
        "loaded_model_6 = tf.keras.models.load_model(\"model_6.h5\", \n",
        "                                            custom_objects={\"KerasLayer\": hub.KerasLayer})"
      ],
      "metadata": {
        "id": "38espnC_cqrk"
      },
      "execution_count": null,
      "outputs": []
    },
    {
      "cell_type": "code",
      "source": [
        "# How does our loaded model perform?\n",
        "model_6.evaluate(val_sentences, val_labels)"
      ],
      "metadata": {
        "id": "cqZyNwlsc1Xj",
        "colab": {
          "base_uri": "https://localhost:8080/"
        },
        "outputId": "fb8ddbd3-d8a8-4a58-8c5a-6f2a122502b9"
      },
      "execution_count": null,
      "outputs": [
        {
          "output_type": "stream",
          "name": "stdout",
          "text": [
            "20/20 [==============================] - 0s 10ms/step - loss: 0.2620 - accuracy: 0.9261\n"
          ]
        },
        {
          "output_type": "execute_result",
          "data": {
            "text/plain": [
              "[0.2620347738265991, 0.9261006116867065]"
            ]
          },
          "metadata": {},
          "execution_count": 138
        }
      ]
    },
    {
      "cell_type": "markdown",
      "source": [
        "## Finding the most wrong examples\n"
      ],
      "metadata": {
        "id": "7drwg400aMWH"
      }
    },
    {
      "cell_type": "code",
      "source": [
        "# Create dataframe with validation sentences and best performing model predictions\n",
        "val_df = pd.DataFrame({\"text\": val_sentences,\n",
        "                       \"Rating\": val_labels,\n",
        "                       \"pred\": model_6_preds,\n",
        "                       \"pred_prob\": tf.squeeze(model_6_pred_probs)})\n",
        "val_df.head()"
      ],
      "metadata": {
        "id": "i3FmRLXddIYp",
        "colab": {
          "base_uri": "https://localhost:8080/",
          "height": 206
        },
        "outputId": "5edcf4f7-429b-42b3-a1e6-f6792196c474"
      },
      "execution_count": null,
      "outputs": [
        {
          "output_type": "execute_result",
          "data": {
            "text/plain": [
              "                                                text  Rating  pred  pred_prob\n",
              "0  I am sorry to buy this watch because I have no...       0   0.0   0.032622\n",
              "1  The watch looks so damn awesome. It is a maste...       1   1.0   0.990190\n",
              "2                                     Watch very bad       0   0.0   0.017048\n",
              "3                                              Worst       0   0.0   0.020331\n",
              "4  I used it for 5 months and write this review w...       1   1.0   0.657075"
            ],
            "text/html": [
              "\n",
              "  <div id=\"df-5bf694ea-02ab-4dce-9f87-179523676643\">\n",
              "    <div class=\"colab-df-container\">\n",
              "      <div>\n",
              "<style scoped>\n",
              "    .dataframe tbody tr th:only-of-type {\n",
              "        vertical-align: middle;\n",
              "    }\n",
              "\n",
              "    .dataframe tbody tr th {\n",
              "        vertical-align: top;\n",
              "    }\n",
              "\n",
              "    .dataframe thead th {\n",
              "        text-align: right;\n",
              "    }\n",
              "</style>\n",
              "<table border=\"1\" class=\"dataframe\">\n",
              "  <thead>\n",
              "    <tr style=\"text-align: right;\">\n",
              "      <th></th>\n",
              "      <th>text</th>\n",
              "      <th>Rating</th>\n",
              "      <th>pred</th>\n",
              "      <th>pred_prob</th>\n",
              "    </tr>\n",
              "  </thead>\n",
              "  <tbody>\n",
              "    <tr>\n",
              "      <th>0</th>\n",
              "      <td>I am sorry to buy this watch because I have no...</td>\n",
              "      <td>0</td>\n",
              "      <td>0.0</td>\n",
              "      <td>0.032622</td>\n",
              "    </tr>\n",
              "    <tr>\n",
              "      <th>1</th>\n",
              "      <td>The watch looks so damn awesome. It is a maste...</td>\n",
              "      <td>1</td>\n",
              "      <td>1.0</td>\n",
              "      <td>0.990190</td>\n",
              "    </tr>\n",
              "    <tr>\n",
              "      <th>2</th>\n",
              "      <td>Watch very bad</td>\n",
              "      <td>0</td>\n",
              "      <td>0.0</td>\n",
              "      <td>0.017048</td>\n",
              "    </tr>\n",
              "    <tr>\n",
              "      <th>3</th>\n",
              "      <td>Worst</td>\n",
              "      <td>0</td>\n",
              "      <td>0.0</td>\n",
              "      <td>0.020331</td>\n",
              "    </tr>\n",
              "    <tr>\n",
              "      <th>4</th>\n",
              "      <td>I used it for 5 months and write this review w...</td>\n",
              "      <td>1</td>\n",
              "      <td>1.0</td>\n",
              "      <td>0.657075</td>\n",
              "    </tr>\n",
              "  </tbody>\n",
              "</table>\n",
              "</div>\n",
              "      <button class=\"colab-df-convert\" onclick=\"convertToInteractive('df-5bf694ea-02ab-4dce-9f87-179523676643')\"\n",
              "              title=\"Convert this dataframe to an interactive table.\"\n",
              "              style=\"display:none;\">\n",
              "        \n",
              "  <svg xmlns=\"http://www.w3.org/2000/svg\" height=\"24px\"viewBox=\"0 0 24 24\"\n",
              "       width=\"24px\">\n",
              "    <path d=\"M0 0h24v24H0V0z\" fill=\"none\"/>\n",
              "    <path d=\"M18.56 5.44l.94 2.06.94-2.06 2.06-.94-2.06-.94-.94-2.06-.94 2.06-2.06.94zm-11 1L8.5 8.5l.94-2.06 2.06-.94-2.06-.94L8.5 2.5l-.94 2.06-2.06.94zm10 10l.94 2.06.94-2.06 2.06-.94-2.06-.94-.94-2.06-.94 2.06-2.06.94z\"/><path d=\"M17.41 7.96l-1.37-1.37c-.4-.4-.92-.59-1.43-.59-.52 0-1.04.2-1.43.59L10.3 9.45l-7.72 7.72c-.78.78-.78 2.05 0 2.83L4 21.41c.39.39.9.59 1.41.59.51 0 1.02-.2 1.41-.59l7.78-7.78 2.81-2.81c.8-.78.8-2.07 0-2.86zM5.41 20L4 18.59l7.72-7.72 1.47 1.35L5.41 20z\"/>\n",
              "  </svg>\n",
              "      </button>\n",
              "      \n",
              "  <style>\n",
              "    .colab-df-container {\n",
              "      display:flex;\n",
              "      flex-wrap:wrap;\n",
              "      gap: 12px;\n",
              "    }\n",
              "\n",
              "    .colab-df-convert {\n",
              "      background-color: #E8F0FE;\n",
              "      border: none;\n",
              "      border-radius: 50%;\n",
              "      cursor: pointer;\n",
              "      display: none;\n",
              "      fill: #1967D2;\n",
              "      height: 32px;\n",
              "      padding: 0 0 0 0;\n",
              "      width: 32px;\n",
              "    }\n",
              "\n",
              "    .colab-df-convert:hover {\n",
              "      background-color: #E2EBFA;\n",
              "      box-shadow: 0px 1px 2px rgba(60, 64, 67, 0.3), 0px 1px 3px 1px rgba(60, 64, 67, 0.15);\n",
              "      fill: #174EA6;\n",
              "    }\n",
              "\n",
              "    [theme=dark] .colab-df-convert {\n",
              "      background-color: #3B4455;\n",
              "      fill: #D2E3FC;\n",
              "    }\n",
              "\n",
              "    [theme=dark] .colab-df-convert:hover {\n",
              "      background-color: #434B5C;\n",
              "      box-shadow: 0px 1px 3px 1px rgba(0, 0, 0, 0.15);\n",
              "      filter: drop-shadow(0px 1px 2px rgba(0, 0, 0, 0.3));\n",
              "      fill: #FFFFFF;\n",
              "    }\n",
              "  </style>\n",
              "\n",
              "      <script>\n",
              "        const buttonEl =\n",
              "          document.querySelector('#df-5bf694ea-02ab-4dce-9f87-179523676643 button.colab-df-convert');\n",
              "        buttonEl.style.display =\n",
              "          google.colab.kernel.accessAllowed ? 'block' : 'none';\n",
              "\n",
              "        async function convertToInteractive(key) {\n",
              "          const element = document.querySelector('#df-5bf694ea-02ab-4dce-9f87-179523676643');\n",
              "          const dataTable =\n",
              "            await google.colab.kernel.invokeFunction('convertToInteractive',\n",
              "                                                     [key], {});\n",
              "          if (!dataTable) return;\n",
              "\n",
              "          const docLinkHtml = 'Like what you see? Visit the ' +\n",
              "            '<a target=\"_blank\" href=https://colab.research.google.com/notebooks/data_table.ipynb>data table notebook</a>'\n",
              "            + ' to learn more about interactive tables.';\n",
              "          element.innerHTML = '';\n",
              "          dataTable['output_type'] = 'display_data';\n",
              "          await google.colab.output.renderOutput(dataTable, element);\n",
              "          const docLink = document.createElement('div');\n",
              "          docLink.innerHTML = docLinkHtml;\n",
              "          element.appendChild(docLink);\n",
              "        }\n",
              "      </script>\n",
              "    </div>\n",
              "  </div>\n",
              "  "
            ]
          },
          "metadata": {},
          "execution_count": 139
        }
      ]
    },
    {
      "cell_type": "markdown",
      "source": [
        "# Now let's find our model's wrong predictions (where `target != pred`) and sort them by their prediction probability (the `pred_prob` column)."
      ],
      "metadata": {
        "id": "oFXs-uKxafr_"
      }
    },
    {
      "cell_type": "code",
      "source": [
        "# Find the wrong predictions and sort by prediction probabilities\n",
        "most_wrong = val_df[val_df[\"Rating\"] != val_df[\"pred\"]].sort_values(\"pred_prob\", ascending=False)\n",
        "most_wrong[:10]"
      ],
      "metadata": {
        "colab": {
          "base_uri": "https://localhost:8080/",
          "height": 363
        },
        "id": "InTGtZCTaUxN",
        "outputId": "6e890dd5-cdcb-4b90-f294-5e8e180fc27c"
      },
      "execution_count": null,
      "outputs": [
        {
          "output_type": "execute_result",
          "data": {
            "text/plain": [
              "                                                  text  Rating  pred  \\\n",
              "33                     Excellent watch value for money       0   1.0   \n",
              "36   So Nice Looking, Very Good Battery Backup & Al...       0   1.0   \n",
              "141  At this price company have to inbuilt with bet...       0   1.0   \n",
              "73                                        Nice product       0   1.0   \n",
              "290                                       Good product       0   1.0   \n",
              "279                                       Good product       0   1.0   \n",
              "531                                       Good Product       0   1.0   \n",
              "431                                               good       0   1.0   \n",
              "139                                               Good       0   1.0   \n",
              "621  The watch which I took is very good and the di...       0   1.0   \n",
              "\n",
              "     pred_prob  \n",
              "33    0.990553  \n",
              "36    0.990447  \n",
              "141   0.981804  \n",
              "73    0.976198  \n",
              "290   0.973491  \n",
              "279   0.973491  \n",
              "531   0.973491  \n",
              "431   0.959551  \n",
              "139   0.959551  \n",
              "621   0.957506  "
            ],
            "text/html": [
              "\n",
              "  <div id=\"df-4f12f389-07be-4f94-9be1-3bfba0b1ddcd\">\n",
              "    <div class=\"colab-df-container\">\n",
              "      <div>\n",
              "<style scoped>\n",
              "    .dataframe tbody tr th:only-of-type {\n",
              "        vertical-align: middle;\n",
              "    }\n",
              "\n",
              "    .dataframe tbody tr th {\n",
              "        vertical-align: top;\n",
              "    }\n",
              "\n",
              "    .dataframe thead th {\n",
              "        text-align: right;\n",
              "    }\n",
              "</style>\n",
              "<table border=\"1\" class=\"dataframe\">\n",
              "  <thead>\n",
              "    <tr style=\"text-align: right;\">\n",
              "      <th></th>\n",
              "      <th>text</th>\n",
              "      <th>Rating</th>\n",
              "      <th>pred</th>\n",
              "      <th>pred_prob</th>\n",
              "    </tr>\n",
              "  </thead>\n",
              "  <tbody>\n",
              "    <tr>\n",
              "      <th>33</th>\n",
              "      <td>Excellent watch value for money</td>\n",
              "      <td>0</td>\n",
              "      <td>1.0</td>\n",
              "      <td>0.990553</td>\n",
              "    </tr>\n",
              "    <tr>\n",
              "      <th>36</th>\n",
              "      <td>So Nice Looking, Very Good Battery Backup &amp; Al...</td>\n",
              "      <td>0</td>\n",
              "      <td>1.0</td>\n",
              "      <td>0.990447</td>\n",
              "    </tr>\n",
              "    <tr>\n",
              "      <th>141</th>\n",
              "      <td>At this price company have to inbuilt with bet...</td>\n",
              "      <td>0</td>\n",
              "      <td>1.0</td>\n",
              "      <td>0.981804</td>\n",
              "    </tr>\n",
              "    <tr>\n",
              "      <th>73</th>\n",
              "      <td>Nice product</td>\n",
              "      <td>0</td>\n",
              "      <td>1.0</td>\n",
              "      <td>0.976198</td>\n",
              "    </tr>\n",
              "    <tr>\n",
              "      <th>290</th>\n",
              "      <td>Good product</td>\n",
              "      <td>0</td>\n",
              "      <td>1.0</td>\n",
              "      <td>0.973491</td>\n",
              "    </tr>\n",
              "    <tr>\n",
              "      <th>279</th>\n",
              "      <td>Good product</td>\n",
              "      <td>0</td>\n",
              "      <td>1.0</td>\n",
              "      <td>0.973491</td>\n",
              "    </tr>\n",
              "    <tr>\n",
              "      <th>531</th>\n",
              "      <td>Good Product</td>\n",
              "      <td>0</td>\n",
              "      <td>1.0</td>\n",
              "      <td>0.973491</td>\n",
              "    </tr>\n",
              "    <tr>\n",
              "      <th>431</th>\n",
              "      <td>good</td>\n",
              "      <td>0</td>\n",
              "      <td>1.0</td>\n",
              "      <td>0.959551</td>\n",
              "    </tr>\n",
              "    <tr>\n",
              "      <th>139</th>\n",
              "      <td>Good</td>\n",
              "      <td>0</td>\n",
              "      <td>1.0</td>\n",
              "      <td>0.959551</td>\n",
              "    </tr>\n",
              "    <tr>\n",
              "      <th>621</th>\n",
              "      <td>The watch which I took is very good and the di...</td>\n",
              "      <td>0</td>\n",
              "      <td>1.0</td>\n",
              "      <td>0.957506</td>\n",
              "    </tr>\n",
              "  </tbody>\n",
              "</table>\n",
              "</div>\n",
              "      <button class=\"colab-df-convert\" onclick=\"convertToInteractive('df-4f12f389-07be-4f94-9be1-3bfba0b1ddcd')\"\n",
              "              title=\"Convert this dataframe to an interactive table.\"\n",
              "              style=\"display:none;\">\n",
              "        \n",
              "  <svg xmlns=\"http://www.w3.org/2000/svg\" height=\"24px\"viewBox=\"0 0 24 24\"\n",
              "       width=\"24px\">\n",
              "    <path d=\"M0 0h24v24H0V0z\" fill=\"none\"/>\n",
              "    <path d=\"M18.56 5.44l.94 2.06.94-2.06 2.06-.94-2.06-.94-.94-2.06-.94 2.06-2.06.94zm-11 1L8.5 8.5l.94-2.06 2.06-.94-2.06-.94L8.5 2.5l-.94 2.06-2.06.94zm10 10l.94 2.06.94-2.06 2.06-.94-2.06-.94-.94-2.06-.94 2.06-2.06.94z\"/><path d=\"M17.41 7.96l-1.37-1.37c-.4-.4-.92-.59-1.43-.59-.52 0-1.04.2-1.43.59L10.3 9.45l-7.72 7.72c-.78.78-.78 2.05 0 2.83L4 21.41c.39.39.9.59 1.41.59.51 0 1.02-.2 1.41-.59l7.78-7.78 2.81-2.81c.8-.78.8-2.07 0-2.86zM5.41 20L4 18.59l7.72-7.72 1.47 1.35L5.41 20z\"/>\n",
              "  </svg>\n",
              "      </button>\n",
              "      \n",
              "  <style>\n",
              "    .colab-df-container {\n",
              "      display:flex;\n",
              "      flex-wrap:wrap;\n",
              "      gap: 12px;\n",
              "    }\n",
              "\n",
              "    .colab-df-convert {\n",
              "      background-color: #E8F0FE;\n",
              "      border: none;\n",
              "      border-radius: 50%;\n",
              "      cursor: pointer;\n",
              "      display: none;\n",
              "      fill: #1967D2;\n",
              "      height: 32px;\n",
              "      padding: 0 0 0 0;\n",
              "      width: 32px;\n",
              "    }\n",
              "\n",
              "    .colab-df-convert:hover {\n",
              "      background-color: #E2EBFA;\n",
              "      box-shadow: 0px 1px 2px rgba(60, 64, 67, 0.3), 0px 1px 3px 1px rgba(60, 64, 67, 0.15);\n",
              "      fill: #174EA6;\n",
              "    }\n",
              "\n",
              "    [theme=dark] .colab-df-convert {\n",
              "      background-color: #3B4455;\n",
              "      fill: #D2E3FC;\n",
              "    }\n",
              "\n",
              "    [theme=dark] .colab-df-convert:hover {\n",
              "      background-color: #434B5C;\n",
              "      box-shadow: 0px 1px 3px 1px rgba(0, 0, 0, 0.15);\n",
              "      filter: drop-shadow(0px 1px 2px rgba(0, 0, 0, 0.3));\n",
              "      fill: #FFFFFF;\n",
              "    }\n",
              "  </style>\n",
              "\n",
              "      <script>\n",
              "        const buttonEl =\n",
              "          document.querySelector('#df-4f12f389-07be-4f94-9be1-3bfba0b1ddcd button.colab-df-convert');\n",
              "        buttonEl.style.display =\n",
              "          google.colab.kernel.accessAllowed ? 'block' : 'none';\n",
              "\n",
              "        async function convertToInteractive(key) {\n",
              "          const element = document.querySelector('#df-4f12f389-07be-4f94-9be1-3bfba0b1ddcd');\n",
              "          const dataTable =\n",
              "            await google.colab.kernel.invokeFunction('convertToInteractive',\n",
              "                                                     [key], {});\n",
              "          if (!dataTable) return;\n",
              "\n",
              "          const docLinkHtml = 'Like what you see? Visit the ' +\n",
              "            '<a target=\"_blank\" href=https://colab.research.google.com/notebooks/data_table.ipynb>data table notebook</a>'\n",
              "            + ' to learn more about interactive tables.';\n",
              "          element.innerHTML = '';\n",
              "          dataTable['output_type'] = 'display_data';\n",
              "          await google.colab.output.renderOutput(dataTable, element);\n",
              "          const docLink = document.createElement('div');\n",
              "          docLink.innerHTML = docLinkHtml;\n",
              "          element.appendChild(docLink);\n",
              "        }\n",
              "      </script>\n",
              "    </div>\n",
              "  </div>\n",
              "  "
            ]
          },
          "metadata": {},
          "execution_count": 140
        }
      ]
    },
    {
      "cell_type": "markdown",
      "source": [
        "A reminder:\n",
        "* `0` = Negative Review\n",
        "* `1` = Positive review"
      ],
      "metadata": {
        "id": "sRCkw6zwbHoq"
      }
    },
    {
      "cell_type": "code",
      "source": [
        "# Check the false positives (model predicted 1 when should've been 0)\n",
        "for row in most_wrong[:10].itertuples(): # loop through the top 10 rows (change the index to view different rows)\n",
        "  _, text, Rating, pred, prob = row\n",
        "  print(f\"Rating: {Rating}, Pred: {int(pred)}, Prob: {prob}\")\n",
        "  print(f\"Text:\\n{text}\\n\")\n",
        "  print(\"----\\n\")"
      ],
      "metadata": {
        "colab": {
          "base_uri": "https://localhost:8080/"
        },
        "id": "Gr0pQ9_SavpO",
        "outputId": "86404cdf-1b14-4aa7-9508-2d023aed0db5"
      },
      "execution_count": null,
      "outputs": [
        {
          "output_type": "stream",
          "name": "stdout",
          "text": [
            "Rating: 0, Pred: 1, Prob: 0.9905527830123901\n",
            "Text:\n",
            "Excellent watch value for money\n",
            "\n",
            "----\n",
            "\n",
            "Rating: 0, Pred: 1, Prob: 0.9904468059539795\n",
            "Text:\n",
            "So Nice Looking, Very Good Battery Backup & Also Activity Traking Performance is best\n",
            "\n",
            "----\n",
            "\n",
            "Rating: 0, Pred: 1, Prob: 0.9818035364151001\n",
            "Text:\n",
            "At this price company have to inbuilt with better feature.\n",
            "\n",
            "----\n",
            "\n",
            "Rating: 0, Pred: 1, Prob: 0.9761984348297119\n",
            "Text:\n",
            "Nice product\n",
            "\n",
            "----\n",
            "\n",
            "Rating: 0, Pred: 1, Prob: 0.9734913110733032\n",
            "Text:\n",
            "Good product\n",
            "\n",
            "----\n",
            "\n",
            "Rating: 0, Pred: 1, Prob: 0.9734913110733032\n",
            "Text:\n",
            "Good product\n",
            "\n",
            "----\n",
            "\n",
            "Rating: 0, Pred: 1, Prob: 0.9734913110733032\n",
            "Text:\n",
            "Good Product\n",
            "\n",
            "----\n",
            "\n",
            "Rating: 0, Pred: 1, Prob: 0.9595512747764587\n",
            "Text:\n",
            "good\n",
            "\n",
            "----\n",
            "\n",
            "Rating: 0, Pred: 1, Prob: 0.9595512747764587\n",
            "Text:\n",
            "Good\n",
            "\n",
            "----\n",
            "\n",
            "Rating: 0, Pred: 1, Prob: 0.9575058221817017\n",
            "Text:\n",
            "The watch which I took is very good and the display of the screen is very nice.the bettery of the watch is very good.\n",
            "\n",
            "----\n",
            "\n"
          ]
        }
      ]
    },
    {
      "cell_type": "markdown",
      "source": [
        "We can view the bottom end of our `most_wrong` DataFrame to inspect false negatives (model predicts 0, not a real diaster Tweet, when it should've predicted 1, real diaster Tweet)."
      ],
      "metadata": {
        "id": "LGUefs_ZcGdZ"
      }
    },
    {
      "cell_type": "code",
      "source": [
        "# Check the most wrong false negatives (model predicted 0 when should've predict 1)\n",
        "for row in most_wrong[-10:].itertuples():\n",
        "  _, text, target, pred, prob = row\n",
        "  print(f\"Rating: {Rating}, Pred: {int(pred)}, Prob: {prob}\")\n",
        "  print(f\"Text:\\n{text}\\n\")\n",
        "  print(\"----\\n\")"
      ],
      "metadata": {
        "colab": {
          "base_uri": "https://localhost:8080/"
        },
        "id": "D5-opw26bVFZ",
        "outputId": "97188e07-0692-4293-df19-ab5ee8c256f8"
      },
      "execution_count": null,
      "outputs": [
        {
          "output_type": "stream",
          "name": "stdout",
          "text": [
            "Rating: 0, Pred: 0, Prob: 0.08371259272098541\n",
            "Text:\n",
            "Screen size is too small....Look wise, watch is good...when it comes to features, it's not up to the mark...Even the watch strip is too thin....Its not giving accurate step counts...Product not up to the mark.\n",
            "\n",
            "----\n",
            "\n",
            "Rating: 0, Pred: 0, Prob: 0.06108251214027405\n",
            "Text:\n",
            "Below average\n",
            "\n",
            "----\n",
            "\n",
            "Rating: 0, Pred: 0, Prob: 0.040221232920885086\n",
            "Text:\n",
            "Not even 1 month after buying and it is not taking charge now , overall it used to be a good smartwatch before this error has occured.\n",
            "\n",
            "----\n",
            "\n",
            "Rating: 0, Pred: 0, Prob: 0.03767406940460205\n",
            "Text:\n",
            "Proper toch not working\n",
            "\n",
            "----\n",
            "\n",
            "Rating: 0, Pred: 0, Prob: 0.027816014364361763\n",
            "Text:\n",
            "Watch not work\n",
            "\n",
            "----\n",
            "\n",
            "Rating: 0, Pred: 0, Prob: 0.023436952382326126\n",
            "Text:\n",
            "Touch/raise to wake is not working some times\n",
            "\n",
            "----\n",
            "\n",
            "Rating: 0, Pred: 0, Prob: 0.0188307948410511\n",
            "Text:\n",
            "Very bad with 2 month display damaged not recommended for you\n",
            "\n",
            "----\n",
            "\n",
            "Rating: 0, Pred: 0, Prob: 0.01270363386720419\n",
            "Text:\n",
            "Worst watch not charge after using 5 months\n",
            "\n",
            "----\n",
            "\n",
            "Rating: 0, Pred: 0, Prob: 0.010941377840936184\n",
            "Text:\n",
            "Not a good product ,it's not working, it's been only 20 days we bought the product,very bad experience\n",
            "\n",
            "----\n",
            "\n",
            "Rating: 0, Pred: 0, Prob: 0.009636510163545609\n",
            "Text:\n",
            "Worst product\n",
            "\n",
            "----\n",
            "\n"
          ]
        }
      ]
    },
    {
      "cell_type": "markdown",
      "source": [
        "## Making predictions on the test dataset"
      ],
      "metadata": {
        "id": "sXoG5HsqcZFB"
      }
    },
    {
      "cell_type": "code",
      "source": [
        "#import dataset for testing"
      ],
      "metadata": {
        "id": "CKLioWpPhCwC"
      },
      "execution_count": null,
      "outputs": []
    },
    {
      "cell_type": "code",
      "source": [
        "test_df=pd.read_csv('/content/flipkart_review_data_2022_02.csv')\n",
        "test_df.head()"
      ],
      "metadata": {
        "colab": {
          "base_uri": "https://localhost:8080/",
          "height": 547
        },
        "id": "W8trbElPhGaa",
        "outputId": "5488f035-b608-43ed-a0d1-037a75e97203"
      },
      "execution_count": null,
      "outputs": [
        {
          "output_type": "execute_result",
          "data": {
            "text/plain": [
              "   Unnamed: 0                                         ProductUrl  \\\n",
              "0           0  https://www.flipkart.com/lg-108-cm-43-inch-ult...   \n",
              "1           1  https://www.flipkart.com/lg-108-cm-43-inch-ult...   \n",
              "2           2  https://www.flipkart.com/lg-108-cm-43-inch-ult...   \n",
              "3           3  https://www.flipkart.com/lg-108-cm-43-inch-ult...   \n",
              "4           5  https://www.flipkart.com/lg-108-cm-43-inch-ult...   \n",
              "\n",
              "                                     productTitle productPrice  averageRating  \\\n",
              "0  LG 108 cm (43 inch) Ultra HD (4K) LED Smart TV      ₹36,499            4.4   \n",
              "1  LG 108 cm (43 inch) Ultra HD (4K) LED Smart TV      ₹36,499            4.4   \n",
              "2  LG 108 cm (43 inch) Ultra HD (4K) LED Smart TV      ₹36,499            4.4   \n",
              "3  LG 108 cm (43 inch) Ultra HD (4K) LED Smart TV      ₹36,499            4.4   \n",
              "4  LG 108 cm (43 inch) Ultra HD (4K) LED Smart TV      ₹36,499            4.4   \n",
              "\n",
              "          reviewTitle                                  reviewDescription  \\\n",
              "0           Excellent                                  Very good product   \n",
              "1         Really Nice  Nice and super picture quality.and sound also ...   \n",
              "2              Super!  This is excellent picture qualityUltimate soun...   \n",
              "3           Just wow!                                               Nice   \n",
              "4  Highly recommended  Don't go with the negative reviews. Just go fo...   \n",
              "\n",
              "             reviewAuthor      reviewAt  reviewLikes  reviewDislikes  \\\n",
              "0       palakollu  komali  6 months ago            0               1   \n",
              "1          Yogesh  Virkar  3 months ago            0               0   \n",
              "2  Sudhir Kumar Chaudhary  3 months ago            0               0   \n",
              "3       Flipkart Customer  3 months ago            0               0   \n",
              "4           Ashok Mandial  3 months ago            0               0   \n",
              "\n",
              "   certifiedBuyer    reviewerLocation            scrapedAt  \\\n",
              "0            True              Tenali  20/02/2022 02:03:42   \n",
              "1            True              Mumbai  20/02/2022 02:03:42   \n",
              "2            True            Haridwar  20/02/2022 02:03:42   \n",
              "3            True           Allahabad  20/02/2022 02:03:42   \n",
              "4            True   Hamirpur District  20/02/2022 02:03:42   \n",
              "\n",
              "                                 uniqId  \n",
              "0  4e9df8d3-736c-5dae-b867-b92b7f09fc84  \n",
              "1  7ba04258-9f05-5642-ba33-8982db1f6c5e  \n",
              "2  bfb20e97-eacf-5b76-a5eb-91999d6bd7a3  \n",
              "3  b659523f-96e2-50da-a1c0-13a65f410b6a  \n",
              "4  4876ae1b-4c7a-52a0-b5e0-dcf88efd1289  "
            ],
            "text/html": [
              "\n",
              "  <div id=\"df-ba9847bc-9fee-4060-9d7e-4f8d661ddbd3\">\n",
              "    <div class=\"colab-df-container\">\n",
              "      <div>\n",
              "<style scoped>\n",
              "    .dataframe tbody tr th:only-of-type {\n",
              "        vertical-align: middle;\n",
              "    }\n",
              "\n",
              "    .dataframe tbody tr th {\n",
              "        vertical-align: top;\n",
              "    }\n",
              "\n",
              "    .dataframe thead th {\n",
              "        text-align: right;\n",
              "    }\n",
              "</style>\n",
              "<table border=\"1\" class=\"dataframe\">\n",
              "  <thead>\n",
              "    <tr style=\"text-align: right;\">\n",
              "      <th></th>\n",
              "      <th>Unnamed: 0</th>\n",
              "      <th>ProductUrl</th>\n",
              "      <th>productTitle</th>\n",
              "      <th>productPrice</th>\n",
              "      <th>averageRating</th>\n",
              "      <th>reviewTitle</th>\n",
              "      <th>reviewDescription</th>\n",
              "      <th>reviewAuthor</th>\n",
              "      <th>reviewAt</th>\n",
              "      <th>reviewLikes</th>\n",
              "      <th>reviewDislikes</th>\n",
              "      <th>certifiedBuyer</th>\n",
              "      <th>reviewerLocation</th>\n",
              "      <th>scrapedAt</th>\n",
              "      <th>uniqId</th>\n",
              "    </tr>\n",
              "  </thead>\n",
              "  <tbody>\n",
              "    <tr>\n",
              "      <th>0</th>\n",
              "      <td>0</td>\n",
              "      <td>https://www.flipkart.com/lg-108-cm-43-inch-ult...</td>\n",
              "      <td>LG 108 cm (43 inch) Ultra HD (4K) LED Smart TV</td>\n",
              "      <td>₹36,499</td>\n",
              "      <td>4.4</td>\n",
              "      <td>Excellent</td>\n",
              "      <td>Very good product</td>\n",
              "      <td>palakollu  komali</td>\n",
              "      <td>6 months ago</td>\n",
              "      <td>0</td>\n",
              "      <td>1</td>\n",
              "      <td>True</td>\n",
              "      <td>Tenali</td>\n",
              "      <td>20/02/2022 02:03:42</td>\n",
              "      <td>4e9df8d3-736c-5dae-b867-b92b7f09fc84</td>\n",
              "    </tr>\n",
              "    <tr>\n",
              "      <th>1</th>\n",
              "      <td>1</td>\n",
              "      <td>https://www.flipkart.com/lg-108-cm-43-inch-ult...</td>\n",
              "      <td>LG 108 cm (43 inch) Ultra HD (4K) LED Smart TV</td>\n",
              "      <td>₹36,499</td>\n",
              "      <td>4.4</td>\n",
              "      <td>Really Nice</td>\n",
              "      <td>Nice and super picture quality.and sound also ...</td>\n",
              "      <td>Yogesh  Virkar</td>\n",
              "      <td>3 months ago</td>\n",
              "      <td>0</td>\n",
              "      <td>0</td>\n",
              "      <td>True</td>\n",
              "      <td>Mumbai</td>\n",
              "      <td>20/02/2022 02:03:42</td>\n",
              "      <td>7ba04258-9f05-5642-ba33-8982db1f6c5e</td>\n",
              "    </tr>\n",
              "    <tr>\n",
              "      <th>2</th>\n",
              "      <td>2</td>\n",
              "      <td>https://www.flipkart.com/lg-108-cm-43-inch-ult...</td>\n",
              "      <td>LG 108 cm (43 inch) Ultra HD (4K) LED Smart TV</td>\n",
              "      <td>₹36,499</td>\n",
              "      <td>4.4</td>\n",
              "      <td>Super!</td>\n",
              "      <td>This is excellent picture qualityUltimate soun...</td>\n",
              "      <td>Sudhir Kumar Chaudhary</td>\n",
              "      <td>3 months ago</td>\n",
              "      <td>0</td>\n",
              "      <td>0</td>\n",
              "      <td>True</td>\n",
              "      <td>Haridwar</td>\n",
              "      <td>20/02/2022 02:03:42</td>\n",
              "      <td>bfb20e97-eacf-5b76-a5eb-91999d6bd7a3</td>\n",
              "    </tr>\n",
              "    <tr>\n",
              "      <th>3</th>\n",
              "      <td>3</td>\n",
              "      <td>https://www.flipkart.com/lg-108-cm-43-inch-ult...</td>\n",
              "      <td>LG 108 cm (43 inch) Ultra HD (4K) LED Smart TV</td>\n",
              "      <td>₹36,499</td>\n",
              "      <td>4.4</td>\n",
              "      <td>Just wow!</td>\n",
              "      <td>Nice</td>\n",
              "      <td>Flipkart Customer</td>\n",
              "      <td>3 months ago</td>\n",
              "      <td>0</td>\n",
              "      <td>0</td>\n",
              "      <td>True</td>\n",
              "      <td>Allahabad</td>\n",
              "      <td>20/02/2022 02:03:42</td>\n",
              "      <td>b659523f-96e2-50da-a1c0-13a65f410b6a</td>\n",
              "    </tr>\n",
              "    <tr>\n",
              "      <th>4</th>\n",
              "      <td>5</td>\n",
              "      <td>https://www.flipkart.com/lg-108-cm-43-inch-ult...</td>\n",
              "      <td>LG 108 cm (43 inch) Ultra HD (4K) LED Smart TV</td>\n",
              "      <td>₹36,499</td>\n",
              "      <td>4.4</td>\n",
              "      <td>Highly recommended</td>\n",
              "      <td>Don't go with the negative reviews. Just go fo...</td>\n",
              "      <td>Ashok Mandial</td>\n",
              "      <td>3 months ago</td>\n",
              "      <td>0</td>\n",
              "      <td>0</td>\n",
              "      <td>True</td>\n",
              "      <td>Hamirpur District</td>\n",
              "      <td>20/02/2022 02:03:42</td>\n",
              "      <td>4876ae1b-4c7a-52a0-b5e0-dcf88efd1289</td>\n",
              "    </tr>\n",
              "  </tbody>\n",
              "</table>\n",
              "</div>\n",
              "      <button class=\"colab-df-convert\" onclick=\"convertToInteractive('df-ba9847bc-9fee-4060-9d7e-4f8d661ddbd3')\"\n",
              "              title=\"Convert this dataframe to an interactive table.\"\n",
              "              style=\"display:none;\">\n",
              "        \n",
              "  <svg xmlns=\"http://www.w3.org/2000/svg\" height=\"24px\"viewBox=\"0 0 24 24\"\n",
              "       width=\"24px\">\n",
              "    <path d=\"M0 0h24v24H0V0z\" fill=\"none\"/>\n",
              "    <path d=\"M18.56 5.44l.94 2.06.94-2.06 2.06-.94-2.06-.94-.94-2.06-.94 2.06-2.06.94zm-11 1L8.5 8.5l.94-2.06 2.06-.94-2.06-.94L8.5 2.5l-.94 2.06-2.06.94zm10 10l.94 2.06.94-2.06 2.06-.94-2.06-.94-.94-2.06-.94 2.06-2.06.94z\"/><path d=\"M17.41 7.96l-1.37-1.37c-.4-.4-.92-.59-1.43-.59-.52 0-1.04.2-1.43.59L10.3 9.45l-7.72 7.72c-.78.78-.78 2.05 0 2.83L4 21.41c.39.39.9.59 1.41.59.51 0 1.02-.2 1.41-.59l7.78-7.78 2.81-2.81c.8-.78.8-2.07 0-2.86zM5.41 20L4 18.59l7.72-7.72 1.47 1.35L5.41 20z\"/>\n",
              "  </svg>\n",
              "      </button>\n",
              "      \n",
              "  <style>\n",
              "    .colab-df-container {\n",
              "      display:flex;\n",
              "      flex-wrap:wrap;\n",
              "      gap: 12px;\n",
              "    }\n",
              "\n",
              "    .colab-df-convert {\n",
              "      background-color: #E8F0FE;\n",
              "      border: none;\n",
              "      border-radius: 50%;\n",
              "      cursor: pointer;\n",
              "      display: none;\n",
              "      fill: #1967D2;\n",
              "      height: 32px;\n",
              "      padding: 0 0 0 0;\n",
              "      width: 32px;\n",
              "    }\n",
              "\n",
              "    .colab-df-convert:hover {\n",
              "      background-color: #E2EBFA;\n",
              "      box-shadow: 0px 1px 2px rgba(60, 64, 67, 0.3), 0px 1px 3px 1px rgba(60, 64, 67, 0.15);\n",
              "      fill: #174EA6;\n",
              "    }\n",
              "\n",
              "    [theme=dark] .colab-df-convert {\n",
              "      background-color: #3B4455;\n",
              "      fill: #D2E3FC;\n",
              "    }\n",
              "\n",
              "    [theme=dark] .colab-df-convert:hover {\n",
              "      background-color: #434B5C;\n",
              "      box-shadow: 0px 1px 3px 1px rgba(0, 0, 0, 0.15);\n",
              "      filter: drop-shadow(0px 1px 2px rgba(0, 0, 0, 0.3));\n",
              "      fill: #FFFFFF;\n",
              "    }\n",
              "  </style>\n",
              "\n",
              "      <script>\n",
              "        const buttonEl =\n",
              "          document.querySelector('#df-ba9847bc-9fee-4060-9d7e-4f8d661ddbd3 button.colab-df-convert');\n",
              "        buttonEl.style.display =\n",
              "          google.colab.kernel.accessAllowed ? 'block' : 'none';\n",
              "\n",
              "        async function convertToInteractive(key) {\n",
              "          const element = document.querySelector('#df-ba9847bc-9fee-4060-9d7e-4f8d661ddbd3');\n",
              "          const dataTable =\n",
              "            await google.colab.kernel.invokeFunction('convertToInteractive',\n",
              "                                                     [key], {});\n",
              "          if (!dataTable) return;\n",
              "\n",
              "          const docLinkHtml = 'Like what you see? Visit the ' +\n",
              "            '<a target=\"_blank\" href=https://colab.research.google.com/notebooks/data_table.ipynb>data table notebook</a>'\n",
              "            + ' to learn more about interactive tables.';\n",
              "          element.innerHTML = '';\n",
              "          dataTable['output_type'] = 'display_data';\n",
              "          await google.colab.output.renderOutput(dataTable, element);\n",
              "          const docLink = document.createElement('div');\n",
              "          docLink.innerHTML = docLinkHtml;\n",
              "          element.appendChild(docLink);\n",
              "        }\n",
              "      </script>\n",
              "    </div>\n",
              "  </div>\n",
              "  "
            ]
          },
          "metadata": {},
          "execution_count": 144
        }
      ]
    },
    {
      "cell_type": "code",
      "source": [
        "# Making predictions on the test dataset\n",
        "test_sentences = test_df[\"reviewDescription\"].to_list()\n",
        "test_samples = random.sample(test_sentences, 10)\n",
        "for test_sample in test_samples:\n",
        "  pred_prob = tf.squeeze(model_6.predict([test_sample])) # has to be list\n",
        "  pred = tf.round(pred_prob)\n",
        "  print(f\"Pred: {int(pred)}, Prob: {pred_prob}\")\n",
        "  print(f\"Text:\\n{test_sample}\\n\")\n",
        "  print(\"----\\n\")"
      ],
      "metadata": {
        "colab": {
          "base_uri": "https://localhost:8080/"
        },
        "id": "aoVTr06McRQJ",
        "outputId": "7a47c6b8-94a0-4dad-cf0c-79dfe7490d22"
      },
      "execution_count": null,
      "outputs": [
        {
          "output_type": "stream",
          "name": "stdout",
          "text": [
            "1/1 [==============================] - 0s 39ms/step\n",
            "Pred: 1, Prob: 0.9703847169876099\n",
            "Text:\n",
            "Excellent product reasonable price I am planning to buy another one\n",
            "\n",
            "----\n",
            "\n",
            "1/1 [==============================] - 0s 33ms/step\n",
            "Pred: 1, Prob: 0.9400759935379028\n",
            "Text:\n",
            "Worth the money\n",
            "\n",
            "----\n",
            "\n",
            "1/1 [==============================] - 0s 43ms/step\n",
            "Pred: 1, Prob: 0.9714003801345825\n",
            "Text:\n",
            "Value for money\n",
            "\n",
            "----\n",
            "\n",
            "1/1 [==============================] - 0s 37ms/step\n",
            "Pred: 1, Prob: 0.9863173365592957\n",
            "Text:\n",
            "Overall it seems to be good. Value for money\n",
            "\n",
            "----\n",
            "\n",
            "1/1 [==============================] - 0s 43ms/step\n",
            "Pred: 0, Prob: 0.015534733422100544\n",
            "Text:\n",
            "Poor quality… Don’t buy.. save your money.. Bulky tv size..\n",
            "\n",
            "----\n",
            "\n",
            "1/1 [==============================] - 0s 32ms/step\n",
            "Pred: 1, Prob: 0.9585232734680176\n",
            "Text:\n",
            "Very good TV & quick installation,very good service\n",
            "\n",
            "----\n",
            "\n",
            "1/1 [==============================] - 0s 34ms/step\n",
            "Pred: 1, Prob: 0.6093515157699585\n",
            "Text:\n",
            "Picture quality is ok\n",
            "\n",
            "----\n",
            "\n",
            "1/1 [==============================] - 0s 32ms/step\n",
            "Pred: 1, Prob: 0.6883184313774109\n",
            "Text:\n",
            "Nice TV for my family\n",
            "\n",
            "----\n",
            "\n",
            "1/1 [==============================] - 0s 51ms/step\n",
            "Pred: 1, Prob: 0.892765462398529\n",
            "Text:\n",
            "Good quality good tv\n",
            "\n",
            "----\n",
            "\n",
            "1/1 [==============================] - 0s 33ms/step\n",
            "Pred: 1, Prob: 0.9116030335426331\n",
            "Text:\n",
            "Good experience with motorola tv... Good picture clarity and sound.\n",
            "\n",
            "----\n",
            "\n"
          ]
        }
      ]
    },
    {
      "cell_type": "markdown",
      "source": [
        "Now we'll write a small function to take a model and an example sentence and \n",
        "\n",
        "*   List item\n",
        "*   List item\n",
        "\n",
        "return a prediction."
      ],
      "metadata": {
        "id": "88hmZ21te4fc"
      }
    },
    {
      "cell_type": "code",
      "source": [
        "def predict_on_sentence(model, sentence):\n",
        "  \"\"\"\n",
        "  Uses model to make a prediction on sentence.\n",
        "\n",
        "  Returns the sentence, the predicted label and the prediction probability.\n",
        "  \"\"\"\n",
        "  pred_prob = model.predict([sentence])\n",
        "  pred_label = tf.squeeze(tf.round(pred_prob)).numpy()\n",
        "  print(f\"Pred: {pred_label}\", \"(Positive)\" if pred_label > 0 else \"(Negative)\", f\"Prob: {pred_prob[0][0]}\")\n",
        "  print(f\"Text:\\n{sentence}\")"
      ],
      "metadata": {
        "id": "Z0l_cV0qcinH"
      },
      "execution_count": null,
      "outputs": []
    },
    {
      "cell_type": "code",
      "source": [
        "# Turn Tweet into string\n",
        "elon_musk = \"hate 🤔\""
      ],
      "metadata": {
        "id": "TdjuD_hSfFTp"
      },
      "execution_count": null,
      "outputs": []
    },
    {
      "cell_type": "code",
      "source": [
        "# Make a prediction on Tweet from the wild\n",
        "predict_on_sentence(model=model_6, # use the USE model\n",
        "                    sentence=elon_musk)"
      ],
      "metadata": {
        "colab": {
          "base_uri": "https://localhost:8080/"
        },
        "id": "VpvBVSMvfFQF",
        "outputId": "e3a0bd96-948e-461a-fbf8-d359c8c51564"
      },
      "execution_count": null,
      "outputs": [
        {
          "output_type": "stream",
          "name": "stdout",
          "text": [
            "1/1 [==============================] - 0s 35ms/step\n",
            "Pred: 0.0 (Negative) Prob: 0.04182697460055351\n",
            "Text:\n",
            "hate 🤔\n"
          ]
        }
      ]
    },
    {
      "cell_type": "code",
      "source": [],
      "metadata": {
        "id": "7_nRRTUTfFGw"
      },
      "execution_count": null,
      "outputs": []
    },
    {
      "cell_type": "code",
      "source": [],
      "metadata": {
        "id": "FbEJvHXXfFCr"
      },
      "execution_count": null,
      "outputs": []
    }
  ],
  "metadata": {
    "colab": {
      "provenance": []
    },
    "kernelspec": {
      "display_name": "Python 3",
      "name": "python3"
    },
    "language_info": {
      "name": "python"
    }
  },
  "nbformat": 4,
  "nbformat_minor": 0
}